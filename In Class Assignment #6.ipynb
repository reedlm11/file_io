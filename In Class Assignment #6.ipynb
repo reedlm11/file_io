{
 "cells": [
  {
   "cell_type": "code",
   "execution_count": null,
   "id": "e2fdbc44-0605-42a4-ab74-e2a8819a84a7",
   "metadata": {},
   "outputs": [],
   "source": [
    "#Source: https://plotly.com/python/plotly-express/#distributions\n",
    "#Source: https://stackoverflow.com/questions/55822042/how-to-draw-a-multiple-line-chart-using-plotly-express\n",
    "#Source: https://linuxhint.com/plotly-express-density-contour/\n",
    "#Source: https://stackoverflow.com/questions/72631006/plotly-strip-plot-color-by-continuous-scale"
   ]
  },
  {
   "cell_type": "code",
   "execution_count": 10,
   "id": "f27a527b-5981-4bdb-9686-de71abdb57ee",
   "metadata": {},
   "outputs": [
    {
     "data": {
      "application/vnd.plotly.v1+json": {
       "config": {
        "plotlyServerURL": "https://plot.ly"
       },
       "data": [
        {
         "autocontour": true,
         "contours": {
          "coloring": "none",
          "end": 1.8,
          "size": 0.2,
          "start": 0.2
         },
         "hovertemplate": "Duration: %{x}<br>Calories: %{y}<br>Maxpulse: %{z}<br>Pulse: %{customdata[0]}",
         "legendgroup": "130",
         "line": {
          "color": "#636efa"
         },
         "name": "130",
         "showlegend": true,
         "type": "histogram2dcontour",
         "x": [
          60,
          60,
          20,
          180,
          150,
          120,
          120,
          45,
          45
         ],
         "xaxis": "x",
         "xbingroup": "x",
         "y": [
          409.1,
          263,
          131.4,
          800.4,
          816,
          500.4,
          500,
          260.4,
          270
         ],
         "yaxis": "y",
         "ybingroup": "y"
        },
        {
         "alignmentgroup": "True",
         "bingroup": "x",
         "hovertemplate": "Duration: %{x}<br>Calories: %{y}<br>Maxpulse: %{z}<br>Pulse: %{customdata[0]}",
         "legendgroup": "130",
         "marker": {
          "color": "#636efa"
         },
         "name": "130",
         "offsetgroup": "130",
         "opacity": 0.5,
         "showlegend": false,
         "type": "histogram",
         "x": [
          60,
          60,
          20,
          180,
          150,
          120,
          120,
          45,
          45
         ],
         "xaxis": "x3",
         "yaxis": "y3"
        },
        {
         "alignmentgroup": "True",
         "bingroup": "y",
         "hovertemplate": "Duration: %{x}<br>Calories: %{y}<br>Maxpulse: %{z}<br>Pulse: %{customdata[0]}",
         "legendgroup": "130",
         "marker": {
          "color": "#636efa"
         },
         "name": "130",
         "offsetgroup": "130",
         "opacity": 0.5,
         "showlegend": false,
         "type": "histogram",
         "xaxis": "x2",
         "y": [
          409.1,
          263,
          131.4,
          800.4,
          816,
          500.4,
          500,
          260.4,
          270
         ],
         "yaxis": "y2"
        },
        {
         "autocontour": true,
         "contours": {
          "coloring": "none",
          "end": 1.8,
          "size": 0.2,
          "start": 0.2
         },
         "hovertemplate": "Duration: %{x}<br>Calories: %{y}<br>Maxpulse: %{z}<br>Pulse: %{customdata[0]}",
         "legendgroup": "145",
         "line": {
          "color": "#EF553B"
         },
         "name": "145",
         "showlegend": true,
         "type": "histogram2dcontour",
         "x": [
          60,
          60,
          60
         ],
         "xaxis": "x",
         "xbingroup": "x",
         "y": [
          479,
          300,
          310.2
         ],
         "yaxis": "y",
         "ybingroup": "y"
        },
        {
         "alignmentgroup": "True",
         "bingroup": "x",
         "hovertemplate": "Duration: %{x}<br>Calories: %{y}<br>Maxpulse: %{z}<br>Pulse: %{customdata[0]}",
         "legendgroup": "145",
         "marker": {
          "color": "#EF553B"
         },
         "name": "145",
         "offsetgroup": "145",
         "opacity": 0.5,
         "showlegend": false,
         "type": "histogram",
         "x": [
          60,
          60,
          60
         ],
         "xaxis": "x3",
         "yaxis": "y3"
        },
        {
         "alignmentgroup": "True",
         "bingroup": "y",
         "hovertemplate": "Duration: %{x}<br>Calories: %{y}<br>Maxpulse: %{z}<br>Pulse: %{customdata[0]}",
         "legendgroup": "145",
         "marker": {
          "color": "#EF553B"
         },
         "name": "145",
         "offsetgroup": "145",
         "opacity": 0.5,
         "showlegend": false,
         "type": "histogram",
         "xaxis": "x2",
         "y": [
          479,
          300,
          310.2
         ],
         "yaxis": "y2"
        },
        {
         "autocontour": true,
         "contours": {
          "coloring": "none",
          "end": 1.8,
          "size": 0.2,
          "start": 0.2
         },
         "hovertemplate": "Duration: %{x}<br>Calories: %{y}<br>Maxpulse: %{z}<br>Pulse: %{customdata[0]}",
         "legendgroup": "135",
         "line": {
          "color": "#00cc96"
         },
         "name": "135",
         "showlegend": true,
         "type": "histogram2dcontour",
         "x": [
          60,
          160,
          150,
          60
         ],
         "xaxis": "x",
         "xbingroup": "x",
         "y": [
          340,
          853,
          873.4,
          390
         ],
         "yaxis": "y",
         "ybingroup": "y"
        },
        {
         "alignmentgroup": "True",
         "bingroup": "x",
         "hovertemplate": "Duration: %{x}<br>Calories: %{y}<br>Maxpulse: %{z}<br>Pulse: %{customdata[0]}",
         "legendgroup": "135",
         "marker": {
          "color": "#00cc96"
         },
         "name": "135",
         "offsetgroup": "135",
         "opacity": 0.5,
         "showlegend": false,
         "type": "histogram",
         "x": [
          60,
          160,
          150,
          60
         ],
         "xaxis": "x3",
         "yaxis": "y3"
        },
        {
         "alignmentgroup": "True",
         "bingroup": "y",
         "hovertemplate": "Duration: %{x}<br>Calories: %{y}<br>Maxpulse: %{z}<br>Pulse: %{customdata[0]}",
         "legendgroup": "135",
         "marker": {
          "color": "#00cc96"
         },
         "name": "135",
         "offsetgroup": "135",
         "opacity": 0.5,
         "showlegend": false,
         "type": "histogram",
         "xaxis": "x2",
         "y": [
          340,
          853,
          873.4,
          390
         ],
         "yaxis": "y2"
        },
        {
         "autocontour": true,
         "contours": {
          "coloring": "none",
          "end": 0.9,
          "size": 0.1,
          "start": 0.1
         },
         "hovertemplate": "Duration: %{x}<br>Calories: %{y}<br>Maxpulse: %{z}<br>Pulse: %{customdata[0]}",
         "legendgroup": "175",
         "line": {
          "color": "#ab63fa"
         },
         "name": "175",
         "showlegend": true,
         "type": "histogram2dcontour",
         "x": [
          45,
          30
         ],
         "xaxis": "x",
         "xbingroup": "x",
         "y": [
          282.4,
          238
         ],
         "yaxis": "y",
         "ybingroup": "y"
        },
        {
         "alignmentgroup": "True",
         "bingroup": "x",
         "hovertemplate": "Duration: %{x}<br>Calories: %{y}<br>Maxpulse: %{z}<br>Pulse: %{customdata[0]}",
         "legendgroup": "175",
         "marker": {
          "color": "#ab63fa"
         },
         "name": "175",
         "offsetgroup": "175",
         "opacity": 0.5,
         "showlegend": false,
         "type": "histogram",
         "x": [
          45,
          30
         ],
         "xaxis": "x3",
         "yaxis": "y3"
        },
        {
         "alignmentgroup": "True",
         "bingroup": "y",
         "hovertemplate": "Duration: %{x}<br>Calories: %{y}<br>Maxpulse: %{z}<br>Pulse: %{customdata[0]}",
         "legendgroup": "175",
         "marker": {
          "color": "#ab63fa"
         },
         "name": "175",
         "offsetgroup": "175",
         "opacity": 0.5,
         "showlegend": false,
         "type": "histogram",
         "xaxis": "x2",
         "y": [
          282.4,
          238
         ],
         "yaxis": "y2"
        },
        {
         "autocontour": true,
         "contours": {
          "coloring": "none",
          "end": 0.9,
          "size": 0.1,
          "start": 0.1
         },
         "hovertemplate": "Duration: %{x}<br>Calories: %{y}<br>Maxpulse: %{z}<br>Pulse: %{customdata[0]}",
         "legendgroup": "148",
         "line": {
          "color": "#FFA15A"
         },
         "name": "148",
         "showlegend": true,
         "type": "histogram2dcontour",
         "x": [
          45
         ],
         "xaxis": "x",
         "xbingroup": "x",
         "y": [
          406
         ],
         "yaxis": "y",
         "ybingroup": "y"
        },
        {
         "alignmentgroup": "True",
         "bingroup": "x",
         "hovertemplate": "Duration: %{x}<br>Calories: %{y}<br>Maxpulse: %{z}<br>Pulse: %{customdata[0]}",
         "legendgroup": "148",
         "marker": {
          "color": "#FFA15A"
         },
         "name": "148",
         "offsetgroup": "148",
         "opacity": 0.5,
         "showlegend": false,
         "type": "histogram",
         "x": [
          45
         ],
         "xaxis": "x3",
         "yaxis": "y3"
        },
        {
         "alignmentgroup": "True",
         "bingroup": "y",
         "hovertemplate": "Duration: %{x}<br>Calories: %{y}<br>Maxpulse: %{z}<br>Pulse: %{customdata[0]}",
         "legendgroup": "148",
         "marker": {
          "color": "#FFA15A"
         },
         "name": "148",
         "offsetgroup": "148",
         "opacity": 0.5,
         "showlegend": false,
         "type": "histogram",
         "xaxis": "x2",
         "y": [
          406
         ],
         "yaxis": "y2"
        },
        {
         "autocontour": true,
         "contours": {
          "coloring": "none",
          "end": 3.5,
          "size": 0.5,
          "start": 0.5
         },
         "hovertemplate": "Duration: %{x}<br>Calories: %{y}<br>Maxpulse: %{z}<br>Pulse: %{customdata[0]}",
         "legendgroup": "127",
         "line": {
          "color": "#19d3f3"
         },
         "name": "127",
         "showlegend": true,
         "type": "histogram2dcontour",
         "x": [
          60,
          60,
          90,
          150,
          180,
          60,
          60,
          60,
          30
         ],
         "xaxis": "x",
         "xbingroup": "x",
         "y": [
          300,
          300,
          700,
          953.2,
          600.1,
          344.9,
          382,
          null,
          185
         ],
         "yaxis": "y",
         "ybingroup": "y"
        },
        {
         "alignmentgroup": "True",
         "bingroup": "x",
         "hovertemplate": "Duration: %{x}<br>Calories: %{y}<br>Maxpulse: %{z}<br>Pulse: %{customdata[0]}",
         "legendgroup": "127",
         "marker": {
          "color": "#19d3f3"
         },
         "name": "127",
         "offsetgroup": "127",
         "opacity": 0.5,
         "showlegend": false,
         "type": "histogram",
         "x": [
          60,
          60,
          90,
          150,
          180,
          60,
          60,
          60,
          30
         ],
         "xaxis": "x3",
         "yaxis": "y3"
        },
        {
         "alignmentgroup": "True",
         "bingroup": "y",
         "hovertemplate": "Duration: %{x}<br>Calories: %{y}<br>Maxpulse: %{z}<br>Pulse: %{customdata[0]}",
         "legendgroup": "127",
         "marker": {
          "color": "#19d3f3"
         },
         "name": "127",
         "offsetgroup": "127",
         "opacity": 0.5,
         "showlegend": false,
         "type": "histogram",
         "xaxis": "x2",
         "y": [
          300,
          300,
          700,
          953.2,
          600.1,
          344.9,
          382,
          null,
          185
         ],
         "yaxis": "y2"
        },
        {
         "autocontour": true,
         "contours": {
          "coloring": "none",
          "end": 3.5,
          "size": 0.5,
          "start": 0.5
         },
         "hovertemplate": "Duration: %{x}<br>Calories: %{y}<br>Maxpulse: %{z}<br>Pulse: %{customdata[0]}",
         "legendgroup": "136",
         "line": {
          "color": "#FF6692"
         },
         "name": "136",
         "showlegend": true,
         "type": "histogram2dcontour",
         "x": [
          60,
          60,
          45,
          60,
          20,
          45,
          60,
          60
         ],
         "xaxis": "x",
         "xbingroup": "x",
         "y": [
          374,
          361,
          300,
          380.2,
          110.4,
          234,
          339,
          400
         ],
         "yaxis": "y",
         "ybingroup": "y"
        },
        {
         "alignmentgroup": "True",
         "bingroup": "x",
         "hovertemplate": "Duration: %{x}<br>Calories: %{y}<br>Maxpulse: %{z}<br>Pulse: %{customdata[0]}",
         "legendgroup": "136",
         "marker": {
          "color": "#FF6692"
         },
         "name": "136",
         "offsetgroup": "136",
         "opacity": 0.5,
         "showlegend": false,
         "type": "histogram",
         "x": [
          60,
          60,
          45,
          60,
          20,
          45,
          60,
          60
         ],
         "xaxis": "x3",
         "yaxis": "y3"
        },
        {
         "alignmentgroup": "True",
         "bingroup": "y",
         "hovertemplate": "Duration: %{x}<br>Calories: %{y}<br>Maxpulse: %{z}<br>Pulse: %{customdata[0]}",
         "legendgroup": "136",
         "marker": {
          "color": "#FF6692"
         },
         "name": "136",
         "offsetgroup": "136",
         "opacity": 0.5,
         "showlegend": false,
         "type": "histogram",
         "xaxis": "x2",
         "y": [
          374,
          361,
          300,
          380.2,
          110.4,
          234,
          339,
          400
         ],
         "yaxis": "y2"
        },
        {
         "autocontour": true,
         "contours": {
          "coloring": "none",
          "end": 1.8,
          "size": 0.2,
          "start": 0.2
         },
         "hovertemplate": "Duration: %{x}<br>Calories: %{y}<br>Maxpulse: %{z}<br>Pulse: %{customdata[0]}",
         "legendgroup": "134",
         "line": {
          "color": "#B6E880"
         },
         "name": "134",
         "showlegend": true,
         "type": "histogram2dcontour",
         "x": [
          45,
          45,
          60,
          60
         ],
         "xaxis": "x",
         "xbingroup": "x",
         "y": [
          253.3,
          251,
          342.5,
          343
         ],
         "yaxis": "y",
         "ybingroup": "y"
        },
        {
         "alignmentgroup": "True",
         "bingroup": "x",
         "hovertemplate": "Duration: %{x}<br>Calories: %{y}<br>Maxpulse: %{z}<br>Pulse: %{customdata[0]}",
         "legendgroup": "134",
         "marker": {
          "color": "#B6E880"
         },
         "name": "134",
         "offsetgroup": "134",
         "opacity": 0.5,
         "showlegend": false,
         "type": "histogram",
         "x": [
          45,
          45,
          60,
          60
         ],
         "xaxis": "x3",
         "yaxis": "y3"
        },
        {
         "alignmentgroup": "True",
         "bingroup": "y",
         "hovertemplate": "Duration: %{x}<br>Calories: %{y}<br>Maxpulse: %{z}<br>Pulse: %{customdata[0]}",
         "legendgroup": "134",
         "marker": {
          "color": "#B6E880"
         },
         "name": "134",
         "offsetgroup": "134",
         "opacity": 0.5,
         "showlegend": false,
         "type": "histogram",
         "xaxis": "x2",
         "y": [
          253.3,
          251,
          342.5,
          343
         ],
         "yaxis": "y2"
        },
        {
         "autocontour": true,
         "contours": {
          "coloring": "none",
          "end": 0.9,
          "size": 0.1,
          "start": 0.1
         },
         "hovertemplate": "Duration: %{x}<br>Calories: %{y}<br>Maxpulse: %{z}<br>Pulse: %{customdata[0]}",
         "legendgroup": "133",
         "line": {
          "color": "#FF97FF"
         },
         "name": "133",
         "showlegend": true,
         "type": "histogram2dcontour",
         "x": [
          30,
          60
         ],
         "xaxis": "x",
         "xbingroup": "x",
         "y": [
          195.1,
          335
         ],
         "yaxis": "y",
         "ybingroup": "y"
        },
        {
         "alignmentgroup": "True",
         "bingroup": "x",
         "hovertemplate": "Duration: %{x}<br>Calories: %{y}<br>Maxpulse: %{z}<br>Pulse: %{customdata[0]}",
         "legendgroup": "133",
         "marker": {
          "color": "#FF97FF"
         },
         "name": "133",
         "offsetgroup": "133",
         "opacity": 0.5,
         "showlegend": false,
         "type": "histogram",
         "x": [
          30,
          60
         ],
         "xaxis": "x3",
         "yaxis": "y3"
        },
        {
         "alignmentgroup": "True",
         "bingroup": "y",
         "hovertemplate": "Duration: %{x}<br>Calories: %{y}<br>Maxpulse: %{z}<br>Pulse: %{customdata[0]}",
         "legendgroup": "133",
         "marker": {
          "color": "#FF97FF"
         },
         "name": "133",
         "offsetgroup": "133",
         "opacity": 0.5,
         "showlegend": false,
         "type": "histogram",
         "xaxis": "x2",
         "y": [
          195.1,
          335
         ],
         "yaxis": "y2"
        },
        {
         "autocontour": true,
         "contours": {
          "coloring": "none",
          "end": 4.5,
          "size": 0.5,
          "start": 0.5
         },
         "hovertemplate": "Duration: %{x}<br>Calories: %{y}<br>Maxpulse: %{z}<br>Pulse: %{customdata[0]}",
         "legendgroup": "124",
         "line": {
          "color": "#FECB52"
         },
         "name": "124",
         "showlegend": true,
         "type": "histogram2dcontour",
         "x": [
          60,
          60,
          90,
          60,
          45,
          60,
          60
         ],
         "xaxis": "x",
         "xbingroup": "x",
         "y": [
          269,
          299,
          604.1,
          325.2,
          275,
          332.7,
          275.3
         ],
         "yaxis": "y",
         "ybingroup": "y"
        },
        {
         "alignmentgroup": "True",
         "bingroup": "x",
         "hovertemplate": "Duration: %{x}<br>Calories: %{y}<br>Maxpulse: %{z}<br>Pulse: %{customdata[0]}",
         "legendgroup": "124",
         "marker": {
          "color": "#FECB52"
         },
         "name": "124",
         "offsetgroup": "124",
         "opacity": 0.5,
         "showlegend": false,
         "type": "histogram",
         "x": [
          60,
          60,
          90,
          60,
          45,
          60,
          60
         ],
         "xaxis": "x3",
         "yaxis": "y3"
        },
        {
         "alignmentgroup": "True",
         "bingroup": "y",
         "hovertemplate": "Duration: %{x}<br>Calories: %{y}<br>Maxpulse: %{z}<br>Pulse: %{customdata[0]}",
         "legendgroup": "124",
         "marker": {
          "color": "#FECB52"
         },
         "name": "124",
         "offsetgroup": "124",
         "opacity": 0.5,
         "showlegend": false,
         "type": "histogram",
         "xaxis": "x2",
         "y": [
          269,
          299,
          604.1,
          325.2,
          275,
          332.7,
          275.3
         ],
         "yaxis": "y2"
        },
        {
         "autocontour": true,
         "contours": {
          "coloring": "none",
          "end": 0.9,
          "size": 0.1,
          "start": 0.1
         },
         "hovertemplate": "Duration: %{x}<br>Calories: %{y}<br>Maxpulse: %{z}<br>Pulse: %{customdata[0]}",
         "legendgroup": "147",
         "line": {
          "color": "#636efa"
         },
         "name": "147",
         "showlegend": true,
         "type": "histogram2dcontour",
         "x": [
          60
         ],
         "xaxis": "x",
         "xbingroup": "x",
         "y": [
          329.3
         ],
         "yaxis": "y",
         "ybingroup": "y"
        },
        {
         "alignmentgroup": "True",
         "bingroup": "x",
         "hovertemplate": "Duration: %{x}<br>Calories: %{y}<br>Maxpulse: %{z}<br>Pulse: %{customdata[0]}",
         "legendgroup": "147",
         "marker": {
          "color": "#636efa"
         },
         "name": "147",
         "offsetgroup": "147",
         "opacity": 0.5,
         "showlegend": false,
         "type": "histogram",
         "x": [
          60
         ],
         "xaxis": "x3",
         "yaxis": "y3"
        },
        {
         "alignmentgroup": "True",
         "bingroup": "y",
         "hovertemplate": "Duration: %{x}<br>Calories: %{y}<br>Maxpulse: %{z}<br>Pulse: %{customdata[0]}",
         "legendgroup": "147",
         "marker": {
          "color": "#636efa"
         },
         "name": "147",
         "offsetgroup": "147",
         "opacity": 0.5,
         "showlegend": false,
         "type": "histogram",
         "xaxis": "x2",
         "y": [
          329.3
         ],
         "yaxis": "y2"
        },
        {
         "autocontour": true,
         "contours": {
          "coloring": "none",
          "end": 6.5,
          "size": 0.5,
          "start": 0.5
         },
         "hovertemplate": "Duration: %{x}<br>Calories: %{y}<br>Maxpulse: %{z}<br>Pulse: %{customdata[0]}",
         "legendgroup": "120",
         "line": {
          "color": "#EF553B"
         },
         "name": "120",
         "showlegend": true,
         "type": "histogram2dcontour",
         "x": [
          60,
          60,
          60,
          60,
          60,
          60,
          45,
          180,
          30,
          90,
          45,
          45,
          45,
          60,
          30,
          30
         ],
         "xaxis": "x",
         "xbingroup": "x",
         "y": [
          250.7,
          215.2,
          300,
          250,
          300,
          300,
          225.3,
          800.3,
          86.2,
          500.3,
          225.3,
          100.7,
          250.4,
          270.4,
          240.9,
          250.4
         ],
         "yaxis": "y",
         "ybingroup": "y"
        },
        {
         "alignmentgroup": "True",
         "bingroup": "x",
         "hovertemplate": "Duration: %{x}<br>Calories: %{y}<br>Maxpulse: %{z}<br>Pulse: %{customdata[0]}",
         "legendgroup": "120",
         "marker": {
          "color": "#EF553B"
         },
         "name": "120",
         "offsetgroup": "120",
         "opacity": 0.5,
         "showlegend": false,
         "type": "histogram",
         "x": [
          60,
          60,
          60,
          60,
          60,
          60,
          45,
          180,
          30,
          90,
          45,
          45,
          45,
          60,
          30,
          30
         ],
         "xaxis": "x3",
         "yaxis": "y3"
        },
        {
         "alignmentgroup": "True",
         "bingroup": "y",
         "hovertemplate": "Duration: %{x}<br>Calories: %{y}<br>Maxpulse: %{z}<br>Pulse: %{customdata[0]}",
         "legendgroup": "120",
         "marker": {
          "color": "#EF553B"
         },
         "name": "120",
         "offsetgroup": "120",
         "opacity": 0.5,
         "showlegend": false,
         "type": "histogram",
         "xaxis": "x2",
         "y": [
          250.7,
          215.2,
          300,
          250,
          300,
          300,
          225.3,
          800.3,
          86.2,
          500.3,
          225.3,
          100.7,
          250.4,
          270.4,
          240.9,
          250.4
         ],
         "yaxis": "y2"
        },
        {
         "autocontour": true,
         "contours": {
          "coloring": "none",
          "end": 1.8,
          "size": 0.2,
          "start": 0.2
         },
         "hovertemplate": "Duration: %{x}<br>Calories: %{y}<br>Maxpulse: %{z}<br>Pulse: %{customdata[0]}",
         "legendgroup": "128",
         "line": {
          "color": "#00cc96"
         },
         "name": "128",
         "showlegend": true,
         "type": "histogram2dcontour",
         "x": [
          60,
          30,
          30,
          60
         ],
         "xaxis": "x",
         "xbingroup": "x",
         "y": [
          345.3,
          128.2,
          124,
          328
         ],
         "yaxis": "y",
         "ybingroup": "y"
        },
        {
         "alignmentgroup": "True",
         "bingroup": "x",
         "hovertemplate": "Duration: %{x}<br>Calories: %{y}<br>Maxpulse: %{z}<br>Pulse: %{customdata[0]}",
         "legendgroup": "128",
         "marker": {
          "color": "#00cc96"
         },
         "name": "128",
         "offsetgroup": "128",
         "opacity": 0.5,
         "showlegend": false,
         "type": "histogram",
         "x": [
          60,
          30,
          30,
          60
         ],
         "xaxis": "x3",
         "yaxis": "y3"
        },
        {
         "alignmentgroup": "True",
         "bingroup": "y",
         "hovertemplate": "Duration: %{x}<br>Calories: %{y}<br>Maxpulse: %{z}<br>Pulse: %{customdata[0]}",
         "legendgroup": "128",
         "marker": {
          "color": "#00cc96"
         },
         "name": "128",
         "offsetgroup": "128",
         "opacity": 0.5,
         "showlegend": false,
         "type": "histogram",
         "xaxis": "x2",
         "y": [
          345.3,
          128.2,
          124,
          328
         ],
         "yaxis": "y2"
        },
        {
         "autocontour": true,
         "contours": {
          "coloring": "none",
          "end": 2.5,
          "size": 0.5,
          "start": 0.5
         },
         "hovertemplate": "Duration: %{x}<br>Calories: %{y}<br>Maxpulse: %{z}<br>Pulse: %{customdata[0]}",
         "legendgroup": "132",
         "line": {
          "color": "#ab63fa"
         },
         "name": "132",
         "showlegend": true,
         "type": "histogram2dcontour",
         "x": [
          60,
          45,
          60,
          60,
          60
         ],
         "xaxis": "x",
         "xbingroup": "x",
         "y": [
          379.3,
          246,
          null,
          280,
          327.5
         ],
         "yaxis": "y",
         "ybingroup": "y"
        },
        {
         "alignmentgroup": "True",
         "bingroup": "x",
         "hovertemplate": "Duration: %{x}<br>Calories: %{y}<br>Maxpulse: %{z}<br>Pulse: %{customdata[0]}",
         "legendgroup": "132",
         "marker": {
          "color": "#ab63fa"
         },
         "name": "132",
         "offsetgroup": "132",
         "opacity": 0.5,
         "showlegend": false,
         "type": "histogram",
         "x": [
          60,
          45,
          60,
          60,
          60
         ],
         "xaxis": "x3",
         "yaxis": "y3"
        },
        {
         "alignmentgroup": "True",
         "bingroup": "y",
         "hovertemplate": "Duration: %{x}<br>Calories: %{y}<br>Maxpulse: %{z}<br>Pulse: %{customdata[0]}",
         "legendgroup": "132",
         "marker": {
          "color": "#ab63fa"
         },
         "name": "132",
         "offsetgroup": "132",
         "opacity": 0.5,
         "showlegend": false,
         "type": "histogram",
         "xaxis": "x2",
         "y": [
          379.3,
          246,
          null,
          280,
          327.5
         ],
         "yaxis": "y2"
        },
        {
         "autocontour": true,
         "contours": {
          "coloring": "none",
          "end": 1.8,
          "size": 0.2,
          "start": 0.2
         },
         "hovertemplate": "Duration: %{x}<br>Calories: %{y}<br>Maxpulse: %{z}<br>Pulse: %{customdata[0]}",
         "legendgroup": "123",
         "line": {
          "color": "#FFA15A"
         },
         "name": "123",
         "showlegend": true,
         "type": "histogram2dcontour",
         "x": [
          60,
          60
         ],
         "xaxis": "x",
         "xbingroup": "x",
         "y": [
          275,
          323
         ],
         "yaxis": "y",
         "ybingroup": "y"
        },
        {
         "alignmentgroup": "True",
         "bingroup": "x",
         "hovertemplate": "Duration: %{x}<br>Calories: %{y}<br>Maxpulse: %{z}<br>Pulse: %{customdata[0]}",
         "legendgroup": "123",
         "marker": {
          "color": "#FFA15A"
         },
         "name": "123",
         "offsetgroup": "123",
         "opacity": 0.5,
         "showlegend": false,
         "type": "histogram",
         "x": [
          60,
          60
         ],
         "xaxis": "x3",
         "yaxis": "y3"
        },
        {
         "alignmentgroup": "True",
         "bingroup": "y",
         "hovertemplate": "Duration: %{x}<br>Calories: %{y}<br>Maxpulse: %{z}<br>Pulse: %{customdata[0]}",
         "legendgroup": "123",
         "marker": {
          "color": "#FFA15A"
         },
         "name": "123",
         "offsetgroup": "123",
         "opacity": 0.5,
         "showlegend": false,
         "type": "histogram",
         "xaxis": "x2",
         "y": [
          275,
          323
         ],
         "yaxis": "y2"
        },
        {
         "autocontour": true,
         "contours": {
          "coloring": "none",
          "end": 1.8,
          "size": 0.2,
          "start": 0.2
         },
         "hovertemplate": "Duration: %{x}<br>Calories: %{y}<br>Maxpulse: %{z}<br>Pulse: %{customdata[0]}",
         "legendgroup": "112",
         "line": {
          "color": "#19d3f3"
         },
         "name": "112",
         "showlegend": true,
         "type": "histogram2dcontour",
         "x": [
          45,
          45,
          45,
          20
         ],
         "xaxis": "x",
         "xbingroup": "x",
         "y": [
          null,
          180.1,
          180.1,
          77.7
         ],
         "yaxis": "y",
         "ybingroup": "y"
        },
        {
         "alignmentgroup": "True",
         "bingroup": "x",
         "hovertemplate": "Duration: %{x}<br>Calories: %{y}<br>Maxpulse: %{z}<br>Pulse: %{customdata[0]}",
         "legendgroup": "112",
         "marker": {
          "color": "#19d3f3"
         },
         "name": "112",
         "offsetgroup": "112",
         "opacity": 0.5,
         "showlegend": false,
         "type": "histogram",
         "x": [
          45,
          45,
          45,
          20
         ],
         "xaxis": "x3",
         "yaxis": "y3"
        },
        {
         "alignmentgroup": "True",
         "bingroup": "y",
         "hovertemplate": "Duration: %{x}<br>Calories: %{y}<br>Maxpulse: %{z}<br>Pulse: %{customdata[0]}",
         "legendgroup": "112",
         "marker": {
          "color": "#19d3f3"
         },
         "name": "112",
         "offsetgroup": "112",
         "opacity": 0.5,
         "showlegend": false,
         "type": "histogram",
         "xaxis": "x2",
         "y": [
          null,
          180.1,
          180.1,
          77.7
         ],
         "yaxis": "y2"
        },
        {
         "autocontour": true,
         "contours": {
          "coloring": "none",
          "end": 1.8,
          "size": 0.2,
          "start": 0.2
         },
         "hovertemplate": "Duration: %{x}<br>Calories: %{y}<br>Maxpulse: %{z}<br>Pulse: %{customdata[0]}",
         "legendgroup": "125",
         "line": {
          "color": "#FF6692"
         },
         "name": "125",
         "showlegend": true,
         "type": "histogram2dcontour",
         "x": [
          45,
          90,
          60,
          90
         ],
         "xaxis": "x",
         "xbingroup": "x",
         "y": [
          243,
          563.2,
          null,
          466.4
         ],
         "yaxis": "y",
         "ybingroup": "y"
        },
        {
         "alignmentgroup": "True",
         "bingroup": "x",
         "hovertemplate": "Duration: %{x}<br>Calories: %{y}<br>Maxpulse: %{z}<br>Pulse: %{customdata[0]}",
         "legendgroup": "125",
         "marker": {
          "color": "#FF6692"
         },
         "name": "125",
         "offsetgroup": "125",
         "opacity": 0.5,
         "showlegend": false,
         "type": "histogram",
         "x": [
          45,
          90,
          60,
          90
         ],
         "xaxis": "x3",
         "yaxis": "y3"
        },
        {
         "alignmentgroup": "True",
         "bingroup": "y",
         "hovertemplate": "Duration: %{x}<br>Calories: %{y}<br>Maxpulse: %{z}<br>Pulse: %{customdata[0]}",
         "legendgroup": "125",
         "marker": {
          "color": "#FF6692"
         },
         "name": "125",
         "offsetgroup": "125",
         "opacity": 0.5,
         "showlegend": false,
         "type": "histogram",
         "xaxis": "x2",
         "y": [
          243,
          563.2,
          null,
          466.4
         ],
         "yaxis": "y2"
        },
        {
         "autocontour": true,
         "contours": {
          "coloring": "none",
          "end": 3.5,
          "size": 0.5,
          "start": 0.5
         },
         "hovertemplate": "Duration: %{x}<br>Calories: %{y}<br>Maxpulse: %{z}<br>Pulse: %{customdata[0]}",
         "legendgroup": "131",
         "line": {
          "color": "#B6E880"
         },
         "name": "131",
         "showlegend": true,
         "type": "histogram2dcontour",
         "x": [
          60,
          60,
          270,
          30,
          60,
          60
         ],
         "xaxis": "x",
         "xbingroup": "x",
         "y": [
          364.2,
          397,
          1729,
          188.2,
          367.6,
          270.4
         ],
         "yaxis": "y",
         "ybingroup": "y"
        },
        {
         "alignmentgroup": "True",
         "bingroup": "x",
         "hovertemplate": "Duration: %{x}<br>Calories: %{y}<br>Maxpulse: %{z}<br>Pulse: %{customdata[0]}",
         "legendgroup": "131",
         "marker": {
          "color": "#B6E880"
         },
         "name": "131",
         "offsetgroup": "131",
         "opacity": 0.5,
         "showlegend": false,
         "type": "histogram",
         "x": [
          60,
          60,
          270,
          30,
          60,
          60
         ],
         "xaxis": "x3",
         "yaxis": "y3"
        },
        {
         "alignmentgroup": "True",
         "bingroup": "y",
         "hovertemplate": "Duration: %{x}<br>Calories: %{y}<br>Maxpulse: %{z}<br>Pulse: %{customdata[0]}",
         "legendgroup": "131",
         "marker": {
          "color": "#B6E880"
         },
         "name": "131",
         "offsetgroup": "131",
         "opacity": 0.5,
         "showlegend": false,
         "type": "histogram",
         "xaxis": "x2",
         "y": [
          364.2,
          397,
          1729,
          188.2,
          367.6,
          270.4
         ],
         "yaxis": "y2"
        },
        {
         "autocontour": true,
         "contours": {
          "coloring": "none",
          "end": 0.9,
          "size": 0.1,
          "start": 0.1
         },
         "hovertemplate": "Duration: %{x}<br>Calories: %{y}<br>Maxpulse: %{z}<br>Pulse: %{customdata[0]}",
         "legendgroup": "119",
         "line": {
          "color": "#FF97FF"
         },
         "name": "119",
         "showlegend": true,
         "type": "histogram2dcontour",
         "x": [
          45,
          60
         ],
         "xaxis": "x",
         "xbingroup": "x",
         "y": [
          282,
          273
         ],
         "yaxis": "y",
         "ybingroup": "y"
        },
        {
         "alignmentgroup": "True",
         "bingroup": "x",
         "hovertemplate": "Duration: %{x}<br>Calories: %{y}<br>Maxpulse: %{z}<br>Pulse: %{customdata[0]}",
         "legendgroup": "119",
         "marker": {
          "color": "#FF97FF"
         },
         "name": "119",
         "offsetgroup": "119",
         "opacity": 0.5,
         "showlegend": false,
         "type": "histogram",
         "x": [
          45,
          60
         ],
         "xaxis": "x3",
         "yaxis": "y3"
        },
        {
         "alignmentgroup": "True",
         "bingroup": "y",
         "hovertemplate": "Duration: %{x}<br>Calories: %{y}<br>Maxpulse: %{z}<br>Pulse: %{customdata[0]}",
         "legendgroup": "119",
         "marker": {
          "color": "#FF97FF"
         },
         "name": "119",
         "offsetgroup": "119",
         "opacity": 0.5,
         "showlegend": false,
         "type": "histogram",
         "xaxis": "x2",
         "y": [
          282,
          273
         ],
         "yaxis": "y2"
        },
        {
         "autocontour": true,
         "contours": {
          "coloring": "none",
          "end": 0.9,
          "size": 0.1,
          "start": 0.1
         },
         "hovertemplate": "Duration: %{x}<br>Calories: %{y}<br>Maxpulse: %{z}<br>Pulse: %{customdata[0]}",
         "legendgroup": "101",
         "line": {
          "color": "#FECB52"
         },
         "name": "101",
         "showlegend": true,
         "type": "histogram2dcontour",
         "x": [
          60
         ],
         "xaxis": "x",
         "xbingroup": "x",
         "y": [
          300
         ],
         "yaxis": "y",
         "ybingroup": "y"
        },
        {
         "alignmentgroup": "True",
         "bingroup": "x",
         "hovertemplate": "Duration: %{x}<br>Calories: %{y}<br>Maxpulse: %{z}<br>Pulse: %{customdata[0]}",
         "legendgroup": "101",
         "marker": {
          "color": "#FECB52"
         },
         "name": "101",
         "offsetgroup": "101",
         "opacity": 0.5,
         "showlegend": false,
         "type": "histogram",
         "x": [
          60
         ],
         "xaxis": "x3",
         "yaxis": "y3"
        },
        {
         "alignmentgroup": "True",
         "bingroup": "y",
         "hovertemplate": "Duration: %{x}<br>Calories: %{y}<br>Maxpulse: %{z}<br>Pulse: %{customdata[0]}",
         "legendgroup": "101",
         "marker": {
          "color": "#FECB52"
         },
         "name": "101",
         "offsetgroup": "101",
         "opacity": 0.5,
         "showlegend": false,
         "type": "histogram",
         "xaxis": "x2",
         "y": [
          300
         ],
         "yaxis": "y2"
        },
        {
         "autocontour": true,
         "contours": {
          "coloring": "none",
          "end": 1.8,
          "size": 0.2,
          "start": 0.2
         },
         "hovertemplate": "Duration: %{x}<br>Calories: %{y}<br>Maxpulse: %{z}<br>Pulse: %{customdata[0]}",
         "legendgroup": "126",
         "line": {
          "color": "#636efa"
         },
         "name": "126",
         "showlegend": true,
         "type": "histogram2dcontour",
         "x": [
          60,
          60,
          45
         ],
         "xaxis": "x",
         "xbingroup": "x",
         "y": [
          334.5,
          286,
          270.8
         ],
         "yaxis": "y",
         "ybingroup": "y"
        },
        {
         "alignmentgroup": "True",
         "bingroup": "x",
         "hovertemplate": "Duration: %{x}<br>Calories: %{y}<br>Maxpulse: %{z}<br>Pulse: %{customdata[0]}",
         "legendgroup": "126",
         "marker": {
          "color": "#636efa"
         },
         "name": "126",
         "offsetgroup": "126",
         "opacity": 0.5,
         "showlegend": false,
         "type": "histogram",
         "x": [
          60,
          60,
          45
         ],
         "xaxis": "x3",
         "yaxis": "y3"
        },
        {
         "alignmentgroup": "True",
         "bingroup": "y",
         "hovertemplate": "Duration: %{x}<br>Calories: %{y}<br>Maxpulse: %{z}<br>Pulse: %{customdata[0]}",
         "legendgroup": "126",
         "marker": {
          "color": "#636efa"
         },
         "name": "126",
         "offsetgroup": "126",
         "opacity": 0.5,
         "showlegend": false,
         "type": "histogram",
         "xaxis": "x2",
         "y": [
          334.5,
          286,
          270.8
         ],
         "yaxis": "y2"
        },
        {
         "autocontour": true,
         "contours": {
          "coloring": "none",
          "end": 0.9,
          "size": 0.1,
          "start": 0.1
         },
         "hovertemplate": "Duration: %{x}<br>Calories: %{y}<br>Maxpulse: %{z}<br>Pulse: %{customdata[0]}",
         "legendgroup": "118",
         "line": {
          "color": "#EF553B"
         },
         "name": "118",
         "showlegend": true,
         "type": "histogram2dcontour",
         "x": [
          60
         ],
         "xaxis": "x",
         "xbingroup": "x",
         "y": [
          241
         ],
         "yaxis": "y",
         "ybingroup": "y"
        },
        {
         "alignmentgroup": "True",
         "bingroup": "x",
         "hovertemplate": "Duration: %{x}<br>Calories: %{y}<br>Maxpulse: %{z}<br>Pulse: %{customdata[0]}",
         "legendgroup": "118",
         "marker": {
          "color": "#EF553B"
         },
         "name": "118",
         "offsetgroup": "118",
         "opacity": 0.5,
         "showlegend": false,
         "type": "histogram",
         "x": [
          60
         ],
         "xaxis": "x3",
         "yaxis": "y3"
        },
        {
         "alignmentgroup": "True",
         "bingroup": "y",
         "hovertemplate": "Duration: %{x}<br>Calories: %{y}<br>Maxpulse: %{z}<br>Pulse: %{customdata[0]}",
         "legendgroup": "118",
         "marker": {
          "color": "#EF553B"
         },
         "name": "118",
         "offsetgroup": "118",
         "opacity": 0.5,
         "showlegend": false,
         "type": "histogram",
         "xaxis": "x2",
         "y": [
          241
         ],
         "yaxis": "y2"
        },
        {
         "autocontour": true,
         "contours": {
          "coloring": "none",
          "end": 1.8,
          "size": 0.2,
          "start": 0.2
         },
         "hovertemplate": "Duration: %{x}<br>Calories: %{y}<br>Maxpulse: %{z}<br>Pulse: %{customdata[0]}",
         "legendgroup": "129",
         "line": {
          "color": "#00cc96"
         },
         "name": "129",
         "showlegend": true,
         "type": "histogram2dcontour",
         "x": [
          60,
          45,
          45,
          150,
          60
         ],
         "xaxis": "x",
         "xbingroup": "x",
         "y": [
          380.3,
          266,
          298,
          1115,
          353.2
         ],
         "yaxis": "y",
         "ybingroup": "y"
        },
        {
         "alignmentgroup": "True",
         "bingroup": "x",
         "hovertemplate": "Duration: %{x}<br>Calories: %{y}<br>Maxpulse: %{z}<br>Pulse: %{customdata[0]}",
         "legendgroup": "129",
         "marker": {
          "color": "#00cc96"
         },
         "name": "129",
         "offsetgroup": "129",
         "opacity": 0.5,
         "showlegend": false,
         "type": "histogram",
         "x": [
          60,
          45,
          45,
          150,
          60
         ],
         "xaxis": "x3",
         "yaxis": "y3"
        },
        {
         "alignmentgroup": "True",
         "bingroup": "y",
         "hovertemplate": "Duration: %{x}<br>Calories: %{y}<br>Maxpulse: %{z}<br>Pulse: %{customdata[0]}",
         "legendgroup": "129",
         "marker": {
          "color": "#00cc96"
         },
         "name": "129",
         "offsetgroup": "129",
         "opacity": 0.5,
         "showlegend": false,
         "type": "histogram",
         "xaxis": "x2",
         "y": [
          380.3,
          266,
          298,
          1115,
          353.2
         ],
         "yaxis": "y2"
        },
        {
         "autocontour": true,
         "contours": {
          "coloring": "none",
          "end": 0.9,
          "size": 0.1,
          "start": 0.1
         },
         "hovertemplate": "Duration: %{x}<br>Calories: %{y}<br>Maxpulse: %{z}<br>Pulse: %{customdata[0]}",
         "legendgroup": "115",
         "line": {
          "color": "#ab63fa"
         },
         "name": "115",
         "showlegend": true,
         "type": "histogram2dcontour",
         "x": [
          60
         ],
         "xaxis": "x",
         "xbingroup": "x",
         "y": [
          243
         ],
         "yaxis": "y",
         "ybingroup": "y"
        },
        {
         "alignmentgroup": "True",
         "bingroup": "x",
         "hovertemplate": "Duration: %{x}<br>Calories: %{y}<br>Maxpulse: %{z}<br>Pulse: %{customdata[0]}",
         "legendgroup": "115",
         "marker": {
          "color": "#ab63fa"
         },
         "name": "115",
         "offsetgroup": "115",
         "opacity": 0.5,
         "showlegend": false,
         "type": "histogram",
         "x": [
          60
         ],
         "xaxis": "x3",
         "yaxis": "y3"
        },
        {
         "alignmentgroup": "True",
         "bingroup": "y",
         "hovertemplate": "Duration: %{x}<br>Calories: %{y}<br>Maxpulse: %{z}<br>Pulse: %{customdata[0]}",
         "legendgroup": "115",
         "marker": {
          "color": "#ab63fa"
         },
         "name": "115",
         "offsetgroup": "115",
         "opacity": 0.5,
         "showlegend": false,
         "type": "histogram",
         "xaxis": "x2",
         "y": [
          243
         ],
         "yaxis": "y2"
        },
        {
         "autocontour": true,
         "contours": {
          "coloring": "none",
          "end": 0.9,
          "size": 0.1,
          "start": 0.1
         },
         "hovertemplate": "Duration: %{x}<br>Calories: %{y}<br>Maxpulse: %{z}<br>Pulse: %{customdata[0]}",
         "legendgroup": "113",
         "line": {
          "color": "#FFA15A"
         },
         "name": "113",
         "showlegend": true,
         "type": "histogram2dcontour",
         "x": [
          60
         ],
         "xaxis": "x",
         "xbingroup": "x",
         "y": [
          223
         ],
         "yaxis": "y",
         "ybingroup": "y"
        },
        {
         "alignmentgroup": "True",
         "bingroup": "x",
         "hovertemplate": "Duration: %{x}<br>Calories: %{y}<br>Maxpulse: %{z}<br>Pulse: %{customdata[0]}",
         "legendgroup": "113",
         "marker": {
          "color": "#FFA15A"
         },
         "name": "113",
         "offsetgroup": "113",
         "opacity": 0.5,
         "showlegend": false,
         "type": "histogram",
         "x": [
          60
         ],
         "xaxis": "x3",
         "yaxis": "y3"
        },
        {
         "alignmentgroup": "True",
         "bingroup": "y",
         "hovertemplate": "Duration: %{x}<br>Calories: %{y}<br>Maxpulse: %{z}<br>Pulse: %{customdata[0]}",
         "legendgroup": "113",
         "marker": {
          "color": "#FFA15A"
         },
         "name": "113",
         "offsetgroup": "113",
         "opacity": 0.5,
         "showlegend": false,
         "type": "histogram",
         "xaxis": "x2",
         "y": [
          223
         ],
         "yaxis": "y2"
        },
        {
         "autocontour": true,
         "contours": {
          "coloring": "none",
          "end": 0.9,
          "size": 0.1,
          "start": 0.1
         },
         "hovertemplate": "Duration: %{x}<br>Calories: %{y}<br>Maxpulse: %{z}<br>Pulse: %{customdata[0]}",
         "legendgroup": "140",
         "line": {
          "color": "#19d3f3"
         },
         "name": "140",
         "showlegend": true,
         "type": "histogram2dcontour",
         "x": [
          60,
          45,
          60
         ],
         "xaxis": "x",
         "xbingroup": "x",
         "y": [
          415,
          280.9,
          290.8
         ],
         "yaxis": "y",
         "ybingroup": "y"
        },
        {
         "alignmentgroup": "True",
         "bingroup": "x",
         "hovertemplate": "Duration: %{x}<br>Calories: %{y}<br>Maxpulse: %{z}<br>Pulse: %{customdata[0]}",
         "legendgroup": "140",
         "marker": {
          "color": "#19d3f3"
         },
         "name": "140",
         "offsetgroup": "140",
         "opacity": 0.5,
         "showlegend": false,
         "type": "histogram",
         "x": [
          60,
          45,
          60
         ],
         "xaxis": "x3",
         "yaxis": "y3"
        },
        {
         "alignmentgroup": "True",
         "bingroup": "y",
         "hovertemplate": "Duration: %{x}<br>Calories: %{y}<br>Maxpulse: %{z}<br>Pulse: %{customdata[0]}",
         "legendgroup": "140",
         "marker": {
          "color": "#19d3f3"
         },
         "name": "140",
         "offsetgroup": "140",
         "opacity": 0.5,
         "showlegend": false,
         "type": "histogram",
         "xaxis": "x2",
         "y": [
          415,
          280.9,
          290.8
         ],
         "yaxis": "y2"
        },
        {
         "autocontour": true,
         "contours": {
          "coloring": "none",
          "end": 2.5,
          "size": 0.5,
          "start": 0.5
         },
         "hovertemplate": "Duration: %{x}<br>Calories: %{y}<br>Maxpulse: %{z}<br>Pulse: %{customdata[0]}",
         "legendgroup": "122",
         "line": {
          "color": "#FF6692"
         },
         "name": "122",
         "showlegend": true,
         "type": "histogram2dcontour",
         "x": [
          60,
          60,
          60
         ],
         "xaxis": "x",
         "xbingroup": "x",
         "y": [
          329.4,
          277.4,
          271
         ],
         "yaxis": "y",
         "ybingroup": "y"
        },
        {
         "alignmentgroup": "True",
         "bingroup": "x",
         "hovertemplate": "Duration: %{x}<br>Calories: %{y}<br>Maxpulse: %{z}<br>Pulse: %{customdata[0]}",
         "legendgroup": "122",
         "marker": {
          "color": "#FF6692"
         },
         "name": "122",
         "offsetgroup": "122",
         "opacity": 0.5,
         "showlegend": false,
         "type": "histogram",
         "x": [
          60,
          60,
          60
         ],
         "xaxis": "x3",
         "yaxis": "y3"
        },
        {
         "alignmentgroup": "True",
         "bingroup": "y",
         "hovertemplate": "Duration: %{x}<br>Calories: %{y}<br>Maxpulse: %{z}<br>Pulse: %{customdata[0]}",
         "legendgroup": "122",
         "marker": {
          "color": "#FF6692"
         },
         "name": "122",
         "offsetgroup": "122",
         "opacity": 0.5,
         "showlegend": false,
         "type": "histogram",
         "xaxis": "x2",
         "y": [
          329.4,
          277.4,
          271
         ],
         "yaxis": "y2"
        },
        {
         "autocontour": true,
         "contours": {
          "coloring": "none",
          "end": 1.8,
          "size": 0.2,
          "start": 0.2
         },
         "hovertemplate": "Duration: %{x}<br>Calories: %{y}<br>Maxpulse: %{z}<br>Pulse: %{customdata[0]}",
         "legendgroup": "138",
         "line": {
          "color": "#B6E880"
         },
         "name": "138",
         "showlegend": true,
         "type": "histogram2dcontour",
         "x": [
          60,
          60,
          45,
          60
         ],
         "xaxis": "x",
         "xbingroup": "x",
         "y": [
          400,
          357.5,
          308,
          374
         ],
         "yaxis": "y",
         "ybingroup": "y"
        },
        {
         "alignmentgroup": "True",
         "bingroup": "x",
         "hovertemplate": "Duration: %{x}<br>Calories: %{y}<br>Maxpulse: %{z}<br>Pulse: %{customdata[0]}",
         "legendgroup": "138",
         "marker": {
          "color": "#B6E880"
         },
         "name": "138",
         "offsetgroup": "138",
         "opacity": 0.5,
         "showlegend": false,
         "type": "histogram",
         "x": [
          60,
          60,
          45,
          60
         ],
         "xaxis": "x3",
         "yaxis": "y3"
        },
        {
         "alignmentgroup": "True",
         "bingroup": "y",
         "hovertemplate": "Duration: %{x}<br>Calories: %{y}<br>Maxpulse: %{z}<br>Pulse: %{customdata[0]}",
         "legendgroup": "138",
         "marker": {
          "color": "#B6E880"
         },
         "name": "138",
         "offsetgroup": "138",
         "opacity": 0.5,
         "showlegend": false,
         "type": "histogram",
         "xaxis": "x2",
         "y": [
          400,
          357.5,
          308,
          374
         ],
         "yaxis": "y2"
        },
        {
         "autocontour": true,
         "contours": {
          "coloring": "none",
          "end": 1.8,
          "size": 0.2,
          "start": 0.2
         },
         "hovertemplate": "Duration: %{x}<br>Calories: %{y}<br>Maxpulse: %{z}<br>Pulse: %{customdata[0]}",
         "legendgroup": "153",
         "line": {
          "color": "#FF97FF"
         },
         "name": "153",
         "showlegend": true,
         "type": "histogram2dcontour",
         "x": [
          60,
          60
         ],
         "xaxis": "x",
         "xbingroup": "x",
         "y": [
          387.6,
          387.6
         ],
         "yaxis": "y",
         "ybingroup": "y"
        },
        {
         "alignmentgroup": "True",
         "bingroup": "x",
         "hovertemplate": "Duration: %{x}<br>Calories: %{y}<br>Maxpulse: %{z}<br>Pulse: %{customdata[0]}",
         "legendgroup": "153",
         "marker": {
          "color": "#FF97FF"
         },
         "name": "153",
         "offsetgroup": "153",
         "opacity": 0.5,
         "showlegend": false,
         "type": "histogram",
         "x": [
          60,
          60
         ],
         "xaxis": "x3",
         "yaxis": "y3"
        },
        {
         "alignmentgroup": "True",
         "bingroup": "y",
         "hovertemplate": "Duration: %{x}<br>Calories: %{y}<br>Maxpulse: %{z}<br>Pulse: %{customdata[0]}",
         "legendgroup": "153",
         "marker": {
          "color": "#FF97FF"
         },
         "name": "153",
         "offsetgroup": "153",
         "opacity": 0.5,
         "showlegend": false,
         "type": "histogram",
         "xaxis": "x2",
         "y": [
          387.6,
          387.6
         ],
         "yaxis": "y2"
        },
        {
         "autocontour": true,
         "contours": {
          "coloring": "none",
          "end": 0.9,
          "size": 0.1,
          "start": 0.1
         },
         "hovertemplate": "Duration: %{x}<br>Calories: %{y}<br>Maxpulse: %{z}<br>Pulse: %{customdata[0]}",
         "legendgroup": "139",
         "line": {
          "color": "#FECB52"
         },
         "name": "139",
         "showlegend": true,
         "type": "histogram2dcontour",
         "x": [
          60,
          30,
          15
         ],
         "xaxis": "x",
         "xbingroup": "x",
         "y": [
          397.6,
          151.1,
          124.2
         ],
         "yaxis": "y",
         "ybingroup": "y"
        },
        {
         "alignmentgroup": "True",
         "bingroup": "x",
         "hovertemplate": "Duration: %{x}<br>Calories: %{y}<br>Maxpulse: %{z}<br>Pulse: %{customdata[0]}",
         "legendgroup": "139",
         "marker": {
          "color": "#FECB52"
         },
         "name": "139",
         "offsetgroup": "139",
         "opacity": 0.5,
         "showlegend": false,
         "type": "histogram",
         "x": [
          60,
          30,
          15
         ],
         "xaxis": "x3",
         "yaxis": "y3"
        },
        {
         "alignmentgroup": "True",
         "bingroup": "y",
         "hovertemplate": "Duration: %{x}<br>Calories: %{y}<br>Maxpulse: %{z}<br>Pulse: %{customdata[0]}",
         "legendgroup": "139",
         "marker": {
          "color": "#FECB52"
         },
         "name": "139",
         "offsetgroup": "139",
         "opacity": 0.5,
         "showlegend": false,
         "type": "histogram",
         "xaxis": "x2",
         "y": [
          397.6,
          151.1,
          124.2
         ],
         "yaxis": "y2"
        },
        {
         "autocontour": true,
         "contours": {
          "coloring": "none",
          "end": 0.9,
          "size": 0.1,
          "start": 0.1
         },
         "hovertemplate": "Duration: %{x}<br>Calories: %{y}<br>Maxpulse: %{z}<br>Pulse: %{customdata[0]}",
         "legendgroup": "146",
         "line": {
          "color": "#636efa"
         },
         "name": "146",
         "showlegend": true,
         "type": "histogram2dcontour",
         "x": [
          80,
          60,
          45,
          60
         ],
         "xaxis": "x",
         "xbingroup": "x",
         "y": [
          643.1,
          450.7,
          304,
          361.9
         ],
         "yaxis": "y",
         "ybingroup": "y"
        },
        {
         "alignmentgroup": "True",
         "bingroup": "x",
         "hovertemplate": "Duration: %{x}<br>Calories: %{y}<br>Maxpulse: %{z}<br>Pulse: %{customdata[0]}",
         "legendgroup": "146",
         "marker": {
          "color": "#636efa"
         },
         "name": "146",
         "offsetgroup": "146",
         "opacity": 0.5,
         "showlegend": false,
         "type": "histogram",
         "x": [
          80,
          60,
          45,
          60
         ],
         "xaxis": "x3",
         "yaxis": "y3"
        },
        {
         "alignmentgroup": "True",
         "bingroup": "y",
         "hovertemplate": "Duration: %{x}<br>Calories: %{y}<br>Maxpulse: %{z}<br>Pulse: %{customdata[0]}",
         "legendgroup": "146",
         "marker": {
          "color": "#636efa"
         },
         "name": "146",
         "offsetgroup": "146",
         "opacity": 0.5,
         "showlegend": false,
         "type": "histogram",
         "xaxis": "x2",
         "y": [
          643.1,
          450.7,
          304,
          361.9
         ],
         "yaxis": "y2"
        },
        {
         "autocontour": true,
         "contours": {
          "coloring": "none",
          "end": 3.5,
          "size": 0.5,
          "start": 0.5
         },
         "hovertemplate": "Duration: %{x}<br>Calories: %{y}<br>Maxpulse: %{z}<br>Pulse: %{customdata[0]}",
         "legendgroup": "151",
         "line": {
          "color": "#EF553B"
         },
         "name": "151",
         "showlegend": true,
         "type": "histogram2dcontour",
         "x": [
          60,
          60,
          60,
          60,
          60
         ],
         "xaxis": "x",
         "xbingroup": "x",
         "y": [
          486,
          351.7,
          368.5,
          384,
          368.5
         ],
         "yaxis": "y",
         "ybingroup": "y"
        },
        {
         "alignmentgroup": "True",
         "bingroup": "x",
         "hovertemplate": "Duration: %{x}<br>Calories: %{y}<br>Maxpulse: %{z}<br>Pulse: %{customdata[0]}",
         "legendgroup": "151",
         "marker": {
          "color": "#EF553B"
         },
         "name": "151",
         "offsetgroup": "151",
         "opacity": 0.5,
         "showlegend": false,
         "type": "histogram",
         "x": [
          60,
          60,
          60,
          60,
          60
         ],
         "xaxis": "x3",
         "yaxis": "y3"
        },
        {
         "alignmentgroup": "True",
         "bingroup": "y",
         "hovertemplate": "Duration: %{x}<br>Calories: %{y}<br>Maxpulse: %{z}<br>Pulse: %{customdata[0]}",
         "legendgroup": "151",
         "marker": {
          "color": "#EF553B"
         },
         "name": "151",
         "offsetgroup": "151",
         "opacity": 0.5,
         "showlegend": false,
         "type": "histogram",
         "xaxis": "x2",
         "y": [
          486,
          351.7,
          368.5,
          384,
          368.5
         ],
         "yaxis": "y2"
        },
        {
         "autocontour": true,
         "contours": {
          "coloring": "none",
          "end": 0.9,
          "size": 0.1,
          "start": 0.1
         },
         "hovertemplate": "Duration: %{x}<br>Calories: %{y}<br>Maxpulse: %{z}<br>Pulse: %{customdata[0]}",
         "legendgroup": "121",
         "line": {
          "color": "#00cc96"
         },
         "name": "121",
         "showlegend": true,
         "type": "histogram2dcontour",
         "x": [
          60
         ],
         "xaxis": "x",
         "xbingroup": "x",
         "y": [
          413
         ],
         "yaxis": "y",
         "ybingroup": "y"
        },
        {
         "alignmentgroup": "True",
         "bingroup": "x",
         "hovertemplate": "Duration: %{x}<br>Calories: %{y}<br>Maxpulse: %{z}<br>Pulse: %{customdata[0]}",
         "legendgroup": "121",
         "marker": {
          "color": "#00cc96"
         },
         "name": "121",
         "offsetgroup": "121",
         "opacity": 0.5,
         "showlegend": false,
         "type": "histogram",
         "x": [
          60
         ],
         "xaxis": "x3",
         "yaxis": "y3"
        },
        {
         "alignmentgroup": "True",
         "bingroup": "y",
         "hovertemplate": "Duration: %{x}<br>Calories: %{y}<br>Maxpulse: %{z}<br>Pulse: %{customdata[0]}",
         "legendgroup": "121",
         "marker": {
          "color": "#00cc96"
         },
         "name": "121",
         "offsetgroup": "121",
         "opacity": 0.5,
         "showlegend": false,
         "type": "histogram",
         "xaxis": "x2",
         "y": [
          413
         ],
         "yaxis": "y2"
        },
        {
         "autocontour": true,
         "contours": {
          "coloring": "none",
          "end": 0.9,
          "size": 0.1,
          "start": 0.1
         },
         "hovertemplate": "Duration: %{x}<br>Calories: %{y}<br>Maxpulse: %{z}<br>Pulse: %{customdata[0]}",
         "legendgroup": "144",
         "line": {
          "color": "#ab63fa"
         },
         "name": "144",
         "showlegend": true,
         "type": "histogram2dcontour",
         "x": [
          45
         ],
         "xaxis": "x",
         "xbingroup": "x",
         "y": [
          305
         ],
         "yaxis": "y",
         "ybingroup": "y"
        },
        {
         "alignmentgroup": "True",
         "bingroup": "x",
         "hovertemplate": "Duration: %{x}<br>Calories: %{y}<br>Maxpulse: %{z}<br>Pulse: %{customdata[0]}",
         "legendgroup": "144",
         "marker": {
          "color": "#ab63fa"
         },
         "name": "144",
         "offsetgroup": "144",
         "opacity": 0.5,
         "showlegend": false,
         "type": "histogram",
         "x": [
          45
         ],
         "xaxis": "x3",
         "yaxis": "y3"
        },
        {
         "alignmentgroup": "True",
         "bingroup": "y",
         "hovertemplate": "Duration: %{x}<br>Calories: %{y}<br>Maxpulse: %{z}<br>Pulse: %{customdata[0]}",
         "legendgroup": "144",
         "marker": {
          "color": "#ab63fa"
         },
         "name": "144",
         "offsetgroup": "144",
         "opacity": 0.5,
         "showlegend": false,
         "type": "histogram",
         "xaxis": "x2",
         "y": [
          305
         ],
         "yaxis": "y2"
        },
        {
         "autocontour": true,
         "contours": {
          "coloring": "none",
          "end": 0.9,
          "size": 0.1,
          "start": 0.1
         },
         "hovertemplate": "Duration: %{x}<br>Calories: %{y}<br>Maxpulse: %{z}<br>Pulse: %{customdata[0]}",
         "legendgroup": "172",
         "line": {
          "color": "#FFA15A"
         },
         "name": "172",
         "showlegend": true,
         "type": "histogram2dcontour",
         "x": [
          20
         ],
         "xaxis": "x",
         "xbingroup": "x",
         "y": [
          226.4
         ],
         "yaxis": "y",
         "ybingroup": "y"
        },
        {
         "alignmentgroup": "True",
         "bingroup": "x",
         "hovertemplate": "Duration: %{x}<br>Calories: %{y}<br>Maxpulse: %{z}<br>Pulse: %{customdata[0]}",
         "legendgroup": "172",
         "marker": {
          "color": "#FFA15A"
         },
         "name": "172",
         "offsetgroup": "172",
         "opacity": 0.5,
         "showlegend": false,
         "type": "histogram",
         "x": [
          20
         ],
         "xaxis": "x3",
         "yaxis": "y3"
        },
        {
         "alignmentgroup": "True",
         "bingroup": "y",
         "hovertemplate": "Duration: %{x}<br>Calories: %{y}<br>Maxpulse: %{z}<br>Pulse: %{customdata[0]}",
         "legendgroup": "172",
         "marker": {
          "color": "#FFA15A"
         },
         "name": "172",
         "offsetgroup": "172",
         "opacity": 0.5,
         "showlegend": false,
         "type": "histogram",
         "xaxis": "x2",
         "y": [
          226.4
         ],
         "yaxis": "y2"
        },
        {
         "autocontour": true,
         "contours": {
          "coloring": "none",
          "end": 0.9,
          "size": 0.1,
          "start": 0.1
         },
         "hovertemplate": "Duration: %{x}<br>Calories: %{y}<br>Maxpulse: %{z}<br>Pulse: %{customdata[0]}",
         "legendgroup": "152",
         "line": {
          "color": "#19d3f3"
         },
         "name": "152",
         "showlegend": true,
         "type": "histogram2dcontour",
         "x": [
          45
         ],
         "xaxis": "x",
         "xbingroup": "x",
         "y": [
          321
         ],
         "yaxis": "y",
         "ybingroup": "y"
        },
        {
         "alignmentgroup": "True",
         "bingroup": "x",
         "hovertemplate": "Duration: %{x}<br>Calories: %{y}<br>Maxpulse: %{z}<br>Pulse: %{customdata[0]}",
         "legendgroup": "152",
         "marker": {
          "color": "#19d3f3"
         },
         "name": "152",
         "offsetgroup": "152",
         "opacity": 0.5,
         "showlegend": false,
         "type": "histogram",
         "x": [
          45
         ],
         "xaxis": "x3",
         "yaxis": "y3"
        },
        {
         "alignmentgroup": "True",
         "bingroup": "y",
         "hovertemplate": "Duration: %{x}<br>Calories: %{y}<br>Maxpulse: %{z}<br>Pulse: %{customdata[0]}",
         "legendgroup": "152",
         "marker": {
          "color": "#19d3f3"
         },
         "name": "152",
         "offsetgroup": "152",
         "opacity": 0.5,
         "showlegend": false,
         "type": "histogram",
         "xaxis": "x2",
         "y": [
          321
         ],
         "yaxis": "y2"
        },
        {
         "autocontour": true,
         "contours": {
          "coloring": "none",
          "end": 0.9,
          "size": 0.1,
          "start": 0.1
         },
         "hovertemplate": "Duration: %{x}<br>Calories: %{y}<br>Maxpulse: %{z}<br>Pulse: %{customdata[0]}",
         "legendgroup": "160",
         "line": {
          "color": "#FF6692"
         },
         "name": "160",
         "showlegend": true,
         "type": "histogram2dcontour",
         "x": [
          210
         ],
         "xaxis": "x",
         "xbingroup": "x",
         "y": [
          1376
         ],
         "yaxis": "y",
         "ybingroup": "y"
        },
        {
         "alignmentgroup": "True",
         "bingroup": "x",
         "hovertemplate": "Duration: %{x}<br>Calories: %{y}<br>Maxpulse: %{z}<br>Pulse: %{customdata[0]}",
         "legendgroup": "160",
         "marker": {
          "color": "#FF6692"
         },
         "name": "160",
         "offsetgroup": "160",
         "opacity": 0.5,
         "showlegend": false,
         "type": "histogram",
         "x": [
          210
         ],
         "xaxis": "x3",
         "yaxis": "y3"
        },
        {
         "alignmentgroup": "True",
         "bingroup": "y",
         "hovertemplate": "Duration: %{x}<br>Calories: %{y}<br>Maxpulse: %{z}<br>Pulse: %{customdata[0]}",
         "legendgroup": "160",
         "marker": {
          "color": "#FF6692"
         },
         "name": "160",
         "offsetgroup": "160",
         "opacity": 0.5,
         "showlegend": false,
         "type": "histogram",
         "xaxis": "x2",
         "y": [
          1376
         ],
         "yaxis": "y2"
        },
        {
         "autocontour": true,
         "contours": {
          "coloring": "none",
          "end": 0.9,
          "size": 0.1,
          "start": 0.1
         },
         "hovertemplate": "Duration: %{x}<br>Calories: %{y}<br>Maxpulse: %{z}<br>Pulse: %{customdata[0]}",
         "legendgroup": "137",
         "line": {
          "color": "#B6E880"
         },
         "name": "137",
         "showlegend": true,
         "type": "histogram2dcontour",
         "x": [
          160,
          45,
          30,
          45
         ],
         "xaxis": "x",
         "xbingroup": "x",
         "y": [
          1034.4,
          null,
          193.9,
          318
         ],
         "yaxis": "y",
         "ybingroup": "y"
        },
        {
         "alignmentgroup": "True",
         "bingroup": "x",
         "hovertemplate": "Duration: %{x}<br>Calories: %{y}<br>Maxpulse: %{z}<br>Pulse: %{customdata[0]}",
         "legendgroup": "137",
         "marker": {
          "color": "#B6E880"
         },
         "name": "137",
         "offsetgroup": "137",
         "opacity": 0.5,
         "showlegend": false,
         "type": "histogram",
         "x": [
          160,
          45,
          30,
          45
         ],
         "xaxis": "x3",
         "yaxis": "y3"
        },
        {
         "alignmentgroup": "True",
         "bingroup": "y",
         "hovertemplate": "Duration: %{x}<br>Calories: %{y}<br>Maxpulse: %{z}<br>Pulse: %{customdata[0]}",
         "legendgroup": "137",
         "marker": {
          "color": "#B6E880"
         },
         "name": "137",
         "offsetgroup": "137",
         "opacity": 0.5,
         "showlegend": false,
         "type": "histogram",
         "xaxis": "x2",
         "y": [
          1034.4,
          null,
          193.9,
          318
         ],
         "yaxis": "y2"
        },
        {
         "autocontour": true,
         "contours": {
          "coloring": "none",
          "end": 1.8,
          "size": 0.2,
          "start": 0.2
         },
         "hovertemplate": "Duration: %{x}<br>Calories: %{y}<br>Maxpulse: %{z}<br>Pulse: %{customdata[0]}",
         "legendgroup": "141",
         "line": {
          "color": "#FF97FF"
         },
         "name": "141",
         "showlegend": true,
         "type": "histogram2dcontour",
         "x": [
          45,
          45,
          60
         ],
         "xaxis": "x",
         "xbingroup": "x",
         "y": [
          341,
          300,
          443
         ],
         "yaxis": "y",
         "ybingroup": "y"
        },
        {
         "alignmentgroup": "True",
         "bingroup": "x",
         "hovertemplate": "Duration: %{x}<br>Calories: %{y}<br>Maxpulse: %{z}<br>Pulse: %{customdata[0]}",
         "legendgroup": "141",
         "marker": {
          "color": "#FF97FF"
         },
         "name": "141",
         "offsetgroup": "141",
         "opacity": 0.5,
         "showlegend": false,
         "type": "histogram",
         "x": [
          45,
          45,
          60
         ],
         "xaxis": "x3",
         "yaxis": "y3"
        },
        {
         "alignmentgroup": "True",
         "bingroup": "y",
         "hovertemplate": "Duration: %{x}<br>Calories: %{y}<br>Maxpulse: %{z}<br>Pulse: %{customdata[0]}",
         "legendgroup": "141",
         "marker": {
          "color": "#FF97FF"
         },
         "name": "141",
         "offsetgroup": "141",
         "opacity": 0.5,
         "showlegend": false,
         "type": "histogram",
         "xaxis": "x2",
         "y": [
          341,
          300,
          443
         ],
         "yaxis": "y2"
        },
        {
         "autocontour": true,
         "contours": {
          "coloring": "none",
          "end": 0.9,
          "size": 0.1,
          "start": 0.1
         },
         "hovertemplate": "Duration: %{x}<br>Calories: %{y}<br>Maxpulse: %{z}<br>Pulse: %{customdata[0]}",
         "legendgroup": "143",
         "line": {
          "color": "#FECB52"
         },
         "name": "143",
         "showlegend": true,
         "type": "histogram2dcontour",
         "x": [
          300,
          45
         ],
         "xaxis": "x",
         "xbingroup": "x",
         "y": [
          1500.2,
          317.7
         ],
         "yaxis": "y",
         "ybingroup": "y"
        },
        {
         "alignmentgroup": "True",
         "bingroup": "x",
         "hovertemplate": "Duration: %{x}<br>Calories: %{y}<br>Maxpulse: %{z}<br>Pulse: %{customdata[0]}",
         "legendgroup": "143",
         "marker": {
          "color": "#FECB52"
         },
         "name": "143",
         "offsetgroup": "143",
         "opacity": 0.5,
         "showlegend": false,
         "type": "histogram",
         "x": [
          300,
          45
         ],
         "xaxis": "x3",
         "yaxis": "y3"
        },
        {
         "alignmentgroup": "True",
         "bingroup": "y",
         "hovertemplate": "Duration: %{x}<br>Calories: %{y}<br>Maxpulse: %{z}<br>Pulse: %{customdata[0]}",
         "legendgroup": "143",
         "marker": {
          "color": "#FECB52"
         },
         "name": "143",
         "offsetgroup": "143",
         "opacity": 0.5,
         "showlegend": false,
         "type": "histogram",
         "xaxis": "x2",
         "y": [
          1500.2,
          317.7
         ],
         "yaxis": "y2"
        },
        {
         "autocontour": true,
         "contours": {
          "coloring": "none",
          "end": 0.9,
          "size": 0.1,
          "start": 0.1
         },
         "hovertemplate": "Duration: %{x}<br>Calories: %{y}<br>Maxpulse: %{z}<br>Pulse: %{customdata[0]}",
         "legendgroup": "182",
         "line": {
          "color": "#636efa"
         },
         "name": "182",
         "showlegend": true,
         "type": "histogram2dcontour",
         "x": [
          30
         ],
         "xaxis": "x",
         "xbingroup": "x",
         "y": [
          319.2
         ],
         "yaxis": "y",
         "ybingroup": "y"
        },
        {
         "alignmentgroup": "True",
         "bingroup": "x",
         "hovertemplate": "Duration: %{x}<br>Calories: %{y}<br>Maxpulse: %{z}<br>Pulse: %{customdata[0]}",
         "legendgroup": "182",
         "marker": {
          "color": "#636efa"
         },
         "name": "182",
         "offsetgroup": "182",
         "opacity": 0.5,
         "showlegend": false,
         "type": "histogram",
         "x": [
          30
         ],
         "xaxis": "x3",
         "yaxis": "y3"
        },
        {
         "alignmentgroup": "True",
         "bingroup": "y",
         "hovertemplate": "Duration: %{x}<br>Calories: %{y}<br>Maxpulse: %{z}<br>Pulse: %{customdata[0]}",
         "legendgroup": "182",
         "marker": {
          "color": "#636efa"
         },
         "name": "182",
         "offsetgroup": "182",
         "opacity": 0.5,
         "showlegend": false,
         "type": "histogram",
         "xaxis": "x2",
         "y": [
          319.2
         ],
         "yaxis": "y2"
        },
        {
         "autocontour": true,
         "contours": {
          "coloring": "none",
          "end": 0.9,
          "size": 0.1,
          "start": 0.1
         },
         "hovertemplate": "Duration: %{x}<br>Calories: %{y}<br>Maxpulse: %{z}<br>Pulse: %{customdata[0]}",
         "legendgroup": "169",
         "line": {
          "color": "#EF553B"
         },
         "name": "169",
         "showlegend": true,
         "type": "histogram2dcontour",
         "x": [
          45,
          60
         ],
         "xaxis": "x",
         "xbingroup": "x",
         "y": [
          344,
          336.7
         ],
         "yaxis": "y",
         "ybingroup": "y"
        },
        {
         "alignmentgroup": "True",
         "bingroup": "x",
         "hovertemplate": "Duration: %{x}<br>Calories: %{y}<br>Maxpulse: %{z}<br>Pulse: %{customdata[0]}",
         "legendgroup": "169",
         "marker": {
          "color": "#EF553B"
         },
         "name": "169",
         "offsetgroup": "169",
         "opacity": 0.5,
         "showlegend": false,
         "type": "histogram",
         "x": [
          45,
          60
         ],
         "xaxis": "x3",
         "yaxis": "y3"
        },
        {
         "alignmentgroup": "True",
         "bingroup": "y",
         "hovertemplate": "Duration: %{x}<br>Calories: %{y}<br>Maxpulse: %{z}<br>Pulse: %{customdata[0]}",
         "legendgroup": "169",
         "marker": {
          "color": "#EF553B"
         },
         "name": "169",
         "offsetgroup": "169",
         "opacity": 0.5,
         "showlegend": false,
         "type": "histogram",
         "xaxis": "x2",
         "y": [
          344,
          336.7
         ],
         "yaxis": "y2"
        },
        {
         "autocontour": true,
         "contours": {
          "coloring": "none",
          "end": 0.9,
          "size": 0.1,
          "start": 0.1
         },
         "hovertemplate": "Duration: %{x}<br>Calories: %{y}<br>Maxpulse: %{z}<br>Pulse: %{customdata[0]}",
         "legendgroup": "170",
         "line": {
          "color": "#00cc96"
         },
         "name": "170",
         "showlegend": true,
         "type": "histogram2dcontour",
         "x": [
          30,
          60
         ],
         "xaxis": "x",
         "xbingroup": "x",
         "y": [
          300,
          470.2
         ],
         "yaxis": "y",
         "ybingroup": "y"
        },
        {
         "alignmentgroup": "True",
         "bingroup": "x",
         "hovertemplate": "Duration: %{x}<br>Calories: %{y}<br>Maxpulse: %{z}<br>Pulse: %{customdata[0]}",
         "legendgroup": "170",
         "marker": {
          "color": "#00cc96"
         },
         "name": "170",
         "offsetgroup": "170",
         "opacity": 0.5,
         "showlegend": false,
         "type": "histogram",
         "x": [
          30,
          60
         ],
         "xaxis": "x3",
         "yaxis": "y3"
        },
        {
         "alignmentgroup": "True",
         "bingroup": "y",
         "hovertemplate": "Duration: %{x}<br>Calories: %{y}<br>Maxpulse: %{z}<br>Pulse: %{customdata[0]}",
         "legendgroup": "170",
         "marker": {
          "color": "#00cc96"
         },
         "name": "170",
         "offsetgroup": "170",
         "opacity": 0.5,
         "showlegend": false,
         "type": "histogram",
         "xaxis": "x2",
         "y": [
          300,
          470.2
         ],
         "yaxis": "y2"
        },
        {
         "autocontour": true,
         "contours": {
          "coloring": "none",
          "end": 0.9,
          "size": 0.1,
          "start": 0.1
         },
         "hovertemplate": "Duration: %{x}<br>Calories: %{y}<br>Maxpulse: %{z}<br>Pulse: %{customdata[0]}",
         "legendgroup": "157",
         "line": {
          "color": "#ab63fa"
         },
         "name": "157",
         "showlegend": true,
         "type": "histogram2dcontour",
         "x": [
          120
         ],
         "xaxis": "x",
         "xbingroup": "x",
         "y": [
          1000.1
         ],
         "yaxis": "y",
         "ybingroup": "y"
        },
        {
         "alignmentgroup": "True",
         "bingroup": "x",
         "hovertemplate": "Duration: %{x}<br>Calories: %{y}<br>Maxpulse: %{z}<br>Pulse: %{customdata[0]}",
         "legendgroup": "157",
         "marker": {
          "color": "#ab63fa"
         },
         "name": "157",
         "offsetgroup": "157",
         "opacity": 0.5,
         "showlegend": false,
         "type": "histogram",
         "x": [
          120
         ],
         "xaxis": "x3",
         "yaxis": "y3"
        },
        {
         "alignmentgroup": "True",
         "bingroup": "y",
         "hovertemplate": "Duration: %{x}<br>Calories: %{y}<br>Maxpulse: %{z}<br>Pulse: %{customdata[0]}",
         "legendgroup": "157",
         "marker": {
          "color": "#ab63fa"
         },
         "name": "157",
         "offsetgroup": "157",
         "opacity": 0.5,
         "showlegend": false,
         "type": "histogram",
         "xaxis": "x2",
         "y": [
          1000.1
         ],
         "yaxis": "y2"
        },
        {
         "autocontour": true,
         "contours": {
          "coloring": "none",
          "end": 0.9,
          "size": 0.1,
          "start": 0.1
         },
         "hovertemplate": "Duration: %{x}<br>Calories: %{y}<br>Maxpulse: %{z}<br>Pulse: %{customdata[0]}",
         "legendgroup": "103",
         "line": {
          "color": "#FFA15A"
         },
         "name": "103",
         "showlegend": true,
         "type": "histogram2dcontour",
         "x": [
          45
         ],
         "xaxis": "x",
         "xbingroup": "x",
         "y": [
          242
         ],
         "yaxis": "y",
         "ybingroup": "y"
        },
        {
         "alignmentgroup": "True",
         "bingroup": "x",
         "hovertemplate": "Duration: %{x}<br>Calories: %{y}<br>Maxpulse: %{z}<br>Pulse: %{customdata[0]}",
         "legendgroup": "103",
         "marker": {
          "color": "#FFA15A"
         },
         "name": "103",
         "offsetgroup": "103",
         "opacity": 0.5,
         "showlegend": false,
         "type": "histogram",
         "x": [
          45
         ],
         "xaxis": "x3",
         "yaxis": "y3"
        },
        {
         "alignmentgroup": "True",
         "bingroup": "y",
         "hovertemplate": "Duration: %{x}<br>Calories: %{y}<br>Maxpulse: %{z}<br>Pulse: %{customdata[0]}",
         "legendgroup": "103",
         "marker": {
          "color": "#FFA15A"
         },
         "name": "103",
         "offsetgroup": "103",
         "opacity": 0.5,
         "showlegend": false,
         "type": "histogram",
         "xaxis": "x2",
         "y": [
          242
         ],
         "yaxis": "y2"
        },
        {
         "autocontour": true,
         "contours": {
          "coloring": "none",
          "end": 1.8,
          "size": 0.2,
          "start": 0.2
         },
         "hovertemplate": "Duration: %{x}<br>Calories: %{y}<br>Maxpulse: %{z}<br>Pulse: %{customdata[0]}",
         "legendgroup": "107",
         "line": {
          "color": "#19d3f3"
         },
         "name": "107",
         "showlegend": true,
         "type": "histogram2dcontour",
         "x": [
          20,
          30
         ],
         "xaxis": "x",
         "xbingroup": "x",
         "y": [
          50.3,
          105.3
         ],
         "yaxis": "y",
         "ybingroup": "y"
        },
        {
         "alignmentgroup": "True",
         "bingroup": "x",
         "hovertemplate": "Duration: %{x}<br>Calories: %{y}<br>Maxpulse: %{z}<br>Pulse: %{customdata[0]}",
         "legendgroup": "107",
         "marker": {
          "color": "#19d3f3"
         },
         "name": "107",
         "offsetgroup": "107",
         "opacity": 0.5,
         "showlegend": false,
         "type": "histogram",
         "x": [
          20,
          30
         ],
         "xaxis": "x3",
         "yaxis": "y3"
        },
        {
         "alignmentgroup": "True",
         "bingroup": "y",
         "hovertemplate": "Duration: %{x}<br>Calories: %{y}<br>Maxpulse: %{z}<br>Pulse: %{customdata[0]}",
         "legendgroup": "107",
         "marker": {
          "color": "#19d3f3"
         },
         "name": "107",
         "offsetgroup": "107",
         "opacity": 0.5,
         "showlegend": false,
         "type": "histogram",
         "xaxis": "x2",
         "y": [
          50.3,
          105.3
         ],
         "yaxis": "y2"
        },
        {
         "autocontour": true,
         "contours": {
          "coloring": "none",
          "end": 1.8,
          "size": 0.2,
          "start": 0.2
         },
         "hovertemplate": "Duration: %{x}<br>Calories: %{y}<br>Maxpulse: %{z}<br>Pulse: %{customdata[0]}",
         "legendgroup": "100",
         "line": {
          "color": "#FF6692"
         },
         "name": "100",
         "showlegend": true,
         "type": "histogram2dcontour",
         "x": [
          15,
          90,
          90
         ],
         "xaxis": "x",
         "xbingroup": "x",
         "y": [
          50.5,
          500,
          500.4
         ],
         "yaxis": "y",
         "ybingroup": "y"
        },
        {
         "alignmentgroup": "True",
         "bingroup": "x",
         "hovertemplate": "Duration: %{x}<br>Calories: %{y}<br>Maxpulse: %{z}<br>Pulse: %{customdata[0]}",
         "legendgroup": "100",
         "marker": {
          "color": "#FF6692"
         },
         "name": "100",
         "offsetgroup": "100",
         "opacity": 0.5,
         "showlegend": false,
         "type": "histogram",
         "x": [
          15,
          90,
          90
         ],
         "xaxis": "x3",
         "yaxis": "y3"
        },
        {
         "alignmentgroup": "True",
         "bingroup": "y",
         "hovertemplate": "Duration: %{x}<br>Calories: %{y}<br>Maxpulse: %{z}<br>Pulse: %{customdata[0]}",
         "legendgroup": "100",
         "marker": {
          "color": "#FF6692"
         },
         "name": "100",
         "offsetgroup": "100",
         "opacity": 0.5,
         "showlegend": false,
         "type": "histogram",
         "xaxis": "x2",
         "y": [
          50.5,
          500,
          500.4
         ],
         "yaxis": "y2"
        },
        {
         "autocontour": true,
         "contours": {
          "coloring": "none",
          "end": 0.9,
          "size": 0.1,
          "start": 0.1
         },
         "hovertemplate": "Duration: %{x}<br>Calories: %{y}<br>Maxpulse: %{z}<br>Pulse: %{customdata[0]}",
         "legendgroup": "171",
         "line": {
          "color": "#B6E880"
         },
         "name": "171",
         "showlegend": true,
         "type": "histogram2dcontour",
         "x": [
          20
         ],
         "xaxis": "x",
         "xbingroup": "x",
         "y": [
          127.4
         ],
         "yaxis": "y",
         "ybingroup": "y"
        },
        {
         "alignmentgroup": "True",
         "bingroup": "x",
         "hovertemplate": "Duration: %{x}<br>Calories: %{y}<br>Maxpulse: %{z}<br>Pulse: %{customdata[0]}",
         "legendgroup": "171",
         "marker": {
          "color": "#B6E880"
         },
         "name": "171",
         "offsetgroup": "171",
         "opacity": 0.5,
         "showlegend": false,
         "type": "histogram",
         "x": [
          20
         ],
         "xaxis": "x3",
         "yaxis": "y3"
        },
        {
         "alignmentgroup": "True",
         "bingroup": "y",
         "hovertemplate": "Duration: %{x}<br>Calories: %{y}<br>Maxpulse: %{z}<br>Pulse: %{customdata[0]}",
         "legendgroup": "171",
         "marker": {
          "color": "#B6E880"
         },
         "name": "171",
         "offsetgroup": "171",
         "opacity": 0.5,
         "showlegend": false,
         "type": "histogram",
         "xaxis": "x2",
         "y": [
          127.4
         ],
         "yaxis": "y2"
        },
        {
         "autocontour": true,
         "contours": {
          "coloring": "none",
          "end": 1.8,
          "size": 0.2,
          "start": 0.2
         },
         "hovertemplate": "Duration: %{x}<br>Calories: %{y}<br>Maxpulse: %{z}<br>Pulse: %{customdata[0]}",
         "legendgroup": "168",
         "line": {
          "color": "#FF97FF"
         },
         "name": "168",
         "showlegend": true,
         "type": "histogram2dcontour",
         "x": [
          20,
          25
         ],
         "xaxis": "x",
         "xbingroup": "x",
         "y": [
          229.4,
          244.2
         ],
         "yaxis": "y",
         "ybingroup": "y"
        },
        {
         "alignmentgroup": "True",
         "bingroup": "x",
         "hovertemplate": "Duration: %{x}<br>Calories: %{y}<br>Maxpulse: %{z}<br>Pulse: %{customdata[0]}",
         "legendgroup": "168",
         "marker": {
          "color": "#FF97FF"
         },
         "name": "168",
         "offsetgroup": "168",
         "opacity": 0.5,
         "showlegend": false,
         "type": "histogram",
         "x": [
          20,
          25
         ],
         "xaxis": "x3",
         "yaxis": "y3"
        },
        {
         "alignmentgroup": "True",
         "bingroup": "y",
         "hovertemplate": "Duration: %{x}<br>Calories: %{y}<br>Maxpulse: %{z}<br>Pulse: %{customdata[0]}",
         "legendgroup": "168",
         "marker": {
          "color": "#FF97FF"
         },
         "name": "168",
         "offsetgroup": "168",
         "opacity": 0.5,
         "showlegend": false,
         "type": "histogram",
         "xaxis": "x2",
         "y": [
          229.4,
          244.2
         ],
         "yaxis": "y2"
        },
        {
         "autocontour": true,
         "contours": {
          "coloring": "none",
          "end": 0.9,
          "size": 0.1,
          "start": 0.1
         },
         "hovertemplate": "Duration: %{x}<br>Calories: %{y}<br>Maxpulse: %{z}<br>Pulse: %{customdata[0]}",
         "legendgroup": "110",
         "line": {
          "color": "#FECB52"
         },
         "name": "110",
         "showlegend": true,
         "type": "histogram2dcontour",
         "x": [
          90
         ],
         "xaxis": "x",
         "xbingroup": "x",
         "y": [
          500
         ],
         "yaxis": "y",
         "ybingroup": "y"
        },
        {
         "alignmentgroup": "True",
         "bingroup": "x",
         "hovertemplate": "Duration: %{x}<br>Calories: %{y}<br>Maxpulse: %{z}<br>Pulse: %{customdata[0]}",
         "legendgroup": "110",
         "marker": {
          "color": "#FECB52"
         },
         "name": "110",
         "offsetgroup": "110",
         "opacity": 0.5,
         "showlegend": false,
         "type": "histogram",
         "x": [
          90
         ],
         "xaxis": "x3",
         "yaxis": "y3"
        },
        {
         "alignmentgroup": "True",
         "bingroup": "y",
         "hovertemplate": "Duration: %{x}<br>Calories: %{y}<br>Maxpulse: %{z}<br>Pulse: %{customdata[0]}",
         "legendgroup": "110",
         "marker": {
          "color": "#FECB52"
         },
         "name": "110",
         "offsetgroup": "110",
         "opacity": 0.5,
         "showlegend": false,
         "type": "histogram",
         "xaxis": "x2",
         "y": [
          500
         ],
         "yaxis": "y2"
        },
        {
         "autocontour": true,
         "contours": {
          "coloring": "none",
          "end": 0.9,
          "size": 0.1,
          "start": 0.1
         },
         "hovertemplate": "Duration: %{x}<br>Calories: %{y}<br>Maxpulse: %{z}<br>Pulse: %{customdata[0]}",
         "legendgroup": "108",
         "line": {
          "color": "#636efa"
         },
         "name": "108",
         "showlegend": true,
         "type": "histogram2dcontour",
         "x": [
          30
         ],
         "xaxis": "x",
         "xbingroup": "x",
         "y": [
          92.7
         ],
         "yaxis": "y",
         "ybingroup": "y"
        },
        {
         "alignmentgroup": "True",
         "bingroup": "x",
         "hovertemplate": "Duration: %{x}<br>Calories: %{y}<br>Maxpulse: %{z}<br>Pulse: %{customdata[0]}",
         "legendgroup": "108",
         "marker": {
          "color": "#636efa"
         },
         "name": "108",
         "offsetgroup": "108",
         "opacity": 0.5,
         "showlegend": false,
         "type": "histogram",
         "x": [
          30
         ],
         "xaxis": "x3",
         "yaxis": "y3"
        },
        {
         "alignmentgroup": "True",
         "bingroup": "y",
         "hovertemplate": "Duration: %{x}<br>Calories: %{y}<br>Maxpulse: %{z}<br>Pulse: %{customdata[0]}",
         "legendgroup": "108",
         "marker": {
          "color": "#636efa"
         },
         "name": "108",
         "offsetgroup": "108",
         "opacity": 0.5,
         "showlegend": false,
         "type": "histogram",
         "xaxis": "x2",
         "y": [
          92.7
         ],
         "yaxis": "y2"
        },
        {
         "autocontour": true,
         "contours": {
          "coloring": "none",
          "end": 0.9,
          "size": 0.1,
          "start": 0.1
         },
         "hovertemplate": "Duration: %{x}<br>Calories: %{y}<br>Maxpulse: %{z}<br>Pulse: %{customdata[0]}",
         "legendgroup": "184",
         "line": {
          "color": "#EF553B"
         },
         "name": "184",
         "showlegend": true,
         "type": "histogram2dcontour",
         "x": [
          210
         ],
         "xaxis": "x",
         "xbingroup": "x",
         "y": [
          1860.4
         ],
         "yaxis": "y",
         "ybingroup": "y"
        },
        {
         "alignmentgroup": "True",
         "bingroup": "x",
         "hovertemplate": "Duration: %{x}<br>Calories: %{y}<br>Maxpulse: %{z}<br>Pulse: %{customdata[0]}",
         "legendgroup": "184",
         "marker": {
          "color": "#EF553B"
         },
         "name": "184",
         "offsetgroup": "184",
         "opacity": 0.5,
         "showlegend": false,
         "type": "histogram",
         "x": [
          210
         ],
         "xaxis": "x3",
         "yaxis": "y3"
        },
        {
         "alignmentgroup": "True",
         "bingroup": "y",
         "hovertemplate": "Duration: %{x}<br>Calories: %{y}<br>Maxpulse: %{z}<br>Pulse: %{customdata[0]}",
         "legendgroup": "184",
         "marker": {
          "color": "#EF553B"
         },
         "name": "184",
         "offsetgroup": "184",
         "opacity": 0.5,
         "showlegend": false,
         "type": "histogram",
         "xaxis": "x2",
         "y": [
          1860.4
         ],
         "yaxis": "y2"
        },
        {
         "autocontour": true,
         "contours": {
          "coloring": "none",
          "end": 0.9,
          "size": 0.1,
          "start": 0.1
         },
         "hovertemplate": "Duration: %{x}<br>Calories: %{y}<br>Maxpulse: %{z}<br>Pulse: %{customdata[0]}",
         "legendgroup": "156",
         "line": {
          "color": "#00cc96"
         },
         "name": "156",
         "showlegend": true,
         "type": "histogram2dcontour",
         "x": [
          20
         ],
         "xaxis": "x",
         "xbingroup": "x",
         "y": [
          189
         ],
         "yaxis": "y",
         "ybingroup": "y"
        },
        {
         "alignmentgroup": "True",
         "bingroup": "x",
         "hovertemplate": "Duration: %{x}<br>Calories: %{y}<br>Maxpulse: %{z}<br>Pulse: %{customdata[0]}",
         "legendgroup": "156",
         "marker": {
          "color": "#00cc96"
         },
         "name": "156",
         "offsetgroup": "156",
         "opacity": 0.5,
         "showlegend": false,
         "type": "histogram",
         "x": [
          20
         ],
         "xaxis": "x3",
         "yaxis": "y3"
        },
        {
         "alignmentgroup": "True",
         "bingroup": "y",
         "hovertemplate": "Duration: %{x}<br>Calories: %{y}<br>Maxpulse: %{z}<br>Pulse: %{customdata[0]}",
         "legendgroup": "156",
         "marker": {
          "color": "#00cc96"
         },
         "name": "156",
         "offsetgroup": "156",
         "opacity": 0.5,
         "showlegend": false,
         "type": "histogram",
         "xaxis": "x2",
         "y": [
          189
         ],
         "yaxis": "y2"
        },
        {
         "autocontour": true,
         "contours": {
          "coloring": "none",
          "end": 0.9,
          "size": 0.1,
          "start": 0.1
         },
         "hovertemplate": "Duration: %{x}<br>Calories: %{y}<br>Maxpulse: %{z}<br>Pulse: %{customdata[0]}",
         "legendgroup": "162",
         "line": {
          "color": "#ab63fa"
         },
         "name": "162",
         "showlegend": true,
         "type": "histogram2dcontour",
         "x": [
          20
         ],
         "xaxis": "x",
         "xbingroup": "x",
         "y": [
          222.4
         ],
         "yaxis": "y",
         "ybingroup": "y"
        },
        {
         "alignmentgroup": "True",
         "bingroup": "x",
         "hovertemplate": "Duration: %{x}<br>Calories: %{y}<br>Maxpulse: %{z}<br>Pulse: %{customdata[0]}",
         "legendgroup": "162",
         "marker": {
          "color": "#ab63fa"
         },
         "name": "162",
         "offsetgroup": "162",
         "opacity": 0.5,
         "showlegend": false,
         "type": "histogram",
         "x": [
          20
         ],
         "xaxis": "x3",
         "yaxis": "y3"
        },
        {
         "alignmentgroup": "True",
         "bingroup": "y",
         "hovertemplate": "Duration: %{x}<br>Calories: %{y}<br>Maxpulse: %{z}<br>Pulse: %{customdata[0]}",
         "legendgroup": "162",
         "marker": {
          "color": "#ab63fa"
         },
         "name": "162",
         "offsetgroup": "162",
         "opacity": 0.5,
         "showlegend": false,
         "type": "histogram",
         "xaxis": "x2",
         "y": [
          222.4
         ],
         "yaxis": "y2"
        },
        {
         "autocontour": true,
         "contours": {
          "coloring": "none",
          "end": 0.9,
          "size": 0.1,
          "start": 0.1
         },
         "hovertemplate": "Duration: %{x}<br>Calories: %{y}<br>Maxpulse: %{z}<br>Pulse: %{customdata[0]}",
         "legendgroup": "149",
         "line": {
          "color": "#FFA15A"
         },
         "name": "149",
         "showlegend": true,
         "type": "histogram2dcontour",
         "x": [
          45
         ],
         "xaxis": "x",
         "xbingroup": "x",
         "y": [
          335.4
         ],
         "yaxis": "y",
         "ybingroup": "y"
        },
        {
         "alignmentgroup": "True",
         "bingroup": "x",
         "hovertemplate": "Duration: %{x}<br>Calories: %{y}<br>Maxpulse: %{z}<br>Pulse: %{customdata[0]}",
         "legendgroup": "149",
         "marker": {
          "color": "#FFA15A"
         },
         "name": "149",
         "offsetgroup": "149",
         "opacity": 0.5,
         "showlegend": false,
         "type": "histogram",
         "x": [
          45
         ],
         "xaxis": "x3",
         "yaxis": "y3"
        },
        {
         "alignmentgroup": "True",
         "bingroup": "y",
         "hovertemplate": "Duration: %{x}<br>Calories: %{y}<br>Maxpulse: %{z}<br>Pulse: %{customdata[0]}",
         "legendgroup": "149",
         "marker": {
          "color": "#FFA15A"
         },
         "name": "149",
         "offsetgroup": "149",
         "opacity": 0.5,
         "showlegend": false,
         "type": "histogram",
         "xaxis": "x2",
         "y": [
          335.4
         ],
         "yaxis": "y2"
        },
        {
         "autocontour": true,
         "contours": {
          "coloring": "none",
          "end": 2.5,
          "size": 0.5,
          "start": 0.5
         },
         "hovertemplate": "Duration: %{x}<br>Calories: %{y}<br>Maxpulse: %{z}<br>Pulse: %{customdata[0]}",
         "legendgroup": "150",
         "line": {
          "color": "#19d3f3"
         },
         "name": "150",
         "showlegend": true,
         "type": "histogram2dcontour",
         "x": [
          60,
          60,
          75,
          75
         ],
         "xaxis": "x",
         "xbingroup": "x",
         "y": [
          409.4,
          382.8,
          320.4,
          330.4
         ],
         "yaxis": "y",
         "ybingroup": "y"
        },
        {
         "alignmentgroup": "True",
         "bingroup": "x",
         "hovertemplate": "Duration: %{x}<br>Calories: %{y}<br>Maxpulse: %{z}<br>Pulse: %{customdata[0]}",
         "legendgroup": "150",
         "marker": {
          "color": "#19d3f3"
         },
         "name": "150",
         "offsetgroup": "150",
         "opacity": 0.5,
         "showlegend": false,
         "type": "histogram",
         "x": [
          60,
          60,
          75,
          75
         ],
         "xaxis": "x3",
         "yaxis": "y3"
        },
        {
         "alignmentgroup": "True",
         "bingroup": "y",
         "hovertemplate": "Duration: %{x}<br>Calories: %{y}<br>Maxpulse: %{z}<br>Pulse: %{customdata[0]}",
         "legendgroup": "150",
         "marker": {
          "color": "#19d3f3"
         },
         "name": "150",
         "offsetgroup": "150",
         "opacity": 0.5,
         "showlegend": false,
         "type": "histogram",
         "xaxis": "x2",
         "y": [
          409.4,
          382.8,
          320.4,
          330.4
         ],
         "yaxis": "y2"
        },
        {
         "autocontour": true,
         "contours": {
          "coloring": "none",
          "end": 0.9,
          "size": 0.1,
          "start": 0.1
         },
         "hovertemplate": "Duration: %{x}<br>Calories: %{y}<br>Maxpulse: %{z}<br>Pulse: %{customdata[0]}",
         "legendgroup": "167",
         "line": {
          "color": "#FF6692"
         },
         "name": "167",
         "showlegend": true,
         "type": "histogram2dcontour",
         "x": [
          30
         ],
         "xaxis": "x",
         "xbingroup": "x",
         "y": [
          275.8
         ],
         "yaxis": "y",
         "ybingroup": "y"
        },
        {
         "alignmentgroup": "True",
         "bingroup": "x",
         "hovertemplate": "Duration: %{x}<br>Calories: %{y}<br>Maxpulse: %{z}<br>Pulse: %{customdata[0]}",
         "legendgroup": "167",
         "marker": {
          "color": "#FF6692"
         },
         "name": "167",
         "offsetgroup": "167",
         "opacity": 0.5,
         "showlegend": false,
         "type": "histogram",
         "x": [
          30
         ],
         "xaxis": "x3",
         "yaxis": "y3"
        },
        {
         "alignmentgroup": "True",
         "bingroup": "y",
         "hovertemplate": "Duration: %{x}<br>Calories: %{y}<br>Maxpulse: %{z}<br>Pulse: %{customdata[0]}",
         "legendgroup": "167",
         "marker": {
          "color": "#FF6692"
         },
         "name": "167",
         "offsetgroup": "167",
         "opacity": 0.5,
         "showlegend": false,
         "type": "histogram",
         "xaxis": "x2",
         "y": [
          275.8
         ],
         "yaxis": "y2"
        }
       ],
       "layout": {
        "autosize": true,
        "barmode": "overlay",
        "coloraxis": {
         "colorbar": {
          "title": {
           "text": "Max Pulse"
          }
         }
        },
        "legend": {
         "title": {
          "text": "Maxpulse"
         },
         "tracegroupgap": 0
        },
        "margin": {
         "t": 60
        },
        "template": {
         "data": {
          "bar": [
           {
            "error_x": {
             "color": "#2a3f5f"
            },
            "error_y": {
             "color": "#2a3f5f"
            },
            "marker": {
             "line": {
              "color": "#E5ECF6",
              "width": 0.5
             },
             "pattern": {
              "fillmode": "overlay",
              "size": 10,
              "solidity": 0.2
             }
            },
            "type": "bar"
           }
          ],
          "barpolar": [
           {
            "marker": {
             "line": {
              "color": "#E5ECF6",
              "width": 0.5
             },
             "pattern": {
              "fillmode": "overlay",
              "size": 10,
              "solidity": 0.2
             }
            },
            "type": "barpolar"
           }
          ],
          "carpet": [
           {
            "aaxis": {
             "endlinecolor": "#2a3f5f",
             "gridcolor": "white",
             "linecolor": "white",
             "minorgridcolor": "white",
             "startlinecolor": "#2a3f5f"
            },
            "baxis": {
             "endlinecolor": "#2a3f5f",
             "gridcolor": "white",
             "linecolor": "white",
             "minorgridcolor": "white",
             "startlinecolor": "#2a3f5f"
            },
            "type": "carpet"
           }
          ],
          "choropleth": [
           {
            "colorbar": {
             "outlinewidth": 0,
             "ticks": ""
            },
            "type": "choropleth"
           }
          ],
          "contour": [
           {
            "colorbar": {
             "outlinewidth": 0,
             "ticks": ""
            },
            "colorscale": [
             [
              0,
              "#0d0887"
             ],
             [
              0.1111111111111111,
              "#46039f"
             ],
             [
              0.2222222222222222,
              "#7201a8"
             ],
             [
              0.3333333333333333,
              "#9c179e"
             ],
             [
              0.4444444444444444,
              "#bd3786"
             ],
             [
              0.5555555555555556,
              "#d8576b"
             ],
             [
              0.6666666666666666,
              "#ed7953"
             ],
             [
              0.7777777777777778,
              "#fb9f3a"
             ],
             [
              0.8888888888888888,
              "#fdca26"
             ],
             [
              1,
              "#f0f921"
             ]
            ],
            "type": "contour"
           }
          ],
          "contourcarpet": [
           {
            "colorbar": {
             "outlinewidth": 0,
             "ticks": ""
            },
            "type": "contourcarpet"
           }
          ],
          "heatmap": [
           {
            "colorbar": {
             "outlinewidth": 0,
             "ticks": ""
            },
            "colorscale": [
             [
              0,
              "#0d0887"
             ],
             [
              0.1111111111111111,
              "#46039f"
             ],
             [
              0.2222222222222222,
              "#7201a8"
             ],
             [
              0.3333333333333333,
              "#9c179e"
             ],
             [
              0.4444444444444444,
              "#bd3786"
             ],
             [
              0.5555555555555556,
              "#d8576b"
             ],
             [
              0.6666666666666666,
              "#ed7953"
             ],
             [
              0.7777777777777778,
              "#fb9f3a"
             ],
             [
              0.8888888888888888,
              "#fdca26"
             ],
             [
              1,
              "#f0f921"
             ]
            ],
            "type": "heatmap"
           }
          ],
          "heatmapgl": [
           {
            "colorbar": {
             "outlinewidth": 0,
             "ticks": ""
            },
            "colorscale": [
             [
              0,
              "#0d0887"
             ],
             [
              0.1111111111111111,
              "#46039f"
             ],
             [
              0.2222222222222222,
              "#7201a8"
             ],
             [
              0.3333333333333333,
              "#9c179e"
             ],
             [
              0.4444444444444444,
              "#bd3786"
             ],
             [
              0.5555555555555556,
              "#d8576b"
             ],
             [
              0.6666666666666666,
              "#ed7953"
             ],
             [
              0.7777777777777778,
              "#fb9f3a"
             ],
             [
              0.8888888888888888,
              "#fdca26"
             ],
             [
              1,
              "#f0f921"
             ]
            ],
            "type": "heatmapgl"
           }
          ],
          "histogram": [
           {
            "marker": {
             "pattern": {
              "fillmode": "overlay",
              "size": 10,
              "solidity": 0.2
             }
            },
            "type": "histogram"
           }
          ],
          "histogram2d": [
           {
            "colorbar": {
             "outlinewidth": 0,
             "ticks": ""
            },
            "colorscale": [
             [
              0,
              "#0d0887"
             ],
             [
              0.1111111111111111,
              "#46039f"
             ],
             [
              0.2222222222222222,
              "#7201a8"
             ],
             [
              0.3333333333333333,
              "#9c179e"
             ],
             [
              0.4444444444444444,
              "#bd3786"
             ],
             [
              0.5555555555555556,
              "#d8576b"
             ],
             [
              0.6666666666666666,
              "#ed7953"
             ],
             [
              0.7777777777777778,
              "#fb9f3a"
             ],
             [
              0.8888888888888888,
              "#fdca26"
             ],
             [
              1,
              "#f0f921"
             ]
            ],
            "type": "histogram2d"
           }
          ],
          "histogram2dcontour": [
           {
            "colorbar": {
             "outlinewidth": 0,
             "ticks": ""
            },
            "colorscale": [
             [
              0,
              "#0d0887"
             ],
             [
              0.1111111111111111,
              "#46039f"
             ],
             [
              0.2222222222222222,
              "#7201a8"
             ],
             [
              0.3333333333333333,
              "#9c179e"
             ],
             [
              0.4444444444444444,
              "#bd3786"
             ],
             [
              0.5555555555555556,
              "#d8576b"
             ],
             [
              0.6666666666666666,
              "#ed7953"
             ],
             [
              0.7777777777777778,
              "#fb9f3a"
             ],
             [
              0.8888888888888888,
              "#fdca26"
             ],
             [
              1,
              "#f0f921"
             ]
            ],
            "type": "histogram2dcontour"
           }
          ],
          "mesh3d": [
           {
            "colorbar": {
             "outlinewidth": 0,
             "ticks": ""
            },
            "type": "mesh3d"
           }
          ],
          "parcoords": [
           {
            "line": {
             "colorbar": {
              "outlinewidth": 0,
              "ticks": ""
             }
            },
            "type": "parcoords"
           }
          ],
          "pie": [
           {
            "automargin": true,
            "type": "pie"
           }
          ],
          "scatter": [
           {
            "fillpattern": {
             "fillmode": "overlay",
             "size": 10,
             "solidity": 0.2
            },
            "type": "scatter"
           }
          ],
          "scatter3d": [
           {
            "line": {
             "colorbar": {
              "outlinewidth": 0,
              "ticks": ""
             }
            },
            "marker": {
             "colorbar": {
              "outlinewidth": 0,
              "ticks": ""
             }
            },
            "type": "scatter3d"
           }
          ],
          "scattercarpet": [
           {
            "marker": {
             "colorbar": {
              "outlinewidth": 0,
              "ticks": ""
             }
            },
            "type": "scattercarpet"
           }
          ],
          "scattergeo": [
           {
            "marker": {
             "colorbar": {
              "outlinewidth": 0,
              "ticks": ""
             }
            },
            "type": "scattergeo"
           }
          ],
          "scattergl": [
           {
            "marker": {
             "colorbar": {
              "outlinewidth": 0,
              "ticks": ""
             }
            },
            "type": "scattergl"
           }
          ],
          "scattermapbox": [
           {
            "marker": {
             "colorbar": {
              "outlinewidth": 0,
              "ticks": ""
             }
            },
            "type": "scattermapbox"
           }
          ],
          "scatterpolar": [
           {
            "marker": {
             "colorbar": {
              "outlinewidth": 0,
              "ticks": ""
             }
            },
            "type": "scatterpolar"
           }
          ],
          "scatterpolargl": [
           {
            "marker": {
             "colorbar": {
              "outlinewidth": 0,
              "ticks": ""
             }
            },
            "type": "scatterpolargl"
           }
          ],
          "scatterternary": [
           {
            "marker": {
             "colorbar": {
              "outlinewidth": 0,
              "ticks": ""
             }
            },
            "type": "scatterternary"
           }
          ],
          "surface": [
           {
            "colorbar": {
             "outlinewidth": 0,
             "ticks": ""
            },
            "colorscale": [
             [
              0,
              "#0d0887"
             ],
             [
              0.1111111111111111,
              "#46039f"
             ],
             [
              0.2222222222222222,
              "#7201a8"
             ],
             [
              0.3333333333333333,
              "#9c179e"
             ],
             [
              0.4444444444444444,
              "#bd3786"
             ],
             [
              0.5555555555555556,
              "#d8576b"
             ],
             [
              0.6666666666666666,
              "#ed7953"
             ],
             [
              0.7777777777777778,
              "#fb9f3a"
             ],
             [
              0.8888888888888888,
              "#fdca26"
             ],
             [
              1,
              "#f0f921"
             ]
            ],
            "type": "surface"
           }
          ],
          "table": [
           {
            "cells": {
             "fill": {
              "color": "#EBF0F8"
             },
             "line": {
              "color": "white"
             }
            },
            "header": {
             "fill": {
              "color": "#C8D4E3"
             },
             "line": {
              "color": "white"
             }
            },
            "type": "table"
           }
          ]
         },
         "layout": {
          "annotationdefaults": {
           "arrowcolor": "#2a3f5f",
           "arrowhead": 0,
           "arrowwidth": 1
          },
          "autotypenumbers": "strict",
          "coloraxis": {
           "colorbar": {
            "outlinewidth": 0,
            "ticks": ""
           }
          },
          "colorscale": {
           "diverging": [
            [
             0,
             "#8e0152"
            ],
            [
             0.1,
             "#c51b7d"
            ],
            [
             0.2,
             "#de77ae"
            ],
            [
             0.3,
             "#f1b6da"
            ],
            [
             0.4,
             "#fde0ef"
            ],
            [
             0.5,
             "#f7f7f7"
            ],
            [
             0.6,
             "#e6f5d0"
            ],
            [
             0.7,
             "#b8e186"
            ],
            [
             0.8,
             "#7fbc41"
            ],
            [
             0.9,
             "#4d9221"
            ],
            [
             1,
             "#276419"
            ]
           ],
           "sequential": [
            [
             0,
             "#0d0887"
            ],
            [
             0.1111111111111111,
             "#46039f"
            ],
            [
             0.2222222222222222,
             "#7201a8"
            ],
            [
             0.3333333333333333,
             "#9c179e"
            ],
            [
             0.4444444444444444,
             "#bd3786"
            ],
            [
             0.5555555555555556,
             "#d8576b"
            ],
            [
             0.6666666666666666,
             "#ed7953"
            ],
            [
             0.7777777777777778,
             "#fb9f3a"
            ],
            [
             0.8888888888888888,
             "#fdca26"
            ],
            [
             1,
             "#f0f921"
            ]
           ],
           "sequentialminus": [
            [
             0,
             "#0d0887"
            ],
            [
             0.1111111111111111,
             "#46039f"
            ],
            [
             0.2222222222222222,
             "#7201a8"
            ],
            [
             0.3333333333333333,
             "#9c179e"
            ],
            [
             0.4444444444444444,
             "#bd3786"
            ],
            [
             0.5555555555555556,
             "#d8576b"
            ],
            [
             0.6666666666666666,
             "#ed7953"
            ],
            [
             0.7777777777777778,
             "#fb9f3a"
            ],
            [
             0.8888888888888888,
             "#fdca26"
            ],
            [
             1,
             "#f0f921"
            ]
           ]
          },
          "colorway": [
           "#636efa",
           "#EF553B",
           "#00cc96",
           "#ab63fa",
           "#FFA15A",
           "#19d3f3",
           "#FF6692",
           "#B6E880",
           "#FF97FF",
           "#FECB52"
          ],
          "font": {
           "color": "#2a3f5f"
          },
          "geo": {
           "bgcolor": "white",
           "lakecolor": "white",
           "landcolor": "#E5ECF6",
           "showlakes": true,
           "showland": true,
           "subunitcolor": "white"
          },
          "hoverlabel": {
           "align": "left"
          },
          "hovermode": "closest",
          "mapbox": {
           "style": "light"
          },
          "paper_bgcolor": "white",
          "plot_bgcolor": "#E5ECF6",
          "polar": {
           "angularaxis": {
            "gridcolor": "white",
            "linecolor": "white",
            "ticks": ""
           },
           "bgcolor": "#E5ECF6",
           "radialaxis": {
            "gridcolor": "white",
            "linecolor": "white",
            "ticks": ""
           }
          },
          "scene": {
           "xaxis": {
            "backgroundcolor": "#E5ECF6",
            "gridcolor": "white",
            "gridwidth": 2,
            "linecolor": "white",
            "showbackground": true,
            "ticks": "",
            "zerolinecolor": "white"
           },
           "yaxis": {
            "backgroundcolor": "#E5ECF6",
            "gridcolor": "white",
            "gridwidth": 2,
            "linecolor": "white",
            "showbackground": true,
            "ticks": "",
            "zerolinecolor": "white"
           },
           "zaxis": {
            "backgroundcolor": "#E5ECF6",
            "gridcolor": "white",
            "gridwidth": 2,
            "linecolor": "white",
            "showbackground": true,
            "ticks": "",
            "zerolinecolor": "white"
           }
          },
          "shapedefaults": {
           "line": {
            "color": "#2a3f5f"
           }
          },
          "ternary": {
           "aaxis": {
            "gridcolor": "white",
            "linecolor": "white",
            "ticks": ""
           },
           "baxis": {
            "gridcolor": "white",
            "linecolor": "white",
            "ticks": ""
           },
           "bgcolor": "#E5ECF6",
           "caxis": {
            "gridcolor": "white",
            "linecolor": "white",
            "ticks": ""
           }
          },
          "title": {
           "x": 0.05
          },
          "xaxis": {
           "automargin": true,
           "gridcolor": "white",
           "linecolor": "white",
           "ticks": "",
           "title": {
            "standoff": 15
           },
           "zerolinecolor": "white",
           "zerolinewidth": 2
          },
          "yaxis": {
           "automargin": true,
           "gridcolor": "white",
           "linecolor": "white",
           "ticks": "",
           "title": {
            "standoff": 15
           },
           "zerolinecolor": "white",
           "zerolinewidth": 2
          }
         }
        },
        "title": {
         "text": "Density Contour Chart of Workout Data"
        },
        "xaxis": {
         "anchor": "y",
         "autorange": true,
         "domain": [
          0,
          0.7363
         ],
         "range": [
          -10.5,
          329.5
         ],
         "title": {
          "text": "Duration (minutes)"
         },
         "type": "linear"
        },
        "xaxis2": {
         "anchor": "y2",
         "autorange": true,
         "domain": [
          0.7413,
          1
         ],
         "matches": "x2",
         "range": [
          0,
          12.631578947368421
         ],
         "showgrid": true,
         "showline": false,
         "showticklabels": false,
         "ticks": ""
        },
        "xaxis3": {
         "anchor": "y3",
         "autorange": true,
         "domain": [
          0,
          0.7363
         ],
         "matches": "x",
         "range": [
          -10.5,
          329.5
         ],
         "showgrid": true,
         "showticklabels": false,
         "type": "linear"
        },
        "xaxis4": {
         "anchor": "y4",
         "domain": [
          0.7413,
          1
         ],
         "matches": "x2",
         "showgrid": true,
         "showline": false,
         "showticklabels": false,
         "ticks": ""
        },
        "yaxis": {
         "anchor": "x",
         "autorange": true,
         "domain": [
          0,
          0.7326
         ],
         "range": [
          -100,
          2100
         ],
         "title": {
          "text": "Calories Burned"
         },
         "type": "linear"
        },
        "yaxis2": {
         "anchor": "x2",
         "autorange": true,
         "domain": [
          0,
          0.7326
         ],
         "matches": "y",
         "range": [
          -100,
          2100
         ],
         "showgrid": true,
         "showticklabels": false,
         "type": "linear"
        },
        "yaxis3": {
         "anchor": "x3",
         "autorange": true,
         "domain": [
          0.7426,
          1
         ],
         "matches": "y3",
         "range": [
          0,
          7.368421052631579
         ],
         "showgrid": true,
         "showline": false,
         "showticklabels": false,
         "ticks": ""
        },
        "yaxis4": {
         "anchor": "x4",
         "domain": [
          0.7426,
          1
         ],
         "matches": "y3",
         "showgrid": true,
         "showline": false,
         "showticklabels": false,
         "ticks": ""
        }
       }
      },
      "image/png": "[encoded data removed]",
      "text/html": [
       "<div>                            <div id=\"0f6ba3be-8746-4cf2-81b8-09cab7d8234b\" class=\"plotly-graph-div\" style=\"height:525px; width:100%;\"></div>            <script type=\"text/javascript\">                require([\"plotly\"], function(Plotly) {                    window.PLOTLYENV=window.PLOTLYENV || {};                                    if (document.getElementById(\"0f6ba3be-8746-4cf2-81b8-09cab7d8234b\")) {                    Plotly.newPlot(                        \"0f6ba3be-8746-4cf2-81b8-09cab7d8234b\",                        [{\"contours\":{\"coloring\":\"none\"},\"hovertemplate\":\"Duration: %{x}<br>Calories: %{y}<br>Maxpulse: %{z}<br>Pulse: %{customdata[0]}\",\"legendgroup\":\"130\",\"line\":{\"color\":\"#636efa\"},\"name\":\"130\",\"showlegend\":true,\"x\":[60,60,20,180,150,120,120,45,45],\"xaxis\":\"x\",\"xbingroup\":\"x\",\"y\":[409.1,263.0,131.4,800.4,816.0,500.4,500.0,260.4,270.0],\"yaxis\":\"y\",\"ybingroup\":\"y\",\"type\":\"histogram2dcontour\"},{\"alignmentgroup\":\"True\",\"bingroup\":\"x\",\"hovertemplate\":\"Duration: %{x}<br>Calories: %{y}<br>Maxpulse: %{z}<br>Pulse: %{customdata[0]}\",\"legendgroup\":\"130\",\"marker\":{\"color\":\"#636efa\"},\"name\":\"130\",\"offsetgroup\":\"130\",\"opacity\":0.5,\"showlegend\":false,\"x\":[60,60,20,180,150,120,120,45,45],\"xaxis\":\"x3\",\"yaxis\":\"y3\",\"type\":\"histogram\"},{\"alignmentgroup\":\"True\",\"bingroup\":\"y\",\"hovertemplate\":\"Duration: %{x}<br>Calories: %{y}<br>Maxpulse: %{z}<br>Pulse: %{customdata[0]}\",\"legendgroup\":\"130\",\"marker\":{\"color\":\"#636efa\"},\"name\":\"130\",\"offsetgroup\":\"130\",\"opacity\":0.5,\"showlegend\":false,\"xaxis\":\"x2\",\"y\":[409.1,263.0,131.4,800.4,816.0,500.4,500.0,260.4,270.0],\"yaxis\":\"y2\",\"type\":\"histogram\"},{\"contours\":{\"coloring\":\"none\"},\"hovertemplate\":\"Duration: %{x}<br>Calories: %{y}<br>Maxpulse: %{z}<br>Pulse: %{customdata[0]}\",\"legendgroup\":\"145\",\"line\":{\"color\":\"#EF553B\"},\"name\":\"145\",\"showlegend\":true,\"x\":[60,60,60],\"xaxis\":\"x\",\"xbingroup\":\"x\",\"y\":[479.0,300.0,310.2],\"yaxis\":\"y\",\"ybingroup\":\"y\",\"type\":\"histogram2dcontour\"},{\"alignmentgroup\":\"True\",\"bingroup\":\"x\",\"hovertemplate\":\"Duration: %{x}<br>Calories: %{y}<br>Maxpulse: %{z}<br>Pulse: %{customdata[0]}\",\"legendgroup\":\"145\",\"marker\":{\"color\":\"#EF553B\"},\"name\":\"145\",\"offsetgroup\":\"145\",\"opacity\":0.5,\"showlegend\":false,\"x\":[60,60,60],\"xaxis\":\"x3\",\"yaxis\":\"y3\",\"type\":\"histogram\"},{\"alignmentgroup\":\"True\",\"bingroup\":\"y\",\"hovertemplate\":\"Duration: %{x}<br>Calories: %{y}<br>Maxpulse: %{z}<br>Pulse: %{customdata[0]}\",\"legendgroup\":\"145\",\"marker\":{\"color\":\"#EF553B\"},\"name\":\"145\",\"offsetgroup\":\"145\",\"opacity\":0.5,\"showlegend\":false,\"xaxis\":\"x2\",\"y\":[479.0,300.0,310.2],\"yaxis\":\"y2\",\"type\":\"histogram\"},{\"contours\":{\"coloring\":\"none\"},\"hovertemplate\":\"Duration: %{x}<br>Calories: %{y}<br>Maxpulse: %{z}<br>Pulse: %{customdata[0]}\",\"legendgroup\":\"135\",\"line\":{\"color\":\"#00cc96\"},\"name\":\"135\",\"showlegend\":true,\"x\":[60,160,150,60],\"xaxis\":\"x\",\"xbingroup\":\"x\",\"y\":[340.0,853.0,873.4,390.0],\"yaxis\":\"y\",\"ybingroup\":\"y\",\"type\":\"histogram2dcontour\"},{\"alignmentgroup\":\"True\",\"bingroup\":\"x\",\"hovertemplate\":\"Duration: %{x}<br>Calories: %{y}<br>Maxpulse: %{z}<br>Pulse: %{customdata[0]}\",\"legendgroup\":\"135\",\"marker\":{\"color\":\"#00cc96\"},\"name\":\"135\",\"offsetgroup\":\"135\",\"opacity\":0.5,\"showlegend\":false,\"x\":[60,160,150,60],\"xaxis\":\"x3\",\"yaxis\":\"y3\",\"type\":\"histogram\"},{\"alignmentgroup\":\"True\",\"bingroup\":\"y\",\"hovertemplate\":\"Duration: %{x}<br>Calories: %{y}<br>Maxpulse: %{z}<br>Pulse: %{customdata[0]}\",\"legendgroup\":\"135\",\"marker\":{\"color\":\"#00cc96\"},\"name\":\"135\",\"offsetgroup\":\"135\",\"opacity\":0.5,\"showlegend\":false,\"xaxis\":\"x2\",\"y\":[340.0,853.0,873.4,390.0],\"yaxis\":\"y2\",\"type\":\"histogram\"},{\"contours\":{\"coloring\":\"none\"},\"hovertemplate\":\"Duration: %{x}<br>Calories: %{y}<br>Maxpulse: %{z}<br>Pulse: %{customdata[0]}\",\"legendgroup\":\"175\",\"line\":{\"color\":\"#ab63fa\"},\"name\":\"175\",\"showlegend\":true,\"x\":[45,30],\"xaxis\":\"x\",\"xbingroup\":\"x\",\"y\":[282.4,238.0],\"yaxis\":\"y\",\"ybingroup\":\"y\",\"type\":\"histogram2dcontour\"},{\"alignmentgroup\":\"True\",\"bingroup\":\"x\",\"hovertemplate\":\"Duration: %{x}<br>Calories: %{y}<br>Maxpulse: %{z}<br>Pulse: %{customdata[0]}\",\"legendgroup\":\"175\",\"marker\":{\"color\":\"#ab63fa\"},\"name\":\"175\",\"offsetgroup\":\"175\",\"opacity\":0.5,\"showlegend\":false,\"x\":[45,30],\"xaxis\":\"x3\",\"yaxis\":\"y3\",\"type\":\"histogram\"},{\"alignmentgroup\":\"True\",\"bingroup\":\"y\",\"hovertemplate\":\"Duration: %{x}<br>Calories: %{y}<br>Maxpulse: %{z}<br>Pulse: %{customdata[0]}\",\"legendgroup\":\"175\",\"marker\":{\"color\":\"#ab63fa\"},\"name\":\"175\",\"offsetgroup\":\"175\",\"opacity\":0.5,\"showlegend\":false,\"xaxis\":\"x2\",\"y\":[282.4,238.0],\"yaxis\":\"y2\",\"type\":\"histogram\"},{\"contours\":{\"coloring\":\"none\"},\"hovertemplate\":\"Duration: %{x}<br>Calories: %{y}<br>Maxpulse: %{z}<br>Pulse: %{customdata[0]}\",\"legendgroup\":\"148\",\"line\":{\"color\":\"#FFA15A\"},\"name\":\"148\",\"showlegend\":true,\"x\":[45],\"xaxis\":\"x\",\"xbingroup\":\"x\",\"y\":[406.0],\"yaxis\":\"y\",\"ybingroup\":\"y\",\"type\":\"histogram2dcontour\"},{\"alignmentgroup\":\"True\",\"bingroup\":\"x\",\"hovertemplate\":\"Duration: %{x}<br>Calories: %{y}<br>Maxpulse: %{z}<br>Pulse: %{customdata[0]}\",\"legendgroup\":\"148\",\"marker\":{\"color\":\"#FFA15A\"},\"name\":\"148\",\"offsetgroup\":\"148\",\"opacity\":0.5,\"showlegend\":false,\"x\":[45],\"xaxis\":\"x3\",\"yaxis\":\"y3\",\"type\":\"histogram\"},{\"alignmentgroup\":\"True\",\"bingroup\":\"y\",\"hovertemplate\":\"Duration: %{x}<br>Calories: %{y}<br>Maxpulse: %{z}<br>Pulse: %{customdata[0]}\",\"legendgroup\":\"148\",\"marker\":{\"color\":\"#FFA15A\"},\"name\":\"148\",\"offsetgroup\":\"148\",\"opacity\":0.5,\"showlegend\":false,\"xaxis\":\"x2\",\"y\":[406.0],\"yaxis\":\"y2\",\"type\":\"histogram\"},{\"contours\":{\"coloring\":\"none\"},\"hovertemplate\":\"Duration: %{x}<br>Calories: %{y}<br>Maxpulse: %{z}<br>Pulse: %{customdata[0]}\",\"legendgroup\":\"127\",\"line\":{\"color\":\"#19d3f3\"},\"name\":\"127\",\"showlegend\":true,\"x\":[60,60,90,150,180,60,60,60,30],\"xaxis\":\"x\",\"xbingroup\":\"x\",\"y\":[300.0,300.0,700.0,953.2,600.1,344.9,382.0,null,185.0],\"yaxis\":\"y\",\"ybingroup\":\"y\",\"type\":\"histogram2dcontour\"},{\"alignmentgroup\":\"True\",\"bingroup\":\"x\",\"hovertemplate\":\"Duration: %{x}<br>Calories: %{y}<br>Maxpulse: %{z}<br>Pulse: %{customdata[0]}\",\"legendgroup\":\"127\",\"marker\":{\"color\":\"#19d3f3\"},\"name\":\"127\",\"offsetgroup\":\"127\",\"opacity\":0.5,\"showlegend\":false,\"x\":[60,60,90,150,180,60,60,60,30],\"xaxis\":\"x3\",\"yaxis\":\"y3\",\"type\":\"histogram\"},{\"alignmentgroup\":\"True\",\"bingroup\":\"y\",\"hovertemplate\":\"Duration: %{x}<br>Calories: %{y}<br>Maxpulse: %{z}<br>Pulse: %{customdata[0]}\",\"legendgroup\":\"127\",\"marker\":{\"color\":\"#19d3f3\"},\"name\":\"127\",\"offsetgroup\":\"127\",\"opacity\":0.5,\"showlegend\":false,\"xaxis\":\"x2\",\"y\":[300.0,300.0,700.0,953.2,600.1,344.9,382.0,null,185.0],\"yaxis\":\"y2\",\"type\":\"histogram\"},{\"contours\":{\"coloring\":\"none\"},\"hovertemplate\":\"Duration: %{x}<br>Calories: %{y}<br>Maxpulse: %{z}<br>Pulse: %{customdata[0]}\",\"legendgroup\":\"136\",\"line\":{\"color\":\"#FF6692\"},\"name\":\"136\",\"showlegend\":true,\"x\":[60,60,45,60,20,45,60,60],\"xaxis\":\"x\",\"xbingroup\":\"x\",\"y\":[374.0,361.0,300.0,380.2,110.4,234.0,339.0,400.0],\"yaxis\":\"y\",\"ybingroup\":\"y\",\"type\":\"histogram2dcontour\"},{\"alignmentgroup\":\"True\",\"bingroup\":\"x\",\"hovertemplate\":\"Duration: %{x}<br>Calories: %{y}<br>Maxpulse: %{z}<br>Pulse: %{customdata[0]}\",\"legendgroup\":\"136\",\"marker\":{\"color\":\"#FF6692\"},\"name\":\"136\",\"offsetgroup\":\"136\",\"opacity\":0.5,\"showlegend\":false,\"x\":[60,60,45,60,20,45,60,60],\"xaxis\":\"x3\",\"yaxis\":\"y3\",\"type\":\"histogram\"},{\"alignmentgroup\":\"True\",\"bingroup\":\"y\",\"hovertemplate\":\"Duration: %{x}<br>Calories: %{y}<br>Maxpulse: %{z}<br>Pulse: %{customdata[0]}\",\"legendgroup\":\"136\",\"marker\":{\"color\":\"#FF6692\"},\"name\":\"136\",\"offsetgroup\":\"136\",\"opacity\":0.5,\"showlegend\":false,\"xaxis\":\"x2\",\"y\":[374.0,361.0,300.0,380.2,110.4,234.0,339.0,400.0],\"yaxis\":\"y2\",\"type\":\"histogram\"},{\"contours\":{\"coloring\":\"none\"},\"hovertemplate\":\"Duration: %{x}<br>Calories: %{y}<br>Maxpulse: %{z}<br>Pulse: %{customdata[0]}\",\"legendgroup\":\"134\",\"line\":{\"color\":\"#B6E880\"},\"name\":\"134\",\"showlegend\":true,\"x\":[45,45,60,60],\"xaxis\":\"x\",\"xbingroup\":\"x\",\"y\":[253.3,251.0,342.5,343.0],\"yaxis\":\"y\",\"ybingroup\":\"y\",\"type\":\"histogram2dcontour\"},{\"alignmentgroup\":\"True\",\"bingroup\":\"x\",\"hovertemplate\":\"Duration: %{x}<br>Calories: %{y}<br>Maxpulse: %{z}<br>Pulse: %{customdata[0]}\",\"legendgroup\":\"134\",\"marker\":{\"color\":\"#B6E880\"},\"name\":\"134\",\"offsetgroup\":\"134\",\"opacity\":0.5,\"showlegend\":false,\"x\":[45,45,60,60],\"xaxis\":\"x3\",\"yaxis\":\"y3\",\"type\":\"histogram\"},{\"alignmentgroup\":\"True\",\"bingroup\":\"y\",\"hovertemplate\":\"Duration: %{x}<br>Calories: %{y}<br>Maxpulse: %{z}<br>Pulse: %{customdata[0]}\",\"legendgroup\":\"134\",\"marker\":{\"color\":\"#B6E880\"},\"name\":\"134\",\"offsetgroup\":\"134\",\"opacity\":0.5,\"showlegend\":false,\"xaxis\":\"x2\",\"y\":[253.3,251.0,342.5,343.0],\"yaxis\":\"y2\",\"type\":\"histogram\"},{\"contours\":{\"coloring\":\"none\"},\"hovertemplate\":\"Duration: %{x}<br>Calories: %{y}<br>Maxpulse: %{z}<br>Pulse: %{customdata[0]}\",\"legendgroup\":\"133\",\"line\":{\"color\":\"#FF97FF\"},\"name\":\"133\",\"showlegend\":true,\"x\":[30,60],\"xaxis\":\"x\",\"xbingroup\":\"x\",\"y\":[195.1,335.0],\"yaxis\":\"y\",\"ybingroup\":\"y\",\"type\":\"histogram2dcontour\"},{\"alignmentgroup\":\"True\",\"bingroup\":\"x\",\"hovertemplate\":\"Duration: %{x}<br>Calories: %{y}<br>Maxpulse: %{z}<br>Pulse: %{customdata[0]}\",\"legendgroup\":\"133\",\"marker\":{\"color\":\"#FF97FF\"},\"name\":\"133\",\"offsetgroup\":\"133\",\"opacity\":0.5,\"showlegend\":false,\"x\":[30,60],\"xaxis\":\"x3\",\"yaxis\":\"y3\",\"type\":\"histogram\"},{\"alignmentgroup\":\"True\",\"bingroup\":\"y\",\"hovertemplate\":\"Duration: %{x}<br>Calories: %{y}<br>Maxpulse: %{z}<br>Pulse: %{customdata[0]}\",\"legendgroup\":\"133\",\"marker\":{\"color\":\"#FF97FF\"},\"name\":\"133\",\"offsetgroup\":\"133\",\"opacity\":0.5,\"showlegend\":false,\"xaxis\":\"x2\",\"y\":[195.1,335.0],\"yaxis\":\"y2\",\"type\":\"histogram\"},{\"contours\":{\"coloring\":\"none\"},\"hovertemplate\":\"Duration: %{x}<br>Calories: %{y}<br>Maxpulse: %{z}<br>Pulse: %{customdata[0]}\",\"legendgroup\":\"124\",\"line\":{\"color\":\"#FECB52\"},\"name\":\"124\",\"showlegend\":true,\"x\":[60,60,90,60,45,60,60],\"xaxis\":\"x\",\"xbingroup\":\"x\",\"y\":[269.0,299.0,604.1,325.2,275.0,332.7,275.3],\"yaxis\":\"y\",\"ybingroup\":\"y\",\"type\":\"histogram2dcontour\"},{\"alignmentgroup\":\"True\",\"bingroup\":\"x\",\"hovertemplate\":\"Duration: %{x}<br>Calories: %{y}<br>Maxpulse: %{z}<br>Pulse: %{customdata[0]}\",\"legendgroup\":\"124\",\"marker\":{\"color\":\"#FECB52\"},\"name\":\"124\",\"offsetgroup\":\"124\",\"opacity\":0.5,\"showlegend\":false,\"x\":[60,60,90,60,45,60,60],\"xaxis\":\"x3\",\"yaxis\":\"y3\",\"type\":\"histogram\"},{\"alignmentgroup\":\"True\",\"bingroup\":\"y\",\"hovertemplate\":\"Duration: %{x}<br>Calories: %{y}<br>Maxpulse: %{z}<br>Pulse: %{customdata[0]}\",\"legendgroup\":\"124\",\"marker\":{\"color\":\"#FECB52\"},\"name\":\"124\",\"offsetgroup\":\"124\",\"opacity\":0.5,\"showlegend\":false,\"xaxis\":\"x2\",\"y\":[269.0,299.0,604.1,325.2,275.0,332.7,275.3],\"yaxis\":\"y2\",\"type\":\"histogram\"},{\"contours\":{\"coloring\":\"none\"},\"hovertemplate\":\"Duration: %{x}<br>Calories: %{y}<br>Maxpulse: %{z}<br>Pulse: %{customdata[0]}\",\"legendgroup\":\"147\",\"line\":{\"color\":\"#636efa\"},\"name\":\"147\",\"showlegend\":true,\"x\":[60],\"xaxis\":\"x\",\"xbingroup\":\"x\",\"y\":[329.3],\"yaxis\":\"y\",\"ybingroup\":\"y\",\"type\":\"histogram2dcontour\"},{\"alignmentgroup\":\"True\",\"bingroup\":\"x\",\"hovertemplate\":\"Duration: %{x}<br>Calories: %{y}<br>Maxpulse: %{z}<br>Pulse: %{customdata[0]}\",\"legendgroup\":\"147\",\"marker\":{\"color\":\"#636efa\"},\"name\":\"147\",\"offsetgroup\":\"147\",\"opacity\":0.5,\"showlegend\":false,\"x\":[60],\"xaxis\":\"x3\",\"yaxis\":\"y3\",\"type\":\"histogram\"},{\"alignmentgroup\":\"True\",\"bingroup\":\"y\",\"hovertemplate\":\"Duration: %{x}<br>Calories: %{y}<br>Maxpulse: %{z}<br>Pulse: %{customdata[0]}\",\"legendgroup\":\"147\",\"marker\":{\"color\":\"#636efa\"},\"name\":\"147\",\"offsetgroup\":\"147\",\"opacity\":0.5,\"showlegend\":false,\"xaxis\":\"x2\",\"y\":[329.3],\"yaxis\":\"y2\",\"type\":\"histogram\"},{\"contours\":{\"coloring\":\"none\"},\"hovertemplate\":\"Duration: %{x}<br>Calories: %{y}<br>Maxpulse: %{z}<br>Pulse: %{customdata[0]}\",\"legendgroup\":\"120\",\"line\":{\"color\":\"#EF553B\"},\"name\":\"120\",\"showlegend\":true,\"x\":[60,60,60,60,60,60,45,180,30,90,45,45,45,60,30,30],\"xaxis\":\"x\",\"xbingroup\":\"x\",\"y\":[250.7,215.2,300.0,250.0,300.0,300.0,225.3,800.3,86.2,500.3,225.3,100.7,250.4,270.4,240.9,250.4],\"yaxis\":\"y\",\"ybingroup\":\"y\",\"type\":\"histogram2dcontour\"},{\"alignmentgroup\":\"True\",\"bingroup\":\"x\",\"hovertemplate\":\"Duration: %{x}<br>Calories: %{y}<br>Maxpulse: %{z}<br>Pulse: %{customdata[0]}\",\"legendgroup\":\"120\",\"marker\":{\"color\":\"#EF553B\"},\"name\":\"120\",\"offsetgroup\":\"120\",\"opacity\":0.5,\"showlegend\":false,\"x\":[60,60,60,60,60,60,45,180,30,90,45,45,45,60,30,30],\"xaxis\":\"x3\",\"yaxis\":\"y3\",\"type\":\"histogram\"},{\"alignmentgroup\":\"True\",\"bingroup\":\"y\",\"hovertemplate\":\"Duration: %{x}<br>Calories: %{y}<br>Maxpulse: %{z}<br>Pulse: %{customdata[0]}\",\"legendgroup\":\"120\",\"marker\":{\"color\":\"#EF553B\"},\"name\":\"120\",\"offsetgroup\":\"120\",\"opacity\":0.5,\"showlegend\":false,\"xaxis\":\"x2\",\"y\":[250.7,215.2,300.0,250.0,300.0,300.0,225.3,800.3,86.2,500.3,225.3,100.7,250.4,270.4,240.9,250.4],\"yaxis\":\"y2\",\"type\":\"histogram\"},{\"contours\":{\"coloring\":\"none\"},\"hovertemplate\":\"Duration: %{x}<br>Calories: %{y}<br>Maxpulse: %{z}<br>Pulse: %{customdata[0]}\",\"legendgroup\":\"128\",\"line\":{\"color\":\"#00cc96\"},\"name\":\"128\",\"showlegend\":true,\"x\":[60,30,30,60],\"xaxis\":\"x\",\"xbingroup\":\"x\",\"y\":[345.3,128.2,124.0,328.0],\"yaxis\":\"y\",\"ybingroup\":\"y\",\"type\":\"histogram2dcontour\"},{\"alignmentgroup\":\"True\",\"bingroup\":\"x\",\"hovertemplate\":\"Duration: %{x}<br>Calories: %{y}<br>Maxpulse: %{z}<br>Pulse: %{customdata[0]}\",\"legendgroup\":\"128\",\"marker\":{\"color\":\"#00cc96\"},\"name\":\"128\",\"offsetgroup\":\"128\",\"opacity\":0.5,\"showlegend\":false,\"x\":[60,30,30,60],\"xaxis\":\"x3\",\"yaxis\":\"y3\",\"type\":\"histogram\"},{\"alignmentgroup\":\"True\",\"bingroup\":\"y\",\"hovertemplate\":\"Duration: %{x}<br>Calories: %{y}<br>Maxpulse: %{z}<br>Pulse: %{customdata[0]}\",\"legendgroup\":\"128\",\"marker\":{\"color\":\"#00cc96\"},\"name\":\"128\",\"offsetgroup\":\"128\",\"opacity\":0.5,\"showlegend\":false,\"xaxis\":\"x2\",\"y\":[345.3,128.2,124.0,328.0],\"yaxis\":\"y2\",\"type\":\"histogram\"},{\"contours\":{\"coloring\":\"none\"},\"hovertemplate\":\"Duration: %{x}<br>Calories: %{y}<br>Maxpulse: %{z}<br>Pulse: %{customdata[0]}\",\"legendgroup\":\"132\",\"line\":{\"color\":\"#ab63fa\"},\"name\":\"132\",\"showlegend\":true,\"x\":[60,45,60,60,60],\"xaxis\":\"x\",\"xbingroup\":\"x\",\"y\":[379.3,246.0,null,280.0,327.5],\"yaxis\":\"y\",\"ybingroup\":\"y\",\"type\":\"histogram2dcontour\"},{\"alignmentgroup\":\"True\",\"bingroup\":\"x\",\"hovertemplate\":\"Duration: %{x}<br>Calories: %{y}<br>Maxpulse: %{z}<br>Pulse: %{customdata[0]}\",\"legendgroup\":\"132\",\"marker\":{\"color\":\"#ab63fa\"},\"name\":\"132\",\"offsetgroup\":\"132\",\"opacity\":0.5,\"showlegend\":false,\"x\":[60,45,60,60,60],\"xaxis\":\"x3\",\"yaxis\":\"y3\",\"type\":\"histogram\"},{\"alignmentgroup\":\"True\",\"bingroup\":\"y\",\"hovertemplate\":\"Duration: %{x}<br>Calories: %{y}<br>Maxpulse: %{z}<br>Pulse: %{customdata[0]}\",\"legendgroup\":\"132\",\"marker\":{\"color\":\"#ab63fa\"},\"name\":\"132\",\"offsetgroup\":\"132\",\"opacity\":0.5,\"showlegend\":false,\"xaxis\":\"x2\",\"y\":[379.3,246.0,null,280.0,327.5],\"yaxis\":\"y2\",\"type\":\"histogram\"},{\"contours\":{\"coloring\":\"none\"},\"hovertemplate\":\"Duration: %{x}<br>Calories: %{y}<br>Maxpulse: %{z}<br>Pulse: %{customdata[0]}\",\"legendgroup\":\"123\",\"line\":{\"color\":\"#FFA15A\"},\"name\":\"123\",\"showlegend\":true,\"x\":[60,60],\"xaxis\":\"x\",\"xbingroup\":\"x\",\"y\":[275.0,323.0],\"yaxis\":\"y\",\"ybingroup\":\"y\",\"type\":\"histogram2dcontour\"},{\"alignmentgroup\":\"True\",\"bingroup\":\"x\",\"hovertemplate\":\"Duration: %{x}<br>Calories: %{y}<br>Maxpulse: %{z}<br>Pulse: %{customdata[0]}\",\"legendgroup\":\"123\",\"marker\":{\"color\":\"#FFA15A\"},\"name\":\"123\",\"offsetgroup\":\"123\",\"opacity\":0.5,\"showlegend\":false,\"x\":[60,60],\"xaxis\":\"x3\",\"yaxis\":\"y3\",\"type\":\"histogram\"},{\"alignmentgroup\":\"True\",\"bingroup\":\"y\",\"hovertemplate\":\"Duration: %{x}<br>Calories: %{y}<br>Maxpulse: %{z}<br>Pulse: %{customdata[0]}\",\"legendgroup\":\"123\",\"marker\":{\"color\":\"#FFA15A\"},\"name\":\"123\",\"offsetgroup\":\"123\",\"opacity\":0.5,\"showlegend\":false,\"xaxis\":\"x2\",\"y\":[275.0,323.0],\"yaxis\":\"y2\",\"type\":\"histogram\"},{\"contours\":{\"coloring\":\"none\"},\"hovertemplate\":\"Duration: %{x}<br>Calories: %{y}<br>Maxpulse: %{z}<br>Pulse: %{customdata[0]}\",\"legendgroup\":\"112\",\"line\":{\"color\":\"#19d3f3\"},\"name\":\"112\",\"showlegend\":true,\"x\":[45,45,45,20],\"xaxis\":\"x\",\"xbingroup\":\"x\",\"y\":[null,180.1,180.1,77.7],\"yaxis\":\"y\",\"ybingroup\":\"y\",\"type\":\"histogram2dcontour\"},{\"alignmentgroup\":\"True\",\"bingroup\":\"x\",\"hovertemplate\":\"Duration: %{x}<br>Calories: %{y}<br>Maxpulse: %{z}<br>Pulse: %{customdata[0]}\",\"legendgroup\":\"112\",\"marker\":{\"color\":\"#19d3f3\"},\"name\":\"112\",\"offsetgroup\":\"112\",\"opacity\":0.5,\"showlegend\":false,\"x\":[45,45,45,20],\"xaxis\":\"x3\",\"yaxis\":\"y3\",\"type\":\"histogram\"},{\"alignmentgroup\":\"True\",\"bingroup\":\"y\",\"hovertemplate\":\"Duration: %{x}<br>Calories: %{y}<br>Maxpulse: %{z}<br>Pulse: %{customdata[0]}\",\"legendgroup\":\"112\",\"marker\":{\"color\":\"#19d3f3\"},\"name\":\"112\",\"offsetgroup\":\"112\",\"opacity\":0.5,\"showlegend\":false,\"xaxis\":\"x2\",\"y\":[null,180.1,180.1,77.7],\"yaxis\":\"y2\",\"type\":\"histogram\"},{\"contours\":{\"coloring\":\"none\"},\"hovertemplate\":\"Duration: %{x}<br>Calories: %{y}<br>Maxpulse: %{z}<br>Pulse: %{customdata[0]}\",\"legendgroup\":\"125\",\"line\":{\"color\":\"#FF6692\"},\"name\":\"125\",\"showlegend\":true,\"x\":[45,90,60,90],\"xaxis\":\"x\",\"xbingroup\":\"x\",\"y\":[243.0,563.2,null,466.4],\"yaxis\":\"y\",\"ybingroup\":\"y\",\"type\":\"histogram2dcontour\"},{\"alignmentgroup\":\"True\",\"bingroup\":\"x\",\"hovertemplate\":\"Duration: %{x}<br>Calories: %{y}<br>Maxpulse: %{z}<br>Pulse: %{customdata[0]}\",\"legendgroup\":\"125\",\"marker\":{\"color\":\"#FF6692\"},\"name\":\"125\",\"offsetgroup\":\"125\",\"opacity\":0.5,\"showlegend\":false,\"x\":[45,90,60,90],\"xaxis\":\"x3\",\"yaxis\":\"y3\",\"type\":\"histogram\"},{\"alignmentgroup\":\"True\",\"bingroup\":\"y\",\"hovertemplate\":\"Duration: %{x}<br>Calories: %{y}<br>Maxpulse: %{z}<br>Pulse: %{customdata[0]}\",\"legendgroup\":\"125\",\"marker\":{\"color\":\"#FF6692\"},\"name\":\"125\",\"offsetgroup\":\"125\",\"opacity\":0.5,\"showlegend\":false,\"xaxis\":\"x2\",\"y\":[243.0,563.2,null,466.4],\"yaxis\":\"y2\",\"type\":\"histogram\"},{\"contours\":{\"coloring\":\"none\"},\"hovertemplate\":\"Duration: %{x}<br>Calories: %{y}<br>Maxpulse: %{z}<br>Pulse: %{customdata[0]}\",\"legendgroup\":\"131\",\"line\":{\"color\":\"#B6E880\"},\"name\":\"131\",\"showlegend\":true,\"x\":[60,60,270,30,60,60],\"xaxis\":\"x\",\"xbingroup\":\"x\",\"y\":[364.2,397.0,1729.0,188.2,367.6,270.4],\"yaxis\":\"y\",\"ybingroup\":\"y\",\"type\":\"histogram2dcontour\"},{\"alignmentgroup\":\"True\",\"bingroup\":\"x\",\"hovertemplate\":\"Duration: %{x}<br>Calories: %{y}<br>Maxpulse: %{z}<br>Pulse: %{customdata[0]}\",\"legendgroup\":\"131\",\"marker\":{\"color\":\"#B6E880\"},\"name\":\"131\",\"offsetgroup\":\"131\",\"opacity\":0.5,\"showlegend\":false,\"x\":[60,60,270,30,60,60],\"xaxis\":\"x3\",\"yaxis\":\"y3\",\"type\":\"histogram\"},{\"alignmentgroup\":\"True\",\"bingroup\":\"y\",\"hovertemplate\":\"Duration: %{x}<br>Calories: %{y}<br>Maxpulse: %{z}<br>Pulse: %{customdata[0]}\",\"legendgroup\":\"131\",\"marker\":{\"color\":\"#B6E880\"},\"name\":\"131\",\"offsetgroup\":\"131\",\"opacity\":0.5,\"showlegend\":false,\"xaxis\":\"x2\",\"y\":[364.2,397.0,1729.0,188.2,367.6,270.4],\"yaxis\":\"y2\",\"type\":\"histogram\"},{\"contours\":{\"coloring\":\"none\"},\"hovertemplate\":\"Duration: %{x}<br>Calories: %{y}<br>Maxpulse: %{z}<br>Pulse: %{customdata[0]}\",\"legendgroup\":\"119\",\"line\":{\"color\":\"#FF97FF\"},\"name\":\"119\",\"showlegend\":true,\"x\":[45,60],\"xaxis\":\"x\",\"xbingroup\":\"x\",\"y\":[282.0,273.0],\"yaxis\":\"y\",\"ybingroup\":\"y\",\"type\":\"histogram2dcontour\"},{\"alignmentgroup\":\"True\",\"bingroup\":\"x\",\"hovertemplate\":\"Duration: %{x}<br>Calories: %{y}<br>Maxpulse: %{z}<br>Pulse: %{customdata[0]}\",\"legendgroup\":\"119\",\"marker\":{\"color\":\"#FF97FF\"},\"name\":\"119\",\"offsetgroup\":\"119\",\"opacity\":0.5,\"showlegend\":false,\"x\":[45,60],\"xaxis\":\"x3\",\"yaxis\":\"y3\",\"type\":\"histogram\"},{\"alignmentgroup\":\"True\",\"bingroup\":\"y\",\"hovertemplate\":\"Duration: %{x}<br>Calories: %{y}<br>Maxpulse: %{z}<br>Pulse: %{customdata[0]}\",\"legendgroup\":\"119\",\"marker\":{\"color\":\"#FF97FF\"},\"name\":\"119\",\"offsetgroup\":\"119\",\"opacity\":0.5,\"showlegend\":false,\"xaxis\":\"x2\",\"y\":[282.0,273.0],\"yaxis\":\"y2\",\"type\":\"histogram\"},{\"contours\":{\"coloring\":\"none\"},\"hovertemplate\":\"Duration: %{x}<br>Calories: %{y}<br>Maxpulse: %{z}<br>Pulse: %{customdata[0]}\",\"legendgroup\":\"101\",\"line\":{\"color\":\"#FECB52\"},\"name\":\"101\",\"showlegend\":true,\"x\":[60],\"xaxis\":\"x\",\"xbingroup\":\"x\",\"y\":[300.0],\"yaxis\":\"y\",\"ybingroup\":\"y\",\"type\":\"histogram2dcontour\"},{\"alignmentgroup\":\"True\",\"bingroup\":\"x\",\"hovertemplate\":\"Duration: %{x}<br>Calories: %{y}<br>Maxpulse: %{z}<br>Pulse: %{customdata[0]}\",\"legendgroup\":\"101\",\"marker\":{\"color\":\"#FECB52\"},\"name\":\"101\",\"offsetgroup\":\"101\",\"opacity\":0.5,\"showlegend\":false,\"x\":[60],\"xaxis\":\"x3\",\"yaxis\":\"y3\",\"type\":\"histogram\"},{\"alignmentgroup\":\"True\",\"bingroup\":\"y\",\"hovertemplate\":\"Duration: %{x}<br>Calories: %{y}<br>Maxpulse: %{z}<br>Pulse: %{customdata[0]}\",\"legendgroup\":\"101\",\"marker\":{\"color\":\"#FECB52\"},\"name\":\"101\",\"offsetgroup\":\"101\",\"opacity\":0.5,\"showlegend\":false,\"xaxis\":\"x2\",\"y\":[300.0],\"yaxis\":\"y2\",\"type\":\"histogram\"},{\"contours\":{\"coloring\":\"none\"},\"hovertemplate\":\"Duration: %{x}<br>Calories: %{y}<br>Maxpulse: %{z}<br>Pulse: %{customdata[0]}\",\"legendgroup\":\"126\",\"line\":{\"color\":\"#636efa\"},\"name\":\"126\",\"showlegend\":true,\"x\":[60,60,45],\"xaxis\":\"x\",\"xbingroup\":\"x\",\"y\":[334.5,286.0,270.8],\"yaxis\":\"y\",\"ybingroup\":\"y\",\"type\":\"histogram2dcontour\"},{\"alignmentgroup\":\"True\",\"bingroup\":\"x\",\"hovertemplate\":\"Duration: %{x}<br>Calories: %{y}<br>Maxpulse: %{z}<br>Pulse: %{customdata[0]}\",\"legendgroup\":\"126\",\"marker\":{\"color\":\"#636efa\"},\"name\":\"126\",\"offsetgroup\":\"126\",\"opacity\":0.5,\"showlegend\":false,\"x\":[60,60,45],\"xaxis\":\"x3\",\"yaxis\":\"y3\",\"type\":\"histogram\"},{\"alignmentgroup\":\"True\",\"bingroup\":\"y\",\"hovertemplate\":\"Duration: %{x}<br>Calories: %{y}<br>Maxpulse: %{z}<br>Pulse: %{customdata[0]}\",\"legendgroup\":\"126\",\"marker\":{\"color\":\"#636efa\"},\"name\":\"126\",\"offsetgroup\":\"126\",\"opacity\":0.5,\"showlegend\":false,\"xaxis\":\"x2\",\"y\":[334.5,286.0,270.8],\"yaxis\":\"y2\",\"type\":\"histogram\"},{\"contours\":{\"coloring\":\"none\"},\"hovertemplate\":\"Duration: %{x}<br>Calories: %{y}<br>Maxpulse: %{z}<br>Pulse: %{customdata[0]}\",\"legendgroup\":\"118\",\"line\":{\"color\":\"#EF553B\"},\"name\":\"118\",\"showlegend\":true,\"x\":[60],\"xaxis\":\"x\",\"xbingroup\":\"x\",\"y\":[241.0],\"yaxis\":\"y\",\"ybingroup\":\"y\",\"type\":\"histogram2dcontour\"},{\"alignmentgroup\":\"True\",\"bingroup\":\"x\",\"hovertemplate\":\"Duration: %{x}<br>Calories: %{y}<br>Maxpulse: %{z}<br>Pulse: %{customdata[0]}\",\"legendgroup\":\"118\",\"marker\":{\"color\":\"#EF553B\"},\"name\":\"118\",\"offsetgroup\":\"118\",\"opacity\":0.5,\"showlegend\":false,\"x\":[60],\"xaxis\":\"x3\",\"yaxis\":\"y3\",\"type\":\"histogram\"},{\"alignmentgroup\":\"True\",\"bingroup\":\"y\",\"hovertemplate\":\"Duration: %{x}<br>Calories: %{y}<br>Maxpulse: %{z}<br>Pulse: %{customdata[0]}\",\"legendgroup\":\"118\",\"marker\":{\"color\":\"#EF553B\"},\"name\":\"118\",\"offsetgroup\":\"118\",\"opacity\":0.5,\"showlegend\":false,\"xaxis\":\"x2\",\"y\":[241.0],\"yaxis\":\"y2\",\"type\":\"histogram\"},{\"contours\":{\"coloring\":\"none\"},\"hovertemplate\":\"Duration: %{x}<br>Calories: %{y}<br>Maxpulse: %{z}<br>Pulse: %{customdata[0]}\",\"legendgroup\":\"129\",\"line\":{\"color\":\"#00cc96\"},\"name\":\"129\",\"showlegend\":true,\"x\":[60,45,45,150,60],\"xaxis\":\"x\",\"xbingroup\":\"x\",\"y\":[380.3,266.0,298.0,1115.0,353.2],\"yaxis\":\"y\",\"ybingroup\":\"y\",\"type\":\"histogram2dcontour\"},{\"alignmentgroup\":\"True\",\"bingroup\":\"x\",\"hovertemplate\":\"Duration: %{x}<br>Calories: %{y}<br>Maxpulse: %{z}<br>Pulse: %{customdata[0]}\",\"legendgroup\":\"129\",\"marker\":{\"color\":\"#00cc96\"},\"name\":\"129\",\"offsetgroup\":\"129\",\"opacity\":0.5,\"showlegend\":false,\"x\":[60,45,45,150,60],\"xaxis\":\"x3\",\"yaxis\":\"y3\",\"type\":\"histogram\"},{\"alignmentgroup\":\"True\",\"bingroup\":\"y\",\"hovertemplate\":\"Duration: %{x}<br>Calories: %{y}<br>Maxpulse: %{z}<br>Pulse: %{customdata[0]}\",\"legendgroup\":\"129\",\"marker\":{\"color\":\"#00cc96\"},\"name\":\"129\",\"offsetgroup\":\"129\",\"opacity\":0.5,\"showlegend\":false,\"xaxis\":\"x2\",\"y\":[380.3,266.0,298.0,1115.0,353.2],\"yaxis\":\"y2\",\"type\":\"histogram\"},{\"contours\":{\"coloring\":\"none\"},\"hovertemplate\":\"Duration: %{x}<br>Calories: %{y}<br>Maxpulse: %{z}<br>Pulse: %{customdata[0]}\",\"legendgroup\":\"115\",\"line\":{\"color\":\"#ab63fa\"},\"name\":\"115\",\"showlegend\":true,\"x\":[60],\"xaxis\":\"x\",\"xbingroup\":\"x\",\"y\":[243.0],\"yaxis\":\"y\",\"ybingroup\":\"y\",\"type\":\"histogram2dcontour\"},{\"alignmentgroup\":\"True\",\"bingroup\":\"x\",\"hovertemplate\":\"Duration: %{x}<br>Calories: %{y}<br>Maxpulse: %{z}<br>Pulse: %{customdata[0]}\",\"legendgroup\":\"115\",\"marker\":{\"color\":\"#ab63fa\"},\"name\":\"115\",\"offsetgroup\":\"115\",\"opacity\":0.5,\"showlegend\":false,\"x\":[60],\"xaxis\":\"x3\",\"yaxis\":\"y3\",\"type\":\"histogram\"},{\"alignmentgroup\":\"True\",\"bingroup\":\"y\",\"hovertemplate\":\"Duration: %{x}<br>Calories: %{y}<br>Maxpulse: %{z}<br>Pulse: %{customdata[0]}\",\"legendgroup\":\"115\",\"marker\":{\"color\":\"#ab63fa\"},\"name\":\"115\",\"offsetgroup\":\"115\",\"opacity\":0.5,\"showlegend\":false,\"xaxis\":\"x2\",\"y\":[243.0],\"yaxis\":\"y2\",\"type\":\"histogram\"},{\"contours\":{\"coloring\":\"none\"},\"hovertemplate\":\"Duration: %{x}<br>Calories: %{y}<br>Maxpulse: %{z}<br>Pulse: %{customdata[0]}\",\"legendgroup\":\"113\",\"line\":{\"color\":\"#FFA15A\"},\"name\":\"113\",\"showlegend\":true,\"x\":[60],\"xaxis\":\"x\",\"xbingroup\":\"x\",\"y\":[223.0],\"yaxis\":\"y\",\"ybingroup\":\"y\",\"type\":\"histogram2dcontour\"},{\"alignmentgroup\":\"True\",\"bingroup\":\"x\",\"hovertemplate\":\"Duration: %{x}<br>Calories: %{y}<br>Maxpulse: %{z}<br>Pulse: %{customdata[0]}\",\"legendgroup\":\"113\",\"marker\":{\"color\":\"#FFA15A\"},\"name\":\"113\",\"offsetgroup\":\"113\",\"opacity\":0.5,\"showlegend\":false,\"x\":[60],\"xaxis\":\"x3\",\"yaxis\":\"y3\",\"type\":\"histogram\"},{\"alignmentgroup\":\"True\",\"bingroup\":\"y\",\"hovertemplate\":\"Duration: %{x}<br>Calories: %{y}<br>Maxpulse: %{z}<br>Pulse: %{customdata[0]}\",\"legendgroup\":\"113\",\"marker\":{\"color\":\"#FFA15A\"},\"name\":\"113\",\"offsetgroup\":\"113\",\"opacity\":0.5,\"showlegend\":false,\"xaxis\":\"x2\",\"y\":[223.0],\"yaxis\":\"y2\",\"type\":\"histogram\"},{\"contours\":{\"coloring\":\"none\"},\"hovertemplate\":\"Duration: %{x}<br>Calories: %{y}<br>Maxpulse: %{z}<br>Pulse: %{customdata[0]}\",\"legendgroup\":\"140\",\"line\":{\"color\":\"#19d3f3\"},\"name\":\"140\",\"showlegend\":true,\"x\":[60,45,60],\"xaxis\":\"x\",\"xbingroup\":\"x\",\"y\":[415.0,280.9,290.8],\"yaxis\":\"y\",\"ybingroup\":\"y\",\"type\":\"histogram2dcontour\"},{\"alignmentgroup\":\"True\",\"bingroup\":\"x\",\"hovertemplate\":\"Duration: %{x}<br>Calories: %{y}<br>Maxpulse: %{z}<br>Pulse: %{customdata[0]}\",\"legendgroup\":\"140\",\"marker\":{\"color\":\"#19d3f3\"},\"name\":\"140\",\"offsetgroup\":\"140\",\"opacity\":0.5,\"showlegend\":false,\"x\":[60,45,60],\"xaxis\":\"x3\",\"yaxis\":\"y3\",\"type\":\"histogram\"},{\"alignmentgroup\":\"True\",\"bingroup\":\"y\",\"hovertemplate\":\"Duration: %{x}<br>Calories: %{y}<br>Maxpulse: %{z}<br>Pulse: %{customdata[0]}\",\"legendgroup\":\"140\",\"marker\":{\"color\":\"#19d3f3\"},\"name\":\"140\",\"offsetgroup\":\"140\",\"opacity\":0.5,\"showlegend\":false,\"xaxis\":\"x2\",\"y\":[415.0,280.9,290.8],\"yaxis\":\"y2\",\"type\":\"histogram\"},{\"contours\":{\"coloring\":\"none\"},\"hovertemplate\":\"Duration: %{x}<br>Calories: %{y}<br>Maxpulse: %{z}<br>Pulse: %{customdata[0]}\",\"legendgroup\":\"122\",\"line\":{\"color\":\"#FF6692\"},\"name\":\"122\",\"showlegend\":true,\"x\":[60,60,60],\"xaxis\":\"x\",\"xbingroup\":\"x\",\"y\":[329.4,277.4,271.0],\"yaxis\":\"y\",\"ybingroup\":\"y\",\"type\":\"histogram2dcontour\"},{\"alignmentgroup\":\"True\",\"bingroup\":\"x\",\"hovertemplate\":\"Duration: %{x}<br>Calories: %{y}<br>Maxpulse: %{z}<br>Pulse: %{customdata[0]}\",\"legendgroup\":\"122\",\"marker\":{\"color\":\"#FF6692\"},\"name\":\"122\",\"offsetgroup\":\"122\",\"opacity\":0.5,\"showlegend\":false,\"x\":[60,60,60],\"xaxis\":\"x3\",\"yaxis\":\"y3\",\"type\":\"histogram\"},{\"alignmentgroup\":\"True\",\"bingroup\":\"y\",\"hovertemplate\":\"Duration: %{x}<br>Calories: %{y}<br>Maxpulse: %{z}<br>Pulse: %{customdata[0]}\",\"legendgroup\":\"122\",\"marker\":{\"color\":\"#FF6692\"},\"name\":\"122\",\"offsetgroup\":\"122\",\"opacity\":0.5,\"showlegend\":false,\"xaxis\":\"x2\",\"y\":[329.4,277.4,271.0],\"yaxis\":\"y2\",\"type\":\"histogram\"},{\"contours\":{\"coloring\":\"none\"},\"hovertemplate\":\"Duration: %{x}<br>Calories: %{y}<br>Maxpulse: %{z}<br>Pulse: %{customdata[0]}\",\"legendgroup\":\"138\",\"line\":{\"color\":\"#B6E880\"},\"name\":\"138\",\"showlegend\":true,\"x\":[60,60,45,60],\"xaxis\":\"x\",\"xbingroup\":\"x\",\"y\":[400.0,357.5,308.0,374.0],\"yaxis\":\"y\",\"ybingroup\":\"y\",\"type\":\"histogram2dcontour\"},{\"alignmentgroup\":\"True\",\"bingroup\":\"x\",\"hovertemplate\":\"Duration: %{x}<br>Calories: %{y}<br>Maxpulse: %{z}<br>Pulse: %{customdata[0]}\",\"legendgroup\":\"138\",\"marker\":{\"color\":\"#B6E880\"},\"name\":\"138\",\"offsetgroup\":\"138\",\"opacity\":0.5,\"showlegend\":false,\"x\":[60,60,45,60],\"xaxis\":\"x3\",\"yaxis\":\"y3\",\"type\":\"histogram\"},{\"alignmentgroup\":\"True\",\"bingroup\":\"y\",\"hovertemplate\":\"Duration: %{x}<br>Calories: %{y}<br>Maxpulse: %{z}<br>Pulse: %{customdata[0]}\",\"legendgroup\":\"138\",\"marker\":{\"color\":\"#B6E880\"},\"name\":\"138\",\"offsetgroup\":\"138\",\"opacity\":0.5,\"showlegend\":false,\"xaxis\":\"x2\",\"y\":[400.0,357.5,308.0,374.0],\"yaxis\":\"y2\",\"type\":\"histogram\"},{\"contours\":{\"coloring\":\"none\"},\"hovertemplate\":\"Duration: %{x}<br>Calories: %{y}<br>Maxpulse: %{z}<br>Pulse: %{customdata[0]}\",\"legendgroup\":\"153\",\"line\":{\"color\":\"#FF97FF\"},\"name\":\"153\",\"showlegend\":true,\"x\":[60,60],\"xaxis\":\"x\",\"xbingroup\":\"x\",\"y\":[387.6,387.6],\"yaxis\":\"y\",\"ybingroup\":\"y\",\"type\":\"histogram2dcontour\"},{\"alignmentgroup\":\"True\",\"bingroup\":\"x\",\"hovertemplate\":\"Duration: %{x}<br>Calories: %{y}<br>Maxpulse: %{z}<br>Pulse: %{customdata[0]}\",\"legendgroup\":\"153\",\"marker\":{\"color\":\"#FF97FF\"},\"name\":\"153\",\"offsetgroup\":\"153\",\"opacity\":0.5,\"showlegend\":false,\"x\":[60,60],\"xaxis\":\"x3\",\"yaxis\":\"y3\",\"type\":\"histogram\"},{\"alignmentgroup\":\"True\",\"bingroup\":\"y\",\"hovertemplate\":\"Duration: %{x}<br>Calories: %{y}<br>Maxpulse: %{z}<br>Pulse: %{customdata[0]}\",\"legendgroup\":\"153\",\"marker\":{\"color\":\"#FF97FF\"},\"name\":\"153\",\"offsetgroup\":\"153\",\"opacity\":0.5,\"showlegend\":false,\"xaxis\":\"x2\",\"y\":[387.6,387.6],\"yaxis\":\"y2\",\"type\":\"histogram\"},{\"contours\":{\"coloring\":\"none\"},\"hovertemplate\":\"Duration: %{x}<br>Calories: %{y}<br>Maxpulse: %{z}<br>Pulse: %{customdata[0]}\",\"legendgroup\":\"139\",\"line\":{\"color\":\"#FECB52\"},\"name\":\"139\",\"showlegend\":true,\"x\":[60,30,15],\"xaxis\":\"x\",\"xbingroup\":\"x\",\"y\":[397.6,151.1,124.2],\"yaxis\":\"y\",\"ybingroup\":\"y\",\"type\":\"histogram2dcontour\"},{\"alignmentgroup\":\"True\",\"bingroup\":\"x\",\"hovertemplate\":\"Duration: %{x}<br>Calories: %{y}<br>Maxpulse: %{z}<br>Pulse: %{customdata[0]}\",\"legendgroup\":\"139\",\"marker\":{\"color\":\"#FECB52\"},\"name\":\"139\",\"offsetgroup\":\"139\",\"opacity\":0.5,\"showlegend\":false,\"x\":[60,30,15],\"xaxis\":\"x3\",\"yaxis\":\"y3\",\"type\":\"histogram\"},{\"alignmentgroup\":\"True\",\"bingroup\":\"y\",\"hovertemplate\":\"Duration: %{x}<br>Calories: %{y}<br>Maxpulse: %{z}<br>Pulse: %{customdata[0]}\",\"legendgroup\":\"139\",\"marker\":{\"color\":\"#FECB52\"},\"name\":\"139\",\"offsetgroup\":\"139\",\"opacity\":0.5,\"showlegend\":false,\"xaxis\":\"x2\",\"y\":[397.6,151.1,124.2],\"yaxis\":\"y2\",\"type\":\"histogram\"},{\"contours\":{\"coloring\":\"none\"},\"hovertemplate\":\"Duration: %{x}<br>Calories: %{y}<br>Maxpulse: %{z}<br>Pulse: %{customdata[0]}\",\"legendgroup\":\"146\",\"line\":{\"color\":\"#636efa\"},\"name\":\"146\",\"showlegend\":true,\"x\":[80,60,45,60],\"xaxis\":\"x\",\"xbingroup\":\"x\",\"y\":[643.1,450.7,304.0,361.9],\"yaxis\":\"y\",\"ybingroup\":\"y\",\"type\":\"histogram2dcontour\"},{\"alignmentgroup\":\"True\",\"bingroup\":\"x\",\"hovertemplate\":\"Duration: %{x}<br>Calories: %{y}<br>Maxpulse: %{z}<br>Pulse: %{customdata[0]}\",\"legendgroup\":\"146\",\"marker\":{\"color\":\"#636efa\"},\"name\":\"146\",\"offsetgroup\":\"146\",\"opacity\":0.5,\"showlegend\":false,\"x\":[80,60,45,60],\"xaxis\":\"x3\",\"yaxis\":\"y3\",\"type\":\"histogram\"},{\"alignmentgroup\":\"True\",\"bingroup\":\"y\",\"hovertemplate\":\"Duration: %{x}<br>Calories: %{y}<br>Maxpulse: %{z}<br>Pulse: %{customdata[0]}\",\"legendgroup\":\"146\",\"marker\":{\"color\":\"#636efa\"},\"name\":\"146\",\"offsetgroup\":\"146\",\"opacity\":0.5,\"showlegend\":false,\"xaxis\":\"x2\",\"y\":[643.1,450.7,304.0,361.9],\"yaxis\":\"y2\",\"type\":\"histogram\"},{\"contours\":{\"coloring\":\"none\"},\"hovertemplate\":\"Duration: %{x}<br>Calories: %{y}<br>Maxpulse: %{z}<br>Pulse: %{customdata[0]}\",\"legendgroup\":\"151\",\"line\":{\"color\":\"#EF553B\"},\"name\":\"151\",\"showlegend\":true,\"x\":[60,60,60,60,60],\"xaxis\":\"x\",\"xbingroup\":\"x\",\"y\":[486.0,351.7,368.5,384.0,368.5],\"yaxis\":\"y\",\"ybingroup\":\"y\",\"type\":\"histogram2dcontour\"},{\"alignmentgroup\":\"True\",\"bingroup\":\"x\",\"hovertemplate\":\"Duration: %{x}<br>Calories: %{y}<br>Maxpulse: %{z}<br>Pulse: %{customdata[0]}\",\"legendgroup\":\"151\",\"marker\":{\"color\":\"#EF553B\"},\"name\":\"151\",\"offsetgroup\":\"151\",\"opacity\":0.5,\"showlegend\":false,\"x\":[60,60,60,60,60],\"xaxis\":\"x3\",\"yaxis\":\"y3\",\"type\":\"histogram\"},{\"alignmentgroup\":\"True\",\"bingroup\":\"y\",\"hovertemplate\":\"Duration: %{x}<br>Calories: %{y}<br>Maxpulse: %{z}<br>Pulse: %{customdata[0]}\",\"legendgroup\":\"151\",\"marker\":{\"color\":\"#EF553B\"},\"name\":\"151\",\"offsetgroup\":\"151\",\"opacity\":0.5,\"showlegend\":false,\"xaxis\":\"x2\",\"y\":[486.0,351.7,368.5,384.0,368.5],\"yaxis\":\"y2\",\"type\":\"histogram\"},{\"contours\":{\"coloring\":\"none\"},\"hovertemplate\":\"Duration: %{x}<br>Calories: %{y}<br>Maxpulse: %{z}<br>Pulse: %{customdata[0]}\",\"legendgroup\":\"121\",\"line\":{\"color\":\"#00cc96\"},\"name\":\"121\",\"showlegend\":true,\"x\":[60],\"xaxis\":\"x\",\"xbingroup\":\"x\",\"y\":[413.0],\"yaxis\":\"y\",\"ybingroup\":\"y\",\"type\":\"histogram2dcontour\"},{\"alignmentgroup\":\"True\",\"bingroup\":\"x\",\"hovertemplate\":\"Duration: %{x}<br>Calories: %{y}<br>Maxpulse: %{z}<br>Pulse: %{customdata[0]}\",\"legendgroup\":\"121\",\"marker\":{\"color\":\"#00cc96\"},\"name\":\"121\",\"offsetgroup\":\"121\",\"opacity\":0.5,\"showlegend\":false,\"x\":[60],\"xaxis\":\"x3\",\"yaxis\":\"y3\",\"type\":\"histogram\"},{\"alignmentgroup\":\"True\",\"bingroup\":\"y\",\"hovertemplate\":\"Duration: %{x}<br>Calories: %{y}<br>Maxpulse: %{z}<br>Pulse: %{customdata[0]}\",\"legendgroup\":\"121\",\"marker\":{\"color\":\"#00cc96\"},\"name\":\"121\",\"offsetgroup\":\"121\",\"opacity\":0.5,\"showlegend\":false,\"xaxis\":\"x2\",\"y\":[413.0],\"yaxis\":\"y2\",\"type\":\"histogram\"},{\"contours\":{\"coloring\":\"none\"},\"hovertemplate\":\"Duration: %{x}<br>Calories: %{y}<br>Maxpulse: %{z}<br>Pulse: %{customdata[0]}\",\"legendgroup\":\"144\",\"line\":{\"color\":\"#ab63fa\"},\"name\":\"144\",\"showlegend\":true,\"x\":[45],\"xaxis\":\"x\",\"xbingroup\":\"x\",\"y\":[305.0],\"yaxis\":\"y\",\"ybingroup\":\"y\",\"type\":\"histogram2dcontour\"},{\"alignmentgroup\":\"True\",\"bingroup\":\"x\",\"hovertemplate\":\"Duration: %{x}<br>Calories: %{y}<br>Maxpulse: %{z}<br>Pulse: %{customdata[0]}\",\"legendgroup\":\"144\",\"marker\":{\"color\":\"#ab63fa\"},\"name\":\"144\",\"offsetgroup\":\"144\",\"opacity\":0.5,\"showlegend\":false,\"x\":[45],\"xaxis\":\"x3\",\"yaxis\":\"y3\",\"type\":\"histogram\"},{\"alignmentgroup\":\"True\",\"bingroup\":\"y\",\"hovertemplate\":\"Duration: %{x}<br>Calories: %{y}<br>Maxpulse: %{z}<br>Pulse: %{customdata[0]}\",\"legendgroup\":\"144\",\"marker\":{\"color\":\"#ab63fa\"},\"name\":\"144\",\"offsetgroup\":\"144\",\"opacity\":0.5,\"showlegend\":false,\"xaxis\":\"x2\",\"y\":[305.0],\"yaxis\":\"y2\",\"type\":\"histogram\"},{\"contours\":{\"coloring\":\"none\"},\"hovertemplate\":\"Duration: %{x}<br>Calories: %{y}<br>Maxpulse: %{z}<br>Pulse: %{customdata[0]}\",\"legendgroup\":\"172\",\"line\":{\"color\":\"#FFA15A\"},\"name\":\"172\",\"showlegend\":true,\"x\":[20],\"xaxis\":\"x\",\"xbingroup\":\"x\",\"y\":[226.4],\"yaxis\":\"y\",\"ybingroup\":\"y\",\"type\":\"histogram2dcontour\"},{\"alignmentgroup\":\"True\",\"bingroup\":\"x\",\"hovertemplate\":\"Duration: %{x}<br>Calories: %{y}<br>Maxpulse: %{z}<br>Pulse: %{customdata[0]}\",\"legendgroup\":\"172\",\"marker\":{\"color\":\"#FFA15A\"},\"name\":\"172\",\"offsetgroup\":\"172\",\"opacity\":0.5,\"showlegend\":false,\"x\":[20],\"xaxis\":\"x3\",\"yaxis\":\"y3\",\"type\":\"histogram\"},{\"alignmentgroup\":\"True\",\"bingroup\":\"y\",\"hovertemplate\":\"Duration: %{x}<br>Calories: %{y}<br>Maxpulse: %{z}<br>Pulse: %{customdata[0]}\",\"legendgroup\":\"172\",\"marker\":{\"color\":\"#FFA15A\"},\"name\":\"172\",\"offsetgroup\":\"172\",\"opacity\":0.5,\"showlegend\":false,\"xaxis\":\"x2\",\"y\":[226.4],\"yaxis\":\"y2\",\"type\":\"histogram\"},{\"contours\":{\"coloring\":\"none\"},\"hovertemplate\":\"Duration: %{x}<br>Calories: %{y}<br>Maxpulse: %{z}<br>Pulse: %{customdata[0]}\",\"legendgroup\":\"152\",\"line\":{\"color\":\"#19d3f3\"},\"name\":\"152\",\"showlegend\":true,\"x\":[45],\"xaxis\":\"x\",\"xbingroup\":\"x\",\"y\":[321.0],\"yaxis\":\"y\",\"ybingroup\":\"y\",\"type\":\"histogram2dcontour\"},{\"alignmentgroup\":\"True\",\"bingroup\":\"x\",\"hovertemplate\":\"Duration: %{x}<br>Calories: %{y}<br>Maxpulse: %{z}<br>Pulse: %{customdata[0]}\",\"legendgroup\":\"152\",\"marker\":{\"color\":\"#19d3f3\"},\"name\":\"152\",\"offsetgroup\":\"152\",\"opacity\":0.5,\"showlegend\":false,\"x\":[45],\"xaxis\":\"x3\",\"yaxis\":\"y3\",\"type\":\"histogram\"},{\"alignmentgroup\":\"True\",\"bingroup\":\"y\",\"hovertemplate\":\"Duration: %{x}<br>Calories: %{y}<br>Maxpulse: %{z}<br>Pulse: %{customdata[0]}\",\"legendgroup\":\"152\",\"marker\":{\"color\":\"#19d3f3\"},\"name\":\"152\",\"offsetgroup\":\"152\",\"opacity\":0.5,\"showlegend\":false,\"xaxis\":\"x2\",\"y\":[321.0],\"yaxis\":\"y2\",\"type\":\"histogram\"},{\"contours\":{\"coloring\":\"none\"},\"hovertemplate\":\"Duration: %{x}<br>Calories: %{y}<br>Maxpulse: %{z}<br>Pulse: %{customdata[0]}\",\"legendgroup\":\"160\",\"line\":{\"color\":\"#FF6692\"},\"name\":\"160\",\"showlegend\":true,\"x\":[210],\"xaxis\":\"x\",\"xbingroup\":\"x\",\"y\":[1376.0],\"yaxis\":\"y\",\"ybingroup\":\"y\",\"type\":\"histogram2dcontour\"},{\"alignmentgroup\":\"True\",\"bingroup\":\"x\",\"hovertemplate\":\"Duration: %{x}<br>Calories: %{y}<br>Maxpulse: %{z}<br>Pulse: %{customdata[0]}\",\"legendgroup\":\"160\",\"marker\":{\"color\":\"#FF6692\"},\"name\":\"160\",\"offsetgroup\":\"160\",\"opacity\":0.5,\"showlegend\":false,\"x\":[210],\"xaxis\":\"x3\",\"yaxis\":\"y3\",\"type\":\"histogram\"},{\"alignmentgroup\":\"True\",\"bingroup\":\"y\",\"hovertemplate\":\"Duration: %{x}<br>Calories: %{y}<br>Maxpulse: %{z}<br>Pulse: %{customdata[0]}\",\"legendgroup\":\"160\",\"marker\":{\"color\":\"#FF6692\"},\"name\":\"160\",\"offsetgroup\":\"160\",\"opacity\":0.5,\"showlegend\":false,\"xaxis\":\"x2\",\"y\":[1376.0],\"yaxis\":\"y2\",\"type\":\"histogram\"},{\"contours\":{\"coloring\":\"none\"},\"hovertemplate\":\"Duration: %{x}<br>Calories: %{y}<br>Maxpulse: %{z}<br>Pulse: %{customdata[0]}\",\"legendgroup\":\"137\",\"line\":{\"color\":\"#B6E880\"},\"name\":\"137\",\"showlegend\":true,\"x\":[160,45,30,45],\"xaxis\":\"x\",\"xbingroup\":\"x\",\"y\":[1034.4,null,193.9,318.0],\"yaxis\":\"y\",\"ybingroup\":\"y\",\"type\":\"histogram2dcontour\"},{\"alignmentgroup\":\"True\",\"bingroup\":\"x\",\"hovertemplate\":\"Duration: %{x}<br>Calories: %{y}<br>Maxpulse: %{z}<br>Pulse: %{customdata[0]}\",\"legendgroup\":\"137\",\"marker\":{\"color\":\"#B6E880\"},\"name\":\"137\",\"offsetgroup\":\"137\",\"opacity\":0.5,\"showlegend\":false,\"x\":[160,45,30,45],\"xaxis\":\"x3\",\"yaxis\":\"y3\",\"type\":\"histogram\"},{\"alignmentgroup\":\"True\",\"bingroup\":\"y\",\"hovertemplate\":\"Duration: %{x}<br>Calories: %{y}<br>Maxpulse: %{z}<br>Pulse: %{customdata[0]}\",\"legendgroup\":\"137\",\"marker\":{\"color\":\"#B6E880\"},\"name\":\"137\",\"offsetgroup\":\"137\",\"opacity\":0.5,\"showlegend\":false,\"xaxis\":\"x2\",\"y\":[1034.4,null,193.9,318.0],\"yaxis\":\"y2\",\"type\":\"histogram\"},{\"contours\":{\"coloring\":\"none\"},\"hovertemplate\":\"Duration: %{x}<br>Calories: %{y}<br>Maxpulse: %{z}<br>Pulse: %{customdata[0]}\",\"legendgroup\":\"141\",\"line\":{\"color\":\"#FF97FF\"},\"name\":\"141\",\"showlegend\":true,\"x\":[45,45,60],\"xaxis\":\"x\",\"xbingroup\":\"x\",\"y\":[341.0,300.0,443.0],\"yaxis\":\"y\",\"ybingroup\":\"y\",\"type\":\"histogram2dcontour\"},{\"alignmentgroup\":\"True\",\"bingroup\":\"x\",\"hovertemplate\":\"Duration: %{x}<br>Calories: %{y}<br>Maxpulse: %{z}<br>Pulse: %{customdata[0]}\",\"legendgroup\":\"141\",\"marker\":{\"color\":\"#FF97FF\"},\"name\":\"141\",\"offsetgroup\":\"141\",\"opacity\":0.5,\"showlegend\":false,\"x\":[45,45,60],\"xaxis\":\"x3\",\"yaxis\":\"y3\",\"type\":\"histogram\"},{\"alignmentgroup\":\"True\",\"bingroup\":\"y\",\"hovertemplate\":\"Duration: %{x}<br>Calories: %{y}<br>Maxpulse: %{z}<br>Pulse: %{customdata[0]}\",\"legendgroup\":\"141\",\"marker\":{\"color\":\"#FF97FF\"},\"name\":\"141\",\"offsetgroup\":\"141\",\"opacity\":0.5,\"showlegend\":false,\"xaxis\":\"x2\",\"y\":[341.0,300.0,443.0],\"yaxis\":\"y2\",\"type\":\"histogram\"},{\"contours\":{\"coloring\":\"none\"},\"hovertemplate\":\"Duration: %{x}<br>Calories: %{y}<br>Maxpulse: %{z}<br>Pulse: %{customdata[0]}\",\"legendgroup\":\"143\",\"line\":{\"color\":\"#FECB52\"},\"name\":\"143\",\"showlegend\":true,\"x\":[300,45],\"xaxis\":\"x\",\"xbingroup\":\"x\",\"y\":[1500.2,317.7],\"yaxis\":\"y\",\"ybingroup\":\"y\",\"type\":\"histogram2dcontour\"},{\"alignmentgroup\":\"True\",\"bingroup\":\"x\",\"hovertemplate\":\"Duration: %{x}<br>Calories: %{y}<br>Maxpulse: %{z}<br>Pulse: %{customdata[0]}\",\"legendgroup\":\"143\",\"marker\":{\"color\":\"#FECB52\"},\"name\":\"143\",\"offsetgroup\":\"143\",\"opacity\":0.5,\"showlegend\":false,\"x\":[300,45],\"xaxis\":\"x3\",\"yaxis\":\"y3\",\"type\":\"histogram\"},{\"alignmentgroup\":\"True\",\"bingroup\":\"y\",\"hovertemplate\":\"Duration: %{x}<br>Calories: %{y}<br>Maxpulse: %{z}<br>Pulse: %{customdata[0]}\",\"legendgroup\":\"143\",\"marker\":{\"color\":\"#FECB52\"},\"name\":\"143\",\"offsetgroup\":\"143\",\"opacity\":0.5,\"showlegend\":false,\"xaxis\":\"x2\",\"y\":[1500.2,317.7],\"yaxis\":\"y2\",\"type\":\"histogram\"},{\"contours\":{\"coloring\":\"none\"},\"hovertemplate\":\"Duration: %{x}<br>Calories: %{y}<br>Maxpulse: %{z}<br>Pulse: %{customdata[0]}\",\"legendgroup\":\"182\",\"line\":{\"color\":\"#636efa\"},\"name\":\"182\",\"showlegend\":true,\"x\":[30],\"xaxis\":\"x\",\"xbingroup\":\"x\",\"y\":[319.2],\"yaxis\":\"y\",\"ybingroup\":\"y\",\"type\":\"histogram2dcontour\"},{\"alignmentgroup\":\"True\",\"bingroup\":\"x\",\"hovertemplate\":\"Duration: %{x}<br>Calories: %{y}<br>Maxpulse: %{z}<br>Pulse: %{customdata[0]}\",\"legendgroup\":\"182\",\"marker\":{\"color\":\"#636efa\"},\"name\":\"182\",\"offsetgroup\":\"182\",\"opacity\":0.5,\"showlegend\":false,\"x\":[30],\"xaxis\":\"x3\",\"yaxis\":\"y3\",\"type\":\"histogram\"},{\"alignmentgroup\":\"True\",\"bingroup\":\"y\",\"hovertemplate\":\"Duration: %{x}<br>Calories: %{y}<br>Maxpulse: %{z}<br>Pulse: %{customdata[0]}\",\"legendgroup\":\"182\",\"marker\":{\"color\":\"#636efa\"},\"name\":\"182\",\"offsetgroup\":\"182\",\"opacity\":0.5,\"showlegend\":false,\"xaxis\":\"x2\",\"y\":[319.2],\"yaxis\":\"y2\",\"type\":\"histogram\"},{\"contours\":{\"coloring\":\"none\"},\"hovertemplate\":\"Duration: %{x}<br>Calories: %{y}<br>Maxpulse: %{z}<br>Pulse: %{customdata[0]}\",\"legendgroup\":\"169\",\"line\":{\"color\":\"#EF553B\"},\"name\":\"169\",\"showlegend\":true,\"x\":[45,60],\"xaxis\":\"x\",\"xbingroup\":\"x\",\"y\":[344.0,336.7],\"yaxis\":\"y\",\"ybingroup\":\"y\",\"type\":\"histogram2dcontour\"},{\"alignmentgroup\":\"True\",\"bingroup\":\"x\",\"hovertemplate\":\"Duration: %{x}<br>Calories: %{y}<br>Maxpulse: %{z}<br>Pulse: %{customdata[0]}\",\"legendgroup\":\"169\",\"marker\":{\"color\":\"#EF553B\"},\"name\":\"169\",\"offsetgroup\":\"169\",\"opacity\":0.5,\"showlegend\":false,\"x\":[45,60],\"xaxis\":\"x3\",\"yaxis\":\"y3\",\"type\":\"histogram\"},{\"alignmentgroup\":\"True\",\"bingroup\":\"y\",\"hovertemplate\":\"Duration: %{x}<br>Calories: %{y}<br>Maxpulse: %{z}<br>Pulse: %{customdata[0]}\",\"legendgroup\":\"169\",\"marker\":{\"color\":\"#EF553B\"},\"name\":\"169\",\"offsetgroup\":\"169\",\"opacity\":0.5,\"showlegend\":false,\"xaxis\":\"x2\",\"y\":[344.0,336.7],\"yaxis\":\"y2\",\"type\":\"histogram\"},{\"contours\":{\"coloring\":\"none\"},\"hovertemplate\":\"Duration: %{x}<br>Calories: %{y}<br>Maxpulse: %{z}<br>Pulse: %{customdata[0]}\",\"legendgroup\":\"170\",\"line\":{\"color\":\"#00cc96\"},\"name\":\"170\",\"showlegend\":true,\"x\":[30,60],\"xaxis\":\"x\",\"xbingroup\":\"x\",\"y\":[300.0,470.2],\"yaxis\":\"y\",\"ybingroup\":\"y\",\"type\":\"histogram2dcontour\"},{\"alignmentgroup\":\"True\",\"bingroup\":\"x\",\"hovertemplate\":\"Duration: %{x}<br>Calories: %{y}<br>Maxpulse: %{z}<br>Pulse: %{customdata[0]}\",\"legendgroup\":\"170\",\"marker\":{\"color\":\"#00cc96\"},\"name\":\"170\",\"offsetgroup\":\"170\",\"opacity\":0.5,\"showlegend\":false,\"x\":[30,60],\"xaxis\":\"x3\",\"yaxis\":\"y3\",\"type\":\"histogram\"},{\"alignmentgroup\":\"True\",\"bingroup\":\"y\",\"hovertemplate\":\"Duration: %{x}<br>Calories: %{y}<br>Maxpulse: %{z}<br>Pulse: %{customdata[0]}\",\"legendgroup\":\"170\",\"marker\":{\"color\":\"#00cc96\"},\"name\":\"170\",\"offsetgroup\":\"170\",\"opacity\":0.5,\"showlegend\":false,\"xaxis\":\"x2\",\"y\":[300.0,470.2],\"yaxis\":\"y2\",\"type\":\"histogram\"},{\"contours\":{\"coloring\":\"none\"},\"hovertemplate\":\"Duration: %{x}<br>Calories: %{y}<br>Maxpulse: %{z}<br>Pulse: %{customdata[0]}\",\"legendgroup\":\"157\",\"line\":{\"color\":\"#ab63fa\"},\"name\":\"157\",\"showlegend\":true,\"x\":[120],\"xaxis\":\"x\",\"xbingroup\":\"x\",\"y\":[1000.1],\"yaxis\":\"y\",\"ybingroup\":\"y\",\"type\":\"histogram2dcontour\"},{\"alignmentgroup\":\"True\",\"bingroup\":\"x\",\"hovertemplate\":\"Duration: %{x}<br>Calories: %{y}<br>Maxpulse: %{z}<br>Pulse: %{customdata[0]}\",\"legendgroup\":\"157\",\"marker\":{\"color\":\"#ab63fa\"},\"name\":\"157\",\"offsetgroup\":\"157\",\"opacity\":0.5,\"showlegend\":false,\"x\":[120],\"xaxis\":\"x3\",\"yaxis\":\"y3\",\"type\":\"histogram\"},{\"alignmentgroup\":\"True\",\"bingroup\":\"y\",\"hovertemplate\":\"Duration: %{x}<br>Calories: %{y}<br>Maxpulse: %{z}<br>Pulse: %{customdata[0]}\",\"legendgroup\":\"157\",\"marker\":{\"color\":\"#ab63fa\"},\"name\":\"157\",\"offsetgroup\":\"157\",\"opacity\":0.5,\"showlegend\":false,\"xaxis\":\"x2\",\"y\":[1000.1],\"yaxis\":\"y2\",\"type\":\"histogram\"},{\"contours\":{\"coloring\":\"none\"},\"hovertemplate\":\"Duration: %{x}<br>Calories: %{y}<br>Maxpulse: %{z}<br>Pulse: %{customdata[0]}\",\"legendgroup\":\"103\",\"line\":{\"color\":\"#FFA15A\"},\"name\":\"103\",\"showlegend\":true,\"x\":[45],\"xaxis\":\"x\",\"xbingroup\":\"x\",\"y\":[242.0],\"yaxis\":\"y\",\"ybingroup\":\"y\",\"type\":\"histogram2dcontour\"},{\"alignmentgroup\":\"True\",\"bingroup\":\"x\",\"hovertemplate\":\"Duration: %{x}<br>Calories: %{y}<br>Maxpulse: %{z}<br>Pulse: %{customdata[0]}\",\"legendgroup\":\"103\",\"marker\":{\"color\":\"#FFA15A\"},\"name\":\"103\",\"offsetgroup\":\"103\",\"opacity\":0.5,\"showlegend\":false,\"x\":[45],\"xaxis\":\"x3\",\"yaxis\":\"y3\",\"type\":\"histogram\"},{\"alignmentgroup\":\"True\",\"bingroup\":\"y\",\"hovertemplate\":\"Duration: %{x}<br>Calories: %{y}<br>Maxpulse: %{z}<br>Pulse: %{customdata[0]}\",\"legendgroup\":\"103\",\"marker\":{\"color\":\"#FFA15A\"},\"name\":\"103\",\"offsetgroup\":\"103\",\"opacity\":0.5,\"showlegend\":false,\"xaxis\":\"x2\",\"y\":[242.0],\"yaxis\":\"y2\",\"type\":\"histogram\"},{\"contours\":{\"coloring\":\"none\"},\"hovertemplate\":\"Duration: %{x}<br>Calories: %{y}<br>Maxpulse: %{z}<br>Pulse: %{customdata[0]}\",\"legendgroup\":\"107\",\"line\":{\"color\":\"#19d3f3\"},\"name\":\"107\",\"showlegend\":true,\"x\":[20,30],\"xaxis\":\"x\",\"xbingroup\":\"x\",\"y\":[50.3,105.3],\"yaxis\":\"y\",\"ybingroup\":\"y\",\"type\":\"histogram2dcontour\"},{\"alignmentgroup\":\"True\",\"bingroup\":\"x\",\"hovertemplate\":\"Duration: %{x}<br>Calories: %{y}<br>Maxpulse: %{z}<br>Pulse: %{customdata[0]}\",\"legendgroup\":\"107\",\"marker\":{\"color\":\"#19d3f3\"},\"name\":\"107\",\"offsetgroup\":\"107\",\"opacity\":0.5,\"showlegend\":false,\"x\":[20,30],\"xaxis\":\"x3\",\"yaxis\":\"y3\",\"type\":\"histogram\"},{\"alignmentgroup\":\"True\",\"bingroup\":\"y\",\"hovertemplate\":\"Duration: %{x}<br>Calories: %{y}<br>Maxpulse: %{z}<br>Pulse: %{customdata[0]}\",\"legendgroup\":\"107\",\"marker\":{\"color\":\"#19d3f3\"},\"name\":\"107\",\"offsetgroup\":\"107\",\"opacity\":0.5,\"showlegend\":false,\"xaxis\":\"x2\",\"y\":[50.3,105.3],\"yaxis\":\"y2\",\"type\":\"histogram\"},{\"contours\":{\"coloring\":\"none\"},\"hovertemplate\":\"Duration: %{x}<br>Calories: %{y}<br>Maxpulse: %{z}<br>Pulse: %{customdata[0]}\",\"legendgroup\":\"100\",\"line\":{\"color\":\"#FF6692\"},\"name\":\"100\",\"showlegend\":true,\"x\":[15,90,90],\"xaxis\":\"x\",\"xbingroup\":\"x\",\"y\":[50.5,500.0,500.4],\"yaxis\":\"y\",\"ybingroup\":\"y\",\"type\":\"histogram2dcontour\"},{\"alignmentgroup\":\"True\",\"bingroup\":\"x\",\"hovertemplate\":\"Duration: %{x}<br>Calories: %{y}<br>Maxpulse: %{z}<br>Pulse: %{customdata[0]}\",\"legendgroup\":\"100\",\"marker\":{\"color\":\"#FF6692\"},\"name\":\"100\",\"offsetgroup\":\"100\",\"opacity\":0.5,\"showlegend\":false,\"x\":[15,90,90],\"xaxis\":\"x3\",\"yaxis\":\"y3\",\"type\":\"histogram\"},{\"alignmentgroup\":\"True\",\"bingroup\":\"y\",\"hovertemplate\":\"Duration: %{x}<br>Calories: %{y}<br>Maxpulse: %{z}<br>Pulse: %{customdata[0]}\",\"legendgroup\":\"100\",\"marker\":{\"color\":\"#FF6692\"},\"name\":\"100\",\"offsetgroup\":\"100\",\"opacity\":0.5,\"showlegend\":false,\"xaxis\":\"x2\",\"y\":[50.5,500.0,500.4],\"yaxis\":\"y2\",\"type\":\"histogram\"},{\"contours\":{\"coloring\":\"none\"},\"hovertemplate\":\"Duration: %{x}<br>Calories: %{y}<br>Maxpulse: %{z}<br>Pulse: %{customdata[0]}\",\"legendgroup\":\"171\",\"line\":{\"color\":\"#B6E880\"},\"name\":\"171\",\"showlegend\":true,\"x\":[20],\"xaxis\":\"x\",\"xbingroup\":\"x\",\"y\":[127.4],\"yaxis\":\"y\",\"ybingroup\":\"y\",\"type\":\"histogram2dcontour\"},{\"alignmentgroup\":\"True\",\"bingroup\":\"x\",\"hovertemplate\":\"Duration: %{x}<br>Calories: %{y}<br>Maxpulse: %{z}<br>Pulse: %{customdata[0]}\",\"legendgroup\":\"171\",\"marker\":{\"color\":\"#B6E880\"},\"name\":\"171\",\"offsetgroup\":\"171\",\"opacity\":0.5,\"showlegend\":false,\"x\":[20],\"xaxis\":\"x3\",\"yaxis\":\"y3\",\"type\":\"histogram\"},{\"alignmentgroup\":\"True\",\"bingroup\":\"y\",\"hovertemplate\":\"Duration: %{x}<br>Calories: %{y}<br>Maxpulse: %{z}<br>Pulse: %{customdata[0]}\",\"legendgroup\":\"171\",\"marker\":{\"color\":\"#B6E880\"},\"name\":\"171\",\"offsetgroup\":\"171\",\"opacity\":0.5,\"showlegend\":false,\"xaxis\":\"x2\",\"y\":[127.4],\"yaxis\":\"y2\",\"type\":\"histogram\"},{\"contours\":{\"coloring\":\"none\"},\"hovertemplate\":\"Duration: %{x}<br>Calories: %{y}<br>Maxpulse: %{z}<br>Pulse: %{customdata[0]}\",\"legendgroup\":\"168\",\"line\":{\"color\":\"#FF97FF\"},\"name\":\"168\",\"showlegend\":true,\"x\":[20,25],\"xaxis\":\"x\",\"xbingroup\":\"x\",\"y\":[229.4,244.2],\"yaxis\":\"y\",\"ybingroup\":\"y\",\"type\":\"histogram2dcontour\"},{\"alignmentgroup\":\"True\",\"bingroup\":\"x\",\"hovertemplate\":\"Duration: %{x}<br>Calories: %{y}<br>Maxpulse: %{z}<br>Pulse: %{customdata[0]}\",\"legendgroup\":\"168\",\"marker\":{\"color\":\"#FF97FF\"},\"name\":\"168\",\"offsetgroup\":\"168\",\"opacity\":0.5,\"showlegend\":false,\"x\":[20,25],\"xaxis\":\"x3\",\"yaxis\":\"y3\",\"type\":\"histogram\"},{\"alignmentgroup\":\"True\",\"bingroup\":\"y\",\"hovertemplate\":\"Duration: %{x}<br>Calories: %{y}<br>Maxpulse: %{z}<br>Pulse: %{customdata[0]}\",\"legendgroup\":\"168\",\"marker\":{\"color\":\"#FF97FF\"},\"name\":\"168\",\"offsetgroup\":\"168\",\"opacity\":0.5,\"showlegend\":false,\"xaxis\":\"x2\",\"y\":[229.4,244.2],\"yaxis\":\"y2\",\"type\":\"histogram\"},{\"contours\":{\"coloring\":\"none\"},\"hovertemplate\":\"Duration: %{x}<br>Calories: %{y}<br>Maxpulse: %{z}<br>Pulse: %{customdata[0]}\",\"legendgroup\":\"110\",\"line\":{\"color\":\"#FECB52\"},\"name\":\"110\",\"showlegend\":true,\"x\":[90],\"xaxis\":\"x\",\"xbingroup\":\"x\",\"y\":[500.0],\"yaxis\":\"y\",\"ybingroup\":\"y\",\"type\":\"histogram2dcontour\"},{\"alignmentgroup\":\"True\",\"bingroup\":\"x\",\"hovertemplate\":\"Duration: %{x}<br>Calories: %{y}<br>Maxpulse: %{z}<br>Pulse: %{customdata[0]}\",\"legendgroup\":\"110\",\"marker\":{\"color\":\"#FECB52\"},\"name\":\"110\",\"offsetgroup\":\"110\",\"opacity\":0.5,\"showlegend\":false,\"x\":[90],\"xaxis\":\"x3\",\"yaxis\":\"y3\",\"type\":\"histogram\"},{\"alignmentgroup\":\"True\",\"bingroup\":\"y\",\"hovertemplate\":\"Duration: %{x}<br>Calories: %{y}<br>Maxpulse: %{z}<br>Pulse: %{customdata[0]}\",\"legendgroup\":\"110\",\"marker\":{\"color\":\"#FECB52\"},\"name\":\"110\",\"offsetgroup\":\"110\",\"opacity\":0.5,\"showlegend\":false,\"xaxis\":\"x2\",\"y\":[500.0],\"yaxis\":\"y2\",\"type\":\"histogram\"},{\"contours\":{\"coloring\":\"none\"},\"hovertemplate\":\"Duration: %{x}<br>Calories: %{y}<br>Maxpulse: %{z}<br>Pulse: %{customdata[0]}\",\"legendgroup\":\"108\",\"line\":{\"color\":\"#636efa\"},\"name\":\"108\",\"showlegend\":true,\"x\":[30],\"xaxis\":\"x\",\"xbingroup\":\"x\",\"y\":[92.7],\"yaxis\":\"y\",\"ybingroup\":\"y\",\"type\":\"histogram2dcontour\"},{\"alignmentgroup\":\"True\",\"bingroup\":\"x\",\"hovertemplate\":\"Duration: %{x}<br>Calories: %{y}<br>Maxpulse: %{z}<br>Pulse: %{customdata[0]}\",\"legendgroup\":\"108\",\"marker\":{\"color\":\"#636efa\"},\"name\":\"108\",\"offsetgroup\":\"108\",\"opacity\":0.5,\"showlegend\":false,\"x\":[30],\"xaxis\":\"x3\",\"yaxis\":\"y3\",\"type\":\"histogram\"},{\"alignmentgroup\":\"True\",\"bingroup\":\"y\",\"hovertemplate\":\"Duration: %{x}<br>Calories: %{y}<br>Maxpulse: %{z}<br>Pulse: %{customdata[0]}\",\"legendgroup\":\"108\",\"marker\":{\"color\":\"#636efa\"},\"name\":\"108\",\"offsetgroup\":\"108\",\"opacity\":0.5,\"showlegend\":false,\"xaxis\":\"x2\",\"y\":[92.7],\"yaxis\":\"y2\",\"type\":\"histogram\"},{\"contours\":{\"coloring\":\"none\"},\"hovertemplate\":\"Duration: %{x}<br>Calories: %{y}<br>Maxpulse: %{z}<br>Pulse: %{customdata[0]}\",\"legendgroup\":\"184\",\"line\":{\"color\":\"#EF553B\"},\"name\":\"184\",\"showlegend\":true,\"x\":[210],\"xaxis\":\"x\",\"xbingroup\":\"x\",\"y\":[1860.4],\"yaxis\":\"y\",\"ybingroup\":\"y\",\"type\":\"histogram2dcontour\"},{\"alignmentgroup\":\"True\",\"bingroup\":\"x\",\"hovertemplate\":\"Duration: %{x}<br>Calories: %{y}<br>Maxpulse: %{z}<br>Pulse: %{customdata[0]}\",\"legendgroup\":\"184\",\"marker\":{\"color\":\"#EF553B\"},\"name\":\"184\",\"offsetgroup\":\"184\",\"opacity\":0.5,\"showlegend\":false,\"x\":[210],\"xaxis\":\"x3\",\"yaxis\":\"y3\",\"type\":\"histogram\"},{\"alignmentgroup\":\"True\",\"bingroup\":\"y\",\"hovertemplate\":\"Duration: %{x}<br>Calories: %{y}<br>Maxpulse: %{z}<br>Pulse: %{customdata[0]}\",\"legendgroup\":\"184\",\"marker\":{\"color\":\"#EF553B\"},\"name\":\"184\",\"offsetgroup\":\"184\",\"opacity\":0.5,\"showlegend\":false,\"xaxis\":\"x2\",\"y\":[1860.4],\"yaxis\":\"y2\",\"type\":\"histogram\"},{\"contours\":{\"coloring\":\"none\"},\"hovertemplate\":\"Duration: %{x}<br>Calories: %{y}<br>Maxpulse: %{z}<br>Pulse: %{customdata[0]}\",\"legendgroup\":\"156\",\"line\":{\"color\":\"#00cc96\"},\"name\":\"156\",\"showlegend\":true,\"x\":[20],\"xaxis\":\"x\",\"xbingroup\":\"x\",\"y\":[189.0],\"yaxis\":\"y\",\"ybingroup\":\"y\",\"type\":\"histogram2dcontour\"},{\"alignmentgroup\":\"True\",\"bingroup\":\"x\",\"hovertemplate\":\"Duration: %{x}<br>Calories: %{y}<br>Maxpulse: %{z}<br>Pulse: %{customdata[0]}\",\"legendgroup\":\"156\",\"marker\":{\"color\":\"#00cc96\"},\"name\":\"156\",\"offsetgroup\":\"156\",\"opacity\":0.5,\"showlegend\":false,\"x\":[20],\"xaxis\":\"x3\",\"yaxis\":\"y3\",\"type\":\"histogram\"},{\"alignmentgroup\":\"True\",\"bingroup\":\"y\",\"hovertemplate\":\"Duration: %{x}<br>Calories: %{y}<br>Maxpulse: %{z}<br>Pulse: %{customdata[0]}\",\"legendgroup\":\"156\",\"marker\":{\"color\":\"#00cc96\"},\"name\":\"156\",\"offsetgroup\":\"156\",\"opacity\":0.5,\"showlegend\":false,\"xaxis\":\"x2\",\"y\":[189.0],\"yaxis\":\"y2\",\"type\":\"histogram\"},{\"contours\":{\"coloring\":\"none\"},\"hovertemplate\":\"Duration: %{x}<br>Calories: %{y}<br>Maxpulse: %{z}<br>Pulse: %{customdata[0]}\",\"legendgroup\":\"162\",\"line\":{\"color\":\"#ab63fa\"},\"name\":\"162\",\"showlegend\":true,\"x\":[20],\"xaxis\":\"x\",\"xbingroup\":\"x\",\"y\":[222.4],\"yaxis\":\"y\",\"ybingroup\":\"y\",\"type\":\"histogram2dcontour\"},{\"alignmentgroup\":\"True\",\"bingroup\":\"x\",\"hovertemplate\":\"Duration: %{x}<br>Calories: %{y}<br>Maxpulse: %{z}<br>Pulse: %{customdata[0]}\",\"legendgroup\":\"162\",\"marker\":{\"color\":\"#ab63fa\"},\"name\":\"162\",\"offsetgroup\":\"162\",\"opacity\":0.5,\"showlegend\":false,\"x\":[20],\"xaxis\":\"x3\",\"yaxis\":\"y3\",\"type\":\"histogram\"},{\"alignmentgroup\":\"True\",\"bingroup\":\"y\",\"hovertemplate\":\"Duration: %{x}<br>Calories: %{y}<br>Maxpulse: %{z}<br>Pulse: %{customdata[0]}\",\"legendgroup\":\"162\",\"marker\":{\"color\":\"#ab63fa\"},\"name\":\"162\",\"offsetgroup\":\"162\",\"opacity\":0.5,\"showlegend\":false,\"xaxis\":\"x2\",\"y\":[222.4],\"yaxis\":\"y2\",\"type\":\"histogram\"},{\"contours\":{\"coloring\":\"none\"},\"hovertemplate\":\"Duration: %{x}<br>Calories: %{y}<br>Maxpulse: %{z}<br>Pulse: %{customdata[0]}\",\"legendgroup\":\"149\",\"line\":{\"color\":\"#FFA15A\"},\"name\":\"149\",\"showlegend\":true,\"x\":[45],\"xaxis\":\"x\",\"xbingroup\":\"x\",\"y\":[335.4],\"yaxis\":\"y\",\"ybingroup\":\"y\",\"type\":\"histogram2dcontour\"},{\"alignmentgroup\":\"True\",\"bingroup\":\"x\",\"hovertemplate\":\"Duration: %{x}<br>Calories: %{y}<br>Maxpulse: %{z}<br>Pulse: %{customdata[0]}\",\"legendgroup\":\"149\",\"marker\":{\"color\":\"#FFA15A\"},\"name\":\"149\",\"offsetgroup\":\"149\",\"opacity\":0.5,\"showlegend\":false,\"x\":[45],\"xaxis\":\"x3\",\"yaxis\":\"y3\",\"type\":\"histogram\"},{\"alignmentgroup\":\"True\",\"bingroup\":\"y\",\"hovertemplate\":\"Duration: %{x}<br>Calories: %{y}<br>Maxpulse: %{z}<br>Pulse: %{customdata[0]}\",\"legendgroup\":\"149\",\"marker\":{\"color\":\"#FFA15A\"},\"name\":\"149\",\"offsetgroup\":\"149\",\"opacity\":0.5,\"showlegend\":false,\"xaxis\":\"x2\",\"y\":[335.4],\"yaxis\":\"y2\",\"type\":\"histogram\"},{\"contours\":{\"coloring\":\"none\"},\"hovertemplate\":\"Duration: %{x}<br>Calories: %{y}<br>Maxpulse: %{z}<br>Pulse: %{customdata[0]}\",\"legendgroup\":\"150\",\"line\":{\"color\":\"#19d3f3\"},\"name\":\"150\",\"showlegend\":true,\"x\":[60,60,75,75],\"xaxis\":\"x\",\"xbingroup\":\"x\",\"y\":[409.4,382.8,320.4,330.4],\"yaxis\":\"y\",\"ybingroup\":\"y\",\"type\":\"histogram2dcontour\"},{\"alignmentgroup\":\"True\",\"bingroup\":\"x\",\"hovertemplate\":\"Duration: %{x}<br>Calories: %{y}<br>Maxpulse: %{z}<br>Pulse: %{customdata[0]}\",\"legendgroup\":\"150\",\"marker\":{\"color\":\"#19d3f3\"},\"name\":\"150\",\"offsetgroup\":\"150\",\"opacity\":0.5,\"showlegend\":false,\"x\":[60,60,75,75],\"xaxis\":\"x3\",\"yaxis\":\"y3\",\"type\":\"histogram\"},{\"alignmentgroup\":\"True\",\"bingroup\":\"y\",\"hovertemplate\":\"Duration: %{x}<br>Calories: %{y}<br>Maxpulse: %{z}<br>Pulse: %{customdata[0]}\",\"legendgroup\":\"150\",\"marker\":{\"color\":\"#19d3f3\"},\"name\":\"150\",\"offsetgroup\":\"150\",\"opacity\":0.5,\"showlegend\":false,\"xaxis\":\"x2\",\"y\":[409.4,382.8,320.4,330.4],\"yaxis\":\"y2\",\"type\":\"histogram\"},{\"contours\":{\"coloring\":\"none\"},\"hovertemplate\":\"Duration: %{x}<br>Calories: %{y}<br>Maxpulse: %{z}<br>Pulse: %{customdata[0]}\",\"legendgroup\":\"167\",\"line\":{\"color\":\"#FF6692\"},\"name\":\"167\",\"showlegend\":true,\"x\":[30],\"xaxis\":\"x\",\"xbingroup\":\"x\",\"y\":[275.8],\"yaxis\":\"y\",\"ybingroup\":\"y\",\"type\":\"histogram2dcontour\"},{\"alignmentgroup\":\"True\",\"bingroup\":\"x\",\"hovertemplate\":\"Duration: %{x}<br>Calories: %{y}<br>Maxpulse: %{z}<br>Pulse: %{customdata[0]}\",\"legendgroup\":\"167\",\"marker\":{\"color\":\"#FF6692\"},\"name\":\"167\",\"offsetgroup\":\"167\",\"opacity\":0.5,\"showlegend\":false,\"x\":[30],\"xaxis\":\"x3\",\"yaxis\":\"y3\",\"type\":\"histogram\"},{\"alignmentgroup\":\"True\",\"bingroup\":\"y\",\"hovertemplate\":\"Duration: %{x}<br>Calories: %{y}<br>Maxpulse: %{z}<br>Pulse: %{customdata[0]}\",\"legendgroup\":\"167\",\"marker\":{\"color\":\"#FF6692\"},\"name\":\"167\",\"offsetgroup\":\"167\",\"opacity\":0.5,\"showlegend\":false,\"xaxis\":\"x2\",\"y\":[275.8],\"yaxis\":\"y2\",\"type\":\"histogram\"}],                        {\"template\":{\"data\":{\"histogram2dcontour\":[{\"type\":\"histogram2dcontour\",\"colorbar\":{\"outlinewidth\":0,\"ticks\":\"\"},\"colorscale\":[[0.0,\"#0d0887\"],[0.1111111111111111,\"#46039f\"],[0.2222222222222222,\"#7201a8\"],[0.3333333333333333,\"#9c179e\"],[0.4444444444444444,\"#bd3786\"],[0.5555555555555556,\"#d8576b\"],[0.6666666666666666,\"#ed7953\"],[0.7777777777777778,\"#fb9f3a\"],[0.8888888888888888,\"#fdca26\"],[1.0,\"#f0f921\"]]}],\"choropleth\":[{\"type\":\"choropleth\",\"colorbar\":{\"outlinewidth\":0,\"ticks\":\"\"}}],\"histogram2d\":[{\"type\":\"histogram2d\",\"colorbar\":{\"outlinewidth\":0,\"ticks\":\"\"},\"colorscale\":[[0.0,\"#0d0887\"],[0.1111111111111111,\"#46039f\"],[0.2222222222222222,\"#7201a8\"],[0.3333333333333333,\"#9c179e\"],[0.4444444444444444,\"#bd3786\"],[0.5555555555555556,\"#d8576b\"],[0.6666666666666666,\"#ed7953\"],[0.7777777777777778,\"#fb9f3a\"],[0.8888888888888888,\"#fdca26\"],[1.0,\"#f0f921\"]]}],\"heatmap\":[{\"type\":\"heatmap\",\"colorbar\":{\"outlinewidth\":0,\"ticks\":\"\"},\"colorscale\":[[0.0,\"#0d0887\"],[0.1111111111111111,\"#46039f\"],[0.2222222222222222,\"#7201a8\"],[0.3333333333333333,\"#9c179e\"],[0.4444444444444444,\"#bd3786\"],[0.5555555555555556,\"#d8576b\"],[0.6666666666666666,\"#ed7953\"],[0.7777777777777778,\"#fb9f3a\"],[0.8888888888888888,\"#fdca26\"],[1.0,\"#f0f921\"]]}],\"heatmapgl\":[{\"type\":\"heatmapgl\",\"colorbar\":{\"outlinewidth\":0,\"ticks\":\"\"},\"colorscale\":[[0.0,\"#0d0887\"],[0.1111111111111111,\"#46039f\"],[0.2222222222222222,\"#7201a8\"],[0.3333333333333333,\"#9c179e\"],[0.4444444444444444,\"#bd3786\"],[0.5555555555555556,\"#d8576b\"],[0.6666666666666666,\"#ed7953\"],[0.7777777777777778,\"#fb9f3a\"],[0.8888888888888888,\"#fdca26\"],[1.0,\"#f0f921\"]]}],\"contourcarpet\":[{\"type\":\"contourcarpet\",\"colorbar\":{\"outlinewidth\":0,\"ticks\":\"\"}}],\"contour\":[{\"type\":\"contour\",\"colorbar\":{\"outlinewidth\":0,\"ticks\":\"\"},\"colorscale\":[[0.0,\"#0d0887\"],[0.1111111111111111,\"#46039f\"],[0.2222222222222222,\"#7201a8\"],[0.3333333333333333,\"#9c179e\"],[0.4444444444444444,\"#bd3786\"],[0.5555555555555556,\"#d8576b\"],[0.6666666666666666,\"#ed7953\"],[0.7777777777777778,\"#fb9f3a\"],[0.8888888888888888,\"#fdca26\"],[1.0,\"#f0f921\"]]}],\"surface\":[{\"type\":\"surface\",\"colorbar\":{\"outlinewidth\":0,\"ticks\":\"\"},\"colorscale\":[[0.0,\"#0d0887\"],[0.1111111111111111,\"#46039f\"],[0.2222222222222222,\"#7201a8\"],[0.3333333333333333,\"#9c179e\"],[0.4444444444444444,\"#bd3786\"],[0.5555555555555556,\"#d8576b\"],[0.6666666666666666,\"#ed7953\"],[0.7777777777777778,\"#fb9f3a\"],[0.8888888888888888,\"#fdca26\"],[1.0,\"#f0f921\"]]}],\"mesh3d\":[{\"type\":\"mesh3d\",\"colorbar\":{\"outlinewidth\":0,\"ticks\":\"\"}}],\"scatter\":[{\"fillpattern\":{\"fillmode\":\"overlay\",\"size\":10,\"solidity\":0.2},\"type\":\"scatter\"}],\"parcoords\":[{\"type\":\"parcoords\",\"line\":{\"colorbar\":{\"outlinewidth\":0,\"ticks\":\"\"}}}],\"scatterpolargl\":[{\"type\":\"scatterpolargl\",\"marker\":{\"colorbar\":{\"outlinewidth\":0,\"ticks\":\"\"}}}],\"bar\":[{\"error_x\":{\"color\":\"#2a3f5f\"},\"error_y\":{\"color\":\"#2a3f5f\"},\"marker\":{\"line\":{\"color\":\"#E5ECF6\",\"width\":0.5},\"pattern\":{\"fillmode\":\"overlay\",\"size\":10,\"solidity\":0.2}},\"type\":\"bar\"}],\"scattergeo\":[{\"type\":\"scattergeo\",\"marker\":{\"colorbar\":{\"outlinewidth\":0,\"ticks\":\"\"}}}],\"scatterpolar\":[{\"type\":\"scatterpolar\",\"marker\":{\"colorbar\":{\"outlinewidth\":0,\"ticks\":\"\"}}}],\"histogram\":[{\"marker\":{\"pattern\":{\"fillmode\":\"overlay\",\"size\":10,\"solidity\":0.2}},\"type\":\"histogram\"}],\"scattergl\":[{\"type\":\"scattergl\",\"marker\":{\"colorbar\":{\"outlinewidth\":0,\"ticks\":\"\"}}}],\"scatter3d\":[{\"type\":\"scatter3d\",\"line\":{\"colorbar\":{\"outlinewidth\":0,\"ticks\":\"\"}},\"marker\":{\"colorbar\":{\"outlinewidth\":0,\"ticks\":\"\"}}}],\"scattermapbox\":[{\"type\":\"scattermapbox\",\"marker\":{\"colorbar\":{\"outlinewidth\":0,\"ticks\":\"\"}}}],\"scatterternary\":[{\"type\":\"scatterternary\",\"marker\":{\"colorbar\":{\"outlinewidth\":0,\"ticks\":\"\"}}}],\"scattercarpet\":[{\"type\":\"scattercarpet\",\"marker\":{\"colorbar\":{\"outlinewidth\":0,\"ticks\":\"\"}}}],\"carpet\":[{\"aaxis\":{\"endlinecolor\":\"#2a3f5f\",\"gridcolor\":\"white\",\"linecolor\":\"white\",\"minorgridcolor\":\"white\",\"startlinecolor\":\"#2a3f5f\"},\"baxis\":{\"endlinecolor\":\"#2a3f5f\",\"gridcolor\":\"white\",\"linecolor\":\"white\",\"minorgridcolor\":\"white\",\"startlinecolor\":\"#2a3f5f\"},\"type\":\"carpet\"}],\"table\":[{\"cells\":{\"fill\":{\"color\":\"#EBF0F8\"},\"line\":{\"color\":\"white\"}},\"header\":{\"fill\":{\"color\":\"#C8D4E3\"},\"line\":{\"color\":\"white\"}},\"type\":\"table\"}],\"barpolar\":[{\"marker\":{\"line\":{\"color\":\"#E5ECF6\",\"width\":0.5},\"pattern\":{\"fillmode\":\"overlay\",\"size\":10,\"solidity\":0.2}},\"type\":\"barpolar\"}],\"pie\":[{\"automargin\":true,\"type\":\"pie\"}]},\"layout\":{\"autotypenumbers\":\"strict\",\"colorway\":[\"#636efa\",\"#EF553B\",\"#00cc96\",\"#ab63fa\",\"#FFA15A\",\"#19d3f3\",\"#FF6692\",\"#B6E880\",\"#FF97FF\",\"#FECB52\"],\"font\":{\"color\":\"#2a3f5f\"},\"hovermode\":\"closest\",\"hoverlabel\":{\"align\":\"left\"},\"paper_bgcolor\":\"white\",\"plot_bgcolor\":\"#E5ECF6\",\"polar\":{\"bgcolor\":\"#E5ECF6\",\"angularaxis\":{\"gridcolor\":\"white\",\"linecolor\":\"white\",\"ticks\":\"\"},\"radialaxis\":{\"gridcolor\":\"white\",\"linecolor\":\"white\",\"ticks\":\"\"}},\"ternary\":{\"bgcolor\":\"#E5ECF6\",\"aaxis\":{\"gridcolor\":\"white\",\"linecolor\":\"white\",\"ticks\":\"\"},\"baxis\":{\"gridcolor\":\"white\",\"linecolor\":\"white\",\"ticks\":\"\"},\"caxis\":{\"gridcolor\":\"white\",\"linecolor\":\"white\",\"ticks\":\"\"}},\"coloraxis\":{\"colorbar\":{\"outlinewidth\":0,\"ticks\":\"\"}},\"colorscale\":{\"sequential\":[[0.0,\"#0d0887\"],[0.1111111111111111,\"#46039f\"],[0.2222222222222222,\"#7201a8\"],[0.3333333333333333,\"#9c179e\"],[0.4444444444444444,\"#bd3786\"],[0.5555555555555556,\"#d8576b\"],[0.6666666666666666,\"#ed7953\"],[0.7777777777777778,\"#fb9f3a\"],[0.8888888888888888,\"#fdca26\"],[1.0,\"#f0f921\"]],\"sequentialminus\":[[0.0,\"#0d0887\"],[0.1111111111111111,\"#46039f\"],[0.2222222222222222,\"#7201a8\"],[0.3333333333333333,\"#9c179e\"],[0.4444444444444444,\"#bd3786\"],[0.5555555555555556,\"#d8576b\"],[0.6666666666666666,\"#ed7953\"],[0.7777777777777778,\"#fb9f3a\"],[0.8888888888888888,\"#fdca26\"],[1.0,\"#f0f921\"]],\"diverging\":[[0,\"#8e0152\"],[0.1,\"#c51b7d\"],[0.2,\"#de77ae\"],[0.3,\"#f1b6da\"],[0.4,\"#fde0ef\"],[0.5,\"#f7f7f7\"],[0.6,\"#e6f5d0\"],[0.7,\"#b8e186\"],[0.8,\"#7fbc41\"],[0.9,\"#4d9221\"],[1,\"#276419\"]]},\"xaxis\":{\"gridcolor\":\"white\",\"linecolor\":\"white\",\"ticks\":\"\",\"title\":{\"standoff\":15},\"zerolinecolor\":\"white\",\"automargin\":true,\"zerolinewidth\":2},\"yaxis\":{\"gridcolor\":\"white\",\"linecolor\":\"white\",\"ticks\":\"\",\"title\":{\"standoff\":15},\"zerolinecolor\":\"white\",\"automargin\":true,\"zerolinewidth\":2},\"scene\":{\"xaxis\":{\"backgroundcolor\":\"#E5ECF6\",\"gridcolor\":\"white\",\"linecolor\":\"white\",\"showbackground\":true,\"ticks\":\"\",\"zerolinecolor\":\"white\",\"gridwidth\":2},\"yaxis\":{\"backgroundcolor\":\"#E5ECF6\",\"gridcolor\":\"white\",\"linecolor\":\"white\",\"showbackground\":true,\"ticks\":\"\",\"zerolinecolor\":\"white\",\"gridwidth\":2},\"zaxis\":{\"backgroundcolor\":\"#E5ECF6\",\"gridcolor\":\"white\",\"linecolor\":\"white\",\"showbackground\":true,\"ticks\":\"\",\"zerolinecolor\":\"white\",\"gridwidth\":2}},\"shapedefaults\":{\"line\":{\"color\":\"#2a3f5f\"}},\"annotationdefaults\":{\"arrowcolor\":\"#2a3f5f\",\"arrowhead\":0,\"arrowwidth\":1},\"geo\":{\"bgcolor\":\"white\",\"landcolor\":\"#E5ECF6\",\"subunitcolor\":\"white\",\"showland\":true,\"showlakes\":true,\"lakecolor\":\"white\"},\"title\":{\"x\":0.05},\"mapbox\":{\"style\":\"light\"}}},\"xaxis\":{\"anchor\":\"y\",\"domain\":[0.0,0.7363],\"title\":{\"text\":\"Duration (minutes)\"}},\"yaxis\":{\"anchor\":\"x\",\"domain\":[0.0,0.7326],\"title\":{\"text\":\"Calories Burned\"}},\"xaxis2\":{\"anchor\":\"y2\",\"domain\":[0.7413,1.0],\"matches\":\"x2\",\"showticklabels\":false,\"showline\":false,\"ticks\":\"\",\"showgrid\":true},\"yaxis2\":{\"anchor\":\"x2\",\"domain\":[0.0,0.7326],\"matches\":\"y\",\"showticklabels\":false,\"showgrid\":true},\"xaxis3\":{\"anchor\":\"y3\",\"domain\":[0.0,0.7363],\"matches\":\"x\",\"showticklabels\":false,\"showgrid\":true},\"yaxis3\":{\"anchor\":\"x3\",\"domain\":[0.7426,1.0],\"matches\":\"y3\",\"showticklabels\":false,\"showline\":false,\"ticks\":\"\",\"showgrid\":true},\"xaxis4\":{\"anchor\":\"y4\",\"domain\":[0.7413,1.0],\"matches\":\"x2\",\"showticklabels\":false,\"showgrid\":true,\"showline\":false,\"ticks\":\"\"},\"yaxis4\":{\"anchor\":\"x4\",\"domain\":[0.7426,1.0],\"matches\":\"y3\",\"showticklabels\":false,\"showline\":false,\"ticks\":\"\",\"showgrid\":true},\"legend\":{\"title\":{\"text\":\"Maxpulse\"},\"tracegroupgap\":0},\"margin\":{\"t\":60},\"barmode\":\"overlay\",\"title\":{\"text\":\"Density Contour Chart of Workout Data\"},\"coloraxis\":{\"colorbar\":{\"title\":{\"text\":\"Max Pulse\"}}}},                        {\"responsive\": true}                    ).then(function(){\n",
       "                            \n",
       "var gd = document.getElementById('0f6ba3be-8746-4cf2-81b8-09cab7d8234b');\n",
       "var x = new MutationObserver(function (mutations, observer) {{\n",
       "        var display = window.getComputedStyle(gd).display;\n",
       "        if (!display || display === 'none') {{\n",
       "            console.log([gd, 'removed!']);\n",
       "            Plotly.purge(gd);\n",
       "            observer.disconnect();\n",
       "        }}\n",
       "}});\n",
       "\n",
       "// Listen for the removal of the full notebook cells\n",
       "var notebookContainer = gd.closest('#notebook-container');\n",
       "if (notebookContainer) {{\n",
       "    x.observe(notebookContainer, {childList: true});\n",
       "}}\n",
       "\n",
       "// Listen for the clearing of the current output cell\n",
       "var outputEl = gd.closest('.output');\n",
       "if (outputEl) {{\n",
       "    x.observe(outputEl, {childList: true});\n",
       "}}\n",
       "\n",
       "                        })                };                });            </script>        </div>"
      ]
     },
     "metadata": {},
     "output_type": "display_data"
    }
   ],
   "source": [
    "import plotly.express as px\n",
    "import pandas as pd\n",
    "\n",
    "# Load the workout data\n",
    "df = pd.read_csv('workout_data.csv')\n",
    "\n",
    "# Create the density contour chart\n",
    "fig = px.density_contour(df, x='Duration', y='Calories', color='Maxpulse', marginal_x='histogram', marginal_y='histogram')\n",
    "\n",
    "# Add the Pulse variable as a hover name\n",
    "fig.update_traces(hovertemplate='Duration: %{x}<br>Calories: %{y}<br>Maxpulse: %{z}<br>Pulse: %{customdata[0]}')\n",
    "\n",
    "# Customize the chart layout\n",
    "fig.update_layout(\n",
    "    title='Density Contour Chart of Workout Data',\n",
    "    xaxis_title='Duration (minutes)',\n",
    "    yaxis_title='Calories Burned',\n",
    "    coloraxis_colorbar_title='Max Pulse',\n",
    ")\n",
    "\n",
    "# Show the chart\n",
    "fig.show()\n",
    "\n"
   ]
  },
  {
   "cell_type": "code",
   "execution_count": 11,
   "id": "a919eab5-c7eb-48c0-a979-e7acfe28ec7b",
   "metadata": {},
   "outputs": [
    {
     "data": {
      "application/vnd.plotly.v1+json": {
       "config": {
        "plotlyServerURL": "https://plot.ly"
       },
       "data": [
        {
         "alignmentgroup": "True",
         "boxpoints": "all",
         "customdata": [
          [
           110
          ],
          [
           106
          ],
          [
           110
          ],
          [
           90
          ],
          [
           107
          ],
          [
           100
          ],
          [
           100
          ],
          [
           90
          ],
          [
           95
          ]
         ],
         "fillcolor": "rgba(255,255,255,0)",
         "hoveron": "points",
         "hovertemplate": "Maxpulse=130<br>Duration=%{x}<br>Calories=%{y}<br>Pulse=%{customdata[0]}<extra></extra>",
         "legendgroup": "130",
         "line": {
          "color": "rgba(255,255,255,0)"
         },
         "marker": {
          "color": "#636efa"
         },
         "name": "130",
         "offsetgroup": "130",
         "orientation": "v",
         "pointpos": 0,
         "showlegend": true,
         "type": "box",
         "x": [
          60,
          60,
          20,
          180,
          150,
          120,
          120,
          45,
          45
         ],
         "x0": " ",
         "xaxis": "x",
         "y": [
          409.1,
          263,
          131.4,
          800.4,
          816,
          500.4,
          500,
          260.4,
          270
         ],
         "y0": " ",
         "yaxis": "y"
        },
        {
         "alignmentgroup": "True",
         "boxpoints": "all",
         "customdata": [
          [
           117
          ],
          [
           110
          ],
          [
           115
          ]
         ],
         "fillcolor": "rgba(255,255,255,0)",
         "hoveron": "points",
         "hovertemplate": "Maxpulse=145<br>Duration=%{x}<br>Calories=%{y}<br>Pulse=%{customdata[0]}<extra></extra>",
         "legendgroup": "145",
         "line": {
          "color": "rgba(255,255,255,0)"
         },
         "marker": {
          "color": "#EF553B"
         },
         "name": "145",
         "offsetgroup": "145",
         "orientation": "v",
         "pointpos": 0,
         "showlegend": true,
         "type": "box",
         "x": [
          60,
          60,
          60
         ],
         "x0": " ",
         "xaxis": "x",
         "y": [
          479,
          300,
          310.2
         ],
         "y0": " ",
         "yaxis": "y"
        },
        {
         "alignmentgroup": "True",
         "boxpoints": "all",
         "customdata": [
          [
           103
          ],
          [
           109
          ],
          [
           105
          ],
          [
           108
          ]
         ],
         "fillcolor": "rgba(255,255,255,0)",
         "hoveron": "points",
         "hovertemplate": "Maxpulse=135<br>Duration=%{x}<br>Calories=%{y}<br>Pulse=%{customdata[0]}<extra></extra>",
         "legendgroup": "135",
         "line": {
          "color": "rgba(255,255,255,0)"
         },
         "marker": {
          "color": "#00cc96"
         },
         "name": "135",
         "offsetgroup": "135",
         "orientation": "v",
         "pointpos": 0,
         "showlegend": true,
         "type": "box",
         "x": [
          60,
          160,
          150,
          60
         ],
         "x0": " ",
         "xaxis": "x",
         "y": [
          340,
          853,
          873.4,
          390
         ],
         "y0": " ",
         "yaxis": "y"
        },
        {
         "alignmentgroup": "True",
         "boxpoints": "all",
         "customdata": [
          [
           109
          ],
          [
           136
          ]
         ],
         "fillcolor": "rgba(255,255,255,0)",
         "hoveron": "points",
         "hovertemplate": "Maxpulse=175<br>Duration=%{x}<br>Calories=%{y}<br>Pulse=%{customdata[0]}<extra></extra>",
         "legendgroup": "175",
         "line": {
          "color": "rgba(255,255,255,0)"
         },
         "marker": {
          "color": "#ab63fa"
         },
         "name": "175",
         "offsetgroup": "175",
         "orientation": "v",
         "pointpos": 0,
         "showlegend": true,
         "type": "box",
         "x": [
          45,
          30
         ],
         "x0": " ",
         "xaxis": "x",
         "y": [
          282.4,
          238
         ],
         "y0": " ",
         "yaxis": "y"
        },
        {
         "alignmentgroup": "True",
         "boxpoints": "all",
         "customdata": [
          [
           117
          ]
         ],
         "fillcolor": "rgba(255,255,255,0)",
         "hoveron": "points",
         "hovertemplate": "Maxpulse=148<br>Duration=%{x}<br>Calories=%{y}<br>Pulse=%{customdata[0]}<extra></extra>",
         "legendgroup": "148",
         "line": {
          "color": "rgba(255,255,255,0)"
         },
         "marker": {
          "color": "#FFA15A"
         },
         "name": "148",
         "offsetgroup": "148",
         "orientation": "v",
         "pointpos": 0,
         "showlegend": true,
         "type": "box",
         "x": [
          45
         ],
         "x0": " ",
         "xaxis": "x",
         "y": [
          406
         ],
         "y0": " ",
         "yaxis": "y"
        },
        {
         "alignmentgroup": "True",
         "boxpoints": "all",
         "customdata": [
          [
           102
          ],
          [
           102
          ],
          [
           100
          ],
          [
           97
          ],
          [
           101
          ],
          [
           107
          ],
          [
           109
          ],
          [
           97
          ],
          [
           103
          ]
         ],
         "fillcolor": "rgba(255,255,255,0)",
         "hoveron": "points",
         "hovertemplate": "Maxpulse=127<br>Duration=%{x}<br>Calories=%{y}<br>Pulse=%{customdata[0]}<extra></extra>",
         "legendgroup": "127",
         "line": {
          "color": "rgba(255,255,255,0)"
         },
         "marker": {
          "color": "#19d3f3"
         },
         "name": "127",
         "offsetgroup": "127",
         "orientation": "v",
         "pointpos": 0,
         "showlegend": true,
         "type": "box",
         "x": [
          60,
          60,
          90,
          150,
          180,
          60,
          60,
          60,
          30
         ],
         "x0": " ",
         "xaxis": "x",
         "y": [
          300,
          300,
          700,
          953.2,
          600.1,
          344.9,
          382,
          null,
          185
         ],
         "y0": " ",
         "yaxis": "y"
        },
        {
         "alignmentgroup": "True",
         "boxpoints": "all",
         "customdata": [
          [
           110
          ],
          [
           107
          ],
          [
           111
          ],
          [
           107
          ],
          [
           106
          ],
          [
           102
          ],
          [
           103
          ],
          [
           107
          ]
         ],
         "fillcolor": "rgba(255,255,255,0)",
         "hoveron": "points",
         "hovertemplate": "Maxpulse=136<br>Duration=%{x}<br>Calories=%{y}<br>Pulse=%{customdata[0]}<extra></extra>",
         "legendgroup": "136",
         "line": {
          "color": "rgba(255,255,255,0)"
         },
         "marker": {
          "color": "#FF6692"
         },
         "name": "136",
         "offsetgroup": "136",
         "orientation": "v",
         "pointpos": 0,
         "showlegend": true,
         "type": "box",
         "x": [
          60,
          60,
          45,
          60,
          20,
          45,
          60,
          60
         ],
         "x0": " ",
         "xaxis": "x",
         "y": [
          374,
          361,
          300,
          380.2,
          110.4,
          234,
          339,
          400
         ],
         "y0": " ",
         "yaxis": "y"
        },
        {
         "alignmentgroup": "True",
         "boxpoints": "all",
         "customdata": [
          [
           104
          ],
          [
           105
          ],
          [
           104
          ],
          [
           106
          ]
         ],
         "fillcolor": "rgba(255,255,255,0)",
         "hoveron": "points",
         "hovertemplate": "Maxpulse=134<br>Duration=%{x}<br>Calories=%{y}<br>Pulse=%{customdata[0]}<extra></extra>",
         "legendgroup": "134",
         "line": {
          "color": "rgba(255,255,255,0)"
         },
         "marker": {
          "color": "#B6E880"
         },
         "name": "134",
         "offsetgroup": "134",
         "orientation": "v",
         "pointpos": 0,
         "showlegend": true,
         "type": "box",
         "x": [
          45,
          45,
          60,
          60
         ],
         "x0": " ",
         "xaxis": "x",
         "y": [
          253.3,
          251,
          342.5,
          343
         ],
         "y0": " ",
         "yaxis": "y"
        },
        {
         "alignmentgroup": "True",
         "boxpoints": "all",
         "customdata": [
          [
           109
          ],
          [
           103
          ]
         ],
         "fillcolor": "rgba(255,255,255,0)",
         "hoveron": "points",
         "hovertemplate": "Maxpulse=133<br>Duration=%{x}<br>Calories=%{y}<br>Pulse=%{customdata[0]}<extra></extra>",
         "legendgroup": "133",
         "line": {
          "color": "rgba(255,255,255,0)"
         },
         "marker": {
          "color": "#FF97FF"
         },
         "name": "133",
         "offsetgroup": "133",
         "orientation": "v",
         "pointpos": 0,
         "showlegend": true,
         "type": "box",
         "x": [
          30,
          60
         ],
         "x0": " ",
         "xaxis": "x",
         "y": [
          195.1,
          335
         ],
         "y0": " ",
         "yaxis": "y"
        },
        {
         "alignmentgroup": "True",
         "boxpoints": "all",
         "customdata": [
          [
           98
          ],
          [
           101
          ],
          [
           93
          ],
          [
           102
          ],
          [
           107
          ],
          [
           103
          ],
          [
           97
          ]
         ],
         "fillcolor": "rgba(255,255,255,0)",
         "hoveron": "points",
         "hovertemplate": "Maxpulse=124<br>Duration=%{x}<br>Calories=%{y}<br>Pulse=%{customdata[0]}<extra></extra>",
         "legendgroup": "124",
         "line": {
          "color": "rgba(255,255,255,0)"
         },
         "marker": {
          "color": "#FECB52"
         },
         "name": "124",
         "offsetgroup": "124",
         "orientation": "v",
         "pointpos": 0,
         "showlegend": true,
         "type": "box",
         "x": [
          60,
          60,
          90,
          60,
          45,
          60,
          60
         ],
         "x0": " ",
         "xaxis": "x",
         "y": [
          269,
          299,
          604.1,
          325.2,
          275,
          332.7,
          275.3
         ],
         "y0": " ",
         "yaxis": "y"
        },
        {
         "alignmentgroup": "True",
         "boxpoints": "all",
         "customdata": [
          [
           103
          ]
         ],
         "fillcolor": "rgba(255,255,255,0)",
         "hoveron": "points",
         "hovertemplate": "Maxpulse=147<br>Duration=%{x}<br>Calories=%{y}<br>Pulse=%{customdata[0]}<extra></extra>",
         "legendgroup": "147",
         "line": {
          "color": "rgba(255,255,255,0)"
         },
         "marker": {
          "color": "#636efa"
         },
         "name": "147",
         "offsetgroup": "147",
         "orientation": "v",
         "pointpos": 0,
         "showlegend": true,
         "type": "box",
         "x": [
          60
         ],
         "x0": " ",
         "xaxis": "x",
         "y": [
          329.3
         ],
         "y0": " ",
         "yaxis": "y"
        },
        {
         "alignmentgroup": "True",
         "boxpoints": "all",
         "customdata": [
          [
           100
          ],
          [
           98
          ],
          [
           100
          ],
          [
           100
          ],
          [
           100
          ],
          [
           100
          ],
          [
           100
          ],
          [
           90
          ],
          [
           90
          ],
          [
           90
          ],
          [
           100
          ],
          [
           100
          ],
          [
           100
          ],
          [
           100
          ],
          [
           80
          ],
          [
           85
          ]
         ],
         "fillcolor": "rgba(255,255,255,0)",
         "hoveron": "points",
         "hovertemplate": "Maxpulse=120<br>Duration=%{x}<br>Calories=%{y}<br>Pulse=%{customdata[0]}<extra></extra>",
         "legendgroup": "120",
         "line": {
          "color": "rgba(255,255,255,0)"
         },
         "marker": {
          "color": "#EF553B"
         },
         "name": "120",
         "offsetgroup": "120",
         "orientation": "v",
         "pointpos": 0,
         "showlegend": true,
         "type": "box",
         "x": [
          60,
          60,
          60,
          60,
          60,
          60,
          45,
          180,
          30,
          90,
          45,
          45,
          45,
          60,
          30,
          30
         ],
         "x0": " ",
         "xaxis": "x",
         "y": [
          250.7,
          215.2,
          300,
          250,
          300,
          300,
          225.3,
          800.3,
          86.2,
          500.3,
          225.3,
          100.7,
          250.4,
          270.4,
          240.9,
          250.4
         ],
         "y0": " ",
         "yaxis": "y"
        },
        {
         "alignmentgroup": "True",
         "boxpoints": "all",
         "customdata": [
          [
           106
          ],
          [
           95
          ],
          [
           93
          ],
          [
           105
          ]
         ],
         "fillcolor": "rgba(255,255,255,0)",
         "hoveron": "points",
         "hovertemplate": "Maxpulse=128<br>Duration=%{x}<br>Calories=%{y}<br>Pulse=%{customdata[0]}<extra></extra>",
         "legendgroup": "128",
         "line": {
          "color": "rgba(255,255,255,0)"
         },
         "marker": {
          "color": "#00cc96"
         },
         "name": "128",
         "offsetgroup": "128",
         "orientation": "v",
         "pointpos": 0,
         "showlegend": true,
         "type": "box",
         "x": [
          60,
          30,
          30,
          60
         ],
         "x0": " ",
         "xaxis": "x",
         "y": [
          345.3,
          128.2,
          124,
          328
         ],
         "y0": " ",
         "yaxis": "y"
        },
        {
         "alignmentgroup": "True",
         "boxpoints": "all",
         "customdata": [
          [
           104
          ],
          [
           105
          ],
          [
           103
          ],
          [
           100
          ],
          [
           106
          ]
         ],
         "fillcolor": "rgba(255,255,255,0)",
         "hoveron": "points",
         "hovertemplate": "Maxpulse=132<br>Duration=%{x}<br>Calories=%{y}<br>Pulse=%{customdata[0]}<extra></extra>",
         "legendgroup": "132",
         "line": {
          "color": "rgba(255,255,255,0)"
         },
         "marker": {
          "color": "#ab63fa"
         },
         "name": "132",
         "offsetgroup": "132",
         "orientation": "v",
         "pointpos": 0,
         "showlegend": true,
         "type": "box",
         "x": [
          60,
          45,
          60,
          60,
          60
         ],
         "x0": " ",
         "xaxis": "x",
         "y": [
          379.3,
          246,
          null,
          280,
          327.5
         ],
         "y0": " ",
         "yaxis": "y"
        },
        {
         "alignmentgroup": "True",
         "boxpoints": "all",
         "customdata": [
          [
           98
          ],
          [
           103
          ]
         ],
         "fillcolor": "rgba(255,255,255,0)",
         "hoveron": "points",
         "hovertemplate": "Maxpulse=123<br>Duration=%{x}<br>Calories=%{y}<br>Pulse=%{customdata[0]}<extra></extra>",
         "legendgroup": "123",
         "line": {
          "color": "rgba(255,255,255,0)"
         },
         "marker": {
          "color": "#FFA15A"
         },
         "name": "123",
         "offsetgroup": "123",
         "orientation": "v",
         "pointpos": 0,
         "showlegend": true,
         "type": "box",
         "x": [
          60,
          60
         ],
         "x0": " ",
         "xaxis": "x",
         "y": [
          275,
          323
         ],
         "y0": " ",
         "yaxis": "y"
        },
        {
         "alignmentgroup": "True",
         "boxpoints": "all",
         "customdata": [
          [
           90
          ],
          [
           90
          ],
          [
           90
          ],
          [
           95
          ]
         ],
         "fillcolor": "rgba(255,255,255,0)",
         "hoveron": "points",
         "hovertemplate": "Maxpulse=112<br>Duration=%{x}<br>Calories=%{y}<br>Pulse=%{customdata[0]}<extra></extra>",
         "legendgroup": "112",
         "line": {
          "color": "rgba(255,255,255,0)"
         },
         "marker": {
          "color": "#19d3f3"
         },
         "name": "112",
         "offsetgroup": "112",
         "orientation": "v",
         "pointpos": 0,
         "showlegend": true,
         "type": "box",
         "x": [
          45,
          45,
          45,
          20
         ],
         "x0": " ",
         "xaxis": "x",
         "y": [
          null,
          180.1,
          180.1,
          77.7
         ],
         "y0": " ",
         "yaxis": "y"
        },
        {
         "alignmentgroup": "True",
         "boxpoints": "all",
         "customdata": [
          [
           97
          ],
          [
           98
          ],
          [
           105
          ],
          [
           99
          ]
         ],
         "fillcolor": "rgba(255,255,255,0)",
         "hoveron": "points",
         "hovertemplate": "Maxpulse=125<br>Duration=%{x}<br>Calories=%{y}<br>Pulse=%{customdata[0]}<extra></extra>",
         "legendgroup": "125",
         "line": {
          "color": "rgba(255,255,255,0)"
         },
         "marker": {
          "color": "#FF6692"
         },
         "name": "125",
         "offsetgroup": "125",
         "orientation": "v",
         "pointpos": 0,
         "showlegend": true,
         "type": "box",
         "x": [
          45,
          90,
          60,
          90
         ],
         "x0": " ",
         "xaxis": "x",
         "y": [
          243,
          563.2,
          null,
          466.4
         ],
         "y0": " ",
         "yaxis": "y"
        },
        {
         "alignmentgroup": "True",
         "boxpoints": "all",
         "customdata": [
          [
           108
          ],
          [
           111
          ],
          [
           100
          ],
          [
           109
          ],
          [
           108
          ],
          [
           97
          ]
         ],
         "fillcolor": "rgba(255,255,255,0)",
         "hoveron": "points",
         "hovertemplate": "Maxpulse=131<br>Duration=%{x}<br>Calories=%{y}<br>Pulse=%{customdata[0]}<extra></extra>",
         "legendgroup": "131",
         "line": {
          "color": "rgba(255,255,255,0)"
         },
         "marker": {
          "color": "#B6E880"
         },
         "name": "131",
         "offsetgroup": "131",
         "orientation": "v",
         "pointpos": 0,
         "showlegend": true,
         "type": "box",
         "x": [
          60,
          60,
          270,
          30,
          60,
          60
         ],
         "x0": " ",
         "xaxis": "x",
         "y": [
          364.2,
          397,
          1729,
          188.2,
          367.6,
          270.4
         ],
         "y0": " ",
         "yaxis": "y"
        },
        {
         "alignmentgroup": "True",
         "boxpoints": "all",
         "customdata": [
          [
           100
          ],
          [
           99
          ]
         ],
         "fillcolor": "rgba(255,255,255,0)",
         "hoveron": "points",
         "hovertemplate": "Maxpulse=119<br>Duration=%{x}<br>Calories=%{y}<br>Pulse=%{customdata[0]}<extra></extra>",
         "legendgroup": "119",
         "line": {
          "color": "rgba(255,255,255,0)"
         },
         "marker": {
          "color": "#FF97FF"
         },
         "name": "119",
         "offsetgroup": "119",
         "orientation": "v",
         "pointpos": 0,
         "showlegend": true,
         "type": "box",
         "x": [
          45,
          60
         ],
         "x0": " ",
         "xaxis": "x",
         "y": [
          282,
          273
         ],
         "y0": " ",
         "yaxis": "y"
        },
        {
         "alignmentgroup": "True",
         "boxpoints": "all",
         "customdata": [
          [
           130
          ]
         ],
         "fillcolor": "rgba(255,255,255,0)",
         "hoveron": "points",
         "hovertemplate": "Maxpulse=101<br>Duration=%{x}<br>Calories=%{y}<br>Pulse=%{customdata[0]}<extra></extra>",
         "legendgroup": "101",
         "line": {
          "color": "rgba(255,255,255,0)"
         },
         "marker": {
          "color": "#FECB52"
         },
         "name": "101",
         "offsetgroup": "101",
         "orientation": "v",
         "pointpos": 0,
         "showlegend": true,
         "type": "box",
         "x": [
          60
         ],
         "x0": " ",
         "xaxis": "x",
         "y": [
          300
         ],
         "y0": " ",
         "yaxis": "y"
        },
        {
         "alignmentgroup": "True",
         "boxpoints": "all",
         "customdata": [
          [
           102
          ],
          [
           98
          ],
          [
           106
          ]
         ],
         "fillcolor": "rgba(255,255,255,0)",
         "hoveron": "points",
         "hovertemplate": "Maxpulse=126<br>Duration=%{x}<br>Calories=%{y}<br>Pulse=%{customdata[0]}<extra></extra>",
         "legendgroup": "126",
         "line": {
          "color": "rgba(255,255,255,0)"
         },
         "marker": {
          "color": "#636efa"
         },
         "name": "126",
         "offsetgroup": "126",
         "orientation": "v",
         "pointpos": 0,
         "showlegend": true,
         "type": "box",
         "x": [
          60,
          60,
          45
         ],
         "x0": " ",
         "xaxis": "x",
         "y": [
          334.5,
          286,
          270.8
         ],
         "y0": " ",
         "yaxis": "y"
        },
        {
         "alignmentgroup": "True",
         "boxpoints": "all",
         "customdata": [
          [
           92
          ]
         ],
         "fillcolor": "rgba(255,255,255,0)",
         "hoveron": "points",
         "hovertemplate": "Maxpulse=118<br>Duration=%{x}<br>Calories=%{y}<br>Pulse=%{customdata[0]}<extra></extra>",
         "legendgroup": "118",
         "line": {
          "color": "rgba(255,255,255,0)"
         },
         "marker": {
          "color": "#EF553B"
         },
         "name": "118",
         "offsetgroup": "118",
         "orientation": "v",
         "pointpos": 0,
         "showlegend": true,
         "type": "box",
         "x": [
          60
         ],
         "x0": " ",
         "xaxis": "x",
         "y": [
          241
         ],
         "y0": " ",
         "yaxis": "y"
        },
        {
         "alignmentgroup": "True",
         "boxpoints": "all",
         "customdata": [
          [
           102
          ],
          [
           104
          ],
          [
           108
          ],
          [
           97
          ],
          [
           109
          ]
         ],
         "fillcolor": "rgba(255,255,255,0)",
         "hoveron": "points",
         "hovertemplate": "Maxpulse=129<br>Duration=%{x}<br>Calories=%{y}<br>Pulse=%{customdata[0]}<extra></extra>",
         "legendgroup": "129",
         "line": {
          "color": "rgba(255,255,255,0)"
         },
         "marker": {
          "color": "#00cc96"
         },
         "name": "129",
         "offsetgroup": "129",
         "orientation": "v",
         "pointpos": 0,
         "showlegend": true,
         "type": "box",
         "x": [
          60,
          45,
          45,
          150,
          60
         ],
         "x0": " ",
         "xaxis": "x",
         "y": [
          380.3,
          266,
          298,
          1115,
          353.2
         ],
         "y0": " ",
         "yaxis": "y"
        },
        {
         "alignmentgroup": "True",
         "boxpoints": "all",
         "customdata": [
          [
           92
          ]
         ],
         "fillcolor": "rgba(255,255,255,0)",
         "hoveron": "points",
         "hovertemplate": "Maxpulse=115<br>Duration=%{x}<br>Calories=%{y}<br>Pulse=%{customdata[0]}<extra></extra>",
         "legendgroup": "115",
         "line": {
          "color": "rgba(255,255,255,0)"
         },
         "marker": {
          "color": "#ab63fa"
         },
         "name": "115",
         "offsetgroup": "115",
         "orientation": "v",
         "pointpos": 0,
         "showlegend": true,
         "type": "box",
         "x": [
          60
         ],
         "x0": " ",
         "xaxis": "x",
         "y": [
          243
         ],
         "y0": " ",
         "yaxis": "y"
        },
        {
         "alignmentgroup": "True",
         "boxpoints": "all",
         "customdata": [
          [
           93
          ]
         ],
         "fillcolor": "rgba(255,255,255,0)",
         "hoveron": "points",
         "hovertemplate": "Maxpulse=113<br>Duration=%{x}<br>Calories=%{y}<br>Pulse=%{customdata[0]}<extra></extra>",
         "legendgroup": "113",
         "line": {
          "color": "rgba(255,255,255,0)"
         },
         "marker": {
          "color": "#FFA15A"
         },
         "name": "113",
         "offsetgroup": "113",
         "orientation": "v",
         "pointpos": 0,
         "showlegend": true,
         "type": "box",
         "x": [
          60
         ],
         "x0": " ",
         "xaxis": "x",
         "y": [
          223
         ],
         "y0": " ",
         "yaxis": "y"
        },
        {
         "alignmentgroup": "True",
         "boxpoints": "all",
         "customdata": [
          [
           114
          ],
          [
           100
          ],
          [
           105
          ]
         ],
         "fillcolor": "rgba(255,255,255,0)",
         "hoveron": "points",
         "hovertemplate": "Maxpulse=140<br>Duration=%{x}<br>Calories=%{y}<br>Pulse=%{customdata[0]}<extra></extra>",
         "legendgroup": "140",
         "line": {
          "color": "rgba(255,255,255,0)"
         },
         "marker": {
          "color": "#19d3f3"
         },
         "name": "140",
         "offsetgroup": "140",
         "orientation": "v",
         "pointpos": 0,
         "showlegend": true,
         "type": "box",
         "x": [
          60,
          45,
          60
         ],
         "x0": " ",
         "xaxis": "x",
         "y": [
          415,
          280.9,
          290.8
         ],
         "y0": " ",
         "yaxis": "y"
        },
        {
         "alignmentgroup": "True",
         "boxpoints": "all",
         "customdata": [
          [
           100
          ],
          [
           97
          ],
          [
           98
          ]
         ],
         "fillcolor": "rgba(255,255,255,0)",
         "hoveron": "points",
         "hovertemplate": "Maxpulse=122<br>Duration=%{x}<br>Calories=%{y}<br>Pulse=%{customdata[0]}<extra></extra>",
         "legendgroup": "122",
         "line": {
          "color": "rgba(255,255,255,0)"
         },
         "marker": {
          "color": "#FF6692"
         },
         "name": "122",
         "offsetgroup": "122",
         "orientation": "v",
         "pointpos": 0,
         "showlegend": true,
         "type": "box",
         "x": [
          60,
          60,
          60
         ],
         "x0": " ",
         "xaxis": "x",
         "y": [
          329.4,
          277.4,
          271
         ],
         "y0": " ",
         "yaxis": "y"
        },
        {
         "alignmentgroup": "True",
         "boxpoints": "all",
         "customdata": [
          [
           111
          ],
          [
           107
          ],
          [
           113
          ],
          [
           109
          ]
         ],
         "fillcolor": "rgba(255,255,255,0)",
         "hoveron": "points",
         "hovertemplate": "Maxpulse=138<br>Duration=%{x}<br>Calories=%{y}<br>Pulse=%{customdata[0]}<extra></extra>",
         "legendgroup": "138",
         "line": {
          "color": "rgba(255,255,255,0)"
         },
         "marker": {
          "color": "#B6E880"
         },
         "name": "138",
         "offsetgroup": "138",
         "orientation": "v",
         "pointpos": 0,
         "showlegend": true,
         "type": "box",
         "x": [
          60,
          60,
          45,
          60
         ],
         "x0": " ",
         "xaxis": "x",
         "y": [
          400,
          357.5,
          308,
          374
         ],
         "y0": " ",
         "yaxis": "y"
        },
        {
         "alignmentgroup": "True",
         "boxpoints": "all",
         "customdata": [
          [
           109
          ],
          [
           109
          ]
         ],
         "fillcolor": "rgba(255,255,255,0)",
         "hoveron": "points",
         "hovertemplate": "Maxpulse=153<br>Duration=%{x}<br>Calories=%{y}<br>Pulse=%{customdata[0]}<extra></extra>",
         "legendgroup": "153",
         "line": {
          "color": "rgba(255,255,255,0)"
         },
         "marker": {
          "color": "#FF97FF"
         },
         "name": "153",
         "offsetgroup": "153",
         "orientation": "v",
         "pointpos": 0,
         "showlegend": true,
         "type": "box",
         "x": [
          60,
          60
         ],
         "x0": " ",
         "xaxis": "x",
         "y": [
          387.6,
          387.6
         ],
         "y0": " ",
         "yaxis": "y"
        },
        {
         "alignmentgroup": "True",
         "boxpoints": "all",
         "customdata": [
          [
           111
          ],
          [
           103
          ],
          [
           124
          ]
         ],
         "fillcolor": "rgba(255,255,255,0)",
         "hoveron": "points",
         "hovertemplate": "Maxpulse=139<br>Duration=%{x}<br>Calories=%{y}<br>Pulse=%{customdata[0]}<extra></extra>",
         "legendgroup": "139",
         "line": {
          "color": "rgba(255,255,255,0)"
         },
         "marker": {
          "color": "#FECB52"
         },
         "name": "139",
         "offsetgroup": "139",
         "orientation": "v",
         "pointpos": 0,
         "showlegend": true,
         "type": "box",
         "x": [
          60,
          30,
          15
         ],
         "x0": " ",
         "xaxis": "x",
         "y": [
          397.6,
          151.1,
          124.2
         ],
         "y0": " ",
         "yaxis": "y"
        },
        {
         "alignmentgroup": "True",
         "boxpoints": "all",
         "customdata": [
          [
           123
          ],
          [
           121
          ],
          [
           114
          ],
          [
           112
          ]
         ],
         "fillcolor": "rgba(255,255,255,0)",
         "hoveron": "points",
         "hovertemplate": "Maxpulse=146<br>Duration=%{x}<br>Calories=%{y}<br>Pulse=%{customdata[0]}<extra></extra>",
         "legendgroup": "146",
         "line": {
          "color": "rgba(255,255,255,0)"
         },
         "marker": {
          "color": "#636efa"
         },
         "name": "146",
         "offsetgroup": "146",
         "orientation": "v",
         "pointpos": 0,
         "showlegend": true,
         "type": "box",
         "x": [
          80,
          60,
          45,
          60
         ],
         "x0": " ",
         "xaxis": "x",
         "y": [
          643.1,
          450.7,
          304,
          361.9
         ],
         "y0": " ",
         "yaxis": "y"
        },
        {
         "alignmentgroup": "True",
         "boxpoints": "all",
         "customdata": [
          [
           118
          ],
          [
           108
          ],
          [
           111
          ],
          [
           114
          ],
          [
           111
          ]
         ],
         "fillcolor": "rgba(255,255,255,0)",
         "hoveron": "points",
         "hovertemplate": "Maxpulse=151<br>Duration=%{x}<br>Calories=%{y}<br>Pulse=%{customdata[0]}<extra></extra>",
         "legendgroup": "151",
         "line": {
          "color": "rgba(255,255,255,0)"
         },
         "marker": {
          "color": "#EF553B"
         },
         "name": "151",
         "offsetgroup": "151",
         "orientation": "v",
         "pointpos": 0,
         "showlegend": true,
         "type": "box",
         "x": [
          60,
          60,
          60,
          60,
          60
         ],
         "x0": " ",
         "xaxis": "x",
         "y": [
          486,
          351.7,
          368.5,
          384,
          368.5
         ],
         "y0": " ",
         "yaxis": "y"
        },
        {
         "alignmentgroup": "True",
         "boxpoints": "all",
         "customdata": [
          [
           118
          ]
         ],
         "fillcolor": "rgba(255,255,255,0)",
         "hoveron": "points",
         "hovertemplate": "Maxpulse=121<br>Duration=%{x}<br>Calories=%{y}<br>Pulse=%{customdata[0]}<extra></extra>",
         "legendgroup": "121",
         "line": {
          "color": "rgba(255,255,255,0)"
         },
         "marker": {
          "color": "#00cc96"
         },
         "name": "121",
         "offsetgroup": "121",
         "orientation": "v",
         "pointpos": 0,
         "showlegend": true,
         "type": "box",
         "x": [
          60
         ],
         "x0": " ",
         "xaxis": "x",
         "y": [
          413
         ],
         "y0": " ",
         "yaxis": "y"
        },
        {
         "alignmentgroup": "True",
         "boxpoints": "all",
         "customdata": [
          [
           115
          ]
         ],
         "fillcolor": "rgba(255,255,255,0)",
         "hoveron": "points",
         "hovertemplate": "Maxpulse=144<br>Duration=%{x}<br>Calories=%{y}<br>Pulse=%{customdata[0]}<extra></extra>",
         "legendgroup": "144",
         "line": {
          "color": "rgba(255,255,255,0)"
         },
         "marker": {
          "color": "#ab63fa"
         },
         "name": "144",
         "offsetgroup": "144",
         "orientation": "v",
         "pointpos": 0,
         "showlegend": true,
         "type": "box",
         "x": [
          45
         ],
         "x0": " ",
         "xaxis": "x",
         "y": [
          305
         ],
         "y0": " ",
         "yaxis": "y"
        },
        {
         "alignmentgroup": "True",
         "boxpoints": "all",
         "customdata": [
          [
           153
          ]
         ],
         "fillcolor": "rgba(255,255,255,0)",
         "hoveron": "points",
         "hovertemplate": "Maxpulse=172<br>Duration=%{x}<br>Calories=%{y}<br>Pulse=%{customdata[0]}<extra></extra>",
         "legendgroup": "172",
         "line": {
          "color": "rgba(255,255,255,0)"
         },
         "marker": {
          "color": "#FFA15A"
         },
         "name": "172",
         "offsetgroup": "172",
         "orientation": "v",
         "pointpos": 0,
         "showlegend": true,
         "type": "box",
         "x": [
          20
         ],
         "x0": " ",
         "xaxis": "x",
         "y": [
          226.4
         ],
         "y0": " ",
         "yaxis": "y"
        },
        {
         "alignmentgroup": "True",
         "boxpoints": "all",
         "customdata": [
          [
           123
          ]
         ],
         "fillcolor": "rgba(255,255,255,0)",
         "hoveron": "points",
         "hovertemplate": "Maxpulse=152<br>Duration=%{x}<br>Calories=%{y}<br>Pulse=%{customdata[0]}<extra></extra>",
         "legendgroup": "152",
         "line": {
          "color": "rgba(255,255,255,0)"
         },
         "marker": {
          "color": "#19d3f3"
         },
         "name": "152",
         "offsetgroup": "152",
         "orientation": "v",
         "pointpos": 0,
         "showlegend": true,
         "type": "box",
         "x": [
          45
         ],
         "x0": " ",
         "xaxis": "x",
         "y": [
          321
         ],
         "y0": " ",
         "yaxis": "y"
        },
        {
         "alignmentgroup": "True",
         "boxpoints": "all",
         "customdata": [
          [
           108
          ]
         ],
         "fillcolor": "rgba(255,255,255,0)",
         "hoveron": "points",
         "hovertemplate": "Maxpulse=160<br>Duration=%{x}<br>Calories=%{y}<br>Pulse=%{customdata[0]}<extra></extra>",
         "legendgroup": "160",
         "line": {
          "color": "rgba(255,255,255,0)"
         },
         "marker": {
          "color": "#FF6692"
         },
         "name": "160",
         "offsetgroup": "160",
         "orientation": "v",
         "pointpos": 0,
         "showlegend": true,
         "type": "box",
         "x": [
          210
         ],
         "x0": " ",
         "xaxis": "x",
         "y": [
          1376
         ],
         "y0": " ",
         "yaxis": "y"
        },
        {
         "alignmentgroup": "True",
         "boxpoints": "all",
         "customdata": [
          [
           110
          ],
          [
           107
          ],
          [
           112
          ],
          [
           115
          ]
         ],
         "fillcolor": "rgba(255,255,255,0)",
         "hoveron": "points",
         "hovertemplate": "Maxpulse=137<br>Duration=%{x}<br>Calories=%{y}<br>Pulse=%{customdata[0]}<extra></extra>",
         "legendgroup": "137",
         "line": {
          "color": "rgba(255,255,255,0)"
         },
         "marker": {
          "color": "#B6E880"
         },
         "name": "137",
         "offsetgroup": "137",
         "orientation": "v",
         "pointpos": 0,
         "showlegend": true,
         "type": "box",
         "x": [
          160,
          45,
          30,
          45
         ],
         "x0": " ",
         "xaxis": "x",
         "y": [
          1034.4,
          null,
          193.9,
          318
         ],
         "y0": " ",
         "yaxis": "y"
        },
        {
         "alignmentgroup": "True",
         "boxpoints": "all",
         "customdata": [
          [
           118
          ],
          [
           110
          ],
          [
           116
          ]
         ],
         "fillcolor": "rgba(255,255,255,0)",
         "hoveron": "points",
         "hovertemplate": "Maxpulse=141<br>Duration=%{x}<br>Calories=%{y}<br>Pulse=%{customdata[0]}<extra></extra>",
         "legendgroup": "141",
         "line": {
          "color": "rgba(255,255,255,0)"
         },
         "marker": {
          "color": "#FF97FF"
         },
         "name": "141",
         "offsetgroup": "141",
         "orientation": "v",
         "pointpos": 0,
         "showlegend": true,
         "type": "box",
         "x": [
          45,
          45,
          60
         ],
         "x0": " ",
         "xaxis": "x",
         "y": [
          341,
          300,
          443
         ],
         "y0": " ",
         "yaxis": "y"
        },
        {
         "alignmentgroup": "True",
         "boxpoints": "all",
         "customdata": [
          [
           108
          ],
          [
           117
          ]
         ],
         "fillcolor": "rgba(255,255,255,0)",
         "hoveron": "points",
         "hovertemplate": "Maxpulse=143<br>Duration=%{x}<br>Calories=%{y}<br>Pulse=%{customdata[0]}<extra></extra>",
         "legendgroup": "143",
         "line": {
          "color": "rgba(255,255,255,0)"
         },
         "marker": {
          "color": "#FECB52"
         },
         "name": "143",
         "offsetgroup": "143",
         "orientation": "v",
         "pointpos": 0,
         "showlegend": true,
         "type": "box",
         "x": [
          300,
          45
         ],
         "x0": " ",
         "xaxis": "x",
         "y": [
          1500.2,
          317.7
         ],
         "y0": " ",
         "yaxis": "y"
        },
        {
         "alignmentgroup": "True",
         "boxpoints": "all",
         "customdata": [
          [
           159
          ]
         ],
         "fillcolor": "rgba(255,255,255,0)",
         "hoveron": "points",
         "hovertemplate": "Maxpulse=182<br>Duration=%{x}<br>Calories=%{y}<br>Pulse=%{customdata[0]}<extra></extra>",
         "legendgroup": "182",
         "line": {
          "color": "rgba(255,255,255,0)"
         },
         "marker": {
          "color": "#636efa"
         },
         "name": "182",
         "offsetgroup": "182",
         "orientation": "v",
         "pointpos": 0,
         "showlegend": true,
         "type": "box",
         "x": [
          30
         ],
         "x0": " ",
         "xaxis": "x",
         "y": [
          319.2
         ],
         "y0": " ",
         "yaxis": "y"
        },
        {
         "alignmentgroup": "True",
         "boxpoints": "all",
         "customdata": [
          [
           149
          ],
          [
           119
          ]
         ],
         "fillcolor": "rgba(255,255,255,0)",
         "hoveron": "points",
         "hovertemplate": "Maxpulse=169<br>Duration=%{x}<br>Calories=%{y}<br>Pulse=%{customdata[0]}<extra></extra>",
         "legendgroup": "169",
         "line": {
          "color": "rgba(255,255,255,0)"
         },
         "marker": {
          "color": "#EF553B"
         },
         "name": "169",
         "offsetgroup": "169",
         "orientation": "v",
         "pointpos": 0,
         "showlegend": true,
         "type": "box",
         "x": [
          45,
          60
         ],
         "x0": " ",
         "xaxis": "x",
         "y": [
          344,
          336.7
         ],
         "y0": " ",
         "yaxis": "y"
        },
        {
         "alignmentgroup": "True",
         "boxpoints": "all",
         "customdata": [
          [
           151
          ],
          [
           136
          ]
         ],
         "fillcolor": "rgba(255,255,255,0)",
         "hoveron": "points",
         "hovertemplate": "Maxpulse=170<br>Duration=%{x}<br>Calories=%{y}<br>Pulse=%{customdata[0]}<extra></extra>",
         "legendgroup": "170",
         "line": {
          "color": "rgba(255,255,255,0)"
         },
         "marker": {
          "color": "#00cc96"
         },
         "name": "170",
         "offsetgroup": "170",
         "orientation": "v",
         "pointpos": 0,
         "showlegend": true,
         "type": "box",
         "x": [
          30,
          60
         ],
         "x0": " ",
         "xaxis": "x",
         "y": [
          300,
          470.2
         ],
         "y0": " ",
         "yaxis": "y"
        },
        {
         "alignmentgroup": "True",
         "boxpoints": "all",
         "customdata": [
          [
           100
          ]
         ],
         "fillcolor": "rgba(255,255,255,0)",
         "hoveron": "points",
         "hovertemplate": "Maxpulse=157<br>Duration=%{x}<br>Calories=%{y}<br>Pulse=%{customdata[0]}<extra></extra>",
         "legendgroup": "157",
         "line": {
          "color": "rgba(255,255,255,0)"
         },
         "marker": {
          "color": "#ab63fa"
         },
         "name": "157",
         "offsetgroup": "157",
         "orientation": "v",
         "pointpos": 0,
         "showlegend": true,
         "type": "box",
         "x": [
          120
         ],
         "x0": " ",
         "xaxis": "x",
         "y": [
          1000.1
         ],
         "y0": " ",
         "yaxis": "y"
        },
        {
         "alignmentgroup": "True",
         "boxpoints": "all",
         "customdata": [
          [
           129
          ]
         ],
         "fillcolor": "rgba(255,255,255,0)",
         "hoveron": "points",
         "hovertemplate": "Maxpulse=103<br>Duration=%{x}<br>Calories=%{y}<br>Pulse=%{customdata[0]}<extra></extra>",
         "legendgroup": "103",
         "line": {
          "color": "rgba(255,255,255,0)"
         },
         "marker": {
          "color": "#FFA15A"
         },
         "name": "103",
         "offsetgroup": "103",
         "orientation": "v",
         "pointpos": 0,
         "showlegend": true,
         "type": "box",
         "x": [
          45
         ],
         "x0": " ",
         "xaxis": "x",
         "y": [
          242
         ],
         "y0": " ",
         "yaxis": "y"
        },
        {
         "alignmentgroup": "True",
         "boxpoints": "all",
         "customdata": [
          [
           83
          ],
          [
           90
          ]
         ],
         "fillcolor": "rgba(255,255,255,0)",
         "hoveron": "points",
         "hovertemplate": "Maxpulse=107<br>Duration=%{x}<br>Calories=%{y}<br>Pulse=%{customdata[0]}<extra></extra>",
         "legendgroup": "107",
         "line": {
          "color": "rgba(255,255,255,0)"
         },
         "marker": {
          "color": "#19d3f3"
         },
         "name": "107",
         "offsetgroup": "107",
         "orientation": "v",
         "pointpos": 0,
         "showlegend": true,
         "type": "box",
         "x": [
          20,
          30
         ],
         "x0": " ",
         "xaxis": "x",
         "y": [
          50.3,
          105.3
         ],
         "y0": " ",
         "yaxis": "y"
        },
        {
         "alignmentgroup": "True",
         "boxpoints": "all",
         "customdata": [
          [
           80
          ],
          [
           90
          ],
          [
           90
          ]
         ],
         "fillcolor": "rgba(255,255,255,0)",
         "hoveron": "points",
         "hovertemplate": "Maxpulse=100<br>Duration=%{x}<br>Calories=%{y}<br>Pulse=%{customdata[0]}<extra></extra>",
         "legendgroup": "100",
         "line": {
          "color": "rgba(255,255,255,0)"
         },
         "marker": {
          "color": "#FF6692"
         },
         "name": "100",
         "offsetgroup": "100",
         "orientation": "v",
         "pointpos": 0,
         "showlegend": true,
         "type": "box",
         "x": [
          15,
          90,
          90
         ],
         "x0": " ",
         "xaxis": "x",
         "y": [
          50.5,
          500,
          500.4
         ],
         "y0": " ",
         "yaxis": "y"
        },
        {
         "alignmentgroup": "True",
         "boxpoints": "all",
         "customdata": [
          [
           150
          ]
         ],
         "fillcolor": "rgba(255,255,255,0)",
         "hoveron": "points",
         "hovertemplate": "Maxpulse=171<br>Duration=%{x}<br>Calories=%{y}<br>Pulse=%{customdata[0]}<extra></extra>",
         "legendgroup": "171",
         "line": {
          "color": "rgba(255,255,255,0)"
         },
         "marker": {
          "color": "#B6E880"
         },
         "name": "171",
         "offsetgroup": "171",
         "orientation": "v",
         "pointpos": 0,
         "showlegend": true,
         "type": "box",
         "x": [
          20
         ],
         "x0": " ",
         "xaxis": "x",
         "y": [
          127.4
         ],
         "y0": " ",
         "yaxis": "y"
        },
        {
         "alignmentgroup": "True",
         "boxpoints": "all",
         "customdata": [
          [
           151
          ],
          [
           152
          ]
         ],
         "fillcolor": "rgba(255,255,255,0)",
         "hoveron": "points",
         "hovertemplate": "Maxpulse=168<br>Duration=%{x}<br>Calories=%{y}<br>Pulse=%{customdata[0]}<extra></extra>",
         "legendgroup": "168",
         "line": {
          "color": "rgba(255,255,255,0)"
         },
         "marker": {
          "color": "#FF97FF"
         },
         "name": "168",
         "offsetgroup": "168",
         "orientation": "v",
         "pointpos": 0,
         "showlegend": true,
         "type": "box",
         "x": [
          20,
          25
         ],
         "x0": " ",
         "xaxis": "x",
         "y": [
          229.4,
          244.2
         ],
         "y0": " ",
         "yaxis": "y"
        },
        {
         "alignmentgroup": "True",
         "boxpoints": "all",
         "customdata": [
          [
           90
          ]
         ],
         "fillcolor": "rgba(255,255,255,0)",
         "hoveron": "points",
         "hovertemplate": "Maxpulse=110<br>Duration=%{x}<br>Calories=%{y}<br>Pulse=%{customdata[0]}<extra></extra>",
         "legendgroup": "110",
         "line": {
          "color": "rgba(255,255,255,0)"
         },
         "marker": {
          "color": "#FECB52"
         },
         "name": "110",
         "offsetgroup": "110",
         "orientation": "v",
         "pointpos": 0,
         "showlegend": true,
         "type": "box",
         "x": [
          90
         ],
         "x0": " ",
         "xaxis": "x",
         "y": [
          500
         ],
         "y0": " ",
         "yaxis": "y"
        },
        {
         "alignmentgroup": "True",
         "boxpoints": "all",
         "customdata": [
          [
           92
          ]
         ],
         "fillcolor": "rgba(255,255,255,0)",
         "hoveron": "points",
         "hovertemplate": "Maxpulse=108<br>Duration=%{x}<br>Calories=%{y}<br>Pulse=%{customdata[0]}<extra></extra>",
         "legendgroup": "108",
         "line": {
          "color": "rgba(255,255,255,0)"
         },
         "marker": {
          "color": "#636efa"
         },
         "name": "108",
         "offsetgroup": "108",
         "orientation": "v",
         "pointpos": 0,
         "showlegend": true,
         "type": "box",
         "x": [
          30
         ],
         "x0": " ",
         "xaxis": "x",
         "y": [
          92.7
         ],
         "y0": " ",
         "yaxis": "y"
        },
        {
         "alignmentgroup": "True",
         "boxpoints": "all",
         "customdata": [
          [
           137
          ]
         ],
         "fillcolor": "rgba(255,255,255,0)",
         "hoveron": "points",
         "hovertemplate": "Maxpulse=184<br>Duration=%{x}<br>Calories=%{y}<br>Pulse=%{customdata[0]}<extra></extra>",
         "legendgroup": "184",
         "line": {
          "color": "rgba(255,255,255,0)"
         },
         "marker": {
          "color": "#EF553B"
         },
         "name": "184",
         "offsetgroup": "184",
         "orientation": "v",
         "pointpos": 0,
         "showlegend": true,
         "type": "box",
         "x": [
          210
         ],
         "x0": " ",
         "xaxis": "x",
         "y": [
          1860.4
         ],
         "y0": " ",
         "yaxis": "y"
        },
        {
         "alignmentgroup": "True",
         "boxpoints": "all",
         "customdata": [
          [
           136
          ]
         ],
         "fillcolor": "rgba(255,255,255,0)",
         "hoveron": "points",
         "hovertemplate": "Maxpulse=156<br>Duration=%{x}<br>Calories=%{y}<br>Pulse=%{customdata[0]}<extra></extra>",
         "legendgroup": "156",
         "line": {
          "color": "rgba(255,255,255,0)"
         },
         "marker": {
          "color": "#00cc96"
         },
         "name": "156",
         "offsetgroup": "156",
         "orientation": "v",
         "pointpos": 0,
         "showlegend": true,
         "type": "box",
         "x": [
          20
         ],
         "x0": " ",
         "xaxis": "x",
         "y": [
          189
         ],
         "y0": " ",
         "yaxis": "y"
        },
        {
         "alignmentgroup": "True",
         "boxpoints": "all",
         "customdata": [
          [
           141
          ]
         ],
         "fillcolor": "rgba(255,255,255,0)",
         "hoveron": "points",
         "hovertemplate": "Maxpulse=162<br>Duration=%{x}<br>Calories=%{y}<br>Pulse=%{customdata[0]}<extra></extra>",
         "legendgroup": "162",
         "line": {
          "color": "rgba(255,255,255,0)"
         },
         "marker": {
          "color": "#ab63fa"
         },
         "name": "162",
         "offsetgroup": "162",
         "orientation": "v",
         "pointpos": 0,
         "showlegend": true,
         "type": "box",
         "x": [
          20
         ],
         "x0": " ",
         "xaxis": "x",
         "y": [
          222.4
         ],
         "y0": " ",
         "yaxis": "y"
        },
        {
         "alignmentgroup": "True",
         "boxpoints": "all",
         "customdata": [
          [
           122
          ]
         ],
         "fillcolor": "rgba(255,255,255,0)",
         "hoveron": "points",
         "hovertemplate": "Maxpulse=149<br>Duration=%{x}<br>Calories=%{y}<br>Pulse=%{customdata[0]}<extra></extra>",
         "legendgroup": "149",
         "line": {
          "color": "rgba(255,255,255,0)"
         },
         "marker": {
          "color": "#FFA15A"
         },
         "name": "149",
         "offsetgroup": "149",
         "orientation": "v",
         "pointpos": 0,
         "showlegend": true,
         "type": "box",
         "x": [
          45
         ],
         "x0": " ",
         "xaxis": "x",
         "y": [
          335.4
         ],
         "y0": " ",
         "yaxis": "y"
        },
        {
         "alignmentgroup": "True",
         "boxpoints": "all",
         "customdata": [
          [
           110
          ],
          [
           114
          ],
          [
           120
          ],
          [
           125
          ]
         ],
         "fillcolor": "rgba(255,255,255,0)",
         "hoveron": "points",
         "hovertemplate": "Maxpulse=150<br>Duration=%{x}<br>Calories=%{y}<br>Pulse=%{customdata[0]}<extra></extra>",
         "legendgroup": "150",
         "line": {
          "color": "rgba(255,255,255,0)"
         },
         "marker": {
          "color": "#19d3f3"
         },
         "name": "150",
         "offsetgroup": "150",
         "orientation": "v",
         "pointpos": 0,
         "showlegend": true,
         "type": "box",
         "x": [
          60,
          60,
          75,
          75
         ],
         "x0": " ",
         "xaxis": "x",
         "y": [
          409.4,
          382.8,
          320.4,
          330.4
         ],
         "y0": " ",
         "yaxis": "y"
        },
        {
         "alignmentgroup": "True",
         "boxpoints": "all",
         "customdata": [
          [
           150
          ]
         ],
         "fillcolor": "rgba(255,255,255,0)",
         "hoveron": "points",
         "hovertemplate": "Maxpulse=167<br>Duration=%{x}<br>Calories=%{y}<br>Pulse=%{customdata[0]}<extra></extra>",
         "legendgroup": "167",
         "line": {
          "color": "rgba(255,255,255,0)"
         },
         "marker": {
          "color": "#FF6692"
         },
         "name": "167",
         "offsetgroup": "167",
         "orientation": "v",
         "pointpos": 0,
         "showlegend": true,
         "type": "box",
         "x": [
          30
         ],
         "x0": " ",
         "xaxis": "x",
         "y": [
          275.8
         ],
         "y0": " ",
         "yaxis": "y"
        }
       ],
       "layout": {
        "autosize": true,
        "boxmode": "group",
        "coloraxis": {
         "colorbar": {
          "title": {
           "text": "Max Pulse"
          }
         }
        },
        "legend": {
         "title": {
          "text": "Maxpulse"
         },
         "tracegroupgap": 0
        },
        "margin": {
         "t": 60
        },
        "template": {
         "data": {
          "bar": [
           {
            "error_x": {
             "color": "#2a3f5f"
            },
            "error_y": {
             "color": "#2a3f5f"
            },
            "marker": {
             "line": {
              "color": "#E5ECF6",
              "width": 0.5
             },
             "pattern": {
              "fillmode": "overlay",
              "size": 10,
              "solidity": 0.2
             }
            },
            "type": "bar"
           }
          ],
          "barpolar": [
           {
            "marker": {
             "line": {
              "color": "#E5ECF6",
              "width": 0.5
             },
             "pattern": {
              "fillmode": "overlay",
              "size": 10,
              "solidity": 0.2
             }
            },
            "type": "barpolar"
           }
          ],
          "carpet": [
           {
            "aaxis": {
             "endlinecolor": "#2a3f5f",
             "gridcolor": "white",
             "linecolor": "white",
             "minorgridcolor": "white",
             "startlinecolor": "#2a3f5f"
            },
            "baxis": {
             "endlinecolor": "#2a3f5f",
             "gridcolor": "white",
             "linecolor": "white",
             "minorgridcolor": "white",
             "startlinecolor": "#2a3f5f"
            },
            "type": "carpet"
           }
          ],
          "choropleth": [
           {
            "colorbar": {
             "outlinewidth": 0,
             "ticks": ""
            },
            "type": "choropleth"
           }
          ],
          "contour": [
           {
            "colorbar": {
             "outlinewidth": 0,
             "ticks": ""
            },
            "colorscale": [
             [
              0,
              "#0d0887"
             ],
             [
              0.1111111111111111,
              "#46039f"
             ],
             [
              0.2222222222222222,
              "#7201a8"
             ],
             [
              0.3333333333333333,
              "#9c179e"
             ],
             [
              0.4444444444444444,
              "#bd3786"
             ],
             [
              0.5555555555555556,
              "#d8576b"
             ],
             [
              0.6666666666666666,
              "#ed7953"
             ],
             [
              0.7777777777777778,
              "#fb9f3a"
             ],
             [
              0.8888888888888888,
              "#fdca26"
             ],
             [
              1,
              "#f0f921"
             ]
            ],
            "type": "contour"
           }
          ],
          "contourcarpet": [
           {
            "colorbar": {
             "outlinewidth": 0,
             "ticks": ""
            },
            "type": "contourcarpet"
           }
          ],
          "heatmap": [
           {
            "colorbar": {
             "outlinewidth": 0,
             "ticks": ""
            },
            "colorscale": [
             [
              0,
              "#0d0887"
             ],
             [
              0.1111111111111111,
              "#46039f"
             ],
             [
              0.2222222222222222,
              "#7201a8"
             ],
             [
              0.3333333333333333,
              "#9c179e"
             ],
             [
              0.4444444444444444,
              "#bd3786"
             ],
             [
              0.5555555555555556,
              "#d8576b"
             ],
             [
              0.6666666666666666,
              "#ed7953"
             ],
             [
              0.7777777777777778,
              "#fb9f3a"
             ],
             [
              0.8888888888888888,
              "#fdca26"
             ],
             [
              1,
              "#f0f921"
             ]
            ],
            "type": "heatmap"
           }
          ],
          "heatmapgl": [
           {
            "colorbar": {
             "outlinewidth": 0,
             "ticks": ""
            },
            "colorscale": [
             [
              0,
              "#0d0887"
             ],
             [
              0.1111111111111111,
              "#46039f"
             ],
             [
              0.2222222222222222,
              "#7201a8"
             ],
             [
              0.3333333333333333,
              "#9c179e"
             ],
             [
              0.4444444444444444,
              "#bd3786"
             ],
             [
              0.5555555555555556,
              "#d8576b"
             ],
             [
              0.6666666666666666,
              "#ed7953"
             ],
             [
              0.7777777777777778,
              "#fb9f3a"
             ],
             [
              0.8888888888888888,
              "#fdca26"
             ],
             [
              1,
              "#f0f921"
             ]
            ],
            "type": "heatmapgl"
           }
          ],
          "histogram": [
           {
            "marker": {
             "pattern": {
              "fillmode": "overlay",
              "size": 10,
              "solidity": 0.2
             }
            },
            "type": "histogram"
           }
          ],
          "histogram2d": [
           {
            "colorbar": {
             "outlinewidth": 0,
             "ticks": ""
            },
            "colorscale": [
             [
              0,
              "#0d0887"
             ],
             [
              0.1111111111111111,
              "#46039f"
             ],
             [
              0.2222222222222222,
              "#7201a8"
             ],
             [
              0.3333333333333333,
              "#9c179e"
             ],
             [
              0.4444444444444444,
              "#bd3786"
             ],
             [
              0.5555555555555556,
              "#d8576b"
             ],
             [
              0.6666666666666666,
              "#ed7953"
             ],
             [
              0.7777777777777778,
              "#fb9f3a"
             ],
             [
              0.8888888888888888,
              "#fdca26"
             ],
             [
              1,
              "#f0f921"
             ]
            ],
            "type": "histogram2d"
           }
          ],
          "histogram2dcontour": [
           {
            "colorbar": {
             "outlinewidth": 0,
             "ticks": ""
            },
            "colorscale": [
             [
              0,
              "#0d0887"
             ],
             [
              0.1111111111111111,
              "#46039f"
             ],
             [
              0.2222222222222222,
              "#7201a8"
             ],
             [
              0.3333333333333333,
              "#9c179e"
             ],
             [
              0.4444444444444444,
              "#bd3786"
             ],
             [
              0.5555555555555556,
              "#d8576b"
             ],
             [
              0.6666666666666666,
              "#ed7953"
             ],
             [
              0.7777777777777778,
              "#fb9f3a"
             ],
             [
              0.8888888888888888,
              "#fdca26"
             ],
             [
              1,
              "#f0f921"
             ]
            ],
            "type": "histogram2dcontour"
           }
          ],
          "mesh3d": [
           {
            "colorbar": {
             "outlinewidth": 0,
             "ticks": ""
            },
            "type": "mesh3d"
           }
          ],
          "parcoords": [
           {
            "line": {
             "colorbar": {
              "outlinewidth": 0,
              "ticks": ""
             }
            },
            "type": "parcoords"
           }
          ],
          "pie": [
           {
            "automargin": true,
            "type": "pie"
           }
          ],
          "scatter": [
           {
            "fillpattern": {
             "fillmode": "overlay",
             "size": 10,
             "solidity": 0.2
            },
            "type": "scatter"
           }
          ],
          "scatter3d": [
           {
            "line": {
             "colorbar": {
              "outlinewidth": 0,
              "ticks": ""
             }
            },
            "marker": {
             "colorbar": {
              "outlinewidth": 0,
              "ticks": ""
             }
            },
            "type": "scatter3d"
           }
          ],
          "scattercarpet": [
           {
            "marker": {
             "colorbar": {
              "outlinewidth": 0,
              "ticks": ""
             }
            },
            "type": "scattercarpet"
           }
          ],
          "scattergeo": [
           {
            "marker": {
             "colorbar": {
              "outlinewidth": 0,
              "ticks": ""
             }
            },
            "type": "scattergeo"
           }
          ],
          "scattergl": [
           {
            "marker": {
             "colorbar": {
              "outlinewidth": 0,
              "ticks": ""
             }
            },
            "type": "scattergl"
           }
          ],
          "scattermapbox": [
           {
            "marker": {
             "colorbar": {
              "outlinewidth": 0,
              "ticks": ""
             }
            },
            "type": "scattermapbox"
           }
          ],
          "scatterpolar": [
           {
            "marker": {
             "colorbar": {
              "outlinewidth": 0,
              "ticks": ""
             }
            },
            "type": "scatterpolar"
           }
          ],
          "scatterpolargl": [
           {
            "marker": {
             "colorbar": {
              "outlinewidth": 0,
              "ticks": ""
             }
            },
            "type": "scatterpolargl"
           }
          ],
          "scatterternary": [
           {
            "marker": {
             "colorbar": {
              "outlinewidth": 0,
              "ticks": ""
             }
            },
            "type": "scatterternary"
           }
          ],
          "surface": [
           {
            "colorbar": {
             "outlinewidth": 0,
             "ticks": ""
            },
            "colorscale": [
             [
              0,
              "#0d0887"
             ],
             [
              0.1111111111111111,
              "#46039f"
             ],
             [
              0.2222222222222222,
              "#7201a8"
             ],
             [
              0.3333333333333333,
              "#9c179e"
             ],
             [
              0.4444444444444444,
              "#bd3786"
             ],
             [
              0.5555555555555556,
              "#d8576b"
             ],
             [
              0.6666666666666666,
              "#ed7953"
             ],
             [
              0.7777777777777778,
              "#fb9f3a"
             ],
             [
              0.8888888888888888,
              "#fdca26"
             ],
             [
              1,
              "#f0f921"
             ]
            ],
            "type": "surface"
           }
          ],
          "table": [
           {
            "cells": {
             "fill": {
              "color": "#EBF0F8"
             },
             "line": {
              "color": "white"
             }
            },
            "header": {
             "fill": {
              "color": "#C8D4E3"
             },
             "line": {
              "color": "white"
             }
            },
            "type": "table"
           }
          ]
         },
         "layout": {
          "annotationdefaults": {
           "arrowcolor": "#2a3f5f",
           "arrowhead": 0,
           "arrowwidth": 1
          },
          "autotypenumbers": "strict",
          "coloraxis": {
           "colorbar": {
            "outlinewidth": 0,
            "ticks": ""
           }
          },
          "colorscale": {
           "diverging": [
            [
             0,
             "#8e0152"
            ],
            [
             0.1,
             "#c51b7d"
            ],
            [
             0.2,
             "#de77ae"
            ],
            [
             0.3,
             "#f1b6da"
            ],
            [
             0.4,
             "#fde0ef"
            ],
            [
             0.5,
             "#f7f7f7"
            ],
            [
             0.6,
             "#e6f5d0"
            ],
            [
             0.7,
             "#b8e186"
            ],
            [
             0.8,
             "#7fbc41"
            ],
            [
             0.9,
             "#4d9221"
            ],
            [
             1,
             "#276419"
            ]
           ],
           "sequential": [
            [
             0,
             "#0d0887"
            ],
            [
             0.1111111111111111,
             "#46039f"
            ],
            [
             0.2222222222222222,
             "#7201a8"
            ],
            [
             0.3333333333333333,
             "#9c179e"
            ],
            [
             0.4444444444444444,
             "#bd3786"
            ],
            [
             0.5555555555555556,
             "#d8576b"
            ],
            [
             0.6666666666666666,
             "#ed7953"
            ],
            [
             0.7777777777777778,
             "#fb9f3a"
            ],
            [
             0.8888888888888888,
             "#fdca26"
            ],
            [
             1,
             "#f0f921"
            ]
           ],
           "sequentialminus": [
            [
             0,
             "#0d0887"
            ],
            [
             0.1111111111111111,
             "#46039f"
            ],
            [
             0.2222222222222222,
             "#7201a8"
            ],
            [
             0.3333333333333333,
             "#9c179e"
            ],
            [
             0.4444444444444444,
             "#bd3786"
            ],
            [
             0.5555555555555556,
             "#d8576b"
            ],
            [
             0.6666666666666666,
             "#ed7953"
            ],
            [
             0.7777777777777778,
             "#fb9f3a"
            ],
            [
             0.8888888888888888,
             "#fdca26"
            ],
            [
             1,
             "#f0f921"
            ]
           ]
          },
          "colorway": [
           "#636efa",
           "#EF553B",
           "#00cc96",
           "#ab63fa",
           "#FFA15A",
           "#19d3f3",
           "#FF6692",
           "#B6E880",
           "#FF97FF",
           "#FECB52"
          ],
          "font": {
           "color": "#2a3f5f"
          },
          "geo": {
           "bgcolor": "white",
           "lakecolor": "white",
           "landcolor": "#E5ECF6",
           "showlakes": true,
           "showland": true,
           "subunitcolor": "white"
          },
          "hoverlabel": {
           "align": "left"
          },
          "hovermode": "closest",
          "mapbox": {
           "style": "light"
          },
          "paper_bgcolor": "white",
          "plot_bgcolor": "#E5ECF6",
          "polar": {
           "angularaxis": {
            "gridcolor": "white",
            "linecolor": "white",
            "ticks": ""
           },
           "bgcolor": "#E5ECF6",
           "radialaxis": {
            "gridcolor": "white",
            "linecolor": "white",
            "ticks": ""
           }
          },
          "scene": {
           "xaxis": {
            "backgroundcolor": "#E5ECF6",
            "gridcolor": "white",
            "gridwidth": 2,
            "linecolor": "white",
            "showbackground": true,
            "ticks": "",
            "zerolinecolor": "white"
           },
           "yaxis": {
            "backgroundcolor": "#E5ECF6",
            "gridcolor": "white",
            "gridwidth": 2,
            "linecolor": "white",
            "showbackground": true,
            "ticks": "",
            "zerolinecolor": "white"
           },
           "zaxis": {
            "backgroundcolor": "#E5ECF6",
            "gridcolor": "white",
            "gridwidth": 2,
            "linecolor": "white",
            "showbackground": true,
            "ticks": "",
            "zerolinecolor": "white"
           }
          },
          "shapedefaults": {
           "line": {
            "color": "#2a3f5f"
           }
          },
          "ternary": {
           "aaxis": {
            "gridcolor": "white",
            "linecolor": "white",
            "ticks": ""
           },
           "baxis": {
            "gridcolor": "white",
            "linecolor": "white",
            "ticks": ""
           },
           "bgcolor": "#E5ECF6",
           "caxis": {
            "gridcolor": "white",
            "linecolor": "white",
            "ticks": ""
           }
          },
          "title": {
           "x": 0.05
          },
          "xaxis": {
           "automargin": true,
           "gridcolor": "white",
           "linecolor": "white",
           "ticks": "",
           "title": {
            "standoff": 15
           },
           "zerolinecolor": "white",
           "zerolinewidth": 2
          },
          "yaxis": {
           "automargin": true,
           "gridcolor": "white",
           "linecolor": "white",
           "ticks": "",
           "title": {
            "standoff": 15
           },
           "zerolinecolor": "white",
           "zerolinewidth": 2
          }
         }
        },
        "title": {
         "text": "Strip Chart of Workout Data"
        },
        "xaxis": {
         "anchor": "y",
         "autorange": true,
         "domain": [
          0,
          1
         ],
         "range": [
          11.549180327868852,
          303.45081967213116
         ],
         "title": {
          "text": "Duration (minutes)"
         },
         "type": "linear"
        },
        "yaxis": {
         "anchor": "x",
         "autorange": true,
         "domain": [
          0,
          1
         ],
         "range": [
          -50.261111111111134,
          1960.9611111111112
         ],
         "title": {
          "text": "Calories Burned"
         },
         "type": "linear"
        }
       }
      },
      "image/png": "[encoded data removed]",
      "text/html": [
       "<div>                            <div id=\"8d0dcf6e-fdaa-47f9-b48c-463b2a2976e3\" class=\"plotly-graph-div\" style=\"height:525px; width:100%;\"></div>            <script type=\"text/javascript\">                require([\"plotly\"], function(Plotly) {                    window.PLOTLYENV=window.PLOTLYENV || {};                                    if (document.getElementById(\"8d0dcf6e-fdaa-47f9-b48c-463b2a2976e3\")) {                    Plotly.newPlot(                        \"8d0dcf6e-fdaa-47f9-b48c-463b2a2976e3\",                        [{\"alignmentgroup\":\"True\",\"boxpoints\":\"all\",\"customdata\":[[110],[106],[110],[90],[107],[100],[100],[90],[95]],\"fillcolor\":\"rgba(255,255,255,0)\",\"hoveron\":\"points\",\"hovertemplate\":\"Maxpulse=130<br>Duration=%{x}<br>Calories=%{y}<br>Pulse=%{customdata[0]}<extra></extra>\",\"legendgroup\":\"130\",\"line\":{\"color\":\"rgba(255,255,255,0)\"},\"marker\":{\"color\":\"#636efa\"},\"name\":\"130\",\"offsetgroup\":\"130\",\"orientation\":\"v\",\"pointpos\":0,\"showlegend\":true,\"x\":[60,60,20,180,150,120,120,45,45],\"x0\":\" \",\"xaxis\":\"x\",\"y\":[409.1,263.0,131.4,800.4,816.0,500.4,500.0,260.4,270.0],\"y0\":\" \",\"yaxis\":\"y\",\"type\":\"box\"},{\"alignmentgroup\":\"True\",\"boxpoints\":\"all\",\"customdata\":[[117],[110],[115]],\"fillcolor\":\"rgba(255,255,255,0)\",\"hoveron\":\"points\",\"hovertemplate\":\"Maxpulse=145<br>Duration=%{x}<br>Calories=%{y}<br>Pulse=%{customdata[0]}<extra></extra>\",\"legendgroup\":\"145\",\"line\":{\"color\":\"rgba(255,255,255,0)\"},\"marker\":{\"color\":\"#EF553B\"},\"name\":\"145\",\"offsetgroup\":\"145\",\"orientation\":\"v\",\"pointpos\":0,\"showlegend\":true,\"x\":[60,60,60],\"x0\":\" \",\"xaxis\":\"x\",\"y\":[479.0,300.0,310.2],\"y0\":\" \",\"yaxis\":\"y\",\"type\":\"box\"},{\"alignmentgroup\":\"True\",\"boxpoints\":\"all\",\"customdata\":[[103],[109],[105],[108]],\"fillcolor\":\"rgba(255,255,255,0)\",\"hoveron\":\"points\",\"hovertemplate\":\"Maxpulse=135<br>Duration=%{x}<br>Calories=%{y}<br>Pulse=%{customdata[0]}<extra></extra>\",\"legendgroup\":\"135\",\"line\":{\"color\":\"rgba(255,255,255,0)\"},\"marker\":{\"color\":\"#00cc96\"},\"name\":\"135\",\"offsetgroup\":\"135\",\"orientation\":\"v\",\"pointpos\":0,\"showlegend\":true,\"x\":[60,160,150,60],\"x0\":\" \",\"xaxis\":\"x\",\"y\":[340.0,853.0,873.4,390.0],\"y0\":\" \",\"yaxis\":\"y\",\"type\":\"box\"},{\"alignmentgroup\":\"True\",\"boxpoints\":\"all\",\"customdata\":[[109],[136]],\"fillcolor\":\"rgba(255,255,255,0)\",\"hoveron\":\"points\",\"hovertemplate\":\"Maxpulse=175<br>Duration=%{x}<br>Calories=%{y}<br>Pulse=%{customdata[0]}<extra></extra>\",\"legendgroup\":\"175\",\"line\":{\"color\":\"rgba(255,255,255,0)\"},\"marker\":{\"color\":\"#ab63fa\"},\"name\":\"175\",\"offsetgroup\":\"175\",\"orientation\":\"v\",\"pointpos\":0,\"showlegend\":true,\"x\":[45,30],\"x0\":\" \",\"xaxis\":\"x\",\"y\":[282.4,238.0],\"y0\":\" \",\"yaxis\":\"y\",\"type\":\"box\"},{\"alignmentgroup\":\"True\",\"boxpoints\":\"all\",\"customdata\":[[117]],\"fillcolor\":\"rgba(255,255,255,0)\",\"hoveron\":\"points\",\"hovertemplate\":\"Maxpulse=148<br>Duration=%{x}<br>Calories=%{y}<br>Pulse=%{customdata[0]}<extra></extra>\",\"legendgroup\":\"148\",\"line\":{\"color\":\"rgba(255,255,255,0)\"},\"marker\":{\"color\":\"#FFA15A\"},\"name\":\"148\",\"offsetgroup\":\"148\",\"orientation\":\"v\",\"pointpos\":0,\"showlegend\":true,\"x\":[45],\"x0\":\" \",\"xaxis\":\"x\",\"y\":[406.0],\"y0\":\" \",\"yaxis\":\"y\",\"type\":\"box\"},{\"alignmentgroup\":\"True\",\"boxpoints\":\"all\",\"customdata\":[[102],[102],[100],[97],[101],[107],[109],[97],[103]],\"fillcolor\":\"rgba(255,255,255,0)\",\"hoveron\":\"points\",\"hovertemplate\":\"Maxpulse=127<br>Duration=%{x}<br>Calories=%{y}<br>Pulse=%{customdata[0]}<extra></extra>\",\"legendgroup\":\"127\",\"line\":{\"color\":\"rgba(255,255,255,0)\"},\"marker\":{\"color\":\"#19d3f3\"},\"name\":\"127\",\"offsetgroup\":\"127\",\"orientation\":\"v\",\"pointpos\":0,\"showlegend\":true,\"x\":[60,60,90,150,180,60,60,60,30],\"x0\":\" \",\"xaxis\":\"x\",\"y\":[300.0,300.0,700.0,953.2,600.1,344.9,382.0,null,185.0],\"y0\":\" \",\"yaxis\":\"y\",\"type\":\"box\"},{\"alignmentgroup\":\"True\",\"boxpoints\":\"all\",\"customdata\":[[110],[107],[111],[107],[106],[102],[103],[107]],\"fillcolor\":\"rgba(255,255,255,0)\",\"hoveron\":\"points\",\"hovertemplate\":\"Maxpulse=136<br>Duration=%{x}<br>Calories=%{y}<br>Pulse=%{customdata[0]}<extra></extra>\",\"legendgroup\":\"136\",\"line\":{\"color\":\"rgba(255,255,255,0)\"},\"marker\":{\"color\":\"#FF6692\"},\"name\":\"136\",\"offsetgroup\":\"136\",\"orientation\":\"v\",\"pointpos\":0,\"showlegend\":true,\"x\":[60,60,45,60,20,45,60,60],\"x0\":\" \",\"xaxis\":\"x\",\"y\":[374.0,361.0,300.0,380.2,110.4,234.0,339.0,400.0],\"y0\":\" \",\"yaxis\":\"y\",\"type\":\"box\"},{\"alignmentgroup\":\"True\",\"boxpoints\":\"all\",\"customdata\":[[104],[105],[104],[106]],\"fillcolor\":\"rgba(255,255,255,0)\",\"hoveron\":\"points\",\"hovertemplate\":\"Maxpulse=134<br>Duration=%{x}<br>Calories=%{y}<br>Pulse=%{customdata[0]}<extra></extra>\",\"legendgroup\":\"134\",\"line\":{\"color\":\"rgba(255,255,255,0)\"},\"marker\":{\"color\":\"#B6E880\"},\"name\":\"134\",\"offsetgroup\":\"134\",\"orientation\":\"v\",\"pointpos\":0,\"showlegend\":true,\"x\":[45,45,60,60],\"x0\":\" \",\"xaxis\":\"x\",\"y\":[253.3,251.0,342.5,343.0],\"y0\":\" \",\"yaxis\":\"y\",\"type\":\"box\"},{\"alignmentgroup\":\"True\",\"boxpoints\":\"all\",\"customdata\":[[109],[103]],\"fillcolor\":\"rgba(255,255,255,0)\",\"hoveron\":\"points\",\"hovertemplate\":\"Maxpulse=133<br>Duration=%{x}<br>Calories=%{y}<br>Pulse=%{customdata[0]}<extra></extra>\",\"legendgroup\":\"133\",\"line\":{\"color\":\"rgba(255,255,255,0)\"},\"marker\":{\"color\":\"#FF97FF\"},\"name\":\"133\",\"offsetgroup\":\"133\",\"orientation\":\"v\",\"pointpos\":0,\"showlegend\":true,\"x\":[30,60],\"x0\":\" \",\"xaxis\":\"x\",\"y\":[195.1,335.0],\"y0\":\" \",\"yaxis\":\"y\",\"type\":\"box\"},{\"alignmentgroup\":\"True\",\"boxpoints\":\"all\",\"customdata\":[[98],[101],[93],[102],[107],[103],[97]],\"fillcolor\":\"rgba(255,255,255,0)\",\"hoveron\":\"points\",\"hovertemplate\":\"Maxpulse=124<br>Duration=%{x}<br>Calories=%{y}<br>Pulse=%{customdata[0]}<extra></extra>\",\"legendgroup\":\"124\",\"line\":{\"color\":\"rgba(255,255,255,0)\"},\"marker\":{\"color\":\"#FECB52\"},\"name\":\"124\",\"offsetgroup\":\"124\",\"orientation\":\"v\",\"pointpos\":0,\"showlegend\":true,\"x\":[60,60,90,60,45,60,60],\"x0\":\" \",\"xaxis\":\"x\",\"y\":[269.0,299.0,604.1,325.2,275.0,332.7,275.3],\"y0\":\" \",\"yaxis\":\"y\",\"type\":\"box\"},{\"alignmentgroup\":\"True\",\"boxpoints\":\"all\",\"customdata\":[[103]],\"fillcolor\":\"rgba(255,255,255,0)\",\"hoveron\":\"points\",\"hovertemplate\":\"Maxpulse=147<br>Duration=%{x}<br>Calories=%{y}<br>Pulse=%{customdata[0]}<extra></extra>\",\"legendgroup\":\"147\",\"line\":{\"color\":\"rgba(255,255,255,0)\"},\"marker\":{\"color\":\"#636efa\"},\"name\":\"147\",\"offsetgroup\":\"147\",\"orientation\":\"v\",\"pointpos\":0,\"showlegend\":true,\"x\":[60],\"x0\":\" \",\"xaxis\":\"x\",\"y\":[329.3],\"y0\":\" \",\"yaxis\":\"y\",\"type\":\"box\"},{\"alignmentgroup\":\"True\",\"boxpoints\":\"all\",\"customdata\":[[100],[98],[100],[100],[100],[100],[100],[90],[90],[90],[100],[100],[100],[100],[80],[85]],\"fillcolor\":\"rgba(255,255,255,0)\",\"hoveron\":\"points\",\"hovertemplate\":\"Maxpulse=120<br>Duration=%{x}<br>Calories=%{y}<br>Pulse=%{customdata[0]}<extra></extra>\",\"legendgroup\":\"120\",\"line\":{\"color\":\"rgba(255,255,255,0)\"},\"marker\":{\"color\":\"#EF553B\"},\"name\":\"120\",\"offsetgroup\":\"120\",\"orientation\":\"v\",\"pointpos\":0,\"showlegend\":true,\"x\":[60,60,60,60,60,60,45,180,30,90,45,45,45,60,30,30],\"x0\":\" \",\"xaxis\":\"x\",\"y\":[250.7,215.2,300.0,250.0,300.0,300.0,225.3,800.3,86.2,500.3,225.3,100.7,250.4,270.4,240.9,250.4],\"y0\":\" \",\"yaxis\":\"y\",\"type\":\"box\"},{\"alignmentgroup\":\"True\",\"boxpoints\":\"all\",\"customdata\":[[106],[95],[93],[105]],\"fillcolor\":\"rgba(255,255,255,0)\",\"hoveron\":\"points\",\"hovertemplate\":\"Maxpulse=128<br>Duration=%{x}<br>Calories=%{y}<br>Pulse=%{customdata[0]}<extra></extra>\",\"legendgroup\":\"128\",\"line\":{\"color\":\"rgba(255,255,255,0)\"},\"marker\":{\"color\":\"#00cc96\"},\"name\":\"128\",\"offsetgroup\":\"128\",\"orientation\":\"v\",\"pointpos\":0,\"showlegend\":true,\"x\":[60,30,30,60],\"x0\":\" \",\"xaxis\":\"x\",\"y\":[345.3,128.2,124.0,328.0],\"y0\":\" \",\"yaxis\":\"y\",\"type\":\"box\"},{\"alignmentgroup\":\"True\",\"boxpoints\":\"all\",\"customdata\":[[104],[105],[103],[100],[106]],\"fillcolor\":\"rgba(255,255,255,0)\",\"hoveron\":\"points\",\"hovertemplate\":\"Maxpulse=132<br>Duration=%{x}<br>Calories=%{y}<br>Pulse=%{customdata[0]}<extra></extra>\",\"legendgroup\":\"132\",\"line\":{\"color\":\"rgba(255,255,255,0)\"},\"marker\":{\"color\":\"#ab63fa\"},\"name\":\"132\",\"offsetgroup\":\"132\",\"orientation\":\"v\",\"pointpos\":0,\"showlegend\":true,\"x\":[60,45,60,60,60],\"x0\":\" \",\"xaxis\":\"x\",\"y\":[379.3,246.0,null,280.0,327.5],\"y0\":\" \",\"yaxis\":\"y\",\"type\":\"box\"},{\"alignmentgroup\":\"True\",\"boxpoints\":\"all\",\"customdata\":[[98],[103]],\"fillcolor\":\"rgba(255,255,255,0)\",\"hoveron\":\"points\",\"hovertemplate\":\"Maxpulse=123<br>Duration=%{x}<br>Calories=%{y}<br>Pulse=%{customdata[0]}<extra></extra>\",\"legendgroup\":\"123\",\"line\":{\"color\":\"rgba(255,255,255,0)\"},\"marker\":{\"color\":\"#FFA15A\"},\"name\":\"123\",\"offsetgroup\":\"123\",\"orientation\":\"v\",\"pointpos\":0,\"showlegend\":true,\"x\":[60,60],\"x0\":\" \",\"xaxis\":\"x\",\"y\":[275.0,323.0],\"y0\":\" \",\"yaxis\":\"y\",\"type\":\"box\"},{\"alignmentgroup\":\"True\",\"boxpoints\":\"all\",\"customdata\":[[90],[90],[90],[95]],\"fillcolor\":\"rgba(255,255,255,0)\",\"hoveron\":\"points\",\"hovertemplate\":\"Maxpulse=112<br>Duration=%{x}<br>Calories=%{y}<br>Pulse=%{customdata[0]}<extra></extra>\",\"legendgroup\":\"112\",\"line\":{\"color\":\"rgba(255,255,255,0)\"},\"marker\":{\"color\":\"#19d3f3\"},\"name\":\"112\",\"offsetgroup\":\"112\",\"orientation\":\"v\",\"pointpos\":0,\"showlegend\":true,\"x\":[45,45,45,20],\"x0\":\" \",\"xaxis\":\"x\",\"y\":[null,180.1,180.1,77.7],\"y0\":\" \",\"yaxis\":\"y\",\"type\":\"box\"},{\"alignmentgroup\":\"True\",\"boxpoints\":\"all\",\"customdata\":[[97],[98],[105],[99]],\"fillcolor\":\"rgba(255,255,255,0)\",\"hoveron\":\"points\",\"hovertemplate\":\"Maxpulse=125<br>Duration=%{x}<br>Calories=%{y}<br>Pulse=%{customdata[0]}<extra></extra>\",\"legendgroup\":\"125\",\"line\":{\"color\":\"rgba(255,255,255,0)\"},\"marker\":{\"color\":\"#FF6692\"},\"name\":\"125\",\"offsetgroup\":\"125\",\"orientation\":\"v\",\"pointpos\":0,\"showlegend\":true,\"x\":[45,90,60,90],\"x0\":\" \",\"xaxis\":\"x\",\"y\":[243.0,563.2,null,466.4],\"y0\":\" \",\"yaxis\":\"y\",\"type\":\"box\"},{\"alignmentgroup\":\"True\",\"boxpoints\":\"all\",\"customdata\":[[108],[111],[100],[109],[108],[97]],\"fillcolor\":\"rgba(255,255,255,0)\",\"hoveron\":\"points\",\"hovertemplate\":\"Maxpulse=131<br>Duration=%{x}<br>Calories=%{y}<br>Pulse=%{customdata[0]}<extra></extra>\",\"legendgroup\":\"131\",\"line\":{\"color\":\"rgba(255,255,255,0)\"},\"marker\":{\"color\":\"#B6E880\"},\"name\":\"131\",\"offsetgroup\":\"131\",\"orientation\":\"v\",\"pointpos\":0,\"showlegend\":true,\"x\":[60,60,270,30,60,60],\"x0\":\" \",\"xaxis\":\"x\",\"y\":[364.2,397.0,1729.0,188.2,367.6,270.4],\"y0\":\" \",\"yaxis\":\"y\",\"type\":\"box\"},{\"alignmentgroup\":\"True\",\"boxpoints\":\"all\",\"customdata\":[[100],[99]],\"fillcolor\":\"rgba(255,255,255,0)\",\"hoveron\":\"points\",\"hovertemplate\":\"Maxpulse=119<br>Duration=%{x}<br>Calories=%{y}<br>Pulse=%{customdata[0]}<extra></extra>\",\"legendgroup\":\"119\",\"line\":{\"color\":\"rgba(255,255,255,0)\"},\"marker\":{\"color\":\"#FF97FF\"},\"name\":\"119\",\"offsetgroup\":\"119\",\"orientation\":\"v\",\"pointpos\":0,\"showlegend\":true,\"x\":[45,60],\"x0\":\" \",\"xaxis\":\"x\",\"y\":[282.0,273.0],\"y0\":\" \",\"yaxis\":\"y\",\"type\":\"box\"},{\"alignmentgroup\":\"True\",\"boxpoints\":\"all\",\"customdata\":[[130]],\"fillcolor\":\"rgba(255,255,255,0)\",\"hoveron\":\"points\",\"hovertemplate\":\"Maxpulse=101<br>Duration=%{x}<br>Calories=%{y}<br>Pulse=%{customdata[0]}<extra></extra>\",\"legendgroup\":\"101\",\"line\":{\"color\":\"rgba(255,255,255,0)\"},\"marker\":{\"color\":\"#FECB52\"},\"name\":\"101\",\"offsetgroup\":\"101\",\"orientation\":\"v\",\"pointpos\":0,\"showlegend\":true,\"x\":[60],\"x0\":\" \",\"xaxis\":\"x\",\"y\":[300.0],\"y0\":\" \",\"yaxis\":\"y\",\"type\":\"box\"},{\"alignmentgroup\":\"True\",\"boxpoints\":\"all\",\"customdata\":[[102],[98],[106]],\"fillcolor\":\"rgba(255,255,255,0)\",\"hoveron\":\"points\",\"hovertemplate\":\"Maxpulse=126<br>Duration=%{x}<br>Calories=%{y}<br>Pulse=%{customdata[0]}<extra></extra>\",\"legendgroup\":\"126\",\"line\":{\"color\":\"rgba(255,255,255,0)\"},\"marker\":{\"color\":\"#636efa\"},\"name\":\"126\",\"offsetgroup\":\"126\",\"orientation\":\"v\",\"pointpos\":0,\"showlegend\":true,\"x\":[60,60,45],\"x0\":\" \",\"xaxis\":\"x\",\"y\":[334.5,286.0,270.8],\"y0\":\" \",\"yaxis\":\"y\",\"type\":\"box\"},{\"alignmentgroup\":\"True\",\"boxpoints\":\"all\",\"customdata\":[[92]],\"fillcolor\":\"rgba(255,255,255,0)\",\"hoveron\":\"points\",\"hovertemplate\":\"Maxpulse=118<br>Duration=%{x}<br>Calories=%{y}<br>Pulse=%{customdata[0]}<extra></extra>\",\"legendgroup\":\"118\",\"line\":{\"color\":\"rgba(255,255,255,0)\"},\"marker\":{\"color\":\"#EF553B\"},\"name\":\"118\",\"offsetgroup\":\"118\",\"orientation\":\"v\",\"pointpos\":0,\"showlegend\":true,\"x\":[60],\"x0\":\" \",\"xaxis\":\"x\",\"y\":[241.0],\"y0\":\" \",\"yaxis\":\"y\",\"type\":\"box\"},{\"alignmentgroup\":\"True\",\"boxpoints\":\"all\",\"customdata\":[[102],[104],[108],[97],[109]],\"fillcolor\":\"rgba(255,255,255,0)\",\"hoveron\":\"points\",\"hovertemplate\":\"Maxpulse=129<br>Duration=%{x}<br>Calories=%{y}<br>Pulse=%{customdata[0]}<extra></extra>\",\"legendgroup\":\"129\",\"line\":{\"color\":\"rgba(255,255,255,0)\"},\"marker\":{\"color\":\"#00cc96\"},\"name\":\"129\",\"offsetgroup\":\"129\",\"orientation\":\"v\",\"pointpos\":0,\"showlegend\":true,\"x\":[60,45,45,150,60],\"x0\":\" \",\"xaxis\":\"x\",\"y\":[380.3,266.0,298.0,1115.0,353.2],\"y0\":\" \",\"yaxis\":\"y\",\"type\":\"box\"},{\"alignmentgroup\":\"True\",\"boxpoints\":\"all\",\"customdata\":[[92]],\"fillcolor\":\"rgba(255,255,255,0)\",\"hoveron\":\"points\",\"hovertemplate\":\"Maxpulse=115<br>Duration=%{x}<br>Calories=%{y}<br>Pulse=%{customdata[0]}<extra></extra>\",\"legendgroup\":\"115\",\"line\":{\"color\":\"rgba(255,255,255,0)\"},\"marker\":{\"color\":\"#ab63fa\"},\"name\":\"115\",\"offsetgroup\":\"115\",\"orientation\":\"v\",\"pointpos\":0,\"showlegend\":true,\"x\":[60],\"x0\":\" \",\"xaxis\":\"x\",\"y\":[243.0],\"y0\":\" \",\"yaxis\":\"y\",\"type\":\"box\"},{\"alignmentgroup\":\"True\",\"boxpoints\":\"all\",\"customdata\":[[93]],\"fillcolor\":\"rgba(255,255,255,0)\",\"hoveron\":\"points\",\"hovertemplate\":\"Maxpulse=113<br>Duration=%{x}<br>Calories=%{y}<br>Pulse=%{customdata[0]}<extra></extra>\",\"legendgroup\":\"113\",\"line\":{\"color\":\"rgba(255,255,255,0)\"},\"marker\":{\"color\":\"#FFA15A\"},\"name\":\"113\",\"offsetgroup\":\"113\",\"orientation\":\"v\",\"pointpos\":0,\"showlegend\":true,\"x\":[60],\"x0\":\" \",\"xaxis\":\"x\",\"y\":[223.0],\"y0\":\" \",\"yaxis\":\"y\",\"type\":\"box\"},{\"alignmentgroup\":\"True\",\"boxpoints\":\"all\",\"customdata\":[[114],[100],[105]],\"fillcolor\":\"rgba(255,255,255,0)\",\"hoveron\":\"points\",\"hovertemplate\":\"Maxpulse=140<br>Duration=%{x}<br>Calories=%{y}<br>Pulse=%{customdata[0]}<extra></extra>\",\"legendgroup\":\"140\",\"line\":{\"color\":\"rgba(255,255,255,0)\"},\"marker\":{\"color\":\"#19d3f3\"},\"name\":\"140\",\"offsetgroup\":\"140\",\"orientation\":\"v\",\"pointpos\":0,\"showlegend\":true,\"x\":[60,45,60],\"x0\":\" \",\"xaxis\":\"x\",\"y\":[415.0,280.9,290.8],\"y0\":\" \",\"yaxis\":\"y\",\"type\":\"box\"},{\"alignmentgroup\":\"True\",\"boxpoints\":\"all\",\"customdata\":[[100],[97],[98]],\"fillcolor\":\"rgba(255,255,255,0)\",\"hoveron\":\"points\",\"hovertemplate\":\"Maxpulse=122<br>Duration=%{x}<br>Calories=%{y}<br>Pulse=%{customdata[0]}<extra></extra>\",\"legendgroup\":\"122\",\"line\":{\"color\":\"rgba(255,255,255,0)\"},\"marker\":{\"color\":\"#FF6692\"},\"name\":\"122\",\"offsetgroup\":\"122\",\"orientation\":\"v\",\"pointpos\":0,\"showlegend\":true,\"x\":[60,60,60],\"x0\":\" \",\"xaxis\":\"x\",\"y\":[329.4,277.4,271.0],\"y0\":\" \",\"yaxis\":\"y\",\"type\":\"box\"},{\"alignmentgroup\":\"True\",\"boxpoints\":\"all\",\"customdata\":[[111],[107],[113],[109]],\"fillcolor\":\"rgba(255,255,255,0)\",\"hoveron\":\"points\",\"hovertemplate\":\"Maxpulse=138<br>Duration=%{x}<br>Calories=%{y}<br>Pulse=%{customdata[0]}<extra></extra>\",\"legendgroup\":\"138\",\"line\":{\"color\":\"rgba(255,255,255,0)\"},\"marker\":{\"color\":\"#B6E880\"},\"name\":\"138\",\"offsetgroup\":\"138\",\"orientation\":\"v\",\"pointpos\":0,\"showlegend\":true,\"x\":[60,60,45,60],\"x0\":\" \",\"xaxis\":\"x\",\"y\":[400.0,357.5,308.0,374.0],\"y0\":\" \",\"yaxis\":\"y\",\"type\":\"box\"},{\"alignmentgroup\":\"True\",\"boxpoints\":\"all\",\"customdata\":[[109],[109]],\"fillcolor\":\"rgba(255,255,255,0)\",\"hoveron\":\"points\",\"hovertemplate\":\"Maxpulse=153<br>Duration=%{x}<br>Calories=%{y}<br>Pulse=%{customdata[0]}<extra></extra>\",\"legendgroup\":\"153\",\"line\":{\"color\":\"rgba(255,255,255,0)\"},\"marker\":{\"color\":\"#FF97FF\"},\"name\":\"153\",\"offsetgroup\":\"153\",\"orientation\":\"v\",\"pointpos\":0,\"showlegend\":true,\"x\":[60,60],\"x0\":\" \",\"xaxis\":\"x\",\"y\":[387.6,387.6],\"y0\":\" \",\"yaxis\":\"y\",\"type\":\"box\"},{\"alignmentgroup\":\"True\",\"boxpoints\":\"all\",\"customdata\":[[111],[103],[124]],\"fillcolor\":\"rgba(255,255,255,0)\",\"hoveron\":\"points\",\"hovertemplate\":\"Maxpulse=139<br>Duration=%{x}<br>Calories=%{y}<br>Pulse=%{customdata[0]}<extra></extra>\",\"legendgroup\":\"139\",\"line\":{\"color\":\"rgba(255,255,255,0)\"},\"marker\":{\"color\":\"#FECB52\"},\"name\":\"139\",\"offsetgroup\":\"139\",\"orientation\":\"v\",\"pointpos\":0,\"showlegend\":true,\"x\":[60,30,15],\"x0\":\" \",\"xaxis\":\"x\",\"y\":[397.6,151.1,124.2],\"y0\":\" \",\"yaxis\":\"y\",\"type\":\"box\"},{\"alignmentgroup\":\"True\",\"boxpoints\":\"all\",\"customdata\":[[123],[121],[114],[112]],\"fillcolor\":\"rgba(255,255,255,0)\",\"hoveron\":\"points\",\"hovertemplate\":\"Maxpulse=146<br>Duration=%{x}<br>Calories=%{y}<br>Pulse=%{customdata[0]}<extra></extra>\",\"legendgroup\":\"146\",\"line\":{\"color\":\"rgba(255,255,255,0)\"},\"marker\":{\"color\":\"#636efa\"},\"name\":\"146\",\"offsetgroup\":\"146\",\"orientation\":\"v\",\"pointpos\":0,\"showlegend\":true,\"x\":[80,60,45,60],\"x0\":\" \",\"xaxis\":\"x\",\"y\":[643.1,450.7,304.0,361.9],\"y0\":\" \",\"yaxis\":\"y\",\"type\":\"box\"},{\"alignmentgroup\":\"True\",\"boxpoints\":\"all\",\"customdata\":[[118],[108],[111],[114],[111]],\"fillcolor\":\"rgba(255,255,255,0)\",\"hoveron\":\"points\",\"hovertemplate\":\"Maxpulse=151<br>Duration=%{x}<br>Calories=%{y}<br>Pulse=%{customdata[0]}<extra></extra>\",\"legendgroup\":\"151\",\"line\":{\"color\":\"rgba(255,255,255,0)\"},\"marker\":{\"color\":\"#EF553B\"},\"name\":\"151\",\"offsetgroup\":\"151\",\"orientation\":\"v\",\"pointpos\":0,\"showlegend\":true,\"x\":[60,60,60,60,60],\"x0\":\" \",\"xaxis\":\"x\",\"y\":[486.0,351.7,368.5,384.0,368.5],\"y0\":\" \",\"yaxis\":\"y\",\"type\":\"box\"},{\"alignmentgroup\":\"True\",\"boxpoints\":\"all\",\"customdata\":[[118]],\"fillcolor\":\"rgba(255,255,255,0)\",\"hoveron\":\"points\",\"hovertemplate\":\"Maxpulse=121<br>Duration=%{x}<br>Calories=%{y}<br>Pulse=%{customdata[0]}<extra></extra>\",\"legendgroup\":\"121\",\"line\":{\"color\":\"rgba(255,255,255,0)\"},\"marker\":{\"color\":\"#00cc96\"},\"name\":\"121\",\"offsetgroup\":\"121\",\"orientation\":\"v\",\"pointpos\":0,\"showlegend\":true,\"x\":[60],\"x0\":\" \",\"xaxis\":\"x\",\"y\":[413.0],\"y0\":\" \",\"yaxis\":\"y\",\"type\":\"box\"},{\"alignmentgroup\":\"True\",\"boxpoints\":\"all\",\"customdata\":[[115]],\"fillcolor\":\"rgba(255,255,255,0)\",\"hoveron\":\"points\",\"hovertemplate\":\"Maxpulse=144<br>Duration=%{x}<br>Calories=%{y}<br>Pulse=%{customdata[0]}<extra></extra>\",\"legendgroup\":\"144\",\"line\":{\"color\":\"rgba(255,255,255,0)\"},\"marker\":{\"color\":\"#ab63fa\"},\"name\":\"144\",\"offsetgroup\":\"144\",\"orientation\":\"v\",\"pointpos\":0,\"showlegend\":true,\"x\":[45],\"x0\":\" \",\"xaxis\":\"x\",\"y\":[305.0],\"y0\":\" \",\"yaxis\":\"y\",\"type\":\"box\"},{\"alignmentgroup\":\"True\",\"boxpoints\":\"all\",\"customdata\":[[153]],\"fillcolor\":\"rgba(255,255,255,0)\",\"hoveron\":\"points\",\"hovertemplate\":\"Maxpulse=172<br>Duration=%{x}<br>Calories=%{y}<br>Pulse=%{customdata[0]}<extra></extra>\",\"legendgroup\":\"172\",\"line\":{\"color\":\"rgba(255,255,255,0)\"},\"marker\":{\"color\":\"#FFA15A\"},\"name\":\"172\",\"offsetgroup\":\"172\",\"orientation\":\"v\",\"pointpos\":0,\"showlegend\":true,\"x\":[20],\"x0\":\" \",\"xaxis\":\"x\",\"y\":[226.4],\"y0\":\" \",\"yaxis\":\"y\",\"type\":\"box\"},{\"alignmentgroup\":\"True\",\"boxpoints\":\"all\",\"customdata\":[[123]],\"fillcolor\":\"rgba(255,255,255,0)\",\"hoveron\":\"points\",\"hovertemplate\":\"Maxpulse=152<br>Duration=%{x}<br>Calories=%{y}<br>Pulse=%{customdata[0]}<extra></extra>\",\"legendgroup\":\"152\",\"line\":{\"color\":\"rgba(255,255,255,0)\"},\"marker\":{\"color\":\"#19d3f3\"},\"name\":\"152\",\"offsetgroup\":\"152\",\"orientation\":\"v\",\"pointpos\":0,\"showlegend\":true,\"x\":[45],\"x0\":\" \",\"xaxis\":\"x\",\"y\":[321.0],\"y0\":\" \",\"yaxis\":\"y\",\"type\":\"box\"},{\"alignmentgroup\":\"True\",\"boxpoints\":\"all\",\"customdata\":[[108]],\"fillcolor\":\"rgba(255,255,255,0)\",\"hoveron\":\"points\",\"hovertemplate\":\"Maxpulse=160<br>Duration=%{x}<br>Calories=%{y}<br>Pulse=%{customdata[0]}<extra></extra>\",\"legendgroup\":\"160\",\"line\":{\"color\":\"rgba(255,255,255,0)\"},\"marker\":{\"color\":\"#FF6692\"},\"name\":\"160\",\"offsetgroup\":\"160\",\"orientation\":\"v\",\"pointpos\":0,\"showlegend\":true,\"x\":[210],\"x0\":\" \",\"xaxis\":\"x\",\"y\":[1376.0],\"y0\":\" \",\"yaxis\":\"y\",\"type\":\"box\"},{\"alignmentgroup\":\"True\",\"boxpoints\":\"all\",\"customdata\":[[110],[107],[112],[115]],\"fillcolor\":\"rgba(255,255,255,0)\",\"hoveron\":\"points\",\"hovertemplate\":\"Maxpulse=137<br>Duration=%{x}<br>Calories=%{y}<br>Pulse=%{customdata[0]}<extra></extra>\",\"legendgroup\":\"137\",\"line\":{\"color\":\"rgba(255,255,255,0)\"},\"marker\":{\"color\":\"#B6E880\"},\"name\":\"137\",\"offsetgroup\":\"137\",\"orientation\":\"v\",\"pointpos\":0,\"showlegend\":true,\"x\":[160,45,30,45],\"x0\":\" \",\"xaxis\":\"x\",\"y\":[1034.4,null,193.9,318.0],\"y0\":\" \",\"yaxis\":\"y\",\"type\":\"box\"},{\"alignmentgroup\":\"True\",\"boxpoints\":\"all\",\"customdata\":[[118],[110],[116]],\"fillcolor\":\"rgba(255,255,255,0)\",\"hoveron\":\"points\",\"hovertemplate\":\"Maxpulse=141<br>Duration=%{x}<br>Calories=%{y}<br>Pulse=%{customdata[0]}<extra></extra>\",\"legendgroup\":\"141\",\"line\":{\"color\":\"rgba(255,255,255,0)\"},\"marker\":{\"color\":\"#FF97FF\"},\"name\":\"141\",\"offsetgroup\":\"141\",\"orientation\":\"v\",\"pointpos\":0,\"showlegend\":true,\"x\":[45,45,60],\"x0\":\" \",\"xaxis\":\"x\",\"y\":[341.0,300.0,443.0],\"y0\":\" \",\"yaxis\":\"y\",\"type\":\"box\"},{\"alignmentgroup\":\"True\",\"boxpoints\":\"all\",\"customdata\":[[108],[117]],\"fillcolor\":\"rgba(255,255,255,0)\",\"hoveron\":\"points\",\"hovertemplate\":\"Maxpulse=143<br>Duration=%{x}<br>Calories=%{y}<br>Pulse=%{customdata[0]}<extra></extra>\",\"legendgroup\":\"143\",\"line\":{\"color\":\"rgba(255,255,255,0)\"},\"marker\":{\"color\":\"#FECB52\"},\"name\":\"143\",\"offsetgroup\":\"143\",\"orientation\":\"v\",\"pointpos\":0,\"showlegend\":true,\"x\":[300,45],\"x0\":\" \",\"xaxis\":\"x\",\"y\":[1500.2,317.7],\"y0\":\" \",\"yaxis\":\"y\",\"type\":\"box\"},{\"alignmentgroup\":\"True\",\"boxpoints\":\"all\",\"customdata\":[[159]],\"fillcolor\":\"rgba(255,255,255,0)\",\"hoveron\":\"points\",\"hovertemplate\":\"Maxpulse=182<br>Duration=%{x}<br>Calories=%{y}<br>Pulse=%{customdata[0]}<extra></extra>\",\"legendgroup\":\"182\",\"line\":{\"color\":\"rgba(255,255,255,0)\"},\"marker\":{\"color\":\"#636efa\"},\"name\":\"182\",\"offsetgroup\":\"182\",\"orientation\":\"v\",\"pointpos\":0,\"showlegend\":true,\"x\":[30],\"x0\":\" \",\"xaxis\":\"x\",\"y\":[319.2],\"y0\":\" \",\"yaxis\":\"y\",\"type\":\"box\"},{\"alignmentgroup\":\"True\",\"boxpoints\":\"all\",\"customdata\":[[149],[119]],\"fillcolor\":\"rgba(255,255,255,0)\",\"hoveron\":\"points\",\"hovertemplate\":\"Maxpulse=169<br>Duration=%{x}<br>Calories=%{y}<br>Pulse=%{customdata[0]}<extra></extra>\",\"legendgroup\":\"169\",\"line\":{\"color\":\"rgba(255,255,255,0)\"},\"marker\":{\"color\":\"#EF553B\"},\"name\":\"169\",\"offsetgroup\":\"169\",\"orientation\":\"v\",\"pointpos\":0,\"showlegend\":true,\"x\":[45,60],\"x0\":\" \",\"xaxis\":\"x\",\"y\":[344.0,336.7],\"y0\":\" \",\"yaxis\":\"y\",\"type\":\"box\"},{\"alignmentgroup\":\"True\",\"boxpoints\":\"all\",\"customdata\":[[151],[136]],\"fillcolor\":\"rgba(255,255,255,0)\",\"hoveron\":\"points\",\"hovertemplate\":\"Maxpulse=170<br>Duration=%{x}<br>Calories=%{y}<br>Pulse=%{customdata[0]}<extra></extra>\",\"legendgroup\":\"170\",\"line\":{\"color\":\"rgba(255,255,255,0)\"},\"marker\":{\"color\":\"#00cc96\"},\"name\":\"170\",\"offsetgroup\":\"170\",\"orientation\":\"v\",\"pointpos\":0,\"showlegend\":true,\"x\":[30,60],\"x0\":\" \",\"xaxis\":\"x\",\"y\":[300.0,470.2],\"y0\":\" \",\"yaxis\":\"y\",\"type\":\"box\"},{\"alignmentgroup\":\"True\",\"boxpoints\":\"all\",\"customdata\":[[100]],\"fillcolor\":\"rgba(255,255,255,0)\",\"hoveron\":\"points\",\"hovertemplate\":\"Maxpulse=157<br>Duration=%{x}<br>Calories=%{y}<br>Pulse=%{customdata[0]}<extra></extra>\",\"legendgroup\":\"157\",\"line\":{\"color\":\"rgba(255,255,255,0)\"},\"marker\":{\"color\":\"#ab63fa\"},\"name\":\"157\",\"offsetgroup\":\"157\",\"orientation\":\"v\",\"pointpos\":0,\"showlegend\":true,\"x\":[120],\"x0\":\" \",\"xaxis\":\"x\",\"y\":[1000.1],\"y0\":\" \",\"yaxis\":\"y\",\"type\":\"box\"},{\"alignmentgroup\":\"True\",\"boxpoints\":\"all\",\"customdata\":[[129]],\"fillcolor\":\"rgba(255,255,255,0)\",\"hoveron\":\"points\",\"hovertemplate\":\"Maxpulse=103<br>Duration=%{x}<br>Calories=%{y}<br>Pulse=%{customdata[0]}<extra></extra>\",\"legendgroup\":\"103\",\"line\":{\"color\":\"rgba(255,255,255,0)\"},\"marker\":{\"color\":\"#FFA15A\"},\"name\":\"103\",\"offsetgroup\":\"103\",\"orientation\":\"v\",\"pointpos\":0,\"showlegend\":true,\"x\":[45],\"x0\":\" \",\"xaxis\":\"x\",\"y\":[242.0],\"y0\":\" \",\"yaxis\":\"y\",\"type\":\"box\"},{\"alignmentgroup\":\"True\",\"boxpoints\":\"all\",\"customdata\":[[83],[90]],\"fillcolor\":\"rgba(255,255,255,0)\",\"hoveron\":\"points\",\"hovertemplate\":\"Maxpulse=107<br>Duration=%{x}<br>Calories=%{y}<br>Pulse=%{customdata[0]}<extra></extra>\",\"legendgroup\":\"107\",\"line\":{\"color\":\"rgba(255,255,255,0)\"},\"marker\":{\"color\":\"#19d3f3\"},\"name\":\"107\",\"offsetgroup\":\"107\",\"orientation\":\"v\",\"pointpos\":0,\"showlegend\":true,\"x\":[20,30],\"x0\":\" \",\"xaxis\":\"x\",\"y\":[50.3,105.3],\"y0\":\" \",\"yaxis\":\"y\",\"type\":\"box\"},{\"alignmentgroup\":\"True\",\"boxpoints\":\"all\",\"customdata\":[[80],[90],[90]],\"fillcolor\":\"rgba(255,255,255,0)\",\"hoveron\":\"points\",\"hovertemplate\":\"Maxpulse=100<br>Duration=%{x}<br>Calories=%{y}<br>Pulse=%{customdata[0]}<extra></extra>\",\"legendgroup\":\"100\",\"line\":{\"color\":\"rgba(255,255,255,0)\"},\"marker\":{\"color\":\"#FF6692\"},\"name\":\"100\",\"offsetgroup\":\"100\",\"orientation\":\"v\",\"pointpos\":0,\"showlegend\":true,\"x\":[15,90,90],\"x0\":\" \",\"xaxis\":\"x\",\"y\":[50.5,500.0,500.4],\"y0\":\" \",\"yaxis\":\"y\",\"type\":\"box\"},{\"alignmentgroup\":\"True\",\"boxpoints\":\"all\",\"customdata\":[[150]],\"fillcolor\":\"rgba(255,255,255,0)\",\"hoveron\":\"points\",\"hovertemplate\":\"Maxpulse=171<br>Duration=%{x}<br>Calories=%{y}<br>Pulse=%{customdata[0]}<extra></extra>\",\"legendgroup\":\"171\",\"line\":{\"color\":\"rgba(255,255,255,0)\"},\"marker\":{\"color\":\"#B6E880\"},\"name\":\"171\",\"offsetgroup\":\"171\",\"orientation\":\"v\",\"pointpos\":0,\"showlegend\":true,\"x\":[20],\"x0\":\" \",\"xaxis\":\"x\",\"y\":[127.4],\"y0\":\" \",\"yaxis\":\"y\",\"type\":\"box\"},{\"alignmentgroup\":\"True\",\"boxpoints\":\"all\",\"customdata\":[[151],[152]],\"fillcolor\":\"rgba(255,255,255,0)\",\"hoveron\":\"points\",\"hovertemplate\":\"Maxpulse=168<br>Duration=%{x}<br>Calories=%{y}<br>Pulse=%{customdata[0]}<extra></extra>\",\"legendgroup\":\"168\",\"line\":{\"color\":\"rgba(255,255,255,0)\"},\"marker\":{\"color\":\"#FF97FF\"},\"name\":\"168\",\"offsetgroup\":\"168\",\"orientation\":\"v\",\"pointpos\":0,\"showlegend\":true,\"x\":[20,25],\"x0\":\" \",\"xaxis\":\"x\",\"y\":[229.4,244.2],\"y0\":\" \",\"yaxis\":\"y\",\"type\":\"box\"},{\"alignmentgroup\":\"True\",\"boxpoints\":\"all\",\"customdata\":[[90]],\"fillcolor\":\"rgba(255,255,255,0)\",\"hoveron\":\"points\",\"hovertemplate\":\"Maxpulse=110<br>Duration=%{x}<br>Calories=%{y}<br>Pulse=%{customdata[0]}<extra></extra>\",\"legendgroup\":\"110\",\"line\":{\"color\":\"rgba(255,255,255,0)\"},\"marker\":{\"color\":\"#FECB52\"},\"name\":\"110\",\"offsetgroup\":\"110\",\"orientation\":\"v\",\"pointpos\":0,\"showlegend\":true,\"x\":[90],\"x0\":\" \",\"xaxis\":\"x\",\"y\":[500.0],\"y0\":\" \",\"yaxis\":\"y\",\"type\":\"box\"},{\"alignmentgroup\":\"True\",\"boxpoints\":\"all\",\"customdata\":[[92]],\"fillcolor\":\"rgba(255,255,255,0)\",\"hoveron\":\"points\",\"hovertemplate\":\"Maxpulse=108<br>Duration=%{x}<br>Calories=%{y}<br>Pulse=%{customdata[0]}<extra></extra>\",\"legendgroup\":\"108\",\"line\":{\"color\":\"rgba(255,255,255,0)\"},\"marker\":{\"color\":\"#636efa\"},\"name\":\"108\",\"offsetgroup\":\"108\",\"orientation\":\"v\",\"pointpos\":0,\"showlegend\":true,\"x\":[30],\"x0\":\" \",\"xaxis\":\"x\",\"y\":[92.7],\"y0\":\" \",\"yaxis\":\"y\",\"type\":\"box\"},{\"alignmentgroup\":\"True\",\"boxpoints\":\"all\",\"customdata\":[[137]],\"fillcolor\":\"rgba(255,255,255,0)\",\"hoveron\":\"points\",\"hovertemplate\":\"Maxpulse=184<br>Duration=%{x}<br>Calories=%{y}<br>Pulse=%{customdata[0]}<extra></extra>\",\"legendgroup\":\"184\",\"line\":{\"color\":\"rgba(255,255,255,0)\"},\"marker\":{\"color\":\"#EF553B\"},\"name\":\"184\",\"offsetgroup\":\"184\",\"orientation\":\"v\",\"pointpos\":0,\"showlegend\":true,\"x\":[210],\"x0\":\" \",\"xaxis\":\"x\",\"y\":[1860.4],\"y0\":\" \",\"yaxis\":\"y\",\"type\":\"box\"},{\"alignmentgroup\":\"True\",\"boxpoints\":\"all\",\"customdata\":[[136]],\"fillcolor\":\"rgba(255,255,255,0)\",\"hoveron\":\"points\",\"hovertemplate\":\"Maxpulse=156<br>Duration=%{x}<br>Calories=%{y}<br>Pulse=%{customdata[0]}<extra></extra>\",\"legendgroup\":\"156\",\"line\":{\"color\":\"rgba(255,255,255,0)\"},\"marker\":{\"color\":\"#00cc96\"},\"name\":\"156\",\"offsetgroup\":\"156\",\"orientation\":\"v\",\"pointpos\":0,\"showlegend\":true,\"x\":[20],\"x0\":\" \",\"xaxis\":\"x\",\"y\":[189.0],\"y0\":\" \",\"yaxis\":\"y\",\"type\":\"box\"},{\"alignmentgroup\":\"True\",\"boxpoints\":\"all\",\"customdata\":[[141]],\"fillcolor\":\"rgba(255,255,255,0)\",\"hoveron\":\"points\",\"hovertemplate\":\"Maxpulse=162<br>Duration=%{x}<br>Calories=%{y}<br>Pulse=%{customdata[0]}<extra></extra>\",\"legendgroup\":\"162\",\"line\":{\"color\":\"rgba(255,255,255,0)\"},\"marker\":{\"color\":\"#ab63fa\"},\"name\":\"162\",\"offsetgroup\":\"162\",\"orientation\":\"v\",\"pointpos\":0,\"showlegend\":true,\"x\":[20],\"x0\":\" \",\"xaxis\":\"x\",\"y\":[222.4],\"y0\":\" \",\"yaxis\":\"y\",\"type\":\"box\"},{\"alignmentgroup\":\"True\",\"boxpoints\":\"all\",\"customdata\":[[122]],\"fillcolor\":\"rgba(255,255,255,0)\",\"hoveron\":\"points\",\"hovertemplate\":\"Maxpulse=149<br>Duration=%{x}<br>Calories=%{y}<br>Pulse=%{customdata[0]}<extra></extra>\",\"legendgroup\":\"149\",\"line\":{\"color\":\"rgba(255,255,255,0)\"},\"marker\":{\"color\":\"#FFA15A\"},\"name\":\"149\",\"offsetgroup\":\"149\",\"orientation\":\"v\",\"pointpos\":0,\"showlegend\":true,\"x\":[45],\"x0\":\" \",\"xaxis\":\"x\",\"y\":[335.4],\"y0\":\" \",\"yaxis\":\"y\",\"type\":\"box\"},{\"alignmentgroup\":\"True\",\"boxpoints\":\"all\",\"customdata\":[[110],[114],[120],[125]],\"fillcolor\":\"rgba(255,255,255,0)\",\"hoveron\":\"points\",\"hovertemplate\":\"Maxpulse=150<br>Duration=%{x}<br>Calories=%{y}<br>Pulse=%{customdata[0]}<extra></extra>\",\"legendgroup\":\"150\",\"line\":{\"color\":\"rgba(255,255,255,0)\"},\"marker\":{\"color\":\"#19d3f3\"},\"name\":\"150\",\"offsetgroup\":\"150\",\"orientation\":\"v\",\"pointpos\":0,\"showlegend\":true,\"x\":[60,60,75,75],\"x0\":\" \",\"xaxis\":\"x\",\"y\":[409.4,382.8,320.4,330.4],\"y0\":\" \",\"yaxis\":\"y\",\"type\":\"box\"},{\"alignmentgroup\":\"True\",\"boxpoints\":\"all\",\"customdata\":[[150]],\"fillcolor\":\"rgba(255,255,255,0)\",\"hoveron\":\"points\",\"hovertemplate\":\"Maxpulse=167<br>Duration=%{x}<br>Calories=%{y}<br>Pulse=%{customdata[0]}<extra></extra>\",\"legendgroup\":\"167\",\"line\":{\"color\":\"rgba(255,255,255,0)\"},\"marker\":{\"color\":\"#FF6692\"},\"name\":\"167\",\"offsetgroup\":\"167\",\"orientation\":\"v\",\"pointpos\":0,\"showlegend\":true,\"x\":[30],\"x0\":\" \",\"xaxis\":\"x\",\"y\":[275.8],\"y0\":\" \",\"yaxis\":\"y\",\"type\":\"box\"}],                        {\"template\":{\"data\":{\"histogram2dcontour\":[{\"type\":\"histogram2dcontour\",\"colorbar\":{\"outlinewidth\":0,\"ticks\":\"\"},\"colorscale\":[[0.0,\"#0d0887\"],[0.1111111111111111,\"#46039f\"],[0.2222222222222222,\"#7201a8\"],[0.3333333333333333,\"#9c179e\"],[0.4444444444444444,\"#bd3786\"],[0.5555555555555556,\"#d8576b\"],[0.6666666666666666,\"#ed7953\"],[0.7777777777777778,\"#fb9f3a\"],[0.8888888888888888,\"#fdca26\"],[1.0,\"#f0f921\"]]}],\"choropleth\":[{\"type\":\"choropleth\",\"colorbar\":{\"outlinewidth\":0,\"ticks\":\"\"}}],\"histogram2d\":[{\"type\":\"histogram2d\",\"colorbar\":{\"outlinewidth\":0,\"ticks\":\"\"},\"colorscale\":[[0.0,\"#0d0887\"],[0.1111111111111111,\"#46039f\"],[0.2222222222222222,\"#7201a8\"],[0.3333333333333333,\"#9c179e\"],[0.4444444444444444,\"#bd3786\"],[0.5555555555555556,\"#d8576b\"],[0.6666666666666666,\"#ed7953\"],[0.7777777777777778,\"#fb9f3a\"],[0.8888888888888888,\"#fdca26\"],[1.0,\"#f0f921\"]]}],\"heatmap\":[{\"type\":\"heatmap\",\"colorbar\":{\"outlinewidth\":0,\"ticks\":\"\"},\"colorscale\":[[0.0,\"#0d0887\"],[0.1111111111111111,\"#46039f\"],[0.2222222222222222,\"#7201a8\"],[0.3333333333333333,\"#9c179e\"],[0.4444444444444444,\"#bd3786\"],[0.5555555555555556,\"#d8576b\"],[0.6666666666666666,\"#ed7953\"],[0.7777777777777778,\"#fb9f3a\"],[0.8888888888888888,\"#fdca26\"],[1.0,\"#f0f921\"]]}],\"heatmapgl\":[{\"type\":\"heatmapgl\",\"colorbar\":{\"outlinewidth\":0,\"ticks\":\"\"},\"colorscale\":[[0.0,\"#0d0887\"],[0.1111111111111111,\"#46039f\"],[0.2222222222222222,\"#7201a8\"],[0.3333333333333333,\"#9c179e\"],[0.4444444444444444,\"#bd3786\"],[0.5555555555555556,\"#d8576b\"],[0.6666666666666666,\"#ed7953\"],[0.7777777777777778,\"#fb9f3a\"],[0.8888888888888888,\"#fdca26\"],[1.0,\"#f0f921\"]]}],\"contourcarpet\":[{\"type\":\"contourcarpet\",\"colorbar\":{\"outlinewidth\":0,\"ticks\":\"\"}}],\"contour\":[{\"type\":\"contour\",\"colorbar\":{\"outlinewidth\":0,\"ticks\":\"\"},\"colorscale\":[[0.0,\"#0d0887\"],[0.1111111111111111,\"#46039f\"],[0.2222222222222222,\"#7201a8\"],[0.3333333333333333,\"#9c179e\"],[0.4444444444444444,\"#bd3786\"],[0.5555555555555556,\"#d8576b\"],[0.6666666666666666,\"#ed7953\"],[0.7777777777777778,\"#fb9f3a\"],[0.8888888888888888,\"#fdca26\"],[1.0,\"#f0f921\"]]}],\"surface\":[{\"type\":\"surface\",\"colorbar\":{\"outlinewidth\":0,\"ticks\":\"\"},\"colorscale\":[[0.0,\"#0d0887\"],[0.1111111111111111,\"#46039f\"],[0.2222222222222222,\"#7201a8\"],[0.3333333333333333,\"#9c179e\"],[0.4444444444444444,\"#bd3786\"],[0.5555555555555556,\"#d8576b\"],[0.6666666666666666,\"#ed7953\"],[0.7777777777777778,\"#fb9f3a\"],[0.8888888888888888,\"#fdca26\"],[1.0,\"#f0f921\"]]}],\"mesh3d\":[{\"type\":\"mesh3d\",\"colorbar\":{\"outlinewidth\":0,\"ticks\":\"\"}}],\"scatter\":[{\"fillpattern\":{\"fillmode\":\"overlay\",\"size\":10,\"solidity\":0.2},\"type\":\"scatter\"}],\"parcoords\":[{\"type\":\"parcoords\",\"line\":{\"colorbar\":{\"outlinewidth\":0,\"ticks\":\"\"}}}],\"scatterpolargl\":[{\"type\":\"scatterpolargl\",\"marker\":{\"colorbar\":{\"outlinewidth\":0,\"ticks\":\"\"}}}],\"bar\":[{\"error_x\":{\"color\":\"#2a3f5f\"},\"error_y\":{\"color\":\"#2a3f5f\"},\"marker\":{\"line\":{\"color\":\"#E5ECF6\",\"width\":0.5},\"pattern\":{\"fillmode\":\"overlay\",\"size\":10,\"solidity\":0.2}},\"type\":\"bar\"}],\"scattergeo\":[{\"type\":\"scattergeo\",\"marker\":{\"colorbar\":{\"outlinewidth\":0,\"ticks\":\"\"}}}],\"scatterpolar\":[{\"type\":\"scatterpolar\",\"marker\":{\"colorbar\":{\"outlinewidth\":0,\"ticks\":\"\"}}}],\"histogram\":[{\"marker\":{\"pattern\":{\"fillmode\":\"overlay\",\"size\":10,\"solidity\":0.2}},\"type\":\"histogram\"}],\"scattergl\":[{\"type\":\"scattergl\",\"marker\":{\"colorbar\":{\"outlinewidth\":0,\"ticks\":\"\"}}}],\"scatter3d\":[{\"type\":\"scatter3d\",\"line\":{\"colorbar\":{\"outlinewidth\":0,\"ticks\":\"\"}},\"marker\":{\"colorbar\":{\"outlinewidth\":0,\"ticks\":\"\"}}}],\"scattermapbox\":[{\"type\":\"scattermapbox\",\"marker\":{\"colorbar\":{\"outlinewidth\":0,\"ticks\":\"\"}}}],\"scatterternary\":[{\"type\":\"scatterternary\",\"marker\":{\"colorbar\":{\"outlinewidth\":0,\"ticks\":\"\"}}}],\"scattercarpet\":[{\"type\":\"scattercarpet\",\"marker\":{\"colorbar\":{\"outlinewidth\":0,\"ticks\":\"\"}}}],\"carpet\":[{\"aaxis\":{\"endlinecolor\":\"#2a3f5f\",\"gridcolor\":\"white\",\"linecolor\":\"white\",\"minorgridcolor\":\"white\",\"startlinecolor\":\"#2a3f5f\"},\"baxis\":{\"endlinecolor\":\"#2a3f5f\",\"gridcolor\":\"white\",\"linecolor\":\"white\",\"minorgridcolor\":\"white\",\"startlinecolor\":\"#2a3f5f\"},\"type\":\"carpet\"}],\"table\":[{\"cells\":{\"fill\":{\"color\":\"#EBF0F8\"},\"line\":{\"color\":\"white\"}},\"header\":{\"fill\":{\"color\":\"#C8D4E3\"},\"line\":{\"color\":\"white\"}},\"type\":\"table\"}],\"barpolar\":[{\"marker\":{\"line\":{\"color\":\"#E5ECF6\",\"width\":0.5},\"pattern\":{\"fillmode\":\"overlay\",\"size\":10,\"solidity\":0.2}},\"type\":\"barpolar\"}],\"pie\":[{\"automargin\":true,\"type\":\"pie\"}]},\"layout\":{\"autotypenumbers\":\"strict\",\"colorway\":[\"#636efa\",\"#EF553B\",\"#00cc96\",\"#ab63fa\",\"#FFA15A\",\"#19d3f3\",\"#FF6692\",\"#B6E880\",\"#FF97FF\",\"#FECB52\"],\"font\":{\"color\":\"#2a3f5f\"},\"hovermode\":\"closest\",\"hoverlabel\":{\"align\":\"left\"},\"paper_bgcolor\":\"white\",\"plot_bgcolor\":\"#E5ECF6\",\"polar\":{\"bgcolor\":\"#E5ECF6\",\"angularaxis\":{\"gridcolor\":\"white\",\"linecolor\":\"white\",\"ticks\":\"\"},\"radialaxis\":{\"gridcolor\":\"white\",\"linecolor\":\"white\",\"ticks\":\"\"}},\"ternary\":{\"bgcolor\":\"#E5ECF6\",\"aaxis\":{\"gridcolor\":\"white\",\"linecolor\":\"white\",\"ticks\":\"\"},\"baxis\":{\"gridcolor\":\"white\",\"linecolor\":\"white\",\"ticks\":\"\"},\"caxis\":{\"gridcolor\":\"white\",\"linecolor\":\"white\",\"ticks\":\"\"}},\"coloraxis\":{\"colorbar\":{\"outlinewidth\":0,\"ticks\":\"\"}},\"colorscale\":{\"sequential\":[[0.0,\"#0d0887\"],[0.1111111111111111,\"#46039f\"],[0.2222222222222222,\"#7201a8\"],[0.3333333333333333,\"#9c179e\"],[0.4444444444444444,\"#bd3786\"],[0.5555555555555556,\"#d8576b\"],[0.6666666666666666,\"#ed7953\"],[0.7777777777777778,\"#fb9f3a\"],[0.8888888888888888,\"#fdca26\"],[1.0,\"#f0f921\"]],\"sequentialminus\":[[0.0,\"#0d0887\"],[0.1111111111111111,\"#46039f\"],[0.2222222222222222,\"#7201a8\"],[0.3333333333333333,\"#9c179e\"],[0.4444444444444444,\"#bd3786\"],[0.5555555555555556,\"#d8576b\"],[0.6666666666666666,\"#ed7953\"],[0.7777777777777778,\"#fb9f3a\"],[0.8888888888888888,\"#fdca26\"],[1.0,\"#f0f921\"]],\"diverging\":[[0,\"#8e0152\"],[0.1,\"#c51b7d\"],[0.2,\"#de77ae\"],[0.3,\"#f1b6da\"],[0.4,\"#fde0ef\"],[0.5,\"#f7f7f7\"],[0.6,\"#e6f5d0\"],[0.7,\"#b8e186\"],[0.8,\"#7fbc41\"],[0.9,\"#4d9221\"],[1,\"#276419\"]]},\"xaxis\":{\"gridcolor\":\"white\",\"linecolor\":\"white\",\"ticks\":\"\",\"title\":{\"standoff\":15},\"zerolinecolor\":\"white\",\"automargin\":true,\"zerolinewidth\":2},\"yaxis\":{\"gridcolor\":\"white\",\"linecolor\":\"white\",\"ticks\":\"\",\"title\":{\"standoff\":15},\"zerolinecolor\":\"white\",\"automargin\":true,\"zerolinewidth\":2},\"scene\":{\"xaxis\":{\"backgroundcolor\":\"#E5ECF6\",\"gridcolor\":\"white\",\"linecolor\":\"white\",\"showbackground\":true,\"ticks\":\"\",\"zerolinecolor\":\"white\",\"gridwidth\":2},\"yaxis\":{\"backgroundcolor\":\"#E5ECF6\",\"gridcolor\":\"white\",\"linecolor\":\"white\",\"showbackground\":true,\"ticks\":\"\",\"zerolinecolor\":\"white\",\"gridwidth\":2},\"zaxis\":{\"backgroundcolor\":\"#E5ECF6\",\"gridcolor\":\"white\",\"linecolor\":\"white\",\"showbackground\":true,\"ticks\":\"\",\"zerolinecolor\":\"white\",\"gridwidth\":2}},\"shapedefaults\":{\"line\":{\"color\":\"#2a3f5f\"}},\"annotationdefaults\":{\"arrowcolor\":\"#2a3f5f\",\"arrowhead\":0,\"arrowwidth\":1},\"geo\":{\"bgcolor\":\"white\",\"landcolor\":\"#E5ECF6\",\"subunitcolor\":\"white\",\"showland\":true,\"showlakes\":true,\"lakecolor\":\"white\"},\"title\":{\"x\":0.05},\"mapbox\":{\"style\":\"light\"}}},\"xaxis\":{\"anchor\":\"y\",\"domain\":[0.0,1.0],\"title\":{\"text\":\"Duration (minutes)\"}},\"yaxis\":{\"anchor\":\"x\",\"domain\":[0.0,1.0],\"title\":{\"text\":\"Calories Burned\"}},\"legend\":{\"title\":{\"text\":\"Maxpulse\"},\"tracegroupgap\":0},\"margin\":{\"t\":60},\"boxmode\":\"group\",\"title\":{\"text\":\"Strip Chart of Workout Data\"},\"coloraxis\":{\"colorbar\":{\"title\":{\"text\":\"Max Pulse\"}}}},                        {\"responsive\": true}                    ).then(function(){\n",
       "                            \n",
       "var gd = document.getElementById('8d0dcf6e-fdaa-47f9-b48c-463b2a2976e3');\n",
       "var x = new MutationObserver(function (mutations, observer) {{\n",
       "        var display = window.getComputedStyle(gd).display;\n",
       "        if (!display || display === 'none') {{\n",
       "            console.log([gd, 'removed!']);\n",
       "            Plotly.purge(gd);\n",
       "            observer.disconnect();\n",
       "        }}\n",
       "}});\n",
       "\n",
       "// Listen for the removal of the full notebook cells\n",
       "var notebookContainer = gd.closest('#notebook-container');\n",
       "if (notebookContainer) {{\n",
       "    x.observe(notebookContainer, {childList: true});\n",
       "}}\n",
       "\n",
       "// Listen for the clearing of the current output cell\n",
       "var outputEl = gd.closest('.output');\n",
       "if (outputEl) {{\n",
       "    x.observe(outputEl, {childList: true});\n",
       "}}\n",
       "\n",
       "                        })                };                });            </script>        </div>"
      ]
     },
     "metadata": {},
     "output_type": "display_data"
    }
   ],
   "source": [
    "import plotly.express as px\n",
    "import pandas as pd\n",
    "\n",
    "# Load the workout data\n",
    "df = pd.read_csv('workout_data.csv')\n",
    "\n",
    "# Create the strip chart\n",
    "fig = px.strip(df, x='Duration', y='Calories', color='Maxpulse', hover_data=['Pulse'])\n",
    "\n",
    "# Customize the chart layout\n",
    "fig.update_layout(\n",
    "    title='Strip Chart of Workout Data',\n",
    "    xaxis_title='Duration (minutes)',\n",
    "    yaxis_title='Calories Burned',\n",
    "    coloraxis_colorbar_title='Max Pulse',\n",
    ")\n",
    "\n",
    "# Show the chart\n",
    "fig.show()\n"
   ]
  },
  {
   "cell_type": "code",
   "execution_count": 13,
   "id": "6dca8017-e7ba-473f-bbf6-361afe972578",
   "metadata": {},
   "outputs": [
    {
     "data": {
      "application/vnd.plotly.v1+json": {
       "config": {
        "plotlyServerURL": "https://plot.ly"
       },
       "data": [
        {
         "hovertemplate": "variable=Calories<br>Duration=%{x}<br>value=%{y}<extra></extra>",
         "legendgroup": "Calories",
         "line": {
          "color": "#636efa",
          "dash": "solid"
         },
         "marker": {
          "symbol": "circle"
         },
         "mode": "lines",
         "name": "Calories",
         "orientation": "v",
         "showlegend": true,
         "type": "scatter",
         "x": [
          60,
          60,
          60,
          45,
          45,
          60,
          60,
          45,
          30,
          60,
          60,
          60,
          60,
          60,
          60,
          60,
          60,
          45,
          60,
          45,
          60,
          45,
          60,
          45,
          60,
          60,
          60,
          60,
          60,
          60,
          60,
          45,
          60,
          60,
          60,
          60,
          60,
          60,
          60,
          45,
          45,
          60,
          60,
          60,
          60,
          60,
          60,
          45,
          45,
          60,
          60,
          80,
          60,
          60,
          30,
          60,
          60,
          45,
          20,
          45,
          210,
          160,
          160,
          45,
          20,
          180,
          150,
          150,
          20,
          300,
          150,
          60,
          90,
          150,
          45,
          90,
          45,
          45,
          120,
          270,
          30,
          45,
          30,
          120,
          45,
          30,
          45,
          120,
          45,
          20,
          180,
          45,
          30,
          15,
          20,
          20,
          30,
          25,
          30,
          90,
          20,
          90,
          90,
          90,
          30,
          30,
          180,
          30,
          90,
          210,
          60,
          45,
          15,
          45,
          60,
          60,
          60,
          60,
          60,
          60,
          30,
          45,
          60,
          60,
          60,
          60,
          60,
          60,
          90,
          60,
          60,
          60,
          60,
          60,
          60,
          20,
          45,
          45,
          45,
          20,
          60,
          60,
          45,
          45,
          60,
          45,
          60,
          60,
          30,
          60,
          60,
          60,
          60,
          30,
          60,
          60,
          60,
          60,
          60,
          30,
          30,
          45,
          45,
          45,
          60,
          60,
          60,
          75,
          75
         ],
         "xaxis": "x",
         "y": [
          409.1,
          479,
          340,
          282.4,
          406,
          300,
          374,
          253.3,
          195.1,
          269,
          329.3,
          250.7,
          345.3,
          379.3,
          275,
          215.2,
          300,
          null,
          323,
          243,
          364.2,
          282,
          300,
          246,
          334.5,
          250,
          241,
          null,
          280,
          380.3,
          243,
          180.1,
          299,
          223,
          361,
          415,
          300,
          300,
          300,
          266,
          180.1,
          286,
          329.4,
          400,
          397,
          273,
          387.6,
          300,
          298,
          397.6,
          380.2,
          643.1,
          263,
          486,
          238,
          450.7,
          413,
          305,
          226.4,
          321,
          1376,
          1034.4,
          853,
          341,
          131.4,
          800.4,
          873.4,
          816,
          110.4,
          1500.2,
          1115,
          387.6,
          700,
          953.2,
          304,
          563.2,
          251,
          300,
          500.4,
          1729,
          319.2,
          344,
          151.1,
          500,
          225.3,
          300,
          234,
          1000.1,
          242,
          50.3,
          600.1,
          null,
          105.3,
          50.5,
          127.4,
          229.4,
          128.2,
          244.2,
          188.2,
          604.1,
          77.7,
          500,
          500,
          500.4,
          92.7,
          124,
          800.3,
          86.2,
          500.3,
          1860.4,
          325.2,
          275,
          124.2,
          225.3,
          367.6,
          351.7,
          443,
          277.4,
          null,
          332.7,
          193.9,
          100.7,
          336.7,
          344.9,
          368.5,
          271,
          275.3,
          382,
          466.4,
          384,
          342.5,
          357.5,
          335,
          327.5,
          339,
          189,
          317.7,
          318,
          308,
          222.4,
          390,
          null,
          250.4,
          335.4,
          470.2,
          270.8,
          400,
          361.9,
          185,
          409.4,
          343,
          353.2,
          374,
          275.8,
          328,
          368.5,
          270.4,
          270.4,
          382.8,
          240.9,
          250.4,
          260.4,
          270,
          280.9,
          290.8,
          300,
          310.2,
          320.4,
          330.4
         ],
         "yaxis": "y"
        },
        {
         "hovertemplate": "variable=Maxpulse<br>Duration=%{x}<br>value=%{y}<extra></extra>",
         "legendgroup": "Maxpulse",
         "line": {
          "color": "#EF553B",
          "dash": "solid"
         },
         "marker": {
          "symbol": "circle"
         },
         "mode": "lines",
         "name": "Maxpulse",
         "orientation": "v",
         "showlegend": true,
         "type": "scatter",
         "x": [
          60,
          60,
          60,
          45,
          45,
          60,
          60,
          45,
          30,
          60,
          60,
          60,
          60,
          60,
          60,
          60,
          60,
          45,
          60,
          45,
          60,
          45,
          60,
          45,
          60,
          60,
          60,
          60,
          60,
          60,
          60,
          45,
          60,
          60,
          60,
          60,
          60,
          60,
          60,
          45,
          45,
          60,
          60,
          60,
          60,
          60,
          60,
          45,
          45,
          60,
          60,
          80,
          60,
          60,
          30,
          60,
          60,
          45,
          20,
          45,
          210,
          160,
          160,
          45,
          20,
          180,
          150,
          150,
          20,
          300,
          150,
          60,
          90,
          150,
          45,
          90,
          45,
          45,
          120,
          270,
          30,
          45,
          30,
          120,
          45,
          30,
          45,
          120,
          45,
          20,
          180,
          45,
          30,
          15,
          20,
          20,
          30,
          25,
          30,
          90,
          20,
          90,
          90,
          90,
          30,
          30,
          180,
          30,
          90,
          210,
          60,
          45,
          15,
          45,
          60,
          60,
          60,
          60,
          60,
          60,
          30,
          45,
          60,
          60,
          60,
          60,
          60,
          60,
          90,
          60,
          60,
          60,
          60,
          60,
          60,
          20,
          45,
          45,
          45,
          20,
          60,
          60,
          45,
          45,
          60,
          45,
          60,
          60,
          30,
          60,
          60,
          60,
          60,
          30,
          60,
          60,
          60,
          60,
          60,
          30,
          30,
          45,
          45,
          45,
          60,
          60,
          60,
          75,
          75
         ],
         "xaxis": "x",
         "y": [
          130,
          145,
          135,
          175,
          148,
          127,
          136,
          134,
          133,
          124,
          147,
          120,
          128,
          132,
          123,
          120,
          120,
          112,
          123,
          125,
          131,
          119,
          101,
          132,
          126,
          120,
          118,
          132,
          132,
          129,
          115,
          112,
          124,
          113,
          136,
          140,
          127,
          120,
          120,
          129,
          112,
          126,
          122,
          138,
          131,
          119,
          153,
          136,
          129,
          139,
          136,
          146,
          130,
          151,
          175,
          146,
          121,
          144,
          172,
          152,
          160,
          137,
          135,
          141,
          130,
          130,
          135,
          130,
          136,
          143,
          129,
          153,
          127,
          127,
          146,
          125,
          134,
          141,
          130,
          131,
          182,
          169,
          139,
          130,
          120,
          170,
          136,
          157,
          103,
          107,
          127,
          137,
          107,
          100,
          171,
          168,
          128,
          168,
          131,
          124,
          112,
          110,
          100,
          100,
          108,
          128,
          120,
          120,
          120,
          184,
          124,
          124,
          139,
          120,
          131,
          151,
          141,
          122,
          125,
          124,
          137,
          120,
          169,
          127,
          151,
          122,
          124,
          127,
          125,
          151,
          134,
          138,
          133,
          132,
          136,
          156,
          143,
          137,
          138,
          162,
          135,
          127,
          120,
          149,
          170,
          126,
          136,
          146,
          127,
          150,
          134,
          129,
          138,
          167,
          128,
          151,
          131,
          120,
          150,
          120,
          120,
          130,
          130,
          140,
          140,
          145,
          145,
          150,
          150
         ],
         "yaxis": "y"
        },
        {
         "hovertemplate": "variable=Pulse<br>Duration=%{x}<br>value=%{y}<extra></extra>",
         "legendgroup": "Pulse",
         "line": {
          "color": "#00cc96",
          "dash": "solid"
         },
         "marker": {
          "symbol": "circle"
         },
         "mode": "lines",
         "name": "Pulse",
         "orientation": "v",
         "showlegend": true,
         "type": "scatter",
         "x": [
          60,
          60,
          60,
          45,
          45,
          60,
          60,
          45,
          30,
          60,
          60,
          60,
          60,
          60,
          60,
          60,
          60,
          45,
          60,
          45,
          60,
          45,
          60,
          45,
          60,
          60,
          60,
          60,
          60,
          60,
          60,
          45,
          60,
          60,
          60,
          60,
          60,
          60,
          60,
          45,
          45,
          60,
          60,
          60,
          60,
          60,
          60,
          45,
          45,
          60,
          60,
          80,
          60,
          60,
          30,
          60,
          60,
          45,
          20,
          45,
          210,
          160,
          160,
          45,
          20,
          180,
          150,
          150,
          20,
          300,
          150,
          60,
          90,
          150,
          45,
          90,
          45,
          45,
          120,
          270,
          30,
          45,
          30,
          120,
          45,
          30,
          45,
          120,
          45,
          20,
          180,
          45,
          30,
          15,
          20,
          20,
          30,
          25,
          30,
          90,
          20,
          90,
          90,
          90,
          30,
          30,
          180,
          30,
          90,
          210,
          60,
          45,
          15,
          45,
          60,
          60,
          60,
          60,
          60,
          60,
          30,
          45,
          60,
          60,
          60,
          60,
          60,
          60,
          90,
          60,
          60,
          60,
          60,
          60,
          60,
          20,
          45,
          45,
          45,
          20,
          60,
          60,
          45,
          45,
          60,
          45,
          60,
          60,
          30,
          60,
          60,
          60,
          60,
          30,
          60,
          60,
          60,
          60,
          60,
          30,
          30,
          45,
          45,
          45,
          60,
          60,
          60,
          75,
          75
         ],
         "xaxis": "x",
         "y": [
          110,
          117,
          103,
          109,
          117,
          102,
          110,
          104,
          109,
          98,
          103,
          100,
          106,
          104,
          98,
          98,
          100,
          90,
          103,
          97,
          108,
          100,
          130,
          105,
          102,
          100,
          92,
          103,
          100,
          102,
          92,
          90,
          101,
          93,
          107,
          114,
          102,
          100,
          100,
          104,
          90,
          98,
          100,
          111,
          111,
          99,
          109,
          111,
          108,
          111,
          107,
          123,
          106,
          118,
          136,
          121,
          118,
          115,
          153,
          123,
          108,
          110,
          109,
          118,
          110,
          90,
          105,
          107,
          106,
          108,
          97,
          109,
          100,
          97,
          114,
          98,
          105,
          110,
          100,
          100,
          159,
          149,
          103,
          100,
          100,
          151,
          102,
          100,
          129,
          83,
          101,
          107,
          90,
          80,
          150,
          151,
          95,
          152,
          109,
          93,
          95,
          90,
          90,
          90,
          92,
          93,
          90,
          90,
          90,
          137,
          102,
          107,
          124,
          100,
          108,
          108,
          116,
          97,
          105,
          103,
          112,
          100,
          119,
          107,
          111,
          98,
          97,
          109,
          99,
          114,
          104,
          107,
          103,
          106,
          103,
          136,
          117,
          115,
          113,
          141,
          108,
          97,
          100,
          122,
          136,
          106,
          107,
          112,
          103,
          110,
          106,
          109,
          109,
          150,
          105,
          111,
          97,
          100,
          114,
          80,
          85,
          90,
          95,
          100,
          105,
          110,
          115,
          120,
          125
         ],
         "yaxis": "y"
        }
       ],
       "layout": {
        "autosize": true,
        "legend": {
         "title": {
          "text": "variable"
         },
         "tracegroupgap": 0
        },
        "margin": {
         "t": 60
        },
        "template": {
         "data": {
          "bar": [
           {
            "error_x": {
             "color": "#2a3f5f"
            },
            "error_y": {
             "color": "#2a3f5f"
            },
            "marker": {
             "line": {
              "color": "#E5ECF6",
              "width": 0.5
             },
             "pattern": {
              "fillmode": "overlay",
              "size": 10,
              "solidity": 0.2
             }
            },
            "type": "bar"
           }
          ],
          "barpolar": [
           {
            "marker": {
             "line": {
              "color": "#E5ECF6",
              "width": 0.5
             },
             "pattern": {
              "fillmode": "overlay",
              "size": 10,
              "solidity": 0.2
             }
            },
            "type": "barpolar"
           }
          ],
          "carpet": [
           {
            "aaxis": {
             "endlinecolor": "#2a3f5f",
             "gridcolor": "white",
             "linecolor": "white",
             "minorgridcolor": "white",
             "startlinecolor": "#2a3f5f"
            },
            "baxis": {
             "endlinecolor": "#2a3f5f",
             "gridcolor": "white",
             "linecolor": "white",
             "minorgridcolor": "white",
             "startlinecolor": "#2a3f5f"
            },
            "type": "carpet"
           }
          ],
          "choropleth": [
           {
            "colorbar": {
             "outlinewidth": 0,
             "ticks": ""
            },
            "type": "choropleth"
           }
          ],
          "contour": [
           {
            "colorbar": {
             "outlinewidth": 0,
             "ticks": ""
            },
            "colorscale": [
             [
              0,
              "#0d0887"
             ],
             [
              0.1111111111111111,
              "#46039f"
             ],
             [
              0.2222222222222222,
              "#7201a8"
             ],
             [
              0.3333333333333333,
              "#9c179e"
             ],
             [
              0.4444444444444444,
              "#bd3786"
             ],
             [
              0.5555555555555556,
              "#d8576b"
             ],
             [
              0.6666666666666666,
              "#ed7953"
             ],
             [
              0.7777777777777778,
              "#fb9f3a"
             ],
             [
              0.8888888888888888,
              "#fdca26"
             ],
             [
              1,
              "#f0f921"
             ]
            ],
            "type": "contour"
           }
          ],
          "contourcarpet": [
           {
            "colorbar": {
             "outlinewidth": 0,
             "ticks": ""
            },
            "type": "contourcarpet"
           }
          ],
          "heatmap": [
           {
            "colorbar": {
             "outlinewidth": 0,
             "ticks": ""
            },
            "colorscale": [
             [
              0,
              "#0d0887"
             ],
             [
              0.1111111111111111,
              "#46039f"
             ],
             [
              0.2222222222222222,
              "#7201a8"
             ],
             [
              0.3333333333333333,
              "#9c179e"
             ],
             [
              0.4444444444444444,
              "#bd3786"
             ],
             [
              0.5555555555555556,
              "#d8576b"
             ],
             [
              0.6666666666666666,
              "#ed7953"
             ],
             [
              0.7777777777777778,
              "#fb9f3a"
             ],
             [
              0.8888888888888888,
              "#fdca26"
             ],
             [
              1,
              "#f0f921"
             ]
            ],
            "type": "heatmap"
           }
          ],
          "heatmapgl": [
           {
            "colorbar": {
             "outlinewidth": 0,
             "ticks": ""
            },
            "colorscale": [
             [
              0,
              "#0d0887"
             ],
             [
              0.1111111111111111,
              "#46039f"
             ],
             [
              0.2222222222222222,
              "#7201a8"
             ],
             [
              0.3333333333333333,
              "#9c179e"
             ],
             [
              0.4444444444444444,
              "#bd3786"
             ],
             [
              0.5555555555555556,
              "#d8576b"
             ],
             [
              0.6666666666666666,
              "#ed7953"
             ],
             [
              0.7777777777777778,
              "#fb9f3a"
             ],
             [
              0.8888888888888888,
              "#fdca26"
             ],
             [
              1,
              "#f0f921"
             ]
            ],
            "type": "heatmapgl"
           }
          ],
          "histogram": [
           {
            "marker": {
             "pattern": {
              "fillmode": "overlay",
              "size": 10,
              "solidity": 0.2
             }
            },
            "type": "histogram"
           }
          ],
          "histogram2d": [
           {
            "colorbar": {
             "outlinewidth": 0,
             "ticks": ""
            },
            "colorscale": [
             [
              0,
              "#0d0887"
             ],
             [
              0.1111111111111111,
              "#46039f"
             ],
             [
              0.2222222222222222,
              "#7201a8"
             ],
             [
              0.3333333333333333,
              "#9c179e"
             ],
             [
              0.4444444444444444,
              "#bd3786"
             ],
             [
              0.5555555555555556,
              "#d8576b"
             ],
             [
              0.6666666666666666,
              "#ed7953"
             ],
             [
              0.7777777777777778,
              "#fb9f3a"
             ],
             [
              0.8888888888888888,
              "#fdca26"
             ],
             [
              1,
              "#f0f921"
             ]
            ],
            "type": "histogram2d"
           }
          ],
          "histogram2dcontour": [
           {
            "colorbar": {
             "outlinewidth": 0,
             "ticks": ""
            },
            "colorscale": [
             [
              0,
              "#0d0887"
             ],
             [
              0.1111111111111111,
              "#46039f"
             ],
             [
              0.2222222222222222,
              "#7201a8"
             ],
             [
              0.3333333333333333,
              "#9c179e"
             ],
             [
              0.4444444444444444,
              "#bd3786"
             ],
             [
              0.5555555555555556,
              "#d8576b"
             ],
             [
              0.6666666666666666,
              "#ed7953"
             ],
             [
              0.7777777777777778,
              "#fb9f3a"
             ],
             [
              0.8888888888888888,
              "#fdca26"
             ],
             [
              1,
              "#f0f921"
             ]
            ],
            "type": "histogram2dcontour"
           }
          ],
          "mesh3d": [
           {
            "colorbar": {
             "outlinewidth": 0,
             "ticks": ""
            },
            "type": "mesh3d"
           }
          ],
          "parcoords": [
           {
            "line": {
             "colorbar": {
              "outlinewidth": 0,
              "ticks": ""
             }
            },
            "type": "parcoords"
           }
          ],
          "pie": [
           {
            "automargin": true,
            "type": "pie"
           }
          ],
          "scatter": [
           {
            "fillpattern": {
             "fillmode": "overlay",
             "size": 10,
             "solidity": 0.2
            },
            "type": "scatter"
           }
          ],
          "scatter3d": [
           {
            "line": {
             "colorbar": {
              "outlinewidth": 0,
              "ticks": ""
             }
            },
            "marker": {
             "colorbar": {
              "outlinewidth": 0,
              "ticks": ""
             }
            },
            "type": "scatter3d"
           }
          ],
          "scattercarpet": [
           {
            "marker": {
             "colorbar": {
              "outlinewidth": 0,
              "ticks": ""
             }
            },
            "type": "scattercarpet"
           }
          ],
          "scattergeo": [
           {
            "marker": {
             "colorbar": {
              "outlinewidth": 0,
              "ticks": ""
             }
            },
            "type": "scattergeo"
           }
          ],
          "scattergl": [
           {
            "marker": {
             "colorbar": {
              "outlinewidth": 0,
              "ticks": ""
             }
            },
            "type": "scattergl"
           }
          ],
          "scattermapbox": [
           {
            "marker": {
             "colorbar": {
              "outlinewidth": 0,
              "ticks": ""
             }
            },
            "type": "scattermapbox"
           }
          ],
          "scatterpolar": [
           {
            "marker": {
             "colorbar": {
              "outlinewidth": 0,
              "ticks": ""
             }
            },
            "type": "scatterpolar"
           }
          ],
          "scatterpolargl": [
           {
            "marker": {
             "colorbar": {
              "outlinewidth": 0,
              "ticks": ""
             }
            },
            "type": "scatterpolargl"
           }
          ],
          "scatterternary": [
           {
            "marker": {
             "colorbar": {
              "outlinewidth": 0,
              "ticks": ""
             }
            },
            "type": "scatterternary"
           }
          ],
          "surface": [
           {
            "colorbar": {
             "outlinewidth": 0,
             "ticks": ""
            },
            "colorscale": [
             [
              0,
              "#0d0887"
             ],
             [
              0.1111111111111111,
              "#46039f"
             ],
             [
              0.2222222222222222,
              "#7201a8"
             ],
             [
              0.3333333333333333,
              "#9c179e"
             ],
             [
              0.4444444444444444,
              "#bd3786"
             ],
             [
              0.5555555555555556,
              "#d8576b"
             ],
             [
              0.6666666666666666,
              "#ed7953"
             ],
             [
              0.7777777777777778,
              "#fb9f3a"
             ],
             [
              0.8888888888888888,
              "#fdca26"
             ],
             [
              1,
              "#f0f921"
             ]
            ],
            "type": "surface"
           }
          ],
          "table": [
           {
            "cells": {
             "fill": {
              "color": "#EBF0F8"
             },
             "line": {
              "color": "white"
             }
            },
            "header": {
             "fill": {
              "color": "#C8D4E3"
             },
             "line": {
              "color": "white"
             }
            },
            "type": "table"
           }
          ]
         },
         "layout": {
          "annotationdefaults": {
           "arrowcolor": "#2a3f5f",
           "arrowhead": 0,
           "arrowwidth": 1
          },
          "autotypenumbers": "strict",
          "coloraxis": {
           "colorbar": {
            "outlinewidth": 0,
            "ticks": ""
           }
          },
          "colorscale": {
           "diverging": [
            [
             0,
             "#8e0152"
            ],
            [
             0.1,
             "#c51b7d"
            ],
            [
             0.2,
             "#de77ae"
            ],
            [
             0.3,
             "#f1b6da"
            ],
            [
             0.4,
             "#fde0ef"
            ],
            [
             0.5,
             "#f7f7f7"
            ],
            [
             0.6,
             "#e6f5d0"
            ],
            [
             0.7,
             "#b8e186"
            ],
            [
             0.8,
             "#7fbc41"
            ],
            [
             0.9,
             "#4d9221"
            ],
            [
             1,
             "#276419"
            ]
           ],
           "sequential": [
            [
             0,
             "#0d0887"
            ],
            [
             0.1111111111111111,
             "#46039f"
            ],
            [
             0.2222222222222222,
             "#7201a8"
            ],
            [
             0.3333333333333333,
             "#9c179e"
            ],
            [
             0.4444444444444444,
             "#bd3786"
            ],
            [
             0.5555555555555556,
             "#d8576b"
            ],
            [
             0.6666666666666666,
             "#ed7953"
            ],
            [
             0.7777777777777778,
             "#fb9f3a"
            ],
            [
             0.8888888888888888,
             "#fdca26"
            ],
            [
             1,
             "#f0f921"
            ]
           ],
           "sequentialminus": [
            [
             0,
             "#0d0887"
            ],
            [
             0.1111111111111111,
             "#46039f"
            ],
            [
             0.2222222222222222,
             "#7201a8"
            ],
            [
             0.3333333333333333,
             "#9c179e"
            ],
            [
             0.4444444444444444,
             "#bd3786"
            ],
            [
             0.5555555555555556,
             "#d8576b"
            ],
            [
             0.6666666666666666,
             "#ed7953"
            ],
            [
             0.7777777777777778,
             "#fb9f3a"
            ],
            [
             0.8888888888888888,
             "#fdca26"
            ],
            [
             1,
             "#f0f921"
            ]
           ]
          },
          "colorway": [
           "#636efa",
           "#EF553B",
           "#00cc96",
           "#ab63fa",
           "#FFA15A",
           "#19d3f3",
           "#FF6692",
           "#B6E880",
           "#FF97FF",
           "#FECB52"
          ],
          "font": {
           "color": "#2a3f5f"
          },
          "geo": {
           "bgcolor": "white",
           "lakecolor": "white",
           "landcolor": "#E5ECF6",
           "showlakes": true,
           "showland": true,
           "subunitcolor": "white"
          },
          "hoverlabel": {
           "align": "left"
          },
          "hovermode": "closest",
          "mapbox": {
           "style": "light"
          },
          "paper_bgcolor": "white",
          "plot_bgcolor": "#E5ECF6",
          "polar": {
           "angularaxis": {
            "gridcolor": "white",
            "linecolor": "white",
            "ticks": ""
           },
           "bgcolor": "#E5ECF6",
           "radialaxis": {
            "gridcolor": "white",
            "linecolor": "white",
            "ticks": ""
           }
          },
          "scene": {
           "xaxis": {
            "backgroundcolor": "#E5ECF6",
            "gridcolor": "white",
            "gridwidth": 2,
            "linecolor": "white",
            "showbackground": true,
            "ticks": "",
            "zerolinecolor": "white"
           },
           "yaxis": {
            "backgroundcolor": "#E5ECF6",
            "gridcolor": "white",
            "gridwidth": 2,
            "linecolor": "white",
            "showbackground": true,
            "ticks": "",
            "zerolinecolor": "white"
           },
           "zaxis": {
            "backgroundcolor": "#E5ECF6",
            "gridcolor": "white",
            "gridwidth": 2,
            "linecolor": "white",
            "showbackground": true,
            "ticks": "",
            "zerolinecolor": "white"
           }
          },
          "shapedefaults": {
           "line": {
            "color": "#2a3f5f"
           }
          },
          "ternary": {
           "aaxis": {
            "gridcolor": "white",
            "linecolor": "white",
            "ticks": ""
           },
           "baxis": {
            "gridcolor": "white",
            "linecolor": "white",
            "ticks": ""
           },
           "bgcolor": "#E5ECF6",
           "caxis": {
            "gridcolor": "white",
            "linecolor": "white",
            "ticks": ""
           }
          },
          "title": {
           "x": 0.05
          },
          "xaxis": {
           "automargin": true,
           "gridcolor": "white",
           "linecolor": "white",
           "ticks": "",
           "title": {
            "standoff": 15
           },
           "zerolinecolor": "white",
           "zerolinewidth": 2
          },
          "yaxis": {
           "automargin": true,
           "gridcolor": "white",
           "linecolor": "white",
           "ticks": "",
           "title": {
            "standoff": 15
           },
           "zerolinecolor": "white",
           "zerolinewidth": 2
          }
         }
        },
        "title": {
         "text": "Line Chart of Workout Data"
        },
        "xaxis": {
         "anchor": "y",
         "autorange": true,
         "domain": [
          0,
          1
         ],
         "range": [
          15,
          300
         ],
         "title": {
          "text": "Duration (minutes)"
         },
         "type": "linear"
        },
        "yaxis": {
         "anchor": "x",
         "autorange": true,
         "domain": [
          0,
          1
         ],
         "range": [
          -50.261111111111134,
          1960.9611111111112
         ],
         "title": {
          "text": "Values"
         },
         "type": "linear"
        }
       }
      },
      "image/png": "[encoded data removed]",
      "text/html": [
       "<div>                            <div id=\"5bfe6db4-6487-4c49-8e30-3c1d71cebbd2\" class=\"plotly-graph-div\" style=\"height:525px; width:100%;\"></div>            <script type=\"text/javascript\">                require([\"plotly\"], function(Plotly) {                    window.PLOTLYENV=window.PLOTLYENV || {};                                    if (document.getElementById(\"5bfe6db4-6487-4c49-8e30-3c1d71cebbd2\")) {                    Plotly.newPlot(                        \"5bfe6db4-6487-4c49-8e30-3c1d71cebbd2\",                        [{\"hovertemplate\":\"variable=Calories<br>Duration=%{x}<br>value=%{y}<extra></extra>\",\"legendgroup\":\"Calories\",\"line\":{\"color\":\"#636efa\",\"dash\":\"solid\"},\"marker\":{\"symbol\":\"circle\"},\"mode\":\"lines\",\"name\":\"Calories\",\"orientation\":\"v\",\"showlegend\":true,\"x\":[60,60,60,45,45,60,60,45,30,60,60,60,60,60,60,60,60,45,60,45,60,45,60,45,60,60,60,60,60,60,60,45,60,60,60,60,60,60,60,45,45,60,60,60,60,60,60,45,45,60,60,80,60,60,30,60,60,45,20,45,210,160,160,45,20,180,150,150,20,300,150,60,90,150,45,90,45,45,120,270,30,45,30,120,45,30,45,120,45,20,180,45,30,15,20,20,30,25,30,90,20,90,90,90,30,30,180,30,90,210,60,45,15,45,60,60,60,60,60,60,30,45,60,60,60,60,60,60,90,60,60,60,60,60,60,20,45,45,45,20,60,60,45,45,60,45,60,60,30,60,60,60,60,30,60,60,60,60,60,30,30,45,45,45,60,60,60,75,75],\"xaxis\":\"x\",\"y\":[409.1,479.0,340.0,282.4,406.0,300.0,374.0,253.3,195.1,269.0,329.3,250.7,345.3,379.3,275.0,215.2,300.0,null,323.0,243.0,364.2,282.0,300.0,246.0,334.5,250.0,241.0,null,280.0,380.3,243.0,180.1,299.0,223.0,361.0,415.0,300.0,300.0,300.0,266.0,180.1,286.0,329.4,400.0,397.0,273.0,387.6,300.0,298.0,397.6,380.2,643.1,263.0,486.0,238.0,450.7,413.0,305.0,226.4,321.0,1376.0,1034.4,853.0,341.0,131.4,800.4,873.4,816.0,110.4,1500.2,1115.0,387.6,700.0,953.2,304.0,563.2,251.0,300.0,500.4,1729.0,319.2,344.0,151.1,500.0,225.3,300.0,234.0,1000.1,242.0,50.3,600.1,null,105.3,50.5,127.4,229.4,128.2,244.2,188.2,604.1,77.7,500.0,500.0,500.4,92.7,124.0,800.3,86.2,500.3,1860.4,325.2,275.0,124.2,225.3,367.6,351.7,443.0,277.4,null,332.7,193.9,100.7,336.7,344.9,368.5,271.0,275.3,382.0,466.4,384.0,342.5,357.5,335.0,327.5,339.0,189.0,317.7,318.0,308.0,222.4,390.0,null,250.4,335.4,470.2,270.8,400.0,361.9,185.0,409.4,343.0,353.2,374.0,275.8,328.0,368.5,270.4,270.4,382.8,240.9,250.4,260.4,270.0,280.9,290.8,300.0,310.2,320.4,330.4],\"yaxis\":\"y\",\"type\":\"scatter\"},{\"hovertemplate\":\"variable=Maxpulse<br>Duration=%{x}<br>value=%{y}<extra></extra>\",\"legendgroup\":\"Maxpulse\",\"line\":{\"color\":\"#EF553B\",\"dash\":\"solid\"},\"marker\":{\"symbol\":\"circle\"},\"mode\":\"lines\",\"name\":\"Maxpulse\",\"orientation\":\"v\",\"showlegend\":true,\"x\":[60,60,60,45,45,60,60,45,30,60,60,60,60,60,60,60,60,45,60,45,60,45,60,45,60,60,60,60,60,60,60,45,60,60,60,60,60,60,60,45,45,60,60,60,60,60,60,45,45,60,60,80,60,60,30,60,60,45,20,45,210,160,160,45,20,180,150,150,20,300,150,60,90,150,45,90,45,45,120,270,30,45,30,120,45,30,45,120,45,20,180,45,30,15,20,20,30,25,30,90,20,90,90,90,30,30,180,30,90,210,60,45,15,45,60,60,60,60,60,60,30,45,60,60,60,60,60,60,90,60,60,60,60,60,60,20,45,45,45,20,60,60,45,45,60,45,60,60,30,60,60,60,60,30,60,60,60,60,60,30,30,45,45,45,60,60,60,75,75],\"xaxis\":\"x\",\"y\":[130.0,145.0,135.0,175.0,148.0,127.0,136.0,134.0,133.0,124.0,147.0,120.0,128.0,132.0,123.0,120.0,120.0,112.0,123.0,125.0,131.0,119.0,101.0,132.0,126.0,120.0,118.0,132.0,132.0,129.0,115.0,112.0,124.0,113.0,136.0,140.0,127.0,120.0,120.0,129.0,112.0,126.0,122.0,138.0,131.0,119.0,153.0,136.0,129.0,139.0,136.0,146.0,130.0,151.0,175.0,146.0,121.0,144.0,172.0,152.0,160.0,137.0,135.0,141.0,130.0,130.0,135.0,130.0,136.0,143.0,129.0,153.0,127.0,127.0,146.0,125.0,134.0,141.0,130.0,131.0,182.0,169.0,139.0,130.0,120.0,170.0,136.0,157.0,103.0,107.0,127.0,137.0,107.0,100.0,171.0,168.0,128.0,168.0,131.0,124.0,112.0,110.0,100.0,100.0,108.0,128.0,120.0,120.0,120.0,184.0,124.0,124.0,139.0,120.0,131.0,151.0,141.0,122.0,125.0,124.0,137.0,120.0,169.0,127.0,151.0,122.0,124.0,127.0,125.0,151.0,134.0,138.0,133.0,132.0,136.0,156.0,143.0,137.0,138.0,162.0,135.0,127.0,120.0,149.0,170.0,126.0,136.0,146.0,127.0,150.0,134.0,129.0,138.0,167.0,128.0,151.0,131.0,120.0,150.0,120.0,120.0,130.0,130.0,140.0,140.0,145.0,145.0,150.0,150.0],\"yaxis\":\"y\",\"type\":\"scatter\"},{\"hovertemplate\":\"variable=Pulse<br>Duration=%{x}<br>value=%{y}<extra></extra>\",\"legendgroup\":\"Pulse\",\"line\":{\"color\":\"#00cc96\",\"dash\":\"solid\"},\"marker\":{\"symbol\":\"circle\"},\"mode\":\"lines\",\"name\":\"Pulse\",\"orientation\":\"v\",\"showlegend\":true,\"x\":[60,60,60,45,45,60,60,45,30,60,60,60,60,60,60,60,60,45,60,45,60,45,60,45,60,60,60,60,60,60,60,45,60,60,60,60,60,60,60,45,45,60,60,60,60,60,60,45,45,60,60,80,60,60,30,60,60,45,20,45,210,160,160,45,20,180,150,150,20,300,150,60,90,150,45,90,45,45,120,270,30,45,30,120,45,30,45,120,45,20,180,45,30,15,20,20,30,25,30,90,20,90,90,90,30,30,180,30,90,210,60,45,15,45,60,60,60,60,60,60,30,45,60,60,60,60,60,60,90,60,60,60,60,60,60,20,45,45,45,20,60,60,45,45,60,45,60,60,30,60,60,60,60,30,60,60,60,60,60,30,30,45,45,45,60,60,60,75,75],\"xaxis\":\"x\",\"y\":[110.0,117.0,103.0,109.0,117.0,102.0,110.0,104.0,109.0,98.0,103.0,100.0,106.0,104.0,98.0,98.0,100.0,90.0,103.0,97.0,108.0,100.0,130.0,105.0,102.0,100.0,92.0,103.0,100.0,102.0,92.0,90.0,101.0,93.0,107.0,114.0,102.0,100.0,100.0,104.0,90.0,98.0,100.0,111.0,111.0,99.0,109.0,111.0,108.0,111.0,107.0,123.0,106.0,118.0,136.0,121.0,118.0,115.0,153.0,123.0,108.0,110.0,109.0,118.0,110.0,90.0,105.0,107.0,106.0,108.0,97.0,109.0,100.0,97.0,114.0,98.0,105.0,110.0,100.0,100.0,159.0,149.0,103.0,100.0,100.0,151.0,102.0,100.0,129.0,83.0,101.0,107.0,90.0,80.0,150.0,151.0,95.0,152.0,109.0,93.0,95.0,90.0,90.0,90.0,92.0,93.0,90.0,90.0,90.0,137.0,102.0,107.0,124.0,100.0,108.0,108.0,116.0,97.0,105.0,103.0,112.0,100.0,119.0,107.0,111.0,98.0,97.0,109.0,99.0,114.0,104.0,107.0,103.0,106.0,103.0,136.0,117.0,115.0,113.0,141.0,108.0,97.0,100.0,122.0,136.0,106.0,107.0,112.0,103.0,110.0,106.0,109.0,109.0,150.0,105.0,111.0,97.0,100.0,114.0,80.0,85.0,90.0,95.0,100.0,105.0,110.0,115.0,120.0,125.0],\"yaxis\":\"y\",\"type\":\"scatter\"}],                        {\"template\":{\"data\":{\"histogram2dcontour\":[{\"type\":\"histogram2dcontour\",\"colorbar\":{\"outlinewidth\":0,\"ticks\":\"\"},\"colorscale\":[[0.0,\"#0d0887\"],[0.1111111111111111,\"#46039f\"],[0.2222222222222222,\"#7201a8\"],[0.3333333333333333,\"#9c179e\"],[0.4444444444444444,\"#bd3786\"],[0.5555555555555556,\"#d8576b\"],[0.6666666666666666,\"#ed7953\"],[0.7777777777777778,\"#fb9f3a\"],[0.8888888888888888,\"#fdca26\"],[1.0,\"#f0f921\"]]}],\"choropleth\":[{\"type\":\"choropleth\",\"colorbar\":{\"outlinewidth\":0,\"ticks\":\"\"}}],\"histogram2d\":[{\"type\":\"histogram2d\",\"colorbar\":{\"outlinewidth\":0,\"ticks\":\"\"},\"colorscale\":[[0.0,\"#0d0887\"],[0.1111111111111111,\"#46039f\"],[0.2222222222222222,\"#7201a8\"],[0.3333333333333333,\"#9c179e\"],[0.4444444444444444,\"#bd3786\"],[0.5555555555555556,\"#d8576b\"],[0.6666666666666666,\"#ed7953\"],[0.7777777777777778,\"#fb9f3a\"],[0.8888888888888888,\"#fdca26\"],[1.0,\"#f0f921\"]]}],\"heatmap\":[{\"type\":\"heatmap\",\"colorbar\":{\"outlinewidth\":0,\"ticks\":\"\"},\"colorscale\":[[0.0,\"#0d0887\"],[0.1111111111111111,\"#46039f\"],[0.2222222222222222,\"#7201a8\"],[0.3333333333333333,\"#9c179e\"],[0.4444444444444444,\"#bd3786\"],[0.5555555555555556,\"#d8576b\"],[0.6666666666666666,\"#ed7953\"],[0.7777777777777778,\"#fb9f3a\"],[0.8888888888888888,\"#fdca26\"],[1.0,\"#f0f921\"]]}],\"heatmapgl\":[{\"type\":\"heatmapgl\",\"colorbar\":{\"outlinewidth\":0,\"ticks\":\"\"},\"colorscale\":[[0.0,\"#0d0887\"],[0.1111111111111111,\"#46039f\"],[0.2222222222222222,\"#7201a8\"],[0.3333333333333333,\"#9c179e\"],[0.4444444444444444,\"#bd3786\"],[0.5555555555555556,\"#d8576b\"],[0.6666666666666666,\"#ed7953\"],[0.7777777777777778,\"#fb9f3a\"],[0.8888888888888888,\"#fdca26\"],[1.0,\"#f0f921\"]]}],\"contourcarpet\":[{\"type\":\"contourcarpet\",\"colorbar\":{\"outlinewidth\":0,\"ticks\":\"\"}}],\"contour\":[{\"type\":\"contour\",\"colorbar\":{\"outlinewidth\":0,\"ticks\":\"\"},\"colorscale\":[[0.0,\"#0d0887\"],[0.1111111111111111,\"#46039f\"],[0.2222222222222222,\"#7201a8\"],[0.3333333333333333,\"#9c179e\"],[0.4444444444444444,\"#bd3786\"],[0.5555555555555556,\"#d8576b\"],[0.6666666666666666,\"#ed7953\"],[0.7777777777777778,\"#fb9f3a\"],[0.8888888888888888,\"#fdca26\"],[1.0,\"#f0f921\"]]}],\"surface\":[{\"type\":\"surface\",\"colorbar\":{\"outlinewidth\":0,\"ticks\":\"\"},\"colorscale\":[[0.0,\"#0d0887\"],[0.1111111111111111,\"#46039f\"],[0.2222222222222222,\"#7201a8\"],[0.3333333333333333,\"#9c179e\"],[0.4444444444444444,\"#bd3786\"],[0.5555555555555556,\"#d8576b\"],[0.6666666666666666,\"#ed7953\"],[0.7777777777777778,\"#fb9f3a\"],[0.8888888888888888,\"#fdca26\"],[1.0,\"#f0f921\"]]}],\"mesh3d\":[{\"type\":\"mesh3d\",\"colorbar\":{\"outlinewidth\":0,\"ticks\":\"\"}}],\"scatter\":[{\"fillpattern\":{\"fillmode\":\"overlay\",\"size\":10,\"solidity\":0.2},\"type\":\"scatter\"}],\"parcoords\":[{\"type\":\"parcoords\",\"line\":{\"colorbar\":{\"outlinewidth\":0,\"ticks\":\"\"}}}],\"scatterpolargl\":[{\"type\":\"scatterpolargl\",\"marker\":{\"colorbar\":{\"outlinewidth\":0,\"ticks\":\"\"}}}],\"bar\":[{\"error_x\":{\"color\":\"#2a3f5f\"},\"error_y\":{\"color\":\"#2a3f5f\"},\"marker\":{\"line\":{\"color\":\"#E5ECF6\",\"width\":0.5},\"pattern\":{\"fillmode\":\"overlay\",\"size\":10,\"solidity\":0.2}},\"type\":\"bar\"}],\"scattergeo\":[{\"type\":\"scattergeo\",\"marker\":{\"colorbar\":{\"outlinewidth\":0,\"ticks\":\"\"}}}],\"scatterpolar\":[{\"type\":\"scatterpolar\",\"marker\":{\"colorbar\":{\"outlinewidth\":0,\"ticks\":\"\"}}}],\"histogram\":[{\"marker\":{\"pattern\":{\"fillmode\":\"overlay\",\"size\":10,\"solidity\":0.2}},\"type\":\"histogram\"}],\"scattergl\":[{\"type\":\"scattergl\",\"marker\":{\"colorbar\":{\"outlinewidth\":0,\"ticks\":\"\"}}}],\"scatter3d\":[{\"type\":\"scatter3d\",\"line\":{\"colorbar\":{\"outlinewidth\":0,\"ticks\":\"\"}},\"marker\":{\"colorbar\":{\"outlinewidth\":0,\"ticks\":\"\"}}}],\"scattermapbox\":[{\"type\":\"scattermapbox\",\"marker\":{\"colorbar\":{\"outlinewidth\":0,\"ticks\":\"\"}}}],\"scatterternary\":[{\"type\":\"scatterternary\",\"marker\":{\"colorbar\":{\"outlinewidth\":0,\"ticks\":\"\"}}}],\"scattercarpet\":[{\"type\":\"scattercarpet\",\"marker\":{\"colorbar\":{\"outlinewidth\":0,\"ticks\":\"\"}}}],\"carpet\":[{\"aaxis\":{\"endlinecolor\":\"#2a3f5f\",\"gridcolor\":\"white\",\"linecolor\":\"white\",\"minorgridcolor\":\"white\",\"startlinecolor\":\"#2a3f5f\"},\"baxis\":{\"endlinecolor\":\"#2a3f5f\",\"gridcolor\":\"white\",\"linecolor\":\"white\",\"minorgridcolor\":\"white\",\"startlinecolor\":\"#2a3f5f\"},\"type\":\"carpet\"}],\"table\":[{\"cells\":{\"fill\":{\"color\":\"#EBF0F8\"},\"line\":{\"color\":\"white\"}},\"header\":{\"fill\":{\"color\":\"#C8D4E3\"},\"line\":{\"color\":\"white\"}},\"type\":\"table\"}],\"barpolar\":[{\"marker\":{\"line\":{\"color\":\"#E5ECF6\",\"width\":0.5},\"pattern\":{\"fillmode\":\"overlay\",\"size\":10,\"solidity\":0.2}},\"type\":\"barpolar\"}],\"pie\":[{\"automargin\":true,\"type\":\"pie\"}]},\"layout\":{\"autotypenumbers\":\"strict\",\"colorway\":[\"#636efa\",\"#EF553B\",\"#00cc96\",\"#ab63fa\",\"#FFA15A\",\"#19d3f3\",\"#FF6692\",\"#B6E880\",\"#FF97FF\",\"#FECB52\"],\"font\":{\"color\":\"#2a3f5f\"},\"hovermode\":\"closest\",\"hoverlabel\":{\"align\":\"left\"},\"paper_bgcolor\":\"white\",\"plot_bgcolor\":\"#E5ECF6\",\"polar\":{\"bgcolor\":\"#E5ECF6\",\"angularaxis\":{\"gridcolor\":\"white\",\"linecolor\":\"white\",\"ticks\":\"\"},\"radialaxis\":{\"gridcolor\":\"white\",\"linecolor\":\"white\",\"ticks\":\"\"}},\"ternary\":{\"bgcolor\":\"#E5ECF6\",\"aaxis\":{\"gridcolor\":\"white\",\"linecolor\":\"white\",\"ticks\":\"\"},\"baxis\":{\"gridcolor\":\"white\",\"linecolor\":\"white\",\"ticks\":\"\"},\"caxis\":{\"gridcolor\":\"white\",\"linecolor\":\"white\",\"ticks\":\"\"}},\"coloraxis\":{\"colorbar\":{\"outlinewidth\":0,\"ticks\":\"\"}},\"colorscale\":{\"sequential\":[[0.0,\"#0d0887\"],[0.1111111111111111,\"#46039f\"],[0.2222222222222222,\"#7201a8\"],[0.3333333333333333,\"#9c179e\"],[0.4444444444444444,\"#bd3786\"],[0.5555555555555556,\"#d8576b\"],[0.6666666666666666,\"#ed7953\"],[0.7777777777777778,\"#fb9f3a\"],[0.8888888888888888,\"#fdca26\"],[1.0,\"#f0f921\"]],\"sequentialminus\":[[0.0,\"#0d0887\"],[0.1111111111111111,\"#46039f\"],[0.2222222222222222,\"#7201a8\"],[0.3333333333333333,\"#9c179e\"],[0.4444444444444444,\"#bd3786\"],[0.5555555555555556,\"#d8576b\"],[0.6666666666666666,\"#ed7953\"],[0.7777777777777778,\"#fb9f3a\"],[0.8888888888888888,\"#fdca26\"],[1.0,\"#f0f921\"]],\"diverging\":[[0,\"#8e0152\"],[0.1,\"#c51b7d\"],[0.2,\"#de77ae\"],[0.3,\"#f1b6da\"],[0.4,\"#fde0ef\"],[0.5,\"#f7f7f7\"],[0.6,\"#e6f5d0\"],[0.7,\"#b8e186\"],[0.8,\"#7fbc41\"],[0.9,\"#4d9221\"],[1,\"#276419\"]]},\"xaxis\":{\"gridcolor\":\"white\",\"linecolor\":\"white\",\"ticks\":\"\",\"title\":{\"standoff\":15},\"zerolinecolor\":\"white\",\"automargin\":true,\"zerolinewidth\":2},\"yaxis\":{\"gridcolor\":\"white\",\"linecolor\":\"white\",\"ticks\":\"\",\"title\":{\"standoff\":15},\"zerolinecolor\":\"white\",\"automargin\":true,\"zerolinewidth\":2},\"scene\":{\"xaxis\":{\"backgroundcolor\":\"#E5ECF6\",\"gridcolor\":\"white\",\"linecolor\":\"white\",\"showbackground\":true,\"ticks\":\"\",\"zerolinecolor\":\"white\",\"gridwidth\":2},\"yaxis\":{\"backgroundcolor\":\"#E5ECF6\",\"gridcolor\":\"white\",\"linecolor\":\"white\",\"showbackground\":true,\"ticks\":\"\",\"zerolinecolor\":\"white\",\"gridwidth\":2},\"zaxis\":{\"backgroundcolor\":\"#E5ECF6\",\"gridcolor\":\"white\",\"linecolor\":\"white\",\"showbackground\":true,\"ticks\":\"\",\"zerolinecolor\":\"white\",\"gridwidth\":2}},\"shapedefaults\":{\"line\":{\"color\":\"#2a3f5f\"}},\"annotationdefaults\":{\"arrowcolor\":\"#2a3f5f\",\"arrowhead\":0,\"arrowwidth\":1},\"geo\":{\"bgcolor\":\"white\",\"landcolor\":\"#E5ECF6\",\"subunitcolor\":\"white\",\"showland\":true,\"showlakes\":true,\"lakecolor\":\"white\"},\"title\":{\"x\":0.05},\"mapbox\":{\"style\":\"light\"}}},\"xaxis\":{\"anchor\":\"y\",\"domain\":[0.0,1.0],\"title\":{\"text\":\"Duration (minutes)\"}},\"yaxis\":{\"anchor\":\"x\",\"domain\":[0.0,1.0],\"title\":{\"text\":\"Values\"}},\"legend\":{\"title\":{\"text\":\"variable\"},\"tracegroupgap\":0},\"margin\":{\"t\":60},\"title\":{\"text\":\"Line Chart of Workout Data\"}},                        {\"responsive\": true}                    ).then(function(){\n",
       "                            \n",
       "var gd = document.getElementById('5bfe6db4-6487-4c49-8e30-3c1d71cebbd2');\n",
       "var x = new MutationObserver(function (mutations, observer) {{\n",
       "        var display = window.getComputedStyle(gd).display;\n",
       "        if (!display || display === 'none') {{\n",
       "            console.log([gd, 'removed!']);\n",
       "            Plotly.purge(gd);\n",
       "            observer.disconnect();\n",
       "        }}\n",
       "}});\n",
       "\n",
       "// Listen for the removal of the full notebook cells\n",
       "var notebookContainer = gd.closest('#notebook-container');\n",
       "if (notebookContainer) {{\n",
       "    x.observe(notebookContainer, {childList: true});\n",
       "}}\n",
       "\n",
       "// Listen for the clearing of the current output cell\n",
       "var outputEl = gd.closest('.output');\n",
       "if (outputEl) {{\n",
       "    x.observe(outputEl, {childList: true});\n",
       "}}\n",
       "\n",
       "                        })                };                });            </script>        </div>"
      ]
     },
     "metadata": {},
     "output_type": "display_data"
    }
   ],
   "source": [
    "import plotly.express as px\n",
    "import pandas as pd\n",
    "\n",
    "# Load the workout data\n",
    "df = pd.read_csv('workout_data.csv')\n",
    "\n",
    "# Create the line chart\n",
    "fig = px.line(df, x='Duration', y=['Calories', 'Maxpulse', 'Pulse'])\n",
    "\n",
    "# Customize the chart layout\n",
    "fig.update_layout(\n",
    "    title='Line Chart of Workout Data',\n",
    "    xaxis_title='Duration (minutes)',\n",
    "    yaxis_title='Values',\n",
    ")\n",
    "\n",
    "# Show the chart\n",
    "fig.show()\n",
    "\n"
   ]
  },
  {
   "cell_type": "code",
   "execution_count": null,
   "id": "ec8c53ef-66db-4e53-a057-5903d18087e3",
   "metadata": {},
   "outputs": [],
   "source": []
  }
 ],
 "metadata": {
  "kernelspec": {
   "display_name": "Python 3 (ipykernel)",
   "language": "python",
   "name": "python3"
  },
  "language_info": {
   "codemirror_mode": {
    "name": "ipython",
    "version": 3
   },
   "file_extension": ".py",
   "mimetype": "text/x-python",
   "name": "python",
   "nbconvert_exporter": "python",
   "pygments_lexer": "ipython3",
   "version": "3.9.13"
  }
 },
 "nbformat": 4,
 "nbformat_minor": 5
}
